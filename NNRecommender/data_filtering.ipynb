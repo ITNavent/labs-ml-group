{
 "cells": [
  {
   "cell_type": "code",
   "execution_count": 169,
   "metadata": {},
   "outputs": [
    {
     "data": {
      "text/html": [
       "<style>.container { width:80% !important; }</style>"
      ],
      "text/plain": [
       "<IPython.core.display.HTML object>"
      ]
     },
     "metadata": {},
     "output_type": "display_data"
    }
   ],
   "source": [
    "from IPython.core.display import display, HTML\n",
    "display(HTML(\"<style>.container { width:80% !important; }</style>\"))"
   ]
  },
  {
   "cell_type": "code",
   "execution_count": 170,
   "metadata": {},
   "outputs": [],
   "source": [
    "%reload_ext autoreload\n",
    "%autoreload 2\n",
    "%matplotlib inline"
   ]
  },
  {
   "cell_type": "code",
   "execution_count": 171,
   "metadata": {},
   "outputs": [],
   "source": [
    "from fastai import *\n",
    "from fastai.collab import *\n",
    "from fastai.tabular import *\n",
    "\n",
    "import seaborn as sns\n",
    "sns.set(style=\"darkgrid\")"
   ]
  },
  {
   "cell_type": "code",
   "execution_count": 172,
   "metadata": {},
   "outputs": [],
   "source": [
    "import warnings\n",
    "warnings.filterwarnings('ignore')"
   ]
  },
  {
   "cell_type": "code",
   "execution_count": 173,
   "metadata": {},
   "outputs": [],
   "source": [
    "import sys\n",
    "sys.path.append('/home/fvadell/ml-tests/labs-ml-group/modules')\n",
    "import custom_callbacks as cc\n",
    "import some_functions"
   ]
  },
  {
   "cell_type": "code",
   "execution_count": 174,
   "metadata": {},
   "outputs": [],
   "source": [
    "#style.use('seaborn-poster') #sets the size of the charts\n",
    "plt.style.use('seaborn-darkgrid')"
   ]
  },
  {
   "cell_type": "code",
   "execution_count": 175,
   "metadata": {},
   "outputs": [],
   "source": [
    "def plot_cat_dist(df, cat, figsize = (15,3), n=25):\n",
    "    category = df.groupby([cat], as_index=False).size().reset_index(name='count')\n",
    "    category = category.sort_values(by='count',ascending=False).reset_index(drop=True)\n",
    "    plt.figure(figsize = figsize)\n",
    "    ax = sns.barplot(x=category.head(n)[cat], y=category.head(n)['count'])\n",
    "    ax.set_xticklabels(ax.get_xticklabels(), rotation=45)\n",
    "    plt.title(cat)"
   ]
  },
  {
   "cell_type": "code",
   "execution_count": 176,
   "metadata": {},
   "outputs": [],
   "source": [
    "def plot_cont_dist(df, var, figsize = (15,3), bins=25, low = None, high = None, kde=False):\n",
    "    if low==None : low=min(df[var])\n",
    "    if high==None : high=max(df[var])\n",
    "    plt.figure(figsize = figsize)\n",
    "    sns.distplot(df[(df[var].notna())&\n",
    "                 (df[var]>low)&(df[var]<high)][var]\n",
    "                 , kde=kde, rug=False, bins = bins)\n",
    "    plt.ticklabel_format(style='plain', axis='x')\n",
    "    plt.ticklabel_format(style='plain', axis='y')\n",
    "    plt.title(var)"
   ]
  },
  {
   "cell_type": "code",
   "execution_count": 177,
   "metadata": {},
   "outputs": [],
   "source": [
    "seed = 1"
   ]
  },
  {
   "cell_type": "markdown",
   "metadata": {},
   "source": [
    "## Datos"
   ]
  },
  {
   "cell_type": "markdown",
   "metadata": {},
   "source": [
    "Los datos que estoy usando son los de ZonaProp que fueron usados para la maestría de minería de datos en FCEN en el año 2019."
   ]
  },
  {
   "cell_type": "code",
   "execution_count": 178,
   "metadata": {},
   "outputs": [
    {
     "data": {
      "text/plain": [
       "[PosixPath('/home/fvadell/ml-tests/labs-ml-group/maestria-2019/users_features.csv'),\n",
       " PosixPath('/home/fvadell/ml-tests/labs-ml-group/maestria-2019/users_hitaviso.csv'),\n",
       " PosixPath('/home/fvadell/ml-tests/labs-ml-group/maestria-2019/contactos_train.csv'),\n",
       " PosixPath('/home/fvadell/ml-tests/labs-ml-group/maestria-2019/ratings_with_falses.csv'),\n",
       " PosixPath('/home/fvadell/ml-tests/labs-ml-group/maestria-2019/licencia.txt'),\n",
       " PosixPath('/home/fvadell/ml-tests/labs-ml-group/maestria-2019/items_features.csv'),\n",
       " PosixPath('/home/fvadell/ml-tests/labs-ml-group/maestria-2019/ratings_with_falses_filtered.csv'),\n",
       " PosixPath('/home/fvadell/ml-tests/labs-ml-group/maestria-2019/contactos_test.csv')]"
      ]
     },
     "execution_count": 178,
     "metadata": {},
     "output_type": "execute_result"
    }
   ],
   "source": [
    "path = Path('/home/fvadell/ml-tests/labs-ml-group/maestria-2019')\n",
    "path.ls()"
   ]
  },
  {
   "cell_type": "markdown",
   "metadata": {},
   "source": [
    "Cargo contactos"
   ]
  },
  {
   "cell_type": "code",
   "execution_count": 179,
   "metadata": {},
   "outputs": [
    {
     "name": "stdout",
     "output_type": "stream",
     "text": [
      "length:  1364167\n"
     ]
    },
    {
     "data": {
      "text/html": [
       "<div>\n",
       "<style scoped>\n",
       "    .dataframe tbody tr th:only-of-type {\n",
       "        vertical-align: middle;\n",
       "    }\n",
       "\n",
       "    .dataframe tbody tr th {\n",
       "        vertical-align: top;\n",
       "    }\n",
       "\n",
       "    .dataframe thead th {\n",
       "        text-align: right;\n",
       "    }\n",
       "</style>\n",
       "<table border=\"1\" class=\"dataframe\">\n",
       "  <thead>\n",
       "    <tr style=\"text-align: right;\">\n",
       "      <th></th>\n",
       "      <th>fecha</th>\n",
       "      <th>idaviso</th>\n",
       "      <th>idusuario</th>\n",
       "    </tr>\n",
       "  </thead>\n",
       "  <tbody>\n",
       "    <tr>\n",
       "      <th>0</th>\n",
       "      <td>2018-09-01 00:00:17</td>\n",
       "      <td>828fe5f454d9eba21f34c875feb54832ec79d3cd</td>\n",
       "      <td>fe5f051f4c50d1208c3faadb75159ac1d4ba369f</td>\n",
       "    </tr>\n",
       "    <tr>\n",
       "      <th>1</th>\n",
       "      <td>2018-09-01 00:00:17</td>\n",
       "      <td>3712332931a3325d2dc3247b2bb0f5fddc8235cb</td>\n",
       "      <td>7d3839a75ed8eab68e13c0a9781df04116509ae3</td>\n",
       "    </tr>\n",
       "    <tr>\n",
       "      <th>2</th>\n",
       "      <td>2018-09-01 00:00:38</td>\n",
       "      <td>aa370e3eb735b4b9cc80d01fc08b91aa6a34c225</td>\n",
       "      <td>03b1c99edd2d51d803e6ba8e458b988442ce3043</td>\n",
       "    </tr>\n",
       "    <tr>\n",
       "      <th>3</th>\n",
       "      <td>2018-09-01 00:00:50</td>\n",
       "      <td>69df702ea486564c9065385c0c96926d91465e79</td>\n",
       "      <td>fcdbdee77a7c8d16b861959920a8df5d265fd451</td>\n",
       "    </tr>\n",
       "    <tr>\n",
       "      <th>4</th>\n",
       "      <td>2018-09-01 00:00:55</td>\n",
       "      <td>c9237480757df8e035b8ff19d2856c0f4c5a9cf0</td>\n",
       "      <td>518a58b16e79b63d07d7673a0fcb63231d4689a8</td>\n",
       "    </tr>\n",
       "  </tbody>\n",
       "</table>\n",
       "</div>"
      ],
      "text/plain": [
       "                 fecha                                   idaviso  \\\n",
       "0  2018-09-01 00:00:17  828fe5f454d9eba21f34c875feb54832ec79d3cd   \n",
       "1  2018-09-01 00:00:17  3712332931a3325d2dc3247b2bb0f5fddc8235cb   \n",
       "2  2018-09-01 00:00:38  aa370e3eb735b4b9cc80d01fc08b91aa6a34c225   \n",
       "3  2018-09-01 00:00:50  69df702ea486564c9065385c0c96926d91465e79   \n",
       "4  2018-09-01 00:00:55  c9237480757df8e035b8ff19d2856c0f4c5a9cf0   \n",
       "\n",
       "                                  idusuario  \n",
       "0  fe5f051f4c50d1208c3faadb75159ac1d4ba369f  \n",
       "1  7d3839a75ed8eab68e13c0a9781df04116509ae3  \n",
       "2  03b1c99edd2d51d803e6ba8e458b988442ce3043  \n",
       "3  fcdbdee77a7c8d16b861959920a8df5d265fd451  \n",
       "4  518a58b16e79b63d07d7673a0fcb63231d4689a8  "
      ]
     },
     "execution_count": 179,
     "metadata": {},
     "output_type": "execute_result"
    }
   ],
   "source": [
    "contactos = pd.read_csv(path/'contactos_train.csv')\n",
    "print(\"length: \", len(contactos))\n",
    "contactos.head()"
   ]
  },
  {
   "cell_type": "markdown",
   "metadata": {},
   "source": [
    "Cargo usuarios"
   ]
  },
  {
   "cell_type": "code",
   "execution_count": 180,
   "metadata": {},
   "outputs": [
    {
     "name": "stdout",
     "output_type": "stream",
     "text": [
      "length:  275140\n"
     ]
    },
    {
     "data": {
      "text/html": [
       "<div>\n",
       "<style scoped>\n",
       "    .dataframe tbody tr th:only-of-type {\n",
       "        vertical-align: middle;\n",
       "    }\n",
       "\n",
       "    .dataframe tbody tr th {\n",
       "        vertical-align: top;\n",
       "    }\n",
       "\n",
       "    .dataframe thead th {\n",
       "        text-align: right;\n",
       "    }\n",
       "</style>\n",
       "<table border=\"1\" class=\"dataframe\">\n",
       "  <thead>\n",
       "    <tr style=\"text-align: right;\">\n",
       "      <th></th>\n",
       "      <th>fecha_de_alta</th>\n",
       "      <th>ultima_vez_que_se_logueo</th>\n",
       "      <th>idusuario</th>\n",
       "    </tr>\n",
       "  </thead>\n",
       "  <tbody>\n",
       "    <tr>\n",
       "      <th>0</th>\n",
       "      <td>2012-10-04 00:00:00</td>\n",
       "      <td>2019-01-15 07:53:34</td>\n",
       "      <td>8d94cbff31ee48126e360f852af03edc82b058d6</td>\n",
       "    </tr>\n",
       "    <tr>\n",
       "      <th>1</th>\n",
       "      <td>2012-10-05 00:00:00</td>\n",
       "      <td>2019-02-09 09:36:59</td>\n",
       "      <td>b91164f23693bfb480a66405af98e8bc99740d60</td>\n",
       "    </tr>\n",
       "    <tr>\n",
       "      <th>2</th>\n",
       "      <td>2012-10-05 00:00:00</td>\n",
       "      <td>2019-03-24 17:14:50</td>\n",
       "      <td>799870e7ec6786a0aecc745d76a773e3a92df5a7</td>\n",
       "    </tr>\n",
       "    <tr>\n",
       "      <th>3</th>\n",
       "      <td>2012-10-08 00:00:00</td>\n",
       "      <td>2019-03-05 17:51:30</td>\n",
       "      <td>11afd5b3a796b3cdfa65ba90d121535de5023e86</td>\n",
       "    </tr>\n",
       "    <tr>\n",
       "      <th>4</th>\n",
       "      <td>2012-10-08 00:00:00</td>\n",
       "      <td>2018-12-12 19:00:21</td>\n",
       "      <td>a8176dc67724707f77f5341b3bd74fb75a320372</td>\n",
       "    </tr>\n",
       "  </tbody>\n",
       "</table>\n",
       "</div>"
      ],
      "text/plain": [
       "         fecha_de_alta ultima_vez_que_se_logueo  \\\n",
       "0  2012-10-04 00:00:00      2019-01-15 07:53:34   \n",
       "1  2012-10-05 00:00:00      2019-02-09 09:36:59   \n",
       "2  2012-10-05 00:00:00      2019-03-24 17:14:50   \n",
       "3  2012-10-08 00:00:00      2019-03-05 17:51:30   \n",
       "4  2012-10-08 00:00:00      2018-12-12 19:00:21   \n",
       "\n",
       "                                  idusuario  \n",
       "0  8d94cbff31ee48126e360f852af03edc82b058d6  \n",
       "1  b91164f23693bfb480a66405af98e8bc99740d60  \n",
       "2  799870e7ec6786a0aecc745d76a773e3a92df5a7  \n",
       "3  11afd5b3a796b3cdfa65ba90d121535de5023e86  \n",
       "4  a8176dc67724707f77f5341b3bd74fb75a320372  "
      ]
     },
     "execution_count": 180,
     "metadata": {},
     "output_type": "execute_result"
    }
   ],
   "source": [
    "user_feat = pd.read_csv(path/'users_features.csv')\n",
    "print(\"length: \", len(user_feat))\n",
    "user_feat.head()"
   ]
  },
  {
   "cell_type": "markdown",
   "metadata": {},
   "source": [
    "Cargo hits"
   ]
  },
  {
   "cell_type": "code",
   "execution_count": 181,
   "metadata": {},
   "outputs": [
    {
     "name": "stdout",
     "output_type": "stream",
     "text": [
      "length:  15094054\n"
     ]
    },
    {
     "data": {
      "text/html": [
       "<div>\n",
       "<style scoped>\n",
       "    .dataframe tbody tr th:only-of-type {\n",
       "        vertical-align: middle;\n",
       "    }\n",
       "\n",
       "    .dataframe tbody tr th {\n",
       "        vertical-align: top;\n",
       "    }\n",
       "\n",
       "    .dataframe thead th {\n",
       "        text-align: right;\n",
       "    }\n",
       "</style>\n",
       "<table border=\"1\" class=\"dataframe\">\n",
       "  <thead>\n",
       "    <tr style=\"text-align: right;\">\n",
       "      <th></th>\n",
       "      <th>portal</th>\n",
       "      <th>date</th>\n",
       "      <th>idaviso</th>\n",
       "      <th>idusuario</th>\n",
       "    </tr>\n",
       "  </thead>\n",
       "  <tbody>\n",
       "    <tr>\n",
       "      <th>0</th>\n",
       "      <td>ZPAR</td>\n",
       "      <td>2018-12-09</td>\n",
       "      <td>f87302f54c651cc0734dbc36143c406a2c0ef79d</td>\n",
       "      <td>11a16489177fbec23b1c879d592e06ba9a003676</td>\n",
       "    </tr>\n",
       "    <tr>\n",
       "      <th>1</th>\n",
       "      <td>ZPAR</td>\n",
       "      <td>2018-12-09</td>\n",
       "      <td>9969de0b6d10900a3006f520e8a2071a729392fb</td>\n",
       "      <td>11a16489177fbec23b1c879d592e06ba9a003676</td>\n",
       "    </tr>\n",
       "    <tr>\n",
       "      <th>2</th>\n",
       "      <td>ZPAR</td>\n",
       "      <td>2018-12-05</td>\n",
       "      <td>6f133a8d22e7502f121808cd9c3c670fe89edd8b</td>\n",
       "      <td>e6062ad04f457d48d093fe10c4dfff410e5df866</td>\n",
       "    </tr>\n",
       "    <tr>\n",
       "      <th>3</th>\n",
       "      <td>ZPAR</td>\n",
       "      <td>2018-11-07</td>\n",
       "      <td>1573e1b3eb35311d43b788b43bc2ee9dd3c838c5</td>\n",
       "      <td>e6062ad04f457d48d093fe10c4dfff410e5df866</td>\n",
       "    </tr>\n",
       "    <tr>\n",
       "      <th>4</th>\n",
       "      <td>ZPAR</td>\n",
       "      <td>2018-11-07</td>\n",
       "      <td>fd195846fbbf6e66c8ba330bfd47bd4d2c713240</td>\n",
       "      <td>e6062ad04f457d48d093fe10c4dfff410e5df866</td>\n",
       "    </tr>\n",
       "  </tbody>\n",
       "</table>\n",
       "</div>"
      ],
      "text/plain": [
       "  portal        date                                   idaviso  \\\n",
       "0   ZPAR  2018-12-09  f87302f54c651cc0734dbc36143c406a2c0ef79d   \n",
       "1   ZPAR  2018-12-09  9969de0b6d10900a3006f520e8a2071a729392fb   \n",
       "2   ZPAR  2018-12-05  6f133a8d22e7502f121808cd9c3c670fe89edd8b   \n",
       "3   ZPAR  2018-11-07  1573e1b3eb35311d43b788b43bc2ee9dd3c838c5   \n",
       "4   ZPAR  2018-11-07  fd195846fbbf6e66c8ba330bfd47bd4d2c713240   \n",
       "\n",
       "                                  idusuario  \n",
       "0  11a16489177fbec23b1c879d592e06ba9a003676  \n",
       "1  11a16489177fbec23b1c879d592e06ba9a003676  \n",
       "2  e6062ad04f457d48d093fe10c4dfff410e5df866  \n",
       "3  e6062ad04f457d48d093fe10c4dfff410e5df866  \n",
       "4  e6062ad04f457d48d093fe10c4dfff410e5df866  "
      ]
     },
     "execution_count": 181,
     "metadata": {},
     "output_type": "execute_result"
    }
   ],
   "source": [
    "user_hit = pd.read_csv(path/'users_hitaviso.csv')\n",
    "print(\"length: \", len(user_hit))\n",
    "user_hit.head()"
   ]
  },
  {
   "cell_type": "markdown",
   "metadata": {},
   "source": [
    "Tomo una muestra de la cantidad de hits y lo agrego a la matriz de ratings"
   ]
  },
  {
   "cell_type": "code",
   "execution_count": 182,
   "metadata": {},
   "outputs": [],
   "source": [
    "hit_indices = list(some_functions.sample_indices(user_hit, seed = seed, test_pct=0.1))"
   ]
  },
  {
   "cell_type": "code",
   "execution_count": 183,
   "metadata": {},
   "outputs": [],
   "source": [
    "user_hit = user_hit.iloc[hit_indices, :]"
   ]
  },
  {
   "cell_type": "code",
   "execution_count": 184,
   "metadata": {},
   "outputs": [],
   "source": [
    "ratings = pd.merge(user_hit, contactos, on = ['idaviso', 'idusuario'], how = 'outer')"
   ]
  },
  {
   "cell_type": "markdown",
   "metadata": {},
   "source": [
    "Y agrego la columna de score"
   ]
  },
  {
   "cell_type": "code",
   "execution_count": 185,
   "metadata": {},
   "outputs": [],
   "source": [
    "ratings['contact_score']=list(np.where(ratings['fecha'].isnull(), 0, 1))"
   ]
  },
  {
   "cell_type": "code",
   "execution_count": 186,
   "metadata": {},
   "outputs": [],
   "source": [
    "ratings['hit_score']=list(np.where(ratings['portal'].isnull(), 0, 1))"
   ]
  },
  {
   "cell_type": "code",
   "execution_count": 187,
   "metadata": {},
   "outputs": [],
   "source": [
    "ratings['score']=[2 if x>0 else 1 for x in ratings['contact_score']]"
   ]
  },
  {
   "cell_type": "code",
   "execution_count": 188,
   "metadata": {},
   "outputs": [
    {
     "name": "stdout",
     "output_type": "stream",
     "text": [
      "2726485\n"
     ]
    },
    {
     "data": {
      "text/html": [
       "<div>\n",
       "<style scoped>\n",
       "    .dataframe tbody tr th:only-of-type {\n",
       "        vertical-align: middle;\n",
       "    }\n",
       "\n",
       "    .dataframe tbody tr th {\n",
       "        vertical-align: top;\n",
       "    }\n",
       "\n",
       "    .dataframe thead th {\n",
       "        text-align: right;\n",
       "    }\n",
       "</style>\n",
       "<table border=\"1\" class=\"dataframe\">\n",
       "  <thead>\n",
       "    <tr style=\"text-align: right;\">\n",
       "      <th></th>\n",
       "      <th>portal</th>\n",
       "      <th>date</th>\n",
       "      <th>idaviso</th>\n",
       "      <th>idusuario</th>\n",
       "      <th>fecha</th>\n",
       "      <th>contact_score</th>\n",
       "      <th>hit_score</th>\n",
       "      <th>score</th>\n",
       "    </tr>\n",
       "  </thead>\n",
       "  <tbody>\n",
       "    <tr>\n",
       "      <th>0</th>\n",
       "      <td>ZPAR</td>\n",
       "      <td>2018-12-09</td>\n",
       "      <td>25c947c7270baa9c5e5dd059a31385d3a3ad88a6</td>\n",
       "      <td>f872765a55bc017b86476ce598470897e1ecb879</td>\n",
       "      <td>NaN</td>\n",
       "      <td>0</td>\n",
       "      <td>1</td>\n",
       "      <td>1</td>\n",
       "    </tr>\n",
       "  </tbody>\n",
       "</table>\n",
       "</div>"
      ],
      "text/plain": [
       "  portal        date                                   idaviso  \\\n",
       "0   ZPAR  2018-12-09  25c947c7270baa9c5e5dd059a31385d3a3ad88a6   \n",
       "\n",
       "                                  idusuario fecha  contact_score  hit_score  \\\n",
       "0  f872765a55bc017b86476ce598470897e1ecb879   NaN              0          1   \n",
       "\n",
       "   score  \n",
       "0      1  "
      ]
     },
     "execution_count": 188,
     "metadata": {},
     "output_type": "execute_result"
    }
   ],
   "source": [
    "print(len(ratings))\n",
    "ratings.head(1)"
   ]
  },
  {
   "cell_type": "markdown",
   "metadata": {},
   "source": [
    "Saco las columnas de 'contact_score', 'hit_score' y 'portal' que ya no me sirven"
   ]
  },
  {
   "cell_type": "code",
   "execution_count": 189,
   "metadata": {},
   "outputs": [],
   "source": [
    "ratings = ratings.drop(['contact_score', 'hit_score', 'portal'], axis = 1)"
   ]
  },
  {
   "cell_type": "code",
   "execution_count": 190,
   "metadata": {},
   "outputs": [
    {
     "data": {
      "text/html": [
       "<div>\n",
       "<style scoped>\n",
       "    .dataframe tbody tr th:only-of-type {\n",
       "        vertical-align: middle;\n",
       "    }\n",
       "\n",
       "    .dataframe tbody tr th {\n",
       "        vertical-align: top;\n",
       "    }\n",
       "\n",
       "    .dataframe thead th {\n",
       "        text-align: right;\n",
       "    }\n",
       "</style>\n",
       "<table border=\"1\" class=\"dataframe\">\n",
       "  <thead>\n",
       "    <tr style=\"text-align: right;\">\n",
       "      <th></th>\n",
       "      <th>date</th>\n",
       "      <th>idaviso</th>\n",
       "      <th>idusuario</th>\n",
       "      <th>fecha</th>\n",
       "      <th>score</th>\n",
       "    </tr>\n",
       "  </thead>\n",
       "  <tbody>\n",
       "    <tr>\n",
       "      <th>0</th>\n",
       "      <td>2018-12-09</td>\n",
       "      <td>25c947c7270baa9c5e5dd059a31385d3a3ad88a6</td>\n",
       "      <td>f872765a55bc017b86476ce598470897e1ecb879</td>\n",
       "      <td>NaN</td>\n",
       "      <td>1</td>\n",
       "    </tr>\n",
       "  </tbody>\n",
       "</table>\n",
       "</div>"
      ],
      "text/plain": [
       "         date                                   idaviso  \\\n",
       "0  2018-12-09  25c947c7270baa9c5e5dd059a31385d3a3ad88a6   \n",
       "\n",
       "                                  idusuario fecha  score  \n",
       "0  f872765a55bc017b86476ce598470897e1ecb879   NaN      1  "
      ]
     },
     "execution_count": 190,
     "metadata": {},
     "output_type": "execute_result"
    }
   ],
   "source": [
    "ratings.head(1)"
   ]
  },
  {
   "cell_type": "markdown",
   "metadata": {},
   "source": [
    "Me quedo con el último hit y el último contacto"
   ]
  },
  {
   "cell_type": "code",
   "execution_count": 191,
   "metadata": {},
   "outputs": [],
   "source": [
    "ratings.sort_values(['idaviso', 'idusuario', 'date', 'fecha'], ascending=[True, True, False, False], inplace=True)\n",
    "ratings.reset_index(drop=True, inplace=True)\n",
    "ratings = ratings.drop_duplicates(subset=['idaviso', 'idusuario'])"
   ]
  },
  {
   "cell_type": "code",
   "execution_count": 192,
   "metadata": {},
   "outputs": [],
   "source": [
    "ratings.columns = ['hit_date', 'idaviso', 'idusuario', 'contact_date', 'score']"
   ]
  },
  {
   "cell_type": "code",
   "execution_count": 193,
   "metadata": {},
   "outputs": [
    {
     "name": "stdout",
     "output_type": "stream",
     "text": [
      "2675511\n"
     ]
    },
    {
     "data": {
      "text/html": [
       "<div>\n",
       "<style scoped>\n",
       "    .dataframe tbody tr th:only-of-type {\n",
       "        vertical-align: middle;\n",
       "    }\n",
       "\n",
       "    .dataframe tbody tr th {\n",
       "        vertical-align: top;\n",
       "    }\n",
       "\n",
       "    .dataframe thead th {\n",
       "        text-align: right;\n",
       "    }\n",
       "</style>\n",
       "<table border=\"1\" class=\"dataframe\">\n",
       "  <thead>\n",
       "    <tr style=\"text-align: right;\">\n",
       "      <th></th>\n",
       "      <th>hit_date</th>\n",
       "      <th>idaviso</th>\n",
       "      <th>idusuario</th>\n",
       "      <th>contact_date</th>\n",
       "      <th>score</th>\n",
       "    </tr>\n",
       "  </thead>\n",
       "  <tbody>\n",
       "    <tr>\n",
       "      <th>0</th>\n",
       "      <td>NaN</td>\n",
       "      <td>00000424f4c62894b374d79e8bb7e9d3586439f7</td>\n",
       "      <td>07439857598bd8d779c56366eaf202d47c64da85</td>\n",
       "      <td>2018-10-29 19:10:08</td>\n",
       "      <td>2</td>\n",
       "    </tr>\n",
       "    <tr>\n",
       "      <th>1</th>\n",
       "      <td>2018-12-04</td>\n",
       "      <td>00000424f4c62894b374d79e8bb7e9d3586439f7</td>\n",
       "      <td>2fa7bf128271277b65da278e3c08160467c4f042</td>\n",
       "      <td>NaN</td>\n",
       "      <td>1</td>\n",
       "    </tr>\n",
       "    <tr>\n",
       "      <th>2</th>\n",
       "      <td>2018-10-23</td>\n",
       "      <td>00000424f4c62894b374d79e8bb7e9d3586439f7</td>\n",
       "      <td>3a149cb9ad60443e45d1d030f47820bfdc116c9e</td>\n",
       "      <td>NaN</td>\n",
       "      <td>1</td>\n",
       "    </tr>\n",
       "    <tr>\n",
       "      <th>3</th>\n",
       "      <td>NaN</td>\n",
       "      <td>00000424f4c62894b374d79e8bb7e9d3586439f7</td>\n",
       "      <td>4a5efc9e99f04956322d8635c1be61686df683c8</td>\n",
       "      <td>2018-09-23 09:37:59</td>\n",
       "      <td>2</td>\n",
       "    </tr>\n",
       "    <tr>\n",
       "      <th>4</th>\n",
       "      <td>2018-11-20</td>\n",
       "      <td>00000424f4c62894b374d79e8bb7e9d3586439f7</td>\n",
       "      <td>5013e74ac3c162db759d0d58c5cf9572219aa7f4</td>\n",
       "      <td>NaN</td>\n",
       "      <td>1</td>\n",
       "    </tr>\n",
       "  </tbody>\n",
       "</table>\n",
       "</div>"
      ],
      "text/plain": [
       "     hit_date                                   idaviso  \\\n",
       "0         NaN  00000424f4c62894b374d79e8bb7e9d3586439f7   \n",
       "1  2018-12-04  00000424f4c62894b374d79e8bb7e9d3586439f7   \n",
       "2  2018-10-23  00000424f4c62894b374d79e8bb7e9d3586439f7   \n",
       "3         NaN  00000424f4c62894b374d79e8bb7e9d3586439f7   \n",
       "4  2018-11-20  00000424f4c62894b374d79e8bb7e9d3586439f7   \n",
       "\n",
       "                                  idusuario         contact_date  score  \n",
       "0  07439857598bd8d779c56366eaf202d47c64da85  2018-10-29 19:10:08      2  \n",
       "1  2fa7bf128271277b65da278e3c08160467c4f042                  NaN      1  \n",
       "2  3a149cb9ad60443e45d1d030f47820bfdc116c9e                  NaN      1  \n",
       "3  4a5efc9e99f04956322d8635c1be61686df683c8  2018-09-23 09:37:59      2  \n",
       "4  5013e74ac3c162db759d0d58c5cf9572219aa7f4                  NaN      1  "
      ]
     },
     "execution_count": 193,
     "metadata": {},
     "output_type": "execute_result"
    }
   ],
   "source": [
    "print(len(ratings))\n",
    "ratings.head()"
   ]
  },
  {
   "cell_type": "markdown",
   "metadata": {},
   "source": [
    "### Avisos"
   ]
  },
  {
   "cell_type": "code",
   "execution_count": 194,
   "metadata": {},
   "outputs": [
    {
     "name": "stdout",
     "output_type": "stream",
     "text": [
      "length:  265713\n"
     ]
    },
    {
     "data": {
      "text/html": [
       "<div>\n",
       "<style scoped>\n",
       "    .dataframe tbody tr th:only-of-type {\n",
       "        vertical-align: middle;\n",
       "    }\n",
       "\n",
       "    .dataframe tbody tr th {\n",
       "        vertical-align: top;\n",
       "    }\n",
       "\n",
       "    .dataframe thead th {\n",
       "        text-align: right;\n",
       "    }\n",
       "</style>\n",
       "<table border=\"1\" class=\"dataframe\">\n",
       "  <thead>\n",
       "    <tr style=\"text-align: right;\">\n",
       "      <th></th>\n",
       "      <th>fecha_alta</th>\n",
       "      <th>precio</th>\n",
       "      <th>moneda</th>\n",
       "      <th>tipo_de_propiedad</th>\n",
       "      <th>tipo_de_operacion</th>\n",
       "      <th>habitaciones</th>\n",
       "      <th>ambientes</th>\n",
       "      <th>garages</th>\n",
       "      <th>banos</th>\n",
       "      <th>metros_cuadrados</th>\n",
       "      <th>metros_totales</th>\n",
       "      <th>antiguedad</th>\n",
       "      <th>barrio</th>\n",
       "      <th>idaviso</th>\n",
       "    </tr>\n",
       "  </thead>\n",
       "  <tbody>\n",
       "    <tr>\n",
       "      <th>0</th>\n",
       "      <td>2012-10-04 00:00:00</td>\n",
       "      <td>85000.0</td>\n",
       "      <td>USD</td>\n",
       "      <td>Terreno agrícola</td>\n",
       "      <td>Venta</td>\n",
       "      <td>0.0</td>\n",
       "      <td>1.0</td>\n",
       "      <td>0.0</td>\n",
       "      <td>0.0</td>\n",
       "      <td>NaN</td>\n",
       "      <td>NaN</td>\n",
       "      <td>0.0</td>\n",
       "      <td>Campana</td>\n",
       "      <td>8efcfc866ca10c1951d41afb45c902b9c9d0becd</td>\n",
       "    </tr>\n",
       "    <tr>\n",
       "      <th>1</th>\n",
       "      <td>2012-10-22 00:00:00</td>\n",
       "      <td>525000.0</td>\n",
       "      <td>USD</td>\n",
       "      <td>Apartamento</td>\n",
       "      <td>Venta</td>\n",
       "      <td>2.0</td>\n",
       "      <td>3.0</td>\n",
       "      <td>0.0</td>\n",
       "      <td>2.0</td>\n",
       "      <td>135.0</td>\n",
       "      <td>135.0</td>\n",
       "      <td>0.0</td>\n",
       "      <td>Recoleta</td>\n",
       "      <td>c0c6523c19f33e27b537944a075ce0f8637bc853</td>\n",
       "    </tr>\n",
       "    <tr>\n",
       "      <th>2</th>\n",
       "      <td>2012-10-22 00:00:00</td>\n",
       "      <td>380000.0</td>\n",
       "      <td>USD</td>\n",
       "      <td>Apartamento</td>\n",
       "      <td>Venta</td>\n",
       "      <td>1.0</td>\n",
       "      <td>2.0</td>\n",
       "      <td>0.0</td>\n",
       "      <td>1.0</td>\n",
       "      <td>109.0</td>\n",
       "      <td>109.0</td>\n",
       "      <td>0.0</td>\n",
       "      <td>Recoleta</td>\n",
       "      <td>8341378d32195b296c3fc21fd3d6b018a3555213</td>\n",
       "    </tr>\n",
       "    <tr>\n",
       "      <th>3</th>\n",
       "      <td>2013-12-11 00:00:00</td>\n",
       "      <td>0.0</td>\n",
       "      <td>USD</td>\n",
       "      <td>Apartamento</td>\n",
       "      <td>Venta</td>\n",
       "      <td>1.0</td>\n",
       "      <td>1.0</td>\n",
       "      <td>0.0</td>\n",
       "      <td>1.0</td>\n",
       "      <td>48.0</td>\n",
       "      <td>55.0</td>\n",
       "      <td>-1.0</td>\n",
       "      <td>Belgrano</td>\n",
       "      <td>e7282ca8fbf8d84be6e60775ac5ace6ce2761862</td>\n",
       "    </tr>\n",
       "    <tr>\n",
       "      <th>4</th>\n",
       "      <td>2013-12-11 00:00:00</td>\n",
       "      <td>0.0</td>\n",
       "      <td>USD</td>\n",
       "      <td>Apartamento</td>\n",
       "      <td>Venta</td>\n",
       "      <td>1.0</td>\n",
       "      <td>1.0</td>\n",
       "      <td>0.0</td>\n",
       "      <td>1.0</td>\n",
       "      <td>38.0</td>\n",
       "      <td>45.0</td>\n",
       "      <td>-1.0</td>\n",
       "      <td>Belgrano</td>\n",
       "      <td>01af5562466db34376e7ce41bec08a23da3e447a</td>\n",
       "    </tr>\n",
       "  </tbody>\n",
       "</table>\n",
       "</div>"
      ],
      "text/plain": [
       "            fecha_alta    precio moneda tipo_de_propiedad tipo_de_operacion  \\\n",
       "0  2012-10-04 00:00:00   85000.0    USD  Terreno agrícola             Venta   \n",
       "1  2012-10-22 00:00:00  525000.0    USD       Apartamento             Venta   \n",
       "2  2012-10-22 00:00:00  380000.0    USD       Apartamento             Venta   \n",
       "3  2013-12-11 00:00:00       0.0    USD       Apartamento             Venta   \n",
       "4  2013-12-11 00:00:00       0.0    USD       Apartamento             Venta   \n",
       "\n",
       "   habitaciones  ambientes  garages  banos  metros_cuadrados  metros_totales  \\\n",
       "0           0.0        1.0      0.0    0.0               NaN             NaN   \n",
       "1           2.0        3.0      0.0    2.0             135.0           135.0   \n",
       "2           1.0        2.0      0.0    1.0             109.0           109.0   \n",
       "3           1.0        1.0      0.0    1.0              48.0            55.0   \n",
       "4           1.0        1.0      0.0    1.0              38.0            45.0   \n",
       "\n",
       "   antiguedad    barrio                                   idaviso  \n",
       "0         0.0   Campana  8efcfc866ca10c1951d41afb45c902b9c9d0becd  \n",
       "1         0.0  Recoleta  c0c6523c19f33e27b537944a075ce0f8637bc853  \n",
       "2         0.0  Recoleta  8341378d32195b296c3fc21fd3d6b018a3555213  \n",
       "3        -1.0  Belgrano  e7282ca8fbf8d84be6e60775ac5ace6ce2761862  \n",
       "4        -1.0  Belgrano  01af5562466db34376e7ce41bec08a23da3e447a  "
      ]
     },
     "execution_count": 194,
     "metadata": {},
     "output_type": "execute_result"
    }
   ],
   "source": [
    "items_feat = pd.read_csv(path/'items_features.csv')\n",
    "print(\"length: \", len(items_feat))\n",
    "items_feat.head()"
   ]
  },
  {
   "cell_type": "markdown",
   "metadata": {},
   "source": [
    "Hay tres tipos de moneda distintos"
   ]
  },
  {
   "cell_type": "code",
   "execution_count": 195,
   "metadata": {},
   "outputs": [
    {
     "data": {
      "text/plain": [
       "array(['USD', 'ARS', 'UYU'], dtype=object)"
      ]
     },
     "execution_count": 195,
     "metadata": {},
     "output_type": "execute_result"
    }
   ],
   "source": [
    "items_feat['moneda'].unique()"
   ]
  },
  {
   "cell_type": "markdown",
   "metadata": {},
   "source": [
    "Por ahora vamos a filtrar los que tienen precio en USD y los de tipo de operacion Venta"
   ]
  },
  {
   "cell_type": "code",
   "execution_count": 196,
   "metadata": {},
   "outputs": [],
   "source": [
    "items_feat = items_feat[items_feat['moneda']=='USD']"
   ]
  },
  {
   "cell_type": "code",
   "execution_count": 197,
   "metadata": {},
   "outputs": [
    {
     "data": {
      "text/plain": [
       "148097"
      ]
     },
     "execution_count": 197,
     "metadata": {},
     "output_type": "execute_result"
    }
   ],
   "source": [
    "len(items_feat)"
   ]
  },
  {
   "cell_type": "code",
   "execution_count": 198,
   "metadata": {},
   "outputs": [
    {
     "data": {
      "text/plain": [
       "137465"
      ]
     },
     "execution_count": 198,
     "metadata": {},
     "output_type": "execute_result"
    }
   ],
   "source": [
    "len(items_feat[items_feat['tipo_de_operacion']=='Venta'])"
   ]
  },
  {
   "cell_type": "code",
   "execution_count": 199,
   "metadata": {},
   "outputs": [],
   "source": [
    "items_feat = items_feat[items_feat['tipo_de_operacion']=='Venta']"
   ]
  },
  {
   "cell_type": "markdown",
   "metadata": {},
   "source": [
    "Veo cuántos datos hay con precio 0"
   ]
  },
  {
   "cell_type": "code",
   "execution_count": 200,
   "metadata": {},
   "outputs": [
    {
     "data": {
      "text/plain": [
       "8602"
      ]
     },
     "execution_count": 200,
     "metadata": {},
     "output_type": "execute_result"
    }
   ],
   "source": [
    "(items_feat['precio']<1).sum()"
   ]
  },
  {
   "cell_type": "markdown",
   "metadata": {},
   "source": [
    "Filtramos las ventas que tienen precio 0"
   ]
  },
  {
   "cell_type": "code",
   "execution_count": 201,
   "metadata": {},
   "outputs": [],
   "source": [
    "items_feat = items_feat[items_feat['precio']>0]"
   ]
  },
  {
   "cell_type": "code",
   "execution_count": 202,
   "metadata": {},
   "outputs": [
    {
     "data": {
      "text/plain": [
       "''"
      ]
     },
     "execution_count": 202,
     "metadata": {},
     "output_type": "execute_result"
    },
    {
     "data": {
      "image/png": "[encoded data removed]",
      "text/plain": [
       "<Figure size 1080x216 with 1 Axes>"
      ]
     },
     "metadata": {},
     "output_type": "display_data"
    }
   ],
   "source": [
    "plt.figure(figsize = (15,3))\n",
    "sns.distplot(items_feat[(items_feat['precio'].notna())&\n",
    "                        (items_feat['precio']<1000000)&\n",
    "                        (items_feat['tipo_de_operacion']=='Venta')&\n",
    "                        (items_feat['moneda']=='USD')]['precio'], kde=False, rug=False, bins = 30)\n",
    "plt.ticklabel_format(style='plain', axis='x')\n",
    "plt.ticklabel_format(style='plain', axis='y')\n",
    ";"
   ]
  },
  {
   "cell_type": "markdown",
   "metadata": {},
   "source": [
    "### Filtramos NaNs"
   ]
  },
  {
   "cell_type": "markdown",
   "metadata": {},
   "source": [
    "Filtramos los casos que no tienen datos en \"metros_cuadrados\" o en \"precio\" y nos quedamos sólo con las \"Ventas\""
   ]
  },
  {
   "cell_type": "code",
   "execution_count": 203,
   "metadata": {},
   "outputs": [],
   "source": [
    "items_feat = items_feat[items_feat['metros_cuadrados'].notna()]\n",
    "items_feat = items_feat[items_feat['precio'].notna()]\n",
    "items_feat = items_feat[items_feat['tipo_de_operacion']=='Venta']"
   ]
  },
  {
   "cell_type": "code",
   "execution_count": 204,
   "metadata": {},
   "outputs": [
    {
     "name": "stdout",
     "output_type": "stream",
     "text": [
      "120074\n"
     ]
    }
   ],
   "source": [
    "print(len(items_feat))"
   ]
  },
  {
   "cell_type": "code",
   "execution_count": 205,
   "metadata": {},
   "outputs": [
    {
     "data": {
      "image/png": "[encoded data removed]",
      "text/plain": [
       "<Figure size 1080x216 with 1 Axes>"
      ]
     },
     "metadata": {},
     "output_type": "display_data"
    }
   ],
   "source": [
    "plot_cont_dist(items_feat, var='precio', bins = 100)"
   ]
  },
  {
   "cell_type": "markdown",
   "metadata": {},
   "source": [
    "Vemos cuál es el máximo y cuál el mínimo de los precios"
   ]
  },
  {
   "cell_type": "code",
   "execution_count": 206,
   "metadata": {},
   "outputs": [
    {
     "data": {
      "text/plain": [
       "(1.0, 111111111111.0)"
      ]
     },
     "execution_count": 206,
     "metadata": {},
     "output_type": "execute_result"
    }
   ],
   "source": [
    "min(items_feat['precio']), max(items_feat['precio'])"
   ]
  },
  {
   "cell_type": "code",
   "execution_count": 207,
   "metadata": {},
   "outputs": [
    {
     "data": {
      "text/plain": [
       "(159000.0, 4091231.361177274)"
      ]
     },
     "execution_count": 207,
     "metadata": {},
     "output_type": "execute_result"
    }
   ],
   "source": [
    "items_feat['precio'].median(), items_feat['precio'].mean()"
   ]
  },
  {
   "cell_type": "markdown",
   "metadata": {},
   "source": [
    "La diferencia enorme entre la mediana y la media nos dice que hay algo mal con los precios. Vamos a filtrar."
   ]
  },
  {
   "cell_type": "markdown",
   "metadata": {},
   "source": [
    "#### Puede ser buena idea filtrar los outliers usando el percentil .05 y .95"
   ]
  },
  {
   "cell_type": "code",
   "execution_count": 208,
   "metadata": {},
   "outputs": [
    {
     "name": "stdout",
     "output_type": "stream",
     "text": [
      "667637.8999999965\n",
      "41581.90000000007\n"
     ]
    }
   ],
   "source": [
    "p_high = items_feat['precio'].quantile(.95)\n",
    "p_low = items_feat['precio'].quantile(.05)\n",
    "print(p_high), print(p_low);"
   ]
  },
  {
   "cell_type": "code",
   "execution_count": 209,
   "metadata": {},
   "outputs": [],
   "source": [
    "df = items_feat[items_feat['precio']>=p_low]\n",
    "df = df[df['precio']<=p_high]"
   ]
  },
  {
   "cell_type": "code",
   "execution_count": 210,
   "metadata": {},
   "outputs": [
    {
     "data": {
      "image/png": "[encoded data removed]",
      "text/plain": [
       "<Figure size 1080x216 with 1 Axes>"
      ]
     },
     "metadata": {},
     "output_type": "display_data"
    }
   ],
   "source": [
    "plot_cont_dist(df, var='precio', kde=False, bins = 60)"
   ]
  },
  {
   "cell_type": "markdown",
   "metadata": {},
   "source": [
    "#### Otra opción es usar la variable precio en escala logarítmca"
   ]
  },
  {
   "cell_type": "code",
   "execution_count": 211,
   "metadata": {},
   "outputs": [],
   "source": [
    "import math\n",
    "items_feat['log_precio'] = [math.log(x, 10) for x in items_feat['precio']]"
   ]
  },
  {
   "cell_type": "code",
   "execution_count": 212,
   "metadata": {},
   "outputs": [
    {
     "data": {
      "image/png": "[encoded data removed]",
      "text/plain": [
       "<Figure size 1080x216 with 1 Axes>"
      ]
     },
     "metadata": {},
     "output_type": "display_data"
    }
   ],
   "source": [
    "plot_cont_dist(items_feat, var='log_precio', kde=True, bins = 60)"
   ]
  },
  {
   "cell_type": "code",
   "execution_count": 213,
   "metadata": {},
   "outputs": [],
   "source": [
    "items_feat = items_feat.drop('log_precio', axis = 1)"
   ]
  },
  {
   "cell_type": "markdown",
   "metadata": {},
   "source": [
    "Voy a filtrar"
   ]
  },
  {
   "cell_type": "code",
   "execution_count": 214,
   "metadata": {},
   "outputs": [],
   "source": [
    "items_feat = items_feat[items_feat['precio']>=p_low]\n",
    "items_feat = items_feat[items_feat['precio']<=p_high]"
   ]
  },
  {
   "cell_type": "code",
   "execution_count": 215,
   "metadata": {},
   "outputs": [],
   "source": [
    "items_feat.reset_index(drop=True, inplace = True)"
   ]
  },
  {
   "cell_type": "code",
   "execution_count": 216,
   "metadata": {},
   "outputs": [
    {
     "name": "stdout",
     "output_type": "stream",
     "text": [
      "108066\n"
     ]
    },
    {
     "data": {
      "text/html": [
       "<div>\n",
       "<style scoped>\n",
       "    .dataframe tbody tr th:only-of-type {\n",
       "        vertical-align: middle;\n",
       "    }\n",
       "\n",
       "    .dataframe tbody tr th {\n",
       "        vertical-align: top;\n",
       "    }\n",
       "\n",
       "    .dataframe thead th {\n",
       "        text-align: right;\n",
       "    }\n",
       "</style>\n",
       "<table border=\"1\" class=\"dataframe\">\n",
       "  <thead>\n",
       "    <tr style=\"text-align: right;\">\n",
       "      <th></th>\n",
       "      <th>fecha_alta</th>\n",
       "      <th>precio</th>\n",
       "      <th>moneda</th>\n",
       "      <th>tipo_de_propiedad</th>\n",
       "      <th>tipo_de_operacion</th>\n",
       "      <th>habitaciones</th>\n",
       "      <th>ambientes</th>\n",
       "      <th>garages</th>\n",
       "      <th>banos</th>\n",
       "      <th>metros_cuadrados</th>\n",
       "      <th>metros_totales</th>\n",
       "      <th>antiguedad</th>\n",
       "      <th>barrio</th>\n",
       "      <th>idaviso</th>\n",
       "    </tr>\n",
       "  </thead>\n",
       "  <tbody>\n",
       "    <tr>\n",
       "      <th>0</th>\n",
       "      <td>2012-10-22 00:00:00</td>\n",
       "      <td>525000.0</td>\n",
       "      <td>USD</td>\n",
       "      <td>Apartamento</td>\n",
       "      <td>Venta</td>\n",
       "      <td>2.0</td>\n",
       "      <td>3.0</td>\n",
       "      <td>0.0</td>\n",
       "      <td>2.0</td>\n",
       "      <td>135.0</td>\n",
       "      <td>135.0</td>\n",
       "      <td>0.0</td>\n",
       "      <td>Recoleta</td>\n",
       "      <td>c0c6523c19f33e27b537944a075ce0f8637bc853</td>\n",
       "    </tr>\n",
       "    <tr>\n",
       "      <th>1</th>\n",
       "      <td>2012-10-22 00:00:00</td>\n",
       "      <td>380000.0</td>\n",
       "      <td>USD</td>\n",
       "      <td>Apartamento</td>\n",
       "      <td>Venta</td>\n",
       "      <td>1.0</td>\n",
       "      <td>2.0</td>\n",
       "      <td>0.0</td>\n",
       "      <td>1.0</td>\n",
       "      <td>109.0</td>\n",
       "      <td>109.0</td>\n",
       "      <td>0.0</td>\n",
       "      <td>Recoleta</td>\n",
       "      <td>8341378d32195b296c3fc21fd3d6b018a3555213</td>\n",
       "    </tr>\n",
       "    <tr>\n",
       "      <th>2</th>\n",
       "      <td>2013-04-20 00:00:00</td>\n",
       "      <td>73000.0</td>\n",
       "      <td>USD</td>\n",
       "      <td>Terreno agrícola</td>\n",
       "      <td>Venta</td>\n",
       "      <td>0.0</td>\n",
       "      <td>1.0</td>\n",
       "      <td>0.0</td>\n",
       "      <td>0.0</td>\n",
       "      <td>404.0</td>\n",
       "      <td>404.0</td>\n",
       "      <td>0.0</td>\n",
       "      <td>Tigre</td>\n",
       "      <td>8fce08f15f9b853f84d0049ca5993a98a673b2d4</td>\n",
       "    </tr>\n",
       "    <tr>\n",
       "      <th>3</th>\n",
       "      <td>2014-04-17 00:00:00</td>\n",
       "      <td>160000.0</td>\n",
       "      <td>USD</td>\n",
       "      <td>Apartamento</td>\n",
       "      <td>Venta</td>\n",
       "      <td>1.0</td>\n",
       "      <td>2.0</td>\n",
       "      <td>0.0</td>\n",
       "      <td>1.0</td>\n",
       "      <td>45.0</td>\n",
       "      <td>49.0</td>\n",
       "      <td>0.0</td>\n",
       "      <td>Caballito</td>\n",
       "      <td>5fc6ae60696d544e4f0af98d44dc107c4a7a77a4</td>\n",
       "    </tr>\n",
       "    <tr>\n",
       "      <th>4</th>\n",
       "      <td>2014-04-17 00:00:00</td>\n",
       "      <td>258000.0</td>\n",
       "      <td>USD</td>\n",
       "      <td>Apartamento</td>\n",
       "      <td>Venta</td>\n",
       "      <td>2.0</td>\n",
       "      <td>3.0</td>\n",
       "      <td>0.0</td>\n",
       "      <td>2.0</td>\n",
       "      <td>72.0</td>\n",
       "      <td>78.0</td>\n",
       "      <td>0.0</td>\n",
       "      <td>Caballito</td>\n",
       "      <td>0f753e04ce668f62ddceb5ac2345682b28af6e07</td>\n",
       "    </tr>\n",
       "  </tbody>\n",
       "</table>\n",
       "</div>"
      ],
      "text/plain": [
       "            fecha_alta    precio moneda tipo_de_propiedad tipo_de_operacion  \\\n",
       "0  2012-10-22 00:00:00  525000.0    USD       Apartamento             Venta   \n",
       "1  2012-10-22 00:00:00  380000.0    USD       Apartamento             Venta   \n",
       "2  2013-04-20 00:00:00   73000.0    USD  Terreno agrícola             Venta   \n",
       "3  2014-04-17 00:00:00  160000.0    USD       Apartamento             Venta   \n",
       "4  2014-04-17 00:00:00  258000.0    USD       Apartamento             Venta   \n",
       "\n",
       "   habitaciones  ambientes  garages  banos  metros_cuadrados  metros_totales  \\\n",
       "0           2.0        3.0      0.0    2.0             135.0           135.0   \n",
       "1           1.0        2.0      0.0    1.0             109.0           109.0   \n",
       "2           0.0        1.0      0.0    0.0             404.0           404.0   \n",
       "3           1.0        2.0      0.0    1.0              45.0            49.0   \n",
       "4           2.0        3.0      0.0    2.0              72.0            78.0   \n",
       "\n",
       "   antiguedad     barrio                                   idaviso  \n",
       "0         0.0   Recoleta  c0c6523c19f33e27b537944a075ce0f8637bc853  \n",
       "1         0.0   Recoleta  8341378d32195b296c3fc21fd3d6b018a3555213  \n",
       "2         0.0      Tigre  8fce08f15f9b853f84d0049ca5993a98a673b2d4  \n",
       "3         0.0  Caballito  5fc6ae60696d544e4f0af98d44dc107c4a7a77a4  \n",
       "4         0.0  Caballito  0f753e04ce668f62ddceb5ac2345682b28af6e07  "
      ]
     },
     "execution_count": 216,
     "metadata": {},
     "output_type": "execute_result"
    }
   ],
   "source": [
    "print(len(items_feat))\n",
    "items_feat.head()"
   ]
  },
  {
   "cell_type": "markdown",
   "metadata": {},
   "source": [
    "Cruzamos esta informacion con la matriz de ratings"
   ]
  },
  {
   "cell_type": "code",
   "execution_count": 217,
   "metadata": {},
   "outputs": [],
   "source": [
    "ratings = pd.merge(items_feat, ratings, how='inner')"
   ]
  },
  {
   "cell_type": "code",
   "execution_count": 218,
   "metadata": {},
   "outputs": [
    {
     "name": "stdout",
     "output_type": "stream",
     "text": [
      "646096\n"
     ]
    },
    {
     "data": {
      "text/html": [
       "<div>\n",
       "<style scoped>\n",
       "    .dataframe tbody tr th:only-of-type {\n",
       "        vertical-align: middle;\n",
       "    }\n",
       "\n",
       "    .dataframe tbody tr th {\n",
       "        vertical-align: top;\n",
       "    }\n",
       "\n",
       "    .dataframe thead th {\n",
       "        text-align: right;\n",
       "    }\n",
       "</style>\n",
       "<table border=\"1\" class=\"dataframe\">\n",
       "  <thead>\n",
       "    <tr style=\"text-align: right;\">\n",
       "      <th></th>\n",
       "      <th>fecha_alta</th>\n",
       "      <th>precio</th>\n",
       "      <th>moneda</th>\n",
       "      <th>tipo_de_propiedad</th>\n",
       "      <th>tipo_de_operacion</th>\n",
       "      <th>habitaciones</th>\n",
       "      <th>ambientes</th>\n",
       "      <th>garages</th>\n",
       "      <th>banos</th>\n",
       "      <th>metros_cuadrados</th>\n",
       "      <th>metros_totales</th>\n",
       "      <th>antiguedad</th>\n",
       "      <th>barrio</th>\n",
       "      <th>idaviso</th>\n",
       "      <th>hit_date</th>\n",
       "      <th>idusuario</th>\n",
       "      <th>contact_date</th>\n",
       "      <th>score</th>\n",
       "    </tr>\n",
       "  </thead>\n",
       "  <tbody>\n",
       "    <tr>\n",
       "      <th>0</th>\n",
       "      <td>2012-10-22 00:00:00</td>\n",
       "      <td>380000.0</td>\n",
       "      <td>USD</td>\n",
       "      <td>Apartamento</td>\n",
       "      <td>Venta</td>\n",
       "      <td>1.0</td>\n",
       "      <td>2.0</td>\n",
       "      <td>0.0</td>\n",
       "      <td>1.0</td>\n",
       "      <td>109.0</td>\n",
       "      <td>109.0</td>\n",
       "      <td>0.0</td>\n",
       "      <td>Recoleta</td>\n",
       "      <td>8341378d32195b296c3fc21fd3d6b018a3555213</td>\n",
       "      <td>NaN</td>\n",
       "      <td>30587a436ca27d04c9ab0c4aa49334390c2d4301</td>\n",
       "      <td>2018-11-22 23:13:30</td>\n",
       "      <td>2</td>\n",
       "    </tr>\n",
       "    <tr>\n",
       "      <th>1</th>\n",
       "      <td>2012-10-22 00:00:00</td>\n",
       "      <td>380000.0</td>\n",
       "      <td>USD</td>\n",
       "      <td>Apartamento</td>\n",
       "      <td>Venta</td>\n",
       "      <td>1.0</td>\n",
       "      <td>2.0</td>\n",
       "      <td>0.0</td>\n",
       "      <td>1.0</td>\n",
       "      <td>109.0</td>\n",
       "      <td>109.0</td>\n",
       "      <td>0.0</td>\n",
       "      <td>Recoleta</td>\n",
       "      <td>8341378d32195b296c3fc21fd3d6b018a3555213</td>\n",
       "      <td>2018-11-26</td>\n",
       "      <td>8fc5ac1bc40297233e3815ee33b95e008f5c7d72</td>\n",
       "      <td>NaN</td>\n",
       "      <td>1</td>\n",
       "    </tr>\n",
       "    <tr>\n",
       "      <th>2</th>\n",
       "      <td>2013-04-20 00:00:00</td>\n",
       "      <td>73000.0</td>\n",
       "      <td>USD</td>\n",
       "      <td>Terreno agrícola</td>\n",
       "      <td>Venta</td>\n",
       "      <td>0.0</td>\n",
       "      <td>1.0</td>\n",
       "      <td>0.0</td>\n",
       "      <td>0.0</td>\n",
       "      <td>404.0</td>\n",
       "      <td>404.0</td>\n",
       "      <td>0.0</td>\n",
       "      <td>Tigre</td>\n",
       "      <td>8fce08f15f9b853f84d0049ca5993a98a673b2d4</td>\n",
       "      <td>2018-12-03</td>\n",
       "      <td>6ba0a2325bbc77aa623c7f2548e56415083715da</td>\n",
       "      <td>NaN</td>\n",
       "      <td>1</td>\n",
       "    </tr>\n",
       "    <tr>\n",
       "      <th>3</th>\n",
       "      <td>2013-04-20 00:00:00</td>\n",
       "      <td>73000.0</td>\n",
       "      <td>USD</td>\n",
       "      <td>Terreno agrícola</td>\n",
       "      <td>Venta</td>\n",
       "      <td>0.0</td>\n",
       "      <td>1.0</td>\n",
       "      <td>0.0</td>\n",
       "      <td>0.0</td>\n",
       "      <td>404.0</td>\n",
       "      <td>404.0</td>\n",
       "      <td>0.0</td>\n",
       "      <td>Tigre</td>\n",
       "      <td>8fce08f15f9b853f84d0049ca5993a98a673b2d4</td>\n",
       "      <td>2018-11-29</td>\n",
       "      <td>998180aa5a1f0760720215cdea088e3c90023daf</td>\n",
       "      <td>NaN</td>\n",
       "      <td>1</td>\n",
       "    </tr>\n",
       "    <tr>\n",
       "      <th>4</th>\n",
       "      <td>2014-04-17 00:00:00</td>\n",
       "      <td>160000.0</td>\n",
       "      <td>USD</td>\n",
       "      <td>Apartamento</td>\n",
       "      <td>Venta</td>\n",
       "      <td>1.0</td>\n",
       "      <td>2.0</td>\n",
       "      <td>0.0</td>\n",
       "      <td>1.0</td>\n",
       "      <td>45.0</td>\n",
       "      <td>49.0</td>\n",
       "      <td>0.0</td>\n",
       "      <td>Caballito</td>\n",
       "      <td>5fc6ae60696d544e4f0af98d44dc107c4a7a77a4</td>\n",
       "      <td>NaN</td>\n",
       "      <td>5cd46567a22489f795dd76fca1cbf063e7aace8a</td>\n",
       "      <td>2018-09-30 00:31:16</td>\n",
       "      <td>2</td>\n",
       "    </tr>\n",
       "  </tbody>\n",
       "</table>\n",
       "</div>"
      ],
      "text/plain": [
       "            fecha_alta    precio moneda tipo_de_propiedad tipo_de_operacion  \\\n",
       "0  2012-10-22 00:00:00  380000.0    USD       Apartamento             Venta   \n",
       "1  2012-10-22 00:00:00  380000.0    USD       Apartamento             Venta   \n",
       "2  2013-04-20 00:00:00   73000.0    USD  Terreno agrícola             Venta   \n",
       "3  2013-04-20 00:00:00   73000.0    USD  Terreno agrícola             Venta   \n",
       "4  2014-04-17 00:00:00  160000.0    USD       Apartamento             Venta   \n",
       "\n",
       "   habitaciones  ambientes  garages  banos  metros_cuadrados  metros_totales  \\\n",
       "0           1.0        2.0      0.0    1.0             109.0           109.0   \n",
       "1           1.0        2.0      0.0    1.0             109.0           109.0   \n",
       "2           0.0        1.0      0.0    0.0             404.0           404.0   \n",
       "3           0.0        1.0      0.0    0.0             404.0           404.0   \n",
       "4           1.0        2.0      0.0    1.0              45.0            49.0   \n",
       "\n",
       "   antiguedad     barrio                                   idaviso  \\\n",
       "0         0.0   Recoleta  8341378d32195b296c3fc21fd3d6b018a3555213   \n",
       "1         0.0   Recoleta  8341378d32195b296c3fc21fd3d6b018a3555213   \n",
       "2         0.0      Tigre  8fce08f15f9b853f84d0049ca5993a98a673b2d4   \n",
       "3         0.0      Tigre  8fce08f15f9b853f84d0049ca5993a98a673b2d4   \n",
       "4         0.0  Caballito  5fc6ae60696d544e4f0af98d44dc107c4a7a77a4   \n",
       "\n",
       "     hit_date                                 idusuario         contact_date  \\\n",
       "0         NaN  30587a436ca27d04c9ab0c4aa49334390c2d4301  2018-11-22 23:13:30   \n",
       "1  2018-11-26  8fc5ac1bc40297233e3815ee33b95e008f5c7d72                  NaN   \n",
       "2  2018-12-03  6ba0a2325bbc77aa623c7f2548e56415083715da                  NaN   \n",
       "3  2018-11-29  998180aa5a1f0760720215cdea088e3c90023daf                  NaN   \n",
       "4         NaN  5cd46567a22489f795dd76fca1cbf063e7aace8a  2018-09-30 00:31:16   \n",
       "\n",
       "   score  \n",
       "0      2  \n",
       "1      1  \n",
       "2      1  \n",
       "3      1  \n",
       "4      2  "
      ]
     },
     "execution_count": 218,
     "metadata": {},
     "output_type": "execute_result"
    }
   ],
   "source": [
    "print(len(ratings))\n",
    "ratings.head()"
   ]
  },
  {
   "cell_type": "code",
   "execution_count": 219,
   "metadata": {},
   "outputs": [
    {
     "data": {
      "text/plain": [
       "(102553, 108066)"
      ]
     },
     "execution_count": 219,
     "metadata": {},
     "output_type": "execute_result"
    }
   ],
   "source": [
    "len(ratings['idaviso'].unique()), len(items_feat)"
   ]
  },
  {
   "cell_type": "markdown",
   "metadata": {},
   "source": [
    "## Leads por usuario"
   ]
  },
  {
   "cell_type": "code",
   "execution_count": 220,
   "metadata": {},
   "outputs": [
    {
     "data": {
      "text/html": [
       "<div>\n",
       "<style scoped>\n",
       "    .dataframe tbody tr th:only-of-type {\n",
       "        vertical-align: middle;\n",
       "    }\n",
       "\n",
       "    .dataframe tbody tr th {\n",
       "        vertical-align: top;\n",
       "    }\n",
       "\n",
       "    .dataframe thead th {\n",
       "        text-align: right;\n",
       "    }\n",
       "</style>\n",
       "<table border=\"1\" class=\"dataframe\">\n",
       "  <thead>\n",
       "    <tr style=\"text-align: right;\">\n",
       "      <th></th>\n",
       "      <th>fecha_alta</th>\n",
       "      <th>precio</th>\n",
       "      <th>moneda</th>\n",
       "      <th>tipo_de_propiedad</th>\n",
       "      <th>tipo_de_operacion</th>\n",
       "      <th>habitaciones</th>\n",
       "      <th>ambientes</th>\n",
       "      <th>garages</th>\n",
       "      <th>banos</th>\n",
       "      <th>metros_cuadrados</th>\n",
       "      <th>metros_totales</th>\n",
       "      <th>antiguedad</th>\n",
       "      <th>barrio</th>\n",
       "      <th>idaviso</th>\n",
       "      <th>hit_date</th>\n",
       "      <th>idusuario</th>\n",
       "      <th>contact_date</th>\n",
       "      <th>score</th>\n",
       "    </tr>\n",
       "  </thead>\n",
       "  <tbody>\n",
       "    <tr>\n",
       "      <th>0</th>\n",
       "      <td>2012-10-22 00:00:00</td>\n",
       "      <td>380000.0</td>\n",
       "      <td>USD</td>\n",
       "      <td>Apartamento</td>\n",
       "      <td>Venta</td>\n",
       "      <td>1.0</td>\n",
       "      <td>2.0</td>\n",
       "      <td>0.0</td>\n",
       "      <td>1.0</td>\n",
       "      <td>109.0</td>\n",
       "      <td>109.0</td>\n",
       "      <td>0.0</td>\n",
       "      <td>Recoleta</td>\n",
       "      <td>8341378d32195b296c3fc21fd3d6b018a3555213</td>\n",
       "      <td>NaN</td>\n",
       "      <td>30587a436ca27d04c9ab0c4aa49334390c2d4301</td>\n",
       "      <td>2018-11-22 23:13:30</td>\n",
       "      <td>2</td>\n",
       "    </tr>\n",
       "    <tr>\n",
       "      <th>1</th>\n",
       "      <td>2012-10-22 00:00:00</td>\n",
       "      <td>380000.0</td>\n",
       "      <td>USD</td>\n",
       "      <td>Apartamento</td>\n",
       "      <td>Venta</td>\n",
       "      <td>1.0</td>\n",
       "      <td>2.0</td>\n",
       "      <td>0.0</td>\n",
       "      <td>1.0</td>\n",
       "      <td>109.0</td>\n",
       "      <td>109.0</td>\n",
       "      <td>0.0</td>\n",
       "      <td>Recoleta</td>\n",
       "      <td>8341378d32195b296c3fc21fd3d6b018a3555213</td>\n",
       "      <td>2018-11-26</td>\n",
       "      <td>8fc5ac1bc40297233e3815ee33b95e008f5c7d72</td>\n",
       "      <td>NaN</td>\n",
       "      <td>1</td>\n",
       "    </tr>\n",
       "    <tr>\n",
       "      <th>2</th>\n",
       "      <td>2013-04-20 00:00:00</td>\n",
       "      <td>73000.0</td>\n",
       "      <td>USD</td>\n",
       "      <td>Terreno agrícola</td>\n",
       "      <td>Venta</td>\n",
       "      <td>0.0</td>\n",
       "      <td>1.0</td>\n",
       "      <td>0.0</td>\n",
       "      <td>0.0</td>\n",
       "      <td>404.0</td>\n",
       "      <td>404.0</td>\n",
       "      <td>0.0</td>\n",
       "      <td>Tigre</td>\n",
       "      <td>8fce08f15f9b853f84d0049ca5993a98a673b2d4</td>\n",
       "      <td>2018-12-03</td>\n",
       "      <td>6ba0a2325bbc77aa623c7f2548e56415083715da</td>\n",
       "      <td>NaN</td>\n",
       "      <td>1</td>\n",
       "    </tr>\n",
       "    <tr>\n",
       "      <th>3</th>\n",
       "      <td>2013-04-20 00:00:00</td>\n",
       "      <td>73000.0</td>\n",
       "      <td>USD</td>\n",
       "      <td>Terreno agrícola</td>\n",
       "      <td>Venta</td>\n",
       "      <td>0.0</td>\n",
       "      <td>1.0</td>\n",
       "      <td>0.0</td>\n",
       "      <td>0.0</td>\n",
       "      <td>404.0</td>\n",
       "      <td>404.0</td>\n",
       "      <td>0.0</td>\n",
       "      <td>Tigre</td>\n",
       "      <td>8fce08f15f9b853f84d0049ca5993a98a673b2d4</td>\n",
       "      <td>2018-11-29</td>\n",
       "      <td>998180aa5a1f0760720215cdea088e3c90023daf</td>\n",
       "      <td>NaN</td>\n",
       "      <td>1</td>\n",
       "    </tr>\n",
       "    <tr>\n",
       "      <th>4</th>\n",
       "      <td>2014-04-17 00:00:00</td>\n",
       "      <td>160000.0</td>\n",
       "      <td>USD</td>\n",
       "      <td>Apartamento</td>\n",
       "      <td>Venta</td>\n",
       "      <td>1.0</td>\n",
       "      <td>2.0</td>\n",
       "      <td>0.0</td>\n",
       "      <td>1.0</td>\n",
       "      <td>45.0</td>\n",
       "      <td>49.0</td>\n",
       "      <td>0.0</td>\n",
       "      <td>Caballito</td>\n",
       "      <td>5fc6ae60696d544e4f0af98d44dc107c4a7a77a4</td>\n",
       "      <td>NaN</td>\n",
       "      <td>5cd46567a22489f795dd76fca1cbf063e7aace8a</td>\n",
       "      <td>2018-09-30 00:31:16</td>\n",
       "      <td>2</td>\n",
       "    </tr>\n",
       "  </tbody>\n",
       "</table>\n",
       "</div>"
      ],
      "text/plain": [
       "            fecha_alta    precio moneda tipo_de_propiedad tipo_de_operacion  \\\n",
       "0  2012-10-22 00:00:00  380000.0    USD       Apartamento             Venta   \n",
       "1  2012-10-22 00:00:00  380000.0    USD       Apartamento             Venta   \n",
       "2  2013-04-20 00:00:00   73000.0    USD  Terreno agrícola             Venta   \n",
       "3  2013-04-20 00:00:00   73000.0    USD  Terreno agrícola             Venta   \n",
       "4  2014-04-17 00:00:00  160000.0    USD       Apartamento             Venta   \n",
       "\n",
       "   habitaciones  ambientes  garages  banos  metros_cuadrados  metros_totales  \\\n",
       "0           1.0        2.0      0.0    1.0             109.0           109.0   \n",
       "1           1.0        2.0      0.0    1.0             109.0           109.0   \n",
       "2           0.0        1.0      0.0    0.0             404.0           404.0   \n",
       "3           0.0        1.0      0.0    0.0             404.0           404.0   \n",
       "4           1.0        2.0      0.0    1.0              45.0            49.0   \n",
       "\n",
       "   antiguedad     barrio                                   idaviso  \\\n",
       "0         0.0   Recoleta  8341378d32195b296c3fc21fd3d6b018a3555213   \n",
       "1         0.0   Recoleta  8341378d32195b296c3fc21fd3d6b018a3555213   \n",
       "2         0.0      Tigre  8fce08f15f9b853f84d0049ca5993a98a673b2d4   \n",
       "3         0.0      Tigre  8fce08f15f9b853f84d0049ca5993a98a673b2d4   \n",
       "4         0.0  Caballito  5fc6ae60696d544e4f0af98d44dc107c4a7a77a4   \n",
       "\n",
       "     hit_date                                 idusuario         contact_date  \\\n",
       "0         NaN  30587a436ca27d04c9ab0c4aa49334390c2d4301  2018-11-22 23:13:30   \n",
       "1  2018-11-26  8fc5ac1bc40297233e3815ee33b95e008f5c7d72                  NaN   \n",
       "2  2018-12-03  6ba0a2325bbc77aa623c7f2548e56415083715da                  NaN   \n",
       "3  2018-11-29  998180aa5a1f0760720215cdea088e3c90023daf                  NaN   \n",
       "4         NaN  5cd46567a22489f795dd76fca1cbf063e7aace8a  2018-09-30 00:31:16   \n",
       "\n",
       "   score  \n",
       "0      2  \n",
       "1      1  \n",
       "2      1  \n",
       "3      1  \n",
       "4      2  "
      ]
     },
     "execution_count": 220,
     "metadata": {},
     "output_type": "execute_result"
    }
   ],
   "source": [
    "ratings.head()"
   ]
  },
  {
   "cell_type": "code",
   "execution_count": 221,
   "metadata": {},
   "outputs": [],
   "source": [
    "leads_per_user = ratings.groupby(['idusuario'], as_index=False).size().reset_index(name='leads_user')"
   ]
  },
  {
   "cell_type": "code",
   "execution_count": 222,
   "metadata": {},
   "outputs": [],
   "source": [
    "assert(len(leads_per_user['idusuario'])==len(ratings['idusuario'].unique())) "
   ]
  },
  {
   "cell_type": "code",
   "execution_count": 223,
   "metadata": {},
   "outputs": [],
   "source": [
    "leads_per_user.sort_values('leads_user', ascending = False, inplace = True)\n",
    "leads_per_user.reset_index(drop = True, inplace = True)"
   ]
  },
  {
   "cell_type": "code",
   "execution_count": 224,
   "metadata": {},
   "outputs": [
    {
     "name": "stdout",
     "output_type": "stream",
     "text": [
      "Total de usuarios con leads:  106380\n",
      "Usuarios con más de 10 leads:  15515\n",
      "Usuarios con más de 100 leads:  212\n"
     ]
    }
   ],
   "source": [
    "print('Total de usuarios con leads: ',len(leads_per_user))\n",
    "print('Usuarios con más de 10 leads: ', len(leads_per_user[leads_per_user['leads_user']>10]))\n",
    "print('Usuarios con más de 100 leads: ', len(leads_per_user[leads_per_user['leads_user']>100]))"
   ]
  },
  {
   "cell_type": "code",
   "execution_count": 225,
   "metadata": {},
   "outputs": [
    {
     "data": {
      "image/png": "[encoded data removed]",
      "text/plain": [
       "<Figure size 576x216 with 1 Axes>"
      ]
     },
     "metadata": {},
     "output_type": "display_data"
    }
   ],
   "source": [
    "plt.figure(figsize = (8,3))\n",
    "ax = sns.distplot(leads_per_user[leads_per_user['leads_user']>10]['leads_user'], kde = False)"
   ]
  },
  {
   "cell_type": "markdown",
   "metadata": {},
   "source": [
    "Me quedo con los usuarios que tienen entre 10 y 99 leads"
   ]
  },
  {
   "cell_type": "code",
   "execution_count": 226,
   "metadata": {},
   "outputs": [],
   "source": [
    "leads_per_user=leads_per_user[leads_per_user['leads_user']>=10]\n",
    "leads_per_user=leads_per_user[leads_per_user['leads_user']<100]"
   ]
  },
  {
   "cell_type": "code",
   "execution_count": 227,
   "metadata": {},
   "outputs": [
    {
     "data": {
      "image/png": "[encoded data removed]",
      "text/plain": [
       "<Figure size 576x216 with 1 Axes>"
      ]
     },
     "metadata": {},
     "output_type": "display_data"
    }
   ],
   "source": [
    "plt.figure(figsize = (8,3))\n",
    "ax = sns.distplot(leads_per_user['leads_user'], bins = 40,kde = False)"
   ]
  },
  {
   "cell_type": "markdown",
   "metadata": {},
   "source": [
    "Hago un inner join con ratings para quedarme con los ratings para los usuarios de mayor actividad "
   ]
  },
  {
   "cell_type": "code",
   "execution_count": 228,
   "metadata": {},
   "outputs": [
    {
     "name": "stdout",
     "output_type": "stream",
     "text": [
      "646096\n"
     ]
    },
    {
     "data": {
      "text/html": [
       "<div>\n",
       "<style scoped>\n",
       "    .dataframe tbody tr th:only-of-type {\n",
       "        vertical-align: middle;\n",
       "    }\n",
       "\n",
       "    .dataframe tbody tr th {\n",
       "        vertical-align: top;\n",
       "    }\n",
       "\n",
       "    .dataframe thead th {\n",
       "        text-align: right;\n",
       "    }\n",
       "</style>\n",
       "<table border=\"1\" class=\"dataframe\">\n",
       "  <thead>\n",
       "    <tr style=\"text-align: right;\">\n",
       "      <th></th>\n",
       "      <th>fecha_alta</th>\n",
       "      <th>precio</th>\n",
       "      <th>moneda</th>\n",
       "      <th>tipo_de_propiedad</th>\n",
       "      <th>tipo_de_operacion</th>\n",
       "      <th>habitaciones</th>\n",
       "      <th>ambientes</th>\n",
       "      <th>garages</th>\n",
       "      <th>banos</th>\n",
       "      <th>metros_cuadrados</th>\n",
       "      <th>metros_totales</th>\n",
       "      <th>antiguedad</th>\n",
       "      <th>barrio</th>\n",
       "      <th>idaviso</th>\n",
       "      <th>hit_date</th>\n",
       "      <th>idusuario</th>\n",
       "      <th>contact_date</th>\n",
       "      <th>score</th>\n",
       "    </tr>\n",
       "  </thead>\n",
       "  <tbody>\n",
       "    <tr>\n",
       "      <th>0</th>\n",
       "      <td>2012-10-22 00:00:00</td>\n",
       "      <td>380000.0</td>\n",
       "      <td>USD</td>\n",
       "      <td>Apartamento</td>\n",
       "      <td>Venta</td>\n",
       "      <td>1.0</td>\n",
       "      <td>2.0</td>\n",
       "      <td>0.0</td>\n",
       "      <td>1.0</td>\n",
       "      <td>109.0</td>\n",
       "      <td>109.0</td>\n",
       "      <td>0.0</td>\n",
       "      <td>Recoleta</td>\n",
       "      <td>8341378d32195b296c3fc21fd3d6b018a3555213</td>\n",
       "      <td>NaN</td>\n",
       "      <td>30587a436ca27d04c9ab0c4aa49334390c2d4301</td>\n",
       "      <td>2018-11-22 23:13:30</td>\n",
       "      <td>2</td>\n",
       "    </tr>\n",
       "    <tr>\n",
       "      <th>1</th>\n",
       "      <td>2012-10-22 00:00:00</td>\n",
       "      <td>380000.0</td>\n",
       "      <td>USD</td>\n",
       "      <td>Apartamento</td>\n",
       "      <td>Venta</td>\n",
       "      <td>1.0</td>\n",
       "      <td>2.0</td>\n",
       "      <td>0.0</td>\n",
       "      <td>1.0</td>\n",
       "      <td>109.0</td>\n",
       "      <td>109.0</td>\n",
       "      <td>0.0</td>\n",
       "      <td>Recoleta</td>\n",
       "      <td>8341378d32195b296c3fc21fd3d6b018a3555213</td>\n",
       "      <td>2018-11-26</td>\n",
       "      <td>8fc5ac1bc40297233e3815ee33b95e008f5c7d72</td>\n",
       "      <td>NaN</td>\n",
       "      <td>1</td>\n",
       "    </tr>\n",
       "  </tbody>\n",
       "</table>\n",
       "</div>"
      ],
      "text/plain": [
       "            fecha_alta    precio moneda tipo_de_propiedad tipo_de_operacion  \\\n",
       "0  2012-10-22 00:00:00  380000.0    USD       Apartamento             Venta   \n",
       "1  2012-10-22 00:00:00  380000.0    USD       Apartamento             Venta   \n",
       "\n",
       "   habitaciones  ambientes  garages  banos  metros_cuadrados  metros_totales  \\\n",
       "0           1.0        2.0      0.0    1.0             109.0           109.0   \n",
       "1           1.0        2.0      0.0    1.0             109.0           109.0   \n",
       "\n",
       "   antiguedad    barrio                                   idaviso    hit_date  \\\n",
       "0         0.0  Recoleta  8341378d32195b296c3fc21fd3d6b018a3555213         NaN   \n",
       "1         0.0  Recoleta  8341378d32195b296c3fc21fd3d6b018a3555213  2018-11-26   \n",
       "\n",
       "                                  idusuario         contact_date  score  \n",
       "0  30587a436ca27d04c9ab0c4aa49334390c2d4301  2018-11-22 23:13:30      2  \n",
       "1  8fc5ac1bc40297233e3815ee33b95e008f5c7d72                  NaN      1  "
      ]
     },
     "execution_count": 228,
     "metadata": {},
     "output_type": "execute_result"
    }
   ],
   "source": [
    "print(len(ratings))\n",
    "ratings.head(2)"
   ]
  },
  {
   "cell_type": "markdown",
   "metadata": {},
   "source": [
    "Filtramos la matriz de ratings usando sólo los usuarios de leads_per_user"
   ]
  },
  {
   "cell_type": "code",
   "execution_count": 229,
   "metadata": {},
   "outputs": [],
   "source": [
    "ratings = pd.merge(leads_per_user, ratings, how='inner')"
   ]
  },
  {
   "cell_type": "code",
   "execution_count": 230,
   "metadata": {},
   "outputs": [
    {
     "name": "stdout",
     "output_type": "stream",
     "text": [
      "386407\n"
     ]
    },
    {
     "data": {
      "text/html": [
       "<div>\n",
       "<style scoped>\n",
       "    .dataframe tbody tr th:only-of-type {\n",
       "        vertical-align: middle;\n",
       "    }\n",
       "\n",
       "    .dataframe tbody tr th {\n",
       "        vertical-align: top;\n",
       "    }\n",
       "\n",
       "    .dataframe thead th {\n",
       "        text-align: right;\n",
       "    }\n",
       "</style>\n",
       "<table border=\"1\" class=\"dataframe\">\n",
       "  <thead>\n",
       "    <tr style=\"text-align: right;\">\n",
       "      <th></th>\n",
       "      <th>idusuario</th>\n",
       "      <th>leads_user</th>\n",
       "      <th>fecha_alta</th>\n",
       "      <th>precio</th>\n",
       "      <th>moneda</th>\n",
       "      <th>tipo_de_propiedad</th>\n",
       "      <th>tipo_de_operacion</th>\n",
       "      <th>habitaciones</th>\n",
       "      <th>ambientes</th>\n",
       "      <th>garages</th>\n",
       "      <th>banos</th>\n",
       "      <th>metros_cuadrados</th>\n",
       "      <th>metros_totales</th>\n",
       "      <th>antiguedad</th>\n",
       "      <th>barrio</th>\n",
       "      <th>idaviso</th>\n",
       "      <th>hit_date</th>\n",
       "      <th>contact_date</th>\n",
       "      <th>score</th>\n",
       "    </tr>\n",
       "  </thead>\n",
       "  <tbody>\n",
       "    <tr>\n",
       "      <th>0</th>\n",
       "      <td>88c006e4b758fdde74467a38e825a814b478c4f8</td>\n",
       "      <td>99</td>\n",
       "      <td>2015-06-03 00:00:00</td>\n",
       "      <td>150000.0</td>\n",
       "      <td>USD</td>\n",
       "      <td>Apartamento</td>\n",
       "      <td>Venta</td>\n",
       "      <td>0.0</td>\n",
       "      <td>2.0</td>\n",
       "      <td>1.0</td>\n",
       "      <td>1.0</td>\n",
       "      <td>40.0</td>\n",
       "      <td>40.0</td>\n",
       "      <td>49.0</td>\n",
       "      <td>San Isidro</td>\n",
       "      <td>855333f1bf99bb1618c1a65e3d3acdff4fbf1947</td>\n",
       "      <td>2018-10-15</td>\n",
       "      <td>2018-10-12 16:56:13</td>\n",
       "      <td>2</td>\n",
       "    </tr>\n",
       "    <tr>\n",
       "      <th>1</th>\n",
       "      <td>88c006e4b758fdde74467a38e825a814b478c4f8</td>\n",
       "      <td>99</td>\n",
       "      <td>2015-09-07 00:00:00</td>\n",
       "      <td>95000.0</td>\n",
       "      <td>USD</td>\n",
       "      <td>PH</td>\n",
       "      <td>Venta</td>\n",
       "      <td>2.0</td>\n",
       "      <td>0.0</td>\n",
       "      <td>0.0</td>\n",
       "      <td>2.0</td>\n",
       "      <td>75.0</td>\n",
       "      <td>90.0</td>\n",
       "      <td>20.0</td>\n",
       "      <td>San Isidro</td>\n",
       "      <td>b68404cf3b92369a78d8aba402b0fa6efacbb3ec</td>\n",
       "      <td>2018-10-09</td>\n",
       "      <td>NaN</td>\n",
       "      <td>1</td>\n",
       "    </tr>\n",
       "    <tr>\n",
       "      <th>2</th>\n",
       "      <td>88c006e4b758fdde74467a38e825a814b478c4f8</td>\n",
       "      <td>99</td>\n",
       "      <td>2015-11-07 00:00:00</td>\n",
       "      <td>88532.0</td>\n",
       "      <td>USD</td>\n",
       "      <td>Apartamento</td>\n",
       "      <td>Venta</td>\n",
       "      <td>1.0</td>\n",
       "      <td>2.0</td>\n",
       "      <td>1.0</td>\n",
       "      <td>1.0</td>\n",
       "      <td>38.0</td>\n",
       "      <td>42.0</td>\n",
       "      <td>NaN</td>\n",
       "      <td>Tigre</td>\n",
       "      <td>03b9ca4a788f1365721860aa315e3037c4b92888</td>\n",
       "      <td>NaN</td>\n",
       "      <td>2018-09-21 15:23:03</td>\n",
       "      <td>2</td>\n",
       "    </tr>\n",
       "    <tr>\n",
       "      <th>3</th>\n",
       "      <td>88c006e4b758fdde74467a38e825a814b478c4f8</td>\n",
       "      <td>99</td>\n",
       "      <td>2016-01-25 12:15:46</td>\n",
       "      <td>80000.0</td>\n",
       "      <td>USD</td>\n",
       "      <td>Apartamento</td>\n",
       "      <td>Venta</td>\n",
       "      <td>1.0</td>\n",
       "      <td>2.0</td>\n",
       "      <td>0.0</td>\n",
       "      <td>1.0</td>\n",
       "      <td>28.0</td>\n",
       "      <td>31.0</td>\n",
       "      <td>34.0</td>\n",
       "      <td>Vicente López</td>\n",
       "      <td>9207ec6edfe7f5dad6f53e7ea178b81ec318a73a</td>\n",
       "      <td>2018-10-13</td>\n",
       "      <td>2018-10-09 10:44:23</td>\n",
       "      <td>2</td>\n",
       "    </tr>\n",
       "    <tr>\n",
       "      <th>4</th>\n",
       "      <td>88c006e4b758fdde74467a38e825a814b478c4f8</td>\n",
       "      <td>99</td>\n",
       "      <td>2016-06-14 14:10:13</td>\n",
       "      <td>95000.0</td>\n",
       "      <td>USD</td>\n",
       "      <td>Apartamento</td>\n",
       "      <td>Venta</td>\n",
       "      <td>1.0</td>\n",
       "      <td>2.0</td>\n",
       "      <td>0.0</td>\n",
       "      <td>1.0</td>\n",
       "      <td>38.0</td>\n",
       "      <td>38.0</td>\n",
       "      <td>40.0</td>\n",
       "      <td>Nuñez</td>\n",
       "      <td>5dc290859d8748ebe367258c638c9aab1536a1ef</td>\n",
       "      <td>2018-10-15</td>\n",
       "      <td>NaN</td>\n",
       "      <td>1</td>\n",
       "    </tr>\n",
       "  </tbody>\n",
       "</table>\n",
       "</div>"
      ],
      "text/plain": [
       "                                  idusuario  leads_user           fecha_alta  \\\n",
       "0  88c006e4b758fdde74467a38e825a814b478c4f8          99  2015-06-03 00:00:00   \n",
       "1  88c006e4b758fdde74467a38e825a814b478c4f8          99  2015-09-07 00:00:00   \n",
       "2  88c006e4b758fdde74467a38e825a814b478c4f8          99  2015-11-07 00:00:00   \n",
       "3  88c006e4b758fdde74467a38e825a814b478c4f8          99  2016-01-25 12:15:46   \n",
       "4  88c006e4b758fdde74467a38e825a814b478c4f8          99  2016-06-14 14:10:13   \n",
       "\n",
       "     precio moneda tipo_de_propiedad tipo_de_operacion  habitaciones  \\\n",
       "0  150000.0    USD       Apartamento             Venta           0.0   \n",
       "1   95000.0    USD                PH             Venta           2.0   \n",
       "2   88532.0    USD       Apartamento             Venta           1.0   \n",
       "3   80000.0    USD       Apartamento             Venta           1.0   \n",
       "4   95000.0    USD       Apartamento             Venta           1.0   \n",
       "\n",
       "   ambientes  garages  banos  metros_cuadrados  metros_totales  antiguedad  \\\n",
       "0        2.0      1.0    1.0              40.0            40.0        49.0   \n",
       "1        0.0      0.0    2.0              75.0            90.0        20.0   \n",
       "2        2.0      1.0    1.0              38.0            42.0         NaN   \n",
       "3        2.0      0.0    1.0              28.0            31.0        34.0   \n",
       "4        2.0      0.0    1.0              38.0            38.0        40.0   \n",
       "\n",
       "          barrio                                   idaviso    hit_date  \\\n",
       "0     San Isidro  855333f1bf99bb1618c1a65e3d3acdff4fbf1947  2018-10-15   \n",
       "1     San Isidro  b68404cf3b92369a78d8aba402b0fa6efacbb3ec  2018-10-09   \n",
       "2          Tigre  03b9ca4a788f1365721860aa315e3037c4b92888         NaN   \n",
       "3  Vicente López  9207ec6edfe7f5dad6f53e7ea178b81ec318a73a  2018-10-13   \n",
       "4          Nuñez  5dc290859d8748ebe367258c638c9aab1536a1ef  2018-10-15   \n",
       "\n",
       "          contact_date  score  \n",
       "0  2018-10-12 16:56:13      2  \n",
       "1                  NaN      1  \n",
       "2  2018-09-21 15:23:03      2  \n",
       "3  2018-10-09 10:44:23      2  \n",
       "4                  NaN      1  "
      ]
     },
     "execution_count": 230,
     "metadata": {},
     "output_type": "execute_result"
    }
   ],
   "source": [
    "print(len(ratings))\n",
    "ratings.head()"
   ]
  },
  {
   "cell_type": "markdown",
   "metadata": {},
   "source": [
    "### Barrio favorito"
   ]
  },
  {
   "cell_type": "code",
   "execution_count": 231,
   "metadata": {},
   "outputs": [],
   "source": [
    "fav_barrio = ratings[ratings['score']==2].filter(['idusuario', 'barrio']).groupby(['idusuario'], as_index = False).agg(lambda x:x.value_counts().index[0])"
   ]
  },
  {
   "cell_type": "code",
   "execution_count": 232,
   "metadata": {},
   "outputs": [],
   "source": [
    "fav_barrio.columns = ['idusuario', 'fav_barrio']"
   ]
  },
  {
   "cell_type": "code",
   "execution_count": 233,
   "metadata": {},
   "outputs": [
    {
     "data": {
      "text/html": [
       "<div>\n",
       "<style scoped>\n",
       "    .dataframe tbody tr th:only-of-type {\n",
       "        vertical-align: middle;\n",
       "    }\n",
       "\n",
       "    .dataframe tbody tr th {\n",
       "        vertical-align: top;\n",
       "    }\n",
       "\n",
       "    .dataframe thead th {\n",
       "        text-align: right;\n",
       "    }\n",
       "</style>\n",
       "<table border=\"1\" class=\"dataframe\">\n",
       "  <thead>\n",
       "    <tr style=\"text-align: right;\">\n",
       "      <th></th>\n",
       "      <th>idusuario</th>\n",
       "      <th>fav_barrio</th>\n",
       "    </tr>\n",
       "  </thead>\n",
       "  <tbody>\n",
       "    <tr>\n",
       "      <th>0</th>\n",
       "      <td>0003e155940c4c891e70cfeef193a88d322c9105</td>\n",
       "      <td>Villa Crespo</td>\n",
       "    </tr>\n",
       "    <tr>\n",
       "      <th>1</th>\n",
       "      <td>0005a94d35764f5d7d5e9275e343e3bf2d939f2e</td>\n",
       "      <td>Escobar</td>\n",
       "    </tr>\n",
       "    <tr>\n",
       "      <th>2</th>\n",
       "      <td>0005bef2b78d66dbc605afeb4b8d6f3335c963e8</td>\n",
       "      <td>Villa Crespo</td>\n",
       "    </tr>\n",
       "    <tr>\n",
       "      <th>3</th>\n",
       "      <td>000d20d01b01bbcfb8236ebc45b2465a0a0eb171</td>\n",
       "      <td>Retiro</td>\n",
       "    </tr>\n",
       "    <tr>\n",
       "      <th>4</th>\n",
       "      <td>000d85288a293f90e1ee6c0ac0644554a65da5f4</td>\n",
       "      <td>Villa Crespo</td>\n",
       "    </tr>\n",
       "  </tbody>\n",
       "</table>\n",
       "</div>"
      ],
      "text/plain": [
       "                                  idusuario    fav_barrio\n",
       "0  0003e155940c4c891e70cfeef193a88d322c9105  Villa Crespo\n",
       "1  0005a94d35764f5d7d5e9275e343e3bf2d939f2e       Escobar\n",
       "2  0005bef2b78d66dbc605afeb4b8d6f3335c963e8  Villa Crespo\n",
       "3  000d20d01b01bbcfb8236ebc45b2465a0a0eb171        Retiro\n",
       "4  000d85288a293f90e1ee6c0ac0644554a65da5f4  Villa Crespo"
      ]
     },
     "execution_count": 233,
     "metadata": {},
     "output_type": "execute_result"
    }
   ],
   "source": [
    "fav_barrio.head()"
   ]
  },
  {
   "cell_type": "code",
   "execution_count": 234,
   "metadata": {},
   "outputs": [
    {
     "data": {
      "text/plain": [
       "(15769, 16919)"
      ]
     },
     "execution_count": 234,
     "metadata": {},
     "output_type": "execute_result"
    }
   ],
   "source": [
    "len(fav_barrio), len(ratings['idusuario'].unique())"
   ]
  },
  {
   "cell_type": "markdown",
   "metadata": {},
   "source": [
    "Agregamos la información de barrio favorito a la matriz de ratings"
   ]
  },
  {
   "cell_type": "code",
   "execution_count": 235,
   "metadata": {},
   "outputs": [],
   "source": [
    "ratings = pd.merge(ratings, fav_barrio, on = 'idusuario', how = 'outer')"
   ]
  },
  {
   "cell_type": "code",
   "execution_count": 236,
   "metadata": {},
   "outputs": [
    {
     "data": {
      "text/html": [
       "<div>\n",
       "<style scoped>\n",
       "    .dataframe tbody tr th:only-of-type {\n",
       "        vertical-align: middle;\n",
       "    }\n",
       "\n",
       "    .dataframe tbody tr th {\n",
       "        vertical-align: top;\n",
       "    }\n",
       "\n",
       "    .dataframe thead th {\n",
       "        text-align: right;\n",
       "    }\n",
       "</style>\n",
       "<table border=\"1\" class=\"dataframe\">\n",
       "  <thead>\n",
       "    <tr style=\"text-align: right;\">\n",
       "      <th></th>\n",
       "      <th>idusuario</th>\n",
       "      <th>leads_user</th>\n",
       "      <th>fecha_alta</th>\n",
       "      <th>precio</th>\n",
       "      <th>moneda</th>\n",
       "      <th>tipo_de_propiedad</th>\n",
       "      <th>tipo_de_operacion</th>\n",
       "      <th>habitaciones</th>\n",
       "      <th>ambientes</th>\n",
       "      <th>garages</th>\n",
       "      <th>banos</th>\n",
       "      <th>metros_cuadrados</th>\n",
       "      <th>metros_totales</th>\n",
       "      <th>antiguedad</th>\n",
       "      <th>barrio</th>\n",
       "      <th>idaviso</th>\n",
       "      <th>hit_date</th>\n",
       "      <th>contact_date</th>\n",
       "      <th>score</th>\n",
       "      <th>fav_barrio</th>\n",
       "    </tr>\n",
       "  </thead>\n",
       "  <tbody>\n",
       "    <tr>\n",
       "      <th>0</th>\n",
       "      <td>88c006e4b758fdde74467a38e825a814b478c4f8</td>\n",
       "      <td>99</td>\n",
       "      <td>2015-06-03 00:00:00</td>\n",
       "      <td>150000.0</td>\n",
       "      <td>USD</td>\n",
       "      <td>Apartamento</td>\n",
       "      <td>Venta</td>\n",
       "      <td>0.0</td>\n",
       "      <td>2.0</td>\n",
       "      <td>1.0</td>\n",
       "      <td>1.0</td>\n",
       "      <td>40.0</td>\n",
       "      <td>40.0</td>\n",
       "      <td>49.0</td>\n",
       "      <td>San Isidro</td>\n",
       "      <td>855333f1bf99bb1618c1a65e3d3acdff4fbf1947</td>\n",
       "      <td>2018-10-15</td>\n",
       "      <td>2018-10-12 16:56:13</td>\n",
       "      <td>2</td>\n",
       "      <td>Vicente López</td>\n",
       "    </tr>\n",
       "    <tr>\n",
       "      <th>1</th>\n",
       "      <td>88c006e4b758fdde74467a38e825a814b478c4f8</td>\n",
       "      <td>99</td>\n",
       "      <td>2015-09-07 00:00:00</td>\n",
       "      <td>95000.0</td>\n",
       "      <td>USD</td>\n",
       "      <td>PH</td>\n",
       "      <td>Venta</td>\n",
       "      <td>2.0</td>\n",
       "      <td>0.0</td>\n",
       "      <td>0.0</td>\n",
       "      <td>2.0</td>\n",
       "      <td>75.0</td>\n",
       "      <td>90.0</td>\n",
       "      <td>20.0</td>\n",
       "      <td>San Isidro</td>\n",
       "      <td>b68404cf3b92369a78d8aba402b0fa6efacbb3ec</td>\n",
       "      <td>2018-10-09</td>\n",
       "      <td>NaN</td>\n",
       "      <td>1</td>\n",
       "      <td>Vicente López</td>\n",
       "    </tr>\n",
       "    <tr>\n",
       "      <th>2</th>\n",
       "      <td>88c006e4b758fdde74467a38e825a814b478c4f8</td>\n",
       "      <td>99</td>\n",
       "      <td>2015-11-07 00:00:00</td>\n",
       "      <td>88532.0</td>\n",
       "      <td>USD</td>\n",
       "      <td>Apartamento</td>\n",
       "      <td>Venta</td>\n",
       "      <td>1.0</td>\n",
       "      <td>2.0</td>\n",
       "      <td>1.0</td>\n",
       "      <td>1.0</td>\n",
       "      <td>38.0</td>\n",
       "      <td>42.0</td>\n",
       "      <td>NaN</td>\n",
       "      <td>Tigre</td>\n",
       "      <td>03b9ca4a788f1365721860aa315e3037c4b92888</td>\n",
       "      <td>NaN</td>\n",
       "      <td>2018-09-21 15:23:03</td>\n",
       "      <td>2</td>\n",
       "      <td>Vicente López</td>\n",
       "    </tr>\n",
       "    <tr>\n",
       "      <th>3</th>\n",
       "      <td>88c006e4b758fdde74467a38e825a814b478c4f8</td>\n",
       "      <td>99</td>\n",
       "      <td>2016-01-25 12:15:46</td>\n",
       "      <td>80000.0</td>\n",
       "      <td>USD</td>\n",
       "      <td>Apartamento</td>\n",
       "      <td>Venta</td>\n",
       "      <td>1.0</td>\n",
       "      <td>2.0</td>\n",
       "      <td>0.0</td>\n",
       "      <td>1.0</td>\n",
       "      <td>28.0</td>\n",
       "      <td>31.0</td>\n",
       "      <td>34.0</td>\n",
       "      <td>Vicente López</td>\n",
       "      <td>9207ec6edfe7f5dad6f53e7ea178b81ec318a73a</td>\n",
       "      <td>2018-10-13</td>\n",
       "      <td>2018-10-09 10:44:23</td>\n",
       "      <td>2</td>\n",
       "      <td>Vicente López</td>\n",
       "    </tr>\n",
       "    <tr>\n",
       "      <th>4</th>\n",
       "      <td>88c006e4b758fdde74467a38e825a814b478c4f8</td>\n",
       "      <td>99</td>\n",
       "      <td>2016-06-14 14:10:13</td>\n",
       "      <td>95000.0</td>\n",
       "      <td>USD</td>\n",
       "      <td>Apartamento</td>\n",
       "      <td>Venta</td>\n",
       "      <td>1.0</td>\n",
       "      <td>2.0</td>\n",
       "      <td>0.0</td>\n",
       "      <td>1.0</td>\n",
       "      <td>38.0</td>\n",
       "      <td>38.0</td>\n",
       "      <td>40.0</td>\n",
       "      <td>Nuñez</td>\n",
       "      <td>5dc290859d8748ebe367258c638c9aab1536a1ef</td>\n",
       "      <td>2018-10-15</td>\n",
       "      <td>NaN</td>\n",
       "      <td>1</td>\n",
       "      <td>Vicente López</td>\n",
       "    </tr>\n",
       "  </tbody>\n",
       "</table>\n",
       "</div>"
      ],
      "text/plain": [
       "                                  idusuario  leads_user           fecha_alta  \\\n",
       "0  88c006e4b758fdde74467a38e825a814b478c4f8          99  2015-06-03 00:00:00   \n",
       "1  88c006e4b758fdde74467a38e825a814b478c4f8          99  2015-09-07 00:00:00   \n",
       "2  88c006e4b758fdde74467a38e825a814b478c4f8          99  2015-11-07 00:00:00   \n",
       "3  88c006e4b758fdde74467a38e825a814b478c4f8          99  2016-01-25 12:15:46   \n",
       "4  88c006e4b758fdde74467a38e825a814b478c4f8          99  2016-06-14 14:10:13   \n",
       "\n",
       "     precio moneda tipo_de_propiedad tipo_de_operacion  habitaciones  \\\n",
       "0  150000.0    USD       Apartamento             Venta           0.0   \n",
       "1   95000.0    USD                PH             Venta           2.0   \n",
       "2   88532.0    USD       Apartamento             Venta           1.0   \n",
       "3   80000.0    USD       Apartamento             Venta           1.0   \n",
       "4   95000.0    USD       Apartamento             Venta           1.0   \n",
       "\n",
       "   ambientes  garages  banos  metros_cuadrados  metros_totales  antiguedad  \\\n",
       "0        2.0      1.0    1.0              40.0            40.0        49.0   \n",
       "1        0.0      0.0    2.0              75.0            90.0        20.0   \n",
       "2        2.0      1.0    1.0              38.0            42.0         NaN   \n",
       "3        2.0      0.0    1.0              28.0            31.0        34.0   \n",
       "4        2.0      0.0    1.0              38.0            38.0        40.0   \n",
       "\n",
       "          barrio                                   idaviso    hit_date  \\\n",
       "0     San Isidro  855333f1bf99bb1618c1a65e3d3acdff4fbf1947  2018-10-15   \n",
       "1     San Isidro  b68404cf3b92369a78d8aba402b0fa6efacbb3ec  2018-10-09   \n",
       "2          Tigre  03b9ca4a788f1365721860aa315e3037c4b92888         NaN   \n",
       "3  Vicente López  9207ec6edfe7f5dad6f53e7ea178b81ec318a73a  2018-10-13   \n",
       "4          Nuñez  5dc290859d8748ebe367258c638c9aab1536a1ef  2018-10-15   \n",
       "\n",
       "          contact_date  score     fav_barrio  \n",
       "0  2018-10-12 16:56:13      2  Vicente López  \n",
       "1                  NaN      1  Vicente López  \n",
       "2  2018-09-21 15:23:03      2  Vicente López  \n",
       "3  2018-10-09 10:44:23      2  Vicente López  \n",
       "4                  NaN      1  Vicente López  "
      ]
     },
     "execution_count": 236,
     "metadata": {},
     "output_type": "execute_result"
    }
   ],
   "source": [
    "ratings.head()"
   ]
  },
  {
   "cell_type": "code",
   "execution_count": 237,
   "metadata": {},
   "outputs": [],
   "source": [
    "def get_favorite_barrio(df, idusuario, print_error = False):\n",
    "    try:\n",
    "        res = df[df['idusuario']==idusuario].barrio.mode()[0]\n",
    "    except:\n",
    "        try:\n",
    "            res = list(ratings_f[ratings_f['idusuario']==idusuario]['barrio'])[0]\n",
    "        except:\n",
    "            if print_error: print('No favorite for user ', idusuario)\n",
    "            res = None\n",
    "    return res"
   ]
  },
  {
   "cell_type": "code",
   "execution_count": 238,
   "metadata": {},
   "outputs": [
    {
     "data": {
      "text/plain": [
       "'Palermo'"
      ]
     },
     "execution_count": 238,
     "metadata": {},
     "output_type": "execute_result"
    }
   ],
   "source": [
    "list(ratings[ratings['idusuario']=='0be09aa945906c8713d4b5fecac821e1ae71bfff']['fav_barrio'])[0]"
   ]
  },
  {
   "cell_type": "markdown",
   "metadata": {},
   "source": [
    "## Leads por aviso"
   ]
  },
  {
   "cell_type": "code",
   "execution_count": 239,
   "metadata": {},
   "outputs": [],
   "source": [
    "#ratings = ratings.drop_duplicates(['idaviso', 'idusuario'])"
   ]
  },
  {
   "cell_type": "code",
   "execution_count": 240,
   "metadata": {},
   "outputs": [],
   "source": [
    "leads_per_aviso = pd.DataFrame(ratings[ratings['score']==2].idaviso.value_counts())"
   ]
  },
  {
   "cell_type": "code",
   "execution_count": 241,
   "metadata": {},
   "outputs": [],
   "source": [
    "leads_per_aviso['leads_aviso'] = leads_per_aviso['idaviso']\n",
    "leads_per_aviso['idaviso'] = leads_per_aviso.index"
   ]
  },
  {
   "cell_type": "code",
   "execution_count": 242,
   "metadata": {},
   "outputs": [],
   "source": [
    "leads_per_aviso = leads_per_aviso.reset_index(drop=True)"
   ]
  },
  {
   "cell_type": "markdown",
   "metadata": {},
   "source": [
    "#### Filtramos los avisos con pocos leads"
   ]
  },
  {
   "cell_type": "code",
   "execution_count": 243,
   "metadata": {},
   "outputs": [
    {
     "name": "stdout",
     "output_type": "stream",
     "text": [
      "63448\n"
     ]
    },
    {
     "data": {
      "text/html": [
       "<div>\n",
       "<style scoped>\n",
       "    .dataframe tbody tr th:only-of-type {\n",
       "        vertical-align: middle;\n",
       "    }\n",
       "\n",
       "    .dataframe tbody tr th {\n",
       "        vertical-align: top;\n",
       "    }\n",
       "\n",
       "    .dataframe thead th {\n",
       "        text-align: right;\n",
       "    }\n",
       "</style>\n",
       "<table border=\"1\" class=\"dataframe\">\n",
       "  <thead>\n",
       "    <tr style=\"text-align: right;\">\n",
       "      <th></th>\n",
       "      <th>idaviso</th>\n",
       "      <th>leads_aviso</th>\n",
       "    </tr>\n",
       "  </thead>\n",
       "  <tbody>\n",
       "    <tr>\n",
       "      <th>0</th>\n",
       "      <td>32bd9393d46ab99c39e8a111a6cb3dd09349c9df</td>\n",
       "      <td>116</td>\n",
       "    </tr>\n",
       "    <tr>\n",
       "      <th>1</th>\n",
       "      <td>25b02a18b3b7d13631eed1ef3513f6e66f60809d</td>\n",
       "      <td>104</td>\n",
       "    </tr>\n",
       "    <tr>\n",
       "      <th>2</th>\n",
       "      <td>494664577cfd88f8f65c3350b009ba46b69409b2</td>\n",
       "      <td>89</td>\n",
       "    </tr>\n",
       "    <tr>\n",
       "      <th>3</th>\n",
       "      <td>cd175b120211a1b7682b5ac7c755dcef750a123c</td>\n",
       "      <td>84</td>\n",
       "    </tr>\n",
       "    <tr>\n",
       "      <th>4</th>\n",
       "      <td>b3d939372698787e2ec469d09f30898e130f82fd</td>\n",
       "      <td>81</td>\n",
       "    </tr>\n",
       "  </tbody>\n",
       "</table>\n",
       "</div>"
      ],
      "text/plain": [
       "                                    idaviso  leads_aviso\n",
       "0  32bd9393d46ab99c39e8a111a6cb3dd09349c9df          116\n",
       "1  25b02a18b3b7d13631eed1ef3513f6e66f60809d          104\n",
       "2  494664577cfd88f8f65c3350b009ba46b69409b2           89\n",
       "3  cd175b120211a1b7682b5ac7c755dcef750a123c           84\n",
       "4  b3d939372698787e2ec469d09f30898e130f82fd           81"
      ]
     },
     "execution_count": 243,
     "metadata": {},
     "output_type": "execute_result"
    }
   ],
   "source": [
    "print(len(leads_per_aviso))\n",
    "leads_per_aviso.head()"
   ]
  },
  {
   "cell_type": "code",
   "execution_count": 244,
   "metadata": {},
   "outputs": [],
   "source": [
    "leads_per_aviso = leads_per_aviso[(leads_per_aviso['leads_aviso']>=10)]"
   ]
  },
  {
   "cell_type": "code",
   "execution_count": 245,
   "metadata": {},
   "outputs": [
    {
     "data": {
      "text/html": [
       "<div>\n",
       "<style scoped>\n",
       "    .dataframe tbody tr th:only-of-type {\n",
       "        vertical-align: middle;\n",
       "    }\n",
       "\n",
       "    .dataframe tbody tr th {\n",
       "        vertical-align: top;\n",
       "    }\n",
       "\n",
       "    .dataframe thead th {\n",
       "        text-align: right;\n",
       "    }\n",
       "</style>\n",
       "<table border=\"1\" class=\"dataframe\">\n",
       "  <thead>\n",
       "    <tr style=\"text-align: right;\">\n",
       "      <th></th>\n",
       "      <th>idaviso</th>\n",
       "      <th>leads_aviso</th>\n",
       "    </tr>\n",
       "  </thead>\n",
       "  <tbody>\n",
       "    <tr>\n",
       "      <th>0</th>\n",
       "      <td>32bd9393d46ab99c39e8a111a6cb3dd09349c9df</td>\n",
       "      <td>116</td>\n",
       "    </tr>\n",
       "    <tr>\n",
       "      <th>1</th>\n",
       "      <td>25b02a18b3b7d13631eed1ef3513f6e66f60809d</td>\n",
       "      <td>104</td>\n",
       "    </tr>\n",
       "    <tr>\n",
       "      <th>2</th>\n",
       "      <td>494664577cfd88f8f65c3350b009ba46b69409b2</td>\n",
       "      <td>89</td>\n",
       "    </tr>\n",
       "    <tr>\n",
       "      <th>3</th>\n",
       "      <td>cd175b120211a1b7682b5ac7c755dcef750a123c</td>\n",
       "      <td>84</td>\n",
       "    </tr>\n",
       "    <tr>\n",
       "      <th>4</th>\n",
       "      <td>b3d939372698787e2ec469d09f30898e130f82fd</td>\n",
       "      <td>81</td>\n",
       "    </tr>\n",
       "  </tbody>\n",
       "</table>\n",
       "</div>"
      ],
      "text/plain": [
       "                                    idaviso  leads_aviso\n",
       "0  32bd9393d46ab99c39e8a111a6cb3dd09349c9df          116\n",
       "1  25b02a18b3b7d13631eed1ef3513f6e66f60809d          104\n",
       "2  494664577cfd88f8f65c3350b009ba46b69409b2           89\n",
       "3  cd175b120211a1b7682b5ac7c755dcef750a123c           84\n",
       "4  b3d939372698787e2ec469d09f30898e130f82fd           81"
      ]
     },
     "execution_count": 245,
     "metadata": {},
     "output_type": "execute_result"
    }
   ],
   "source": [
    "leads_per_aviso.head()"
   ]
  },
  {
   "cell_type": "code",
   "execution_count": 246,
   "metadata": {},
   "outputs": [
    {
     "data": {
      "text/plain": [
       "2547"
      ]
     },
     "execution_count": 246,
     "metadata": {},
     "output_type": "execute_result"
    }
   ],
   "source": [
    "len(leads_per_aviso)"
   ]
  },
  {
   "cell_type": "markdown",
   "metadata": {},
   "source": [
    "Agrego la información de leads por aviso y filtramos en la matriz de ratings"
   ]
  },
  {
   "cell_type": "code",
   "execution_count": 247,
   "metadata": {},
   "outputs": [],
   "source": [
    "ratings = pd.merge(ratings, leads_per_aviso, on = 'idaviso', how = 'inner')"
   ]
  },
  {
   "cell_type": "code",
   "execution_count": 248,
   "metadata": {},
   "outputs": [
    {
     "data": {
      "text/plain": [
       "(2547, 2547)"
      ]
     },
     "execution_count": 248,
     "metadata": {},
     "output_type": "execute_result"
    }
   ],
   "source": [
    "len(ratings['idaviso'].unique()), len(leads_per_aviso)"
   ]
  },
  {
   "cell_type": "markdown",
   "metadata": {},
   "source": [
    "### Volvemos a filtrar los usuarios con pocos leads"
   ]
  },
  {
   "cell_type": "code",
   "execution_count": 249,
   "metadata": {},
   "outputs": [],
   "source": [
    "filtro2 = pd.DataFrame(ratings[ratings['score']==2].idusuario.value_counts())"
   ]
  },
  {
   "cell_type": "code",
   "execution_count": 250,
   "metadata": {},
   "outputs": [],
   "source": [
    "filtro2 = filtro2.reset_index()\n",
    "filtro2.columns = ['idusuario', 'leads_user']"
   ]
  },
  {
   "cell_type": "code",
   "execution_count": 251,
   "metadata": {},
   "outputs": [
    {
     "data": {
      "text/html": [
       "<div>\n",
       "<style scoped>\n",
       "    .dataframe tbody tr th:only-of-type {\n",
       "        vertical-align: middle;\n",
       "    }\n",
       "\n",
       "    .dataframe tbody tr th {\n",
       "        vertical-align: top;\n",
       "    }\n",
       "\n",
       "    .dataframe thead th {\n",
       "        text-align: right;\n",
       "    }\n",
       "</style>\n",
       "<table border=\"1\" class=\"dataframe\">\n",
       "  <thead>\n",
       "    <tr style=\"text-align: right;\">\n",
       "      <th></th>\n",
       "      <th>idusuario</th>\n",
       "      <th>leads_user</th>\n",
       "    </tr>\n",
       "  </thead>\n",
       "  <tbody>\n",
       "    <tr>\n",
       "      <th>0</th>\n",
       "      <td>e2f85daef7f362715d385b0f5537c5f15d7024f1</td>\n",
       "      <td>46</td>\n",
       "    </tr>\n",
       "    <tr>\n",
       "      <th>1</th>\n",
       "      <td>8509a6e9f4ba7b5da0e4295cd014dd082ec8158d</td>\n",
       "      <td>43</td>\n",
       "    </tr>\n",
       "    <tr>\n",
       "      <th>2</th>\n",
       "      <td>83492229513643e3c4ef94c82e99749003efb288</td>\n",
       "      <td>43</td>\n",
       "    </tr>\n",
       "    <tr>\n",
       "      <th>3</th>\n",
       "      <td>09ccd2b490c429dccae195b7d3973edb81080e94</td>\n",
       "      <td>39</td>\n",
       "    </tr>\n",
       "    <tr>\n",
       "      <th>4</th>\n",
       "      <td>f2e806b7c926334090e5ea91be6ec151b9c66dcb</td>\n",
       "      <td>39</td>\n",
       "    </tr>\n",
       "  </tbody>\n",
       "</table>\n",
       "</div>"
      ],
      "text/plain": [
       "                                  idusuario  leads_user\n",
       "0  e2f85daef7f362715d385b0f5537c5f15d7024f1          46\n",
       "1  8509a6e9f4ba7b5da0e4295cd014dd082ec8158d          43\n",
       "2  83492229513643e3c4ef94c82e99749003efb288          43\n",
       "3  09ccd2b490c429dccae195b7d3973edb81080e94          39\n",
       "4  f2e806b7c926334090e5ea91be6ec151b9c66dcb          39"
      ]
     },
     "execution_count": 251,
     "metadata": {},
     "output_type": "execute_result"
    }
   ],
   "source": [
    "filtro2.head()"
   ]
  },
  {
   "cell_type": "code",
   "execution_count": 252,
   "metadata": {},
   "outputs": [],
   "source": [
    "filtro2 = filtro2[filtro2['leads_user']>=10]"
   ]
  },
  {
   "cell_type": "markdown",
   "metadata": {},
   "source": [
    "Vuelvo a filtrar la matriz de ratings usando estos usuarios"
   ]
  },
  {
   "cell_type": "code",
   "execution_count": 253,
   "metadata": {},
   "outputs": [],
   "source": [
    "ratings = pd.merge(ratings.drop('leads_user', axis = 1), filtro2, how = 'inner', on = 'idusuario')"
   ]
  },
  {
   "cell_type": "code",
   "execution_count": 254,
   "metadata": {},
   "outputs": [
    {
     "data": {
      "text/plain": [
       "20141"
      ]
     },
     "execution_count": 254,
     "metadata": {},
     "output_type": "execute_result"
    }
   ],
   "source": [
    "len(ratings)"
   ]
  },
  {
   "cell_type": "markdown",
   "metadata": {},
   "source": [
    "### Agrego combinaciones falsas y le asigno score 0"
   ]
  },
  {
   "cell_type": "code",
   "execution_count": 255,
   "metadata": {},
   "outputs": [],
   "source": [
    "b = ratings.filter(['idaviso', 'barrio']).drop_duplicates('idaviso')"
   ]
  },
  {
   "cell_type": "code",
   "execution_count": 256,
   "metadata": {},
   "outputs": [
    {
     "name": "stdout",
     "output_type": "stream",
     "text": [
      "2405\n"
     ]
    },
    {
     "data": {
      "text/html": [
       "<div>\n",
       "<style scoped>\n",
       "    .dataframe tbody tr th:only-of-type {\n",
       "        vertical-align: middle;\n",
       "    }\n",
       "\n",
       "    .dataframe tbody tr th {\n",
       "        vertical-align: top;\n",
       "    }\n",
       "\n",
       "    .dataframe thead th {\n",
       "        text-align: right;\n",
       "    }\n",
       "</style>\n",
       "<table border=\"1\" class=\"dataframe\">\n",
       "  <thead>\n",
       "    <tr style=\"text-align: right;\">\n",
       "      <th></th>\n",
       "      <th>idaviso</th>\n",
       "      <th>barrio</th>\n",
       "    </tr>\n",
       "  </thead>\n",
       "  <tbody>\n",
       "    <tr>\n",
       "      <th>0</th>\n",
       "      <td>855333f1bf99bb1618c1a65e3d3acdff4fbf1947</td>\n",
       "      <td>San Isidro</td>\n",
       "    </tr>\n",
       "    <tr>\n",
       "      <th>1</th>\n",
       "      <td>9207ec6edfe7f5dad6f53e7ea178b81ec318a73a</td>\n",
       "      <td>Vicente López</td>\n",
       "    </tr>\n",
       "    <tr>\n",
       "      <th>2</th>\n",
       "      <td>2ea5e9ee868f14e58664363db3b6cc48489a54e8</td>\n",
       "      <td>Villa Urquiza</td>\n",
       "    </tr>\n",
       "    <tr>\n",
       "      <th>3</th>\n",
       "      <td>0065a55829c9cc24c2f040eab23a3d03c092b5d0</td>\n",
       "      <td>Vicente López</td>\n",
       "    </tr>\n",
       "    <tr>\n",
       "      <th>4</th>\n",
       "      <td>9ceec0de18725978367bfabf4d44be0ae4f682ea</td>\n",
       "      <td>Vicente López</td>\n",
       "    </tr>\n",
       "  </tbody>\n",
       "</table>\n",
       "</div>"
      ],
      "text/plain": [
       "                                    idaviso         barrio\n",
       "0  855333f1bf99bb1618c1a65e3d3acdff4fbf1947     San Isidro\n",
       "1  9207ec6edfe7f5dad6f53e7ea178b81ec318a73a  Vicente López\n",
       "2  2ea5e9ee868f14e58664363db3b6cc48489a54e8  Villa Urquiza\n",
       "3  0065a55829c9cc24c2f040eab23a3d03c092b5d0  Vicente López\n",
       "4  9ceec0de18725978367bfabf4d44be0ae4f682ea  Vicente López"
      ]
     },
     "execution_count": 256,
     "metadata": {},
     "output_type": "execute_result"
    }
   ],
   "source": [
    "print(len(b))\n",
    "b.head()"
   ]
  },
  {
   "cell_type": "code",
   "execution_count": 257,
   "metadata": {},
   "outputs": [],
   "source": [
    "leads_per_aviso = pd.merge(leads_per_aviso, b, how = 'inner')"
   ]
  },
  {
   "cell_type": "code",
   "execution_count": 258,
   "metadata": {},
   "outputs": [
    {
     "data": {
      "text/html": [
       "<div>\n",
       "<style scoped>\n",
       "    .dataframe tbody tr th:only-of-type {\n",
       "        vertical-align: middle;\n",
       "    }\n",
       "\n",
       "    .dataframe tbody tr th {\n",
       "        vertical-align: top;\n",
       "    }\n",
       "\n",
       "    .dataframe thead th {\n",
       "        text-align: right;\n",
       "    }\n",
       "</style>\n",
       "<table border=\"1\" class=\"dataframe\">\n",
       "  <thead>\n",
       "    <tr style=\"text-align: right;\">\n",
       "      <th></th>\n",
       "      <th>idaviso</th>\n",
       "      <th>leads_aviso</th>\n",
       "      <th>barrio</th>\n",
       "    </tr>\n",
       "  </thead>\n",
       "  <tbody>\n",
       "  </tbody>\n",
       "</table>\n",
       "</div>"
      ],
      "text/plain": [
       "Empty DataFrame\n",
       "Columns: [idaviso, leads_aviso, barrio]\n",
       "Index: []"
      ]
     },
     "execution_count": 258,
     "metadata": {},
     "output_type": "execute_result"
    }
   ],
   "source": [
    "leads_per_aviso[leads_per_aviso['barrio']=='Ezeiza']"
   ]
  },
  {
   "cell_type": "code",
   "execution_count": 259,
   "metadata": {},
   "outputs": [
    {
     "data": {
      "text/plain": [
       "1017"
      ]
     },
     "execution_count": 259,
     "metadata": {},
     "output_type": "execute_result"
    }
   ],
   "source": [
    "len(ratings['idusuario'].unique())"
   ]
  },
  {
   "cell_type": "code",
   "execution_count": 260,
   "metadata": {
    "scrolled": true
   },
   "outputs": [
    {
     "name": "stdout",
     "output_type": "stream",
     "text": [
      "99.311701081612584\n",
      "Completado!\n"
     ]
    }
   ],
   "source": [
    "df = pd.DataFrame()\n",
    "i = 0\n",
    "users = ratings['idusuario'].unique()\n",
    "cant_users = len(users)\n",
    "for user in users:\n",
    "    i = i+1\n",
    "    #cant_leads = len(ratings[(ratings['idusuario']==user)&(ratings_f['score']==2)])\n",
    "    cant_leads = ratings[ratings['idusuario']==user].iloc[0,:]['leads_user']\n",
    "    a = [user for x in range(cant_leads)]\n",
    "    b = b.sample(frac=1, random_state=seed+i).reset_index(drop=True) #Le aplico un shuffle (el seed va amumentando de a 1 para que no sea el mismo)\n",
    "    #fav_barrio = get_favorite_barrio(df = ratings_f[ratings_f['score']==2], idusuario = user)\n",
    "    fav_barrio = list(ratings[ratings['idusuario']==user]['fav_barrio'])[0]\n",
    "    aux = pd.DataFrame((zip(a, b[b['barrio']!=fav_barrio]['idaviso'])))\n",
    "    df = pd.concat([df, aux])\n",
    "    if (i%10 == 0):\n",
    "        print(i*100/cant_users, end=\"\\r\")\n",
    "print('')\n",
    "print('Completado!')"
   ]
  },
  {
   "cell_type": "code",
   "execution_count": 261,
   "metadata": {},
   "outputs": [],
   "source": [
    "df.columns = ['idusuario', 'idaviso']"
   ]
  },
  {
   "cell_type": "code",
   "execution_count": 262,
   "metadata": {},
   "outputs": [
    {
     "data": {
      "text/plain": [
       "(15209, 15209)"
      ]
     },
     "execution_count": 262,
     "metadata": {},
     "output_type": "execute_result"
    }
   ],
   "source": [
    "len(df), len(ratings[ratings['score']==2])"
   ]
  },
  {
   "cell_type": "code",
   "execution_count": 263,
   "metadata": {},
   "outputs": [
    {
     "data": {
      "text/html": [
       "<div>\n",
       "<style scoped>\n",
       "    .dataframe tbody tr th:only-of-type {\n",
       "        vertical-align: middle;\n",
       "    }\n",
       "\n",
       "    .dataframe tbody tr th {\n",
       "        vertical-align: top;\n",
       "    }\n",
       "\n",
       "    .dataframe thead th {\n",
       "        text-align: right;\n",
       "    }\n",
       "</style>\n",
       "<table border=\"1\" class=\"dataframe\">\n",
       "  <thead>\n",
       "    <tr style=\"text-align: right;\">\n",
       "      <th></th>\n",
       "      <th>idusuario</th>\n",
       "      <th>idaviso</th>\n",
       "    </tr>\n",
       "  </thead>\n",
       "  <tbody>\n",
       "  </tbody>\n",
       "</table>\n",
       "</div>"
      ],
      "text/plain": [
       "Empty DataFrame\n",
       "Columns: [idusuario, idaviso]\n",
       "Index: []"
      ]
     },
     "execution_count": 263,
     "metadata": {},
     "output_type": "execute_result"
    }
   ],
   "source": [
    "df[df['idaviso']=='74ab495e93b88a649f2fc6a2477842b4e91ce77f']"
   ]
  },
  {
   "cell_type": "code",
   "execution_count": 264,
   "metadata": {},
   "outputs": [
    {
     "data": {
      "text/html": [
       "<div>\n",
       "<style scoped>\n",
       "    .dataframe tbody tr th:only-of-type {\n",
       "        vertical-align: middle;\n",
       "    }\n",
       "\n",
       "    .dataframe tbody tr th {\n",
       "        vertical-align: top;\n",
       "    }\n",
       "\n",
       "    .dataframe thead th {\n",
       "        text-align: right;\n",
       "    }\n",
       "</style>\n",
       "<table border=\"1\" class=\"dataframe\">\n",
       "  <thead>\n",
       "    <tr style=\"text-align: right;\">\n",
       "      <th></th>\n",
       "      <th>idusuario</th>\n",
       "      <th>fecha_alta</th>\n",
       "      <th>precio</th>\n",
       "      <th>moneda</th>\n",
       "      <th>tipo_de_propiedad</th>\n",
       "      <th>tipo_de_operacion</th>\n",
       "      <th>habitaciones</th>\n",
       "      <th>ambientes</th>\n",
       "      <th>garages</th>\n",
       "      <th>banos</th>\n",
       "      <th>...</th>\n",
       "      <th>metros_totales</th>\n",
       "      <th>antiguedad</th>\n",
       "      <th>barrio</th>\n",
       "      <th>idaviso</th>\n",
       "      <th>hit_date</th>\n",
       "      <th>contact_date</th>\n",
       "      <th>score</th>\n",
       "      <th>fav_barrio</th>\n",
       "      <th>leads_aviso</th>\n",
       "      <th>leads_user</th>\n",
       "    </tr>\n",
       "  </thead>\n",
       "  <tbody>\n",
       "  </tbody>\n",
       "</table>\n",
       "<p>0 rows × 21 columns</p>\n",
       "</div>"
      ],
      "text/plain": [
       "Empty DataFrame\n",
       "Columns: [idusuario, fecha_alta, precio, moneda, tipo_de_propiedad, tipo_de_operacion, habitaciones, ambientes, garages, banos, metros_cuadrados, metros_totales, antiguedad, barrio, idaviso, hit_date, contact_date, score, fav_barrio, leads_aviso, leads_user]\n",
       "Index: []\n",
       "\n",
       "[0 rows x 21 columns]"
      ]
     },
     "execution_count": 264,
     "metadata": {},
     "output_type": "execute_result"
    }
   ],
   "source": [
    "ratings[ratings['idaviso']=='74ab495e93b88a649f2fc6a2477842b4e91ce77f']"
   ]
  },
  {
   "cell_type": "code",
   "execution_count": 265,
   "metadata": {},
   "outputs": [
    {
     "name": "stdout",
     "output_type": "stream",
     "text": [
      "15209\n"
     ]
    }
   ],
   "source": [
    "false_ratings = pd.merge(df, items_feat, how = 'inner', on='idaviso')\n",
    "\n",
    "false_ratings.drop_duplicates(['idusuario', 'idaviso'], inplace=True)\n",
    "print(len(false_ratings))"
   ]
  },
  {
   "cell_type": "code",
   "execution_count": 266,
   "metadata": {},
   "outputs": [
    {
     "data": {
      "text/html": [
       "<div>\n",
       "<style scoped>\n",
       "    .dataframe tbody tr th:only-of-type {\n",
       "        vertical-align: middle;\n",
       "    }\n",
       "\n",
       "    .dataframe tbody tr th {\n",
       "        vertical-align: top;\n",
       "    }\n",
       "\n",
       "    .dataframe thead th {\n",
       "        text-align: right;\n",
       "    }\n",
       "</style>\n",
       "<table border=\"1\" class=\"dataframe\">\n",
       "  <thead>\n",
       "    <tr style=\"text-align: right;\">\n",
       "      <th></th>\n",
       "      <th>idusuario</th>\n",
       "      <th>idaviso</th>\n",
       "      <th>fecha_alta</th>\n",
       "      <th>precio</th>\n",
       "      <th>moneda</th>\n",
       "      <th>tipo_de_propiedad</th>\n",
       "      <th>tipo_de_operacion</th>\n",
       "      <th>habitaciones</th>\n",
       "      <th>ambientes</th>\n",
       "      <th>garages</th>\n",
       "      <th>banos</th>\n",
       "      <th>metros_cuadrados</th>\n",
       "      <th>metros_totales</th>\n",
       "      <th>antiguedad</th>\n",
       "      <th>barrio</th>\n",
       "    </tr>\n",
       "  </thead>\n",
       "  <tbody>\n",
       "  </tbody>\n",
       "</table>\n",
       "</div>"
      ],
      "text/plain": [
       "Empty DataFrame\n",
       "Columns: [idusuario, idaviso, fecha_alta, precio, moneda, tipo_de_propiedad, tipo_de_operacion, habitaciones, ambientes, garages, banos, metros_cuadrados, metros_totales, antiguedad, barrio]\n",
       "Index: []"
      ]
     },
     "execution_count": 266,
     "metadata": {},
     "output_type": "execute_result"
    }
   ],
   "source": [
    "false_ratings[false_ratings['idaviso']=='74ab495e93b88a649f2fc6a2477842b4e91ce77f']"
   ]
  },
  {
   "cell_type": "code",
   "execution_count": 267,
   "metadata": {},
   "outputs": [
    {
     "name": "stdout",
     "output_type": "stream",
     "text": [
      "15209\n"
     ]
    },
    {
     "data": {
      "text/html": [
       "<div>\n",
       "<style scoped>\n",
       "    .dataframe tbody tr th:only-of-type {\n",
       "        vertical-align: middle;\n",
       "    }\n",
       "\n",
       "    .dataframe tbody tr th {\n",
       "        vertical-align: top;\n",
       "    }\n",
       "\n",
       "    .dataframe thead th {\n",
       "        text-align: right;\n",
       "    }\n",
       "</style>\n",
       "<table border=\"1\" class=\"dataframe\">\n",
       "  <thead>\n",
       "    <tr style=\"text-align: right;\">\n",
       "      <th></th>\n",
       "      <th>idusuario</th>\n",
       "      <th>idaviso</th>\n",
       "      <th>fecha_alta</th>\n",
       "      <th>precio</th>\n",
       "      <th>moneda</th>\n",
       "      <th>tipo_de_propiedad</th>\n",
       "      <th>tipo_de_operacion</th>\n",
       "      <th>habitaciones</th>\n",
       "      <th>ambientes</th>\n",
       "      <th>garages</th>\n",
       "      <th>banos</th>\n",
       "      <th>metros_cuadrados</th>\n",
       "      <th>metros_totales</th>\n",
       "      <th>antiguedad</th>\n",
       "      <th>barrio</th>\n",
       "      <th>leads_user</th>\n",
       "    </tr>\n",
       "  </thead>\n",
       "  <tbody>\n",
       "    <tr>\n",
       "      <th>0</th>\n",
       "      <td>e9303a50257d09880a96753b0d897f1f2c34010b</td>\n",
       "      <td>c9a645ec7ec68e89ad05de39b93e75d9b4bb882b</td>\n",
       "      <td>2018-06-13 11:22:06</td>\n",
       "      <td>299900.0</td>\n",
       "      <td>USD</td>\n",
       "      <td>PH</td>\n",
       "      <td>Venta</td>\n",
       "      <td>4.0</td>\n",
       "      <td>5.0</td>\n",
       "      <td>0.0</td>\n",
       "      <td>2.0</td>\n",
       "      <td>137.0</td>\n",
       "      <td>137.0</td>\n",
       "      <td>40.0</td>\n",
       "      <td>Palermo</td>\n",
       "      <td>58</td>\n",
       "    </tr>\n",
       "    <tr>\n",
       "      <th>1</th>\n",
       "      <td>e9303a50257d09880a96753b0d897f1f2c34010b</td>\n",
       "      <td>c7ddc0ea9fa2fc081a1078a3e14a9bb91b108000</td>\n",
       "      <td>2018-01-02 13:33:58</td>\n",
       "      <td>140000.0</td>\n",
       "      <td>USD</td>\n",
       "      <td>Apartamento</td>\n",
       "      <td>Venta</td>\n",
       "      <td>1.0</td>\n",
       "      <td>2.0</td>\n",
       "      <td>0.0</td>\n",
       "      <td>1.0</td>\n",
       "      <td>34.0</td>\n",
       "      <td>40.0</td>\n",
       "      <td>10.0</td>\n",
       "      <td>Belgrano</td>\n",
       "      <td>58</td>\n",
       "    </tr>\n",
       "    <tr>\n",
       "      <th>2</th>\n",
       "      <td>e9303a50257d09880a96753b0d897f1f2c34010b</td>\n",
       "      <td>f4bdbf92c785c65c00d70edbfddf4051cce25742</td>\n",
       "      <td>2018-07-17 14:03:32</td>\n",
       "      <td>54900.0</td>\n",
       "      <td>USD</td>\n",
       "      <td>Apartamento</td>\n",
       "      <td>Venta</td>\n",
       "      <td>NaN</td>\n",
       "      <td>1.0</td>\n",
       "      <td>NaN</td>\n",
       "      <td>1.0</td>\n",
       "      <td>25.0</td>\n",
       "      <td>25.0</td>\n",
       "      <td>35.0</td>\n",
       "      <td>Congreso</td>\n",
       "      <td>58</td>\n",
       "    </tr>\n",
       "    <tr>\n",
       "      <th>3</th>\n",
       "      <td>e9303a50257d09880a96753b0d897f1f2c34010b</td>\n",
       "      <td>fe49a38a780f1973ba26816c238ebdeae092223b</td>\n",
       "      <td>2018-07-31 10:53:09</td>\n",
       "      <td>165000.0</td>\n",
       "      <td>USD</td>\n",
       "      <td>PH</td>\n",
       "      <td>Venta</td>\n",
       "      <td>1.0</td>\n",
       "      <td>2.0</td>\n",
       "      <td>0.0</td>\n",
       "      <td>1.0</td>\n",
       "      <td>55.0</td>\n",
       "      <td>55.0</td>\n",
       "      <td>75.0</td>\n",
       "      <td>Palermo</td>\n",
       "      <td>58</td>\n",
       "    </tr>\n",
       "    <tr>\n",
       "      <th>4</th>\n",
       "      <td>e9303a50257d09880a96753b0d897f1f2c34010b</td>\n",
       "      <td>3808b8ae52e5842a000e6c8726d7a5d804a53c5e</td>\n",
       "      <td>2018-10-08 14:48:46</td>\n",
       "      <td>310000.0</td>\n",
       "      <td>USD</td>\n",
       "      <td>Apartamento</td>\n",
       "      <td>Venta</td>\n",
       "      <td>2.0</td>\n",
       "      <td>4.0</td>\n",
       "      <td>0.0</td>\n",
       "      <td>1.0</td>\n",
       "      <td>122.0</td>\n",
       "      <td>122.0</td>\n",
       "      <td>60.0</td>\n",
       "      <td>Barrio Norte</td>\n",
       "      <td>58</td>\n",
       "    </tr>\n",
       "  </tbody>\n",
       "</table>\n",
       "</div>"
      ],
      "text/plain": [
       "                                  idusuario  \\\n",
       "0  e9303a50257d09880a96753b0d897f1f2c34010b   \n",
       "1  e9303a50257d09880a96753b0d897f1f2c34010b   \n",
       "2  e9303a50257d09880a96753b0d897f1f2c34010b   \n",
       "3  e9303a50257d09880a96753b0d897f1f2c34010b   \n",
       "4  e9303a50257d09880a96753b0d897f1f2c34010b   \n",
       "\n",
       "                                    idaviso           fecha_alta    precio  \\\n",
       "0  c9a645ec7ec68e89ad05de39b93e75d9b4bb882b  2018-06-13 11:22:06  299900.0   \n",
       "1  c7ddc0ea9fa2fc081a1078a3e14a9bb91b108000  2018-01-02 13:33:58  140000.0   \n",
       "2  f4bdbf92c785c65c00d70edbfddf4051cce25742  2018-07-17 14:03:32   54900.0   \n",
       "3  fe49a38a780f1973ba26816c238ebdeae092223b  2018-07-31 10:53:09  165000.0   \n",
       "4  3808b8ae52e5842a000e6c8726d7a5d804a53c5e  2018-10-08 14:48:46  310000.0   \n",
       "\n",
       "  moneda tipo_de_propiedad tipo_de_operacion  habitaciones  ambientes  \\\n",
       "0    USD                PH             Venta           4.0        5.0   \n",
       "1    USD       Apartamento             Venta           1.0        2.0   \n",
       "2    USD       Apartamento             Venta           NaN        1.0   \n",
       "3    USD                PH             Venta           1.0        2.0   \n",
       "4    USD       Apartamento             Venta           2.0        4.0   \n",
       "\n",
       "   garages  banos  metros_cuadrados  metros_totales  antiguedad        barrio  \\\n",
       "0      0.0    2.0             137.0           137.0        40.0       Palermo   \n",
       "1      0.0    1.0              34.0            40.0        10.0      Belgrano   \n",
       "2      NaN    1.0              25.0            25.0        35.0      Congreso   \n",
       "3      0.0    1.0              55.0            55.0        75.0       Palermo   \n",
       "4      0.0    1.0             122.0           122.0        60.0  Barrio Norte   \n",
       "\n",
       "   leads_user  \n",
       "0          58  \n",
       "1          58  \n",
       "2          58  \n",
       "3          58  \n",
       "4          58  "
      ]
     },
     "execution_count": 267,
     "metadata": {},
     "output_type": "execute_result"
    }
   ],
   "source": [
    "false_ratings = pd.merge(false_ratings, leads_per_user, on = 'idusuario', how = 'inner')\n",
    "\n",
    "print(len(false_ratings))\n",
    "false_ratings.head()"
   ]
  },
  {
   "cell_type": "code",
   "execution_count": 268,
   "metadata": {},
   "outputs": [
    {
     "name": "stdout",
     "output_type": "stream",
     "text": [
      "15209\n"
     ]
    },
    {
     "data": {
      "text/html": [
       "<div>\n",
       "<style scoped>\n",
       "    .dataframe tbody tr th:only-of-type {\n",
       "        vertical-align: middle;\n",
       "    }\n",
       "\n",
       "    .dataframe tbody tr th {\n",
       "        vertical-align: top;\n",
       "    }\n",
       "\n",
       "    .dataframe thead th {\n",
       "        text-align: right;\n",
       "    }\n",
       "</style>\n",
       "<table border=\"1\" class=\"dataframe\">\n",
       "  <thead>\n",
       "    <tr style=\"text-align: right;\">\n",
       "      <th></th>\n",
       "      <th>idusuario</th>\n",
       "      <th>idaviso</th>\n",
       "      <th>fecha_alta</th>\n",
       "      <th>precio</th>\n",
       "      <th>moneda</th>\n",
       "      <th>tipo_de_propiedad</th>\n",
       "      <th>tipo_de_operacion</th>\n",
       "      <th>habitaciones</th>\n",
       "      <th>ambientes</th>\n",
       "      <th>garages</th>\n",
       "      <th>banos</th>\n",
       "      <th>metros_cuadrados</th>\n",
       "      <th>metros_totales</th>\n",
       "      <th>antiguedad</th>\n",
       "      <th>barrio</th>\n",
       "      <th>leads_user</th>\n",
       "    </tr>\n",
       "  </thead>\n",
       "  <tbody>\n",
       "    <tr>\n",
       "      <th>0</th>\n",
       "      <td>e9303a50257d09880a96753b0d897f1f2c34010b</td>\n",
       "      <td>c9a645ec7ec68e89ad05de39b93e75d9b4bb882b</td>\n",
       "      <td>2018-06-13 11:22:06</td>\n",
       "      <td>299900.0</td>\n",
       "      <td>USD</td>\n",
       "      <td>PH</td>\n",
       "      <td>Venta</td>\n",
       "      <td>4.0</td>\n",
       "      <td>5.0</td>\n",
       "      <td>0.0</td>\n",
       "      <td>2.0</td>\n",
       "      <td>137.0</td>\n",
       "      <td>137.0</td>\n",
       "      <td>40.0</td>\n",
       "      <td>Palermo</td>\n",
       "      <td>58</td>\n",
       "    </tr>\n",
       "    <tr>\n",
       "      <th>1</th>\n",
       "      <td>2b4fed04a1e54028a1595c7b9d1c5c6c86b9eb56</td>\n",
       "      <td>c9a645ec7ec68e89ad05de39b93e75d9b4bb882b</td>\n",
       "      <td>2018-06-13 11:22:06</td>\n",
       "      <td>299900.0</td>\n",
       "      <td>USD</td>\n",
       "      <td>PH</td>\n",
       "      <td>Venta</td>\n",
       "      <td>4.0</td>\n",
       "      <td>5.0</td>\n",
       "      <td>0.0</td>\n",
       "      <td>2.0</td>\n",
       "      <td>137.0</td>\n",
       "      <td>137.0</td>\n",
       "      <td>40.0</td>\n",
       "      <td>Palermo</td>\n",
       "      <td>43</td>\n",
       "    </tr>\n",
       "    <tr>\n",
       "      <th>2</th>\n",
       "      <td>f81b9b1856fd06416b05e2023533235b71b455dd</td>\n",
       "      <td>c9a645ec7ec68e89ad05de39b93e75d9b4bb882b</td>\n",
       "      <td>2018-06-13 11:22:06</td>\n",
       "      <td>299900.0</td>\n",
       "      <td>USD</td>\n",
       "      <td>PH</td>\n",
       "      <td>Venta</td>\n",
       "      <td>4.0</td>\n",
       "      <td>5.0</td>\n",
       "      <td>0.0</td>\n",
       "      <td>2.0</td>\n",
       "      <td>137.0</td>\n",
       "      <td>137.0</td>\n",
       "      <td>40.0</td>\n",
       "      <td>Palermo</td>\n",
       "      <td>44</td>\n",
       "    </tr>\n",
       "    <tr>\n",
       "      <th>3</th>\n",
       "      <td>e4afbbc47fbe55bf66cc273e7225311824c67c96</td>\n",
       "      <td>c9a645ec7ec68e89ad05de39b93e75d9b4bb882b</td>\n",
       "      <td>2018-06-13 11:22:06</td>\n",
       "      <td>299900.0</td>\n",
       "      <td>USD</td>\n",
       "      <td>PH</td>\n",
       "      <td>Venta</td>\n",
       "      <td>4.0</td>\n",
       "      <td>5.0</td>\n",
       "      <td>0.0</td>\n",
       "      <td>2.0</td>\n",
       "      <td>137.0</td>\n",
       "      <td>137.0</td>\n",
       "      <td>40.0</td>\n",
       "      <td>Palermo</td>\n",
       "      <td>33</td>\n",
       "    </tr>\n",
       "    <tr>\n",
       "      <th>4</th>\n",
       "      <td>2bf45a6f87ce788de17f2f351dec8581f1812295</td>\n",
       "      <td>c9a645ec7ec68e89ad05de39b93e75d9b4bb882b</td>\n",
       "      <td>2018-06-13 11:22:06</td>\n",
       "      <td>299900.0</td>\n",
       "      <td>USD</td>\n",
       "      <td>PH</td>\n",
       "      <td>Venta</td>\n",
       "      <td>4.0</td>\n",
       "      <td>5.0</td>\n",
       "      <td>0.0</td>\n",
       "      <td>2.0</td>\n",
       "      <td>137.0</td>\n",
       "      <td>137.0</td>\n",
       "      <td>40.0</td>\n",
       "      <td>Palermo</td>\n",
       "      <td>76</td>\n",
       "    </tr>\n",
       "  </tbody>\n",
       "</table>\n",
       "</div>"
      ],
      "text/plain": [
       "                                  idusuario  \\\n",
       "0  e9303a50257d09880a96753b0d897f1f2c34010b   \n",
       "1  2b4fed04a1e54028a1595c7b9d1c5c6c86b9eb56   \n",
       "2  f81b9b1856fd06416b05e2023533235b71b455dd   \n",
       "3  e4afbbc47fbe55bf66cc273e7225311824c67c96   \n",
       "4  2bf45a6f87ce788de17f2f351dec8581f1812295   \n",
       "\n",
       "                                    idaviso           fecha_alta    precio  \\\n",
       "0  c9a645ec7ec68e89ad05de39b93e75d9b4bb882b  2018-06-13 11:22:06  299900.0   \n",
       "1  c9a645ec7ec68e89ad05de39b93e75d9b4bb882b  2018-06-13 11:22:06  299900.0   \n",
       "2  c9a645ec7ec68e89ad05de39b93e75d9b4bb882b  2018-06-13 11:22:06  299900.0   \n",
       "3  c9a645ec7ec68e89ad05de39b93e75d9b4bb882b  2018-06-13 11:22:06  299900.0   \n",
       "4  c9a645ec7ec68e89ad05de39b93e75d9b4bb882b  2018-06-13 11:22:06  299900.0   \n",
       "\n",
       "  moneda tipo_de_propiedad tipo_de_operacion  habitaciones  ambientes  \\\n",
       "0    USD                PH             Venta           4.0        5.0   \n",
       "1    USD                PH             Venta           4.0        5.0   \n",
       "2    USD                PH             Venta           4.0        5.0   \n",
       "3    USD                PH             Venta           4.0        5.0   \n",
       "4    USD                PH             Venta           4.0        5.0   \n",
       "\n",
       "   garages  banos  metros_cuadrados  metros_totales  antiguedad   barrio  \\\n",
       "0      0.0    2.0             137.0           137.0        40.0  Palermo   \n",
       "1      0.0    2.0             137.0           137.0        40.0  Palermo   \n",
       "2      0.0    2.0             137.0           137.0        40.0  Palermo   \n",
       "3      0.0    2.0             137.0           137.0        40.0  Palermo   \n",
       "4      0.0    2.0             137.0           137.0        40.0  Palermo   \n",
       "\n",
       "   leads_user  \n",
       "0          58  \n",
       "1          43  \n",
       "2          44  \n",
       "3          33  \n",
       "4          76  "
      ]
     },
     "execution_count": 268,
     "metadata": {},
     "output_type": "execute_result"
    }
   ],
   "source": [
    "false_ratings = pd.merge(false_ratings, leads_per_aviso.drop(['barrio', 'leads_aviso'], axis = 1), on = 'idaviso', how = 'inner')\n",
    "\n",
    "print(len(false_ratings))\n",
    "false_ratings.head()"
   ]
  },
  {
   "cell_type": "markdown",
   "metadata": {},
   "source": [
    "Agrego las columnas que faltan para que sea igual a ratings y le pongo el score en 0\n"
   ]
  },
  {
   "cell_type": "code",
   "execution_count": 269,
   "metadata": {},
   "outputs": [],
   "source": [
    "for i in ratings.columns:\n",
    "    if not(i in list(false_ratings.columns)):\n",
    "        false_ratings[i] = np.nan\n",
    "false_ratings['score'] = 0"
   ]
  },
  {
   "cell_type": "markdown",
   "metadata": {},
   "source": [
    "Tienen las mismas columnas"
   ]
  },
  {
   "cell_type": "code",
   "execution_count": 270,
   "metadata": {},
   "outputs": [],
   "source": [
    "assert(set(false_ratings.columns) == set(ratings.columns))"
   ]
  },
  {
   "cell_type": "markdown",
   "metadata": {},
   "source": [
    "Y ordenamos las columnas igual"
   ]
  },
  {
   "cell_type": "code",
   "execution_count": 271,
   "metadata": {},
   "outputs": [],
   "source": [
    "false_ratings = false_ratings.filter(list(ratings.columns))\n",
    "\n",
    "ratings_with_falses = pd.concat([ratings, false_ratings])"
   ]
  },
  {
   "cell_type": "code",
   "execution_count": 272,
   "metadata": {},
   "outputs": [
    {
     "data": {
      "text/html": [
       "<div>\n",
       "<style scoped>\n",
       "    .dataframe tbody tr th:only-of-type {\n",
       "        vertical-align: middle;\n",
       "    }\n",
       "\n",
       "    .dataframe tbody tr th {\n",
       "        vertical-align: top;\n",
       "    }\n",
       "\n",
       "    .dataframe thead th {\n",
       "        text-align: right;\n",
       "    }\n",
       "</style>\n",
       "<table border=\"1\" class=\"dataframe\">\n",
       "  <thead>\n",
       "    <tr style=\"text-align: right;\">\n",
       "      <th></th>\n",
       "      <th>idusuario</th>\n",
       "      <th>fecha_alta</th>\n",
       "      <th>precio</th>\n",
       "      <th>moneda</th>\n",
       "      <th>tipo_de_propiedad</th>\n",
       "      <th>tipo_de_operacion</th>\n",
       "      <th>habitaciones</th>\n",
       "      <th>ambientes</th>\n",
       "      <th>garages</th>\n",
       "      <th>banos</th>\n",
       "      <th>...</th>\n",
       "      <th>metros_totales</th>\n",
       "      <th>antiguedad</th>\n",
       "      <th>barrio</th>\n",
       "      <th>idaviso</th>\n",
       "      <th>hit_date</th>\n",
       "      <th>contact_date</th>\n",
       "      <th>score</th>\n",
       "      <th>fav_barrio</th>\n",
       "      <th>leads_aviso</th>\n",
       "      <th>leads_user</th>\n",
       "    </tr>\n",
       "  </thead>\n",
       "  <tbody>\n",
       "  </tbody>\n",
       "</table>\n",
       "<p>0 rows × 21 columns</p>\n",
       "</div>"
      ],
      "text/plain": [
       "Empty DataFrame\n",
       "Columns: [idusuario, fecha_alta, precio, moneda, tipo_de_propiedad, tipo_de_operacion, habitaciones, ambientes, garages, banos, metros_cuadrados, metros_totales, antiguedad, barrio, idaviso, hit_date, contact_date, score, fav_barrio, leads_aviso, leads_user]\n",
       "Index: []\n",
       "\n",
       "[0 rows x 21 columns]"
      ]
     },
     "execution_count": 272,
     "metadata": {},
     "output_type": "execute_result"
    }
   ],
   "source": [
    "ratings_with_falses[ratings_with_falses['idaviso']=='74ab495e93b88a649f2fc6a2477842b4e91ce77f']"
   ]
  },
  {
   "cell_type": "code",
   "execution_count": 273,
   "metadata": {},
   "outputs": [
    {
     "data": {
      "text/plain": [
       "(20141, 35350)"
      ]
     },
     "execution_count": 273,
     "metadata": {},
     "output_type": "execute_result"
    }
   ],
   "source": [
    "len(ratings), len(ratings_with_falses)"
   ]
  },
  {
   "cell_type": "code",
   "execution_count": 274,
   "metadata": {},
   "outputs": [],
   "source": [
    "ratings_with_falses = ratings_with_falses.sort_values(['idaviso', 'idusuario', 'score'], ascending=[True, True, False])"
   ]
  },
  {
   "cell_type": "code",
   "execution_count": 275,
   "metadata": {},
   "outputs": [],
   "source": [
    "ratings_with_falses = ratings_with_falses.drop_duplicates(subset=['idaviso', 'idusuario'])"
   ]
  },
  {
   "cell_type": "markdown",
   "metadata": {},
   "source": [
    "QUé pasa acá!?!?!"
   ]
  },
  {
   "cell_type": "code",
   "execution_count": 276,
   "metadata": {},
   "outputs": [],
   "source": [
    "#ratings_with_falses.reset_index(drop=True, inplace=True)"
   ]
  },
  {
   "cell_type": "code",
   "execution_count": 277,
   "metadata": {},
   "outputs": [
    {
     "data": {
      "text/plain": [
       "(20141, 35235)"
      ]
     },
     "execution_count": 277,
     "metadata": {},
     "output_type": "execute_result"
    }
   ],
   "source": [
    "len(ratings), len(ratings_with_falses)"
   ]
  },
  {
   "cell_type": "markdown",
   "metadata": {},
   "source": [
    "### Filtramos NaNs"
   ]
  },
  {
   "cell_type": "markdown",
   "metadata": {},
   "source": [
    "Filtramos los casos que no tienen datos en \"metros_cuadrados\" o en \"precio\" y nos quedamos sólo con las \"Ventas\""
   ]
  },
  {
   "cell_type": "code",
   "execution_count": 278,
   "metadata": {},
   "outputs": [],
   "source": [
    "ratings_with_falses = ratings_with_falses[ratings_with_falses['metros_cuadrados'].notna()]\n",
    "ratings_with_falses = ratings_with_falses[ratings_with_falses['precio'].notna()]\n",
    "ratings_with_falses = ratings_with_falses[ratings_with_falses['tipo_de_operacion']=='Venta']"
   ]
  },
  {
   "cell_type": "code",
   "execution_count": 279,
   "metadata": {},
   "outputs": [
    {
     "data": {
      "text/plain": [
       "(20141, 35235)"
      ]
     },
     "execution_count": 279,
     "metadata": {},
     "output_type": "execute_result"
    }
   ],
   "source": [
    "len(ratings), len(ratings_with_falses)"
   ]
  },
  {
   "cell_type": "code",
   "execution_count": 280,
   "metadata": {},
   "outputs": [
    {
     "data": {
      "image/png": "[encoded data removed]",
      "text/plain": [
       "<Figure size 432x288 with 1 Axes>"
      ]
     },
     "metadata": {},
     "output_type": "display_data"
    }
   ],
   "source": [
    "fig = plt.figure()\n",
    "ax = fig.add_axes([0,0,1,1])\n",
    "ax.axis('equal')\n",
    "Label = ['Leads', 'Hits', 'Falses']\n",
    "clients = [len(ratings_with_falses[ratings_with_falses['score']==2]), \n",
    "           len(ratings_with_falses[ratings_with_falses['score']==1]),\n",
    "           len(ratings_with_falses[ratings_with_falses['score']==0])]\n",
    "ax.pie(clients, labels = Label,autopct='%1.2f%%')\n",
    "#plt.title(, fontweight=\"bold\")\n",
    "plt.show()"
   ]
  },
  {
   "cell_type": "code",
   "execution_count": 281,
   "metadata": {},
   "outputs": [
    {
     "data": {
      "text/plain": [
       "array([0, 2, 1])"
      ]
     },
     "execution_count": 281,
     "metadata": {},
     "output_type": "execute_result"
    }
   ],
   "source": [
    "ratings_with_falses['score'].unique()"
   ]
  },
  {
   "cell_type": "markdown",
   "metadata": {},
   "source": [
    "### Grabamos el nuevo csv"
   ]
  },
  {
   "cell_type": "code",
   "execution_count": 282,
   "metadata": {},
   "outputs": [],
   "source": [
    "path = '/home/fvadell/ml-tests/labs-ml-group/maestria-2019'"
   ]
  },
  {
   "cell_type": "code",
   "execution_count": 283,
   "metadata": {},
   "outputs": [],
   "source": [
    "ratings_with_falses.to_csv(path_or_buf=path+'/ratings_with_falses_filtered.csv', index=False)"
   ]
  }
 ],
 "metadata": {
  "kernelspec": {
   "display_name": "Python 3",
   "language": "python",
   "name": "python3"
  },
  "language_info": {
   "codemirror_mode": {
    "name": "ipython",
    "version": 3
   },
   "file_extension": ".py",
   "mimetype": "text/x-python",
   "name": "python",
   "nbconvert_exporter": "python",
   "pygments_lexer": "ipython3",
   "version": "3.7.3"
  }
 },
 "nbformat": 4,
 "nbformat_minor": 2
}
