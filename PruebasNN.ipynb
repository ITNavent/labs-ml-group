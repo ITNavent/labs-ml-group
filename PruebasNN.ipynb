{
 "cells": [
  {
   "cell_type": "code",
   "execution_count": 2,
   "metadata": {},
   "outputs": [],
   "source": [
    "%reload_ext autoreload\n",
    "%autoreload 2\n",
    "%matplotlib inline"
   ]
  },
  {
   "cell_type": "code",
   "execution_count": 440,
   "metadata": {},
   "outputs": [],
   "source": [
    "from fastai import *\n",
    "from fastai.collab import *\n",
    "from fastai.tabular import *\n",
    "\n",
    "import seaborn as sns"
   ]
  },
  {
   "cell_type": "markdown",
   "metadata": {},
   "source": [
    "Fijo los random seeds"
   ]
  },
  {
   "cell_type": "code",
   "execution_count": 4,
   "metadata": {},
   "outputs": [],
   "source": [
    "torch.manual_seed(123)\n",
    "torch.cuda.manual_seed(123)\n",
    "np.random.seed(123)\n",
    "random.seed(123)"
   ]
  },
  {
   "cell_type": "code",
   "execution_count": 5,
   "metadata": {},
   "outputs": [],
   "source": [
    "import warnings\n",
    "warnings.filterwarnings('ignore')"
   ]
  },
  {
   "cell_type": "markdown",
   "metadata": {},
   "source": [
    "### Algunas funciones (no tan) útiles"
   ]
  },
  {
   "cell_type": "code",
   "execution_count": 6,
   "metadata": {},
   "outputs": [],
   "source": [
    "class EarlyStoppingFede(callbacks.TrackerCallback):\n",
    "    valid_track = []\n",
    "    \"A `TrackerCallback` that terminates training when monitored quantity stops improving.\"\n",
    "    def __init__(self, learn:Learner, monitor:str='valid_loss', mode:str='auto', min_delta:int=0, patience:int=0):\n",
    "        super().__init__(learn, monitor=monitor, mode=mode)\n",
    "        self.min_delta,self.patience = min_delta,patience\n",
    "        if self.operator == np.less:  self.min_delta *= -1\n",
    "\n",
    "    def on_train_begin(self, **kwargs:Any)->None:\n",
    "        \"Initialize inner arguments.\"\n",
    "        self.wait = 0\n",
    "        self.valid_track = []\n",
    "        super().on_train_begin(**kwargs)\n",
    "\n",
    "    def on_epoch_end(self, epoch, **kwargs:Any)->None:\n",
    "        \"Compare the value monitored to its best score and maybe stop training.\"\n",
    "        current = self.get_monitor_value()\n",
    "        if current is None: return\n",
    "        self.valid_track.append(current)\n",
    "        print(\"\")\n",
    "        print(\"current: \", current)\n",
    "        print(\"current - delta: \", current - self.min_delta)\n",
    "        print(\"best: \", self.best)\n",
    "        if self.operator(current - self.min_delta, self.best):\n",
    "            self.best,self.wait = current,0\n",
    "            print(\"Esto viene bien...\")\n",
    "        else:\n",
    "            self.wait += 1\n",
    "            print(\"Hmmmm... sigamos un poco...\")\n",
    "            if self.wait > self.patience:\n",
    "                print(f'Epoch {epoch}: early stopping')\n",
    "                print(\"Bueno, ya!\")\n",
    "                return {\"stop_training\":True}\n",
    "            \n",
    "    def on_train_end(self, **kwargs:Any)->None:\n",
    "        \"Useful for cleaning up things and saving files/models.\"\n",
    "        print(\" \")\n",
    "        plt.plot(self.valid_track)\n",
    "        plt.grid()\n",
    "        plt.xlabel(\"Epoch\")\n",
    "        plt.ylabel(\"Validation loss\")\n",
    "        print(self.valid_track)"
   ]
  },
  {
   "cell_type": "code",
   "execution_count": 7,
   "metadata": {},
   "outputs": [],
   "source": [
    "class TestCallback(Callback):\n",
    "    def __init__(self, learn: Learner):\n",
    "        super().__init__()\n",
    "        self.learn = learn\n",
    "    \n",
    "    def on_train_begin(self, **kwargs:Any)->None:\n",
    "        super().on_train_begin(**kwargs)\n",
    "        self.n_iters = 0\n",
    "        #pdb.set_trace()\n",
    "        \n",
    "    def on_epoch_end(self, epoch, **kwargs:Any)->None:\n",
    "        self.n_iters += 1\n",
    "        print(\"testCb: Fin de la epoch \" ,self.n_iters)\n",
    "        if self.n_iters>=10: self.learn.stop = True\n",
    "            \n",
    "    def on_train_end(self, **kwargs:Any)->None:\n",
    "        print(\" \")\n",
    "        print(\"TestCallBack: ¡Gracias por todo! Cantidad de epochs corridas: \", self.n_iters)"
   ]
  },
  {
   "cell_type": "code",
   "execution_count": 8,
   "metadata": {},
   "outputs": [],
   "source": [
    "def id_to_position(x, learner, user = False):\n",
    "    \"\"\" Funcion que toma un userId o movieId y busca su posicion en la lista de classes del learner\n",
    "    \"\"\"\n",
    "    if user:\n",
    "        classes = learner.data.dataset.x.classes['userId']\n",
    "    else:\n",
    "        classes = learner.data.dataset.x.classes['movieId']\n",
    "    try:\n",
    "        res = int(np.where(classes == str(x))[0][0])\n",
    "    except:\n",
    "        res = None\n",
    "    return res"
   ]
  },
  {
   "cell_type": "code",
   "execution_count": 492,
   "metadata": {},
   "outputs": [],
   "source": [
    "def get_user_recommendations(userid, movies, learner, only_seen = False):\n",
    "    \n",
    "    \"\"\" Esta funcion esta hecha para calcular las recomendaciones del modelo learn_feat.\n",
    "    Toma un usuario y todas las peliculas del train set y arma un DataFrame con las recomendacionies.\n",
    "    Se puede modificar para que funcione con otros modelos tocando cont_names y el input del modelo.\n",
    "    \"\"\"\n",
    "    \n",
    "    cont_names = ['Documentary',\n",
    "       'Musical', 'Thriller', 'Western', 'Film-Noir', 'Adventure', 'Mystery',\n",
    "       'Comedy', 'Animation', 'Drama', 'War', 'Fantasy', 'Children', 'Crime',\n",
    "       'Romance', 'Horror', 'Action', 'Sci-Fi', 'IMAX', 'age']\n",
    "    cont_names = cont_names + ['reviews']\n",
    "    arr = movies\n",
    "    # Filtro las películas en el train set\n",
    "    arr = arr[arr['movieId'].apply(lambda x: np.isin(learner.data.dataset.x.classes['movieId'], str(x)).sum() >0)]\n",
    "    arr['movie_pos'] = [id_to_position(x, learn_feat, user = False) for x in arr['movieId']]\n",
    "    arr['userId'] = [userid for i in range(len(arr))]\n",
    "    arr['user_pos'] = [id_to_position(x, learn_feat, user = True) for x in arr['userId']]\n",
    "    arr = arr.filter(['user_pos', 'movie_pos'] + ['userId', 'movieId'] + ['title'] + cont_names)\n",
    "    \n",
    "    user_movie = torch.LongTensor(arr.iloc[:,:2].values) # Las variables categoricas por un lado\n",
    "    movie_feats = torch.FloatTensor(arr.iloc[:,5:].values) # Y las continuas por el otro\n",
    "    \n",
    "    preds = learn_feat.model(user_movie, movie_feats)\n",
    "    \n",
    "    arr['prediction'] = preds.detach().numpy()\n",
    "    arr['movieId'] = arr['movieId'].astype(str, inplace = True)\n",
    "    pred = pd.merge(arr.filter(['user', 'movieId', 'title', 'reviews', 'prediction']), \n",
    "         ratings_con_nombres[ratings_con_nombres['userId']==1].filter(['movieId', 'rating']), \n",
    "         on = 'movieId', how = 'outer')\n",
    "    pred = pd.merge(pred, movies.filter(['movieId', 'genres', 'release_year']), on = 'movieId')\n",
    "    pred = pred.sort_values(by = 'prediction', ascending=False).reset_index(drop = True)\n",
    "    \n",
    "    if only_seen: return pred.dropna()\n",
    "    \n",
    "    return pred"
   ]
  },
  {
   "cell_type": "code",
   "execution_count": 10,
   "metadata": {},
   "outputs": [],
   "source": [
    "def is_digit(x):\n",
    "    try:\n",
    "        res = x.isdigit()\n",
    "    except:\n",
    "        res = False\n",
    "    return res"
   ]
  },
  {
   "cell_type": "code",
   "execution_count": 387,
   "metadata": {},
   "outputs": [],
   "source": [
    "def movie_has_genre(movieId, genre):\n",
    "    try:\n",
    "        res = (movies[movies['movieId']==str(movieId)][genre]!=0).values[0]\n",
    "    except:\n",
    "        res = False\n",
    "    return res"
   ]
  },
  {
   "cell_type": "code",
   "execution_count": 388,
   "metadata": {},
   "outputs": [],
   "source": [
    "def reduce_dim(weights, components = 3):\n",
    "    \"\"\"Reduce dimensions of embeddings\"\"\"\n",
    "    \n",
    "    return TSNE(components, metric = 'cosine').fit_transform(weights)"
   ]
  },
  {
   "cell_type": "markdown",
   "metadata": {},
   "source": [
    "# Data"
   ]
  },
  {
   "cell_type": "markdown",
   "metadata": {},
   "source": [
    "Levanto el dataset de movielens que ya tengo bajado"
   ]
  },
  {
   "cell_type": "code",
   "execution_count": 11,
   "metadata": {},
   "outputs": [
    {
     "data": {
      "text/plain": [
       "[PosixPath('/home/fvadell/trabajo/recs/ml-latest/links.csv'),\n",
       " PosixPath('/home/fvadell/trabajo/recs/ml-latest/README.txt'),\n",
       " PosixPath('/home/fvadell/trabajo/recs/ml-latest/ratings.csv'),\n",
       " PosixPath('/home/fvadell/trabajo/recs/ml-latest/genome-scores.csv'),\n",
       " PosixPath('/home/fvadell/trabajo/recs/ml-latest/movies.csv'),\n",
       " PosixPath('/home/fvadell/trabajo/recs/ml-latest/genome-tags.csv'),\n",
       " PosixPath('/home/fvadell/trabajo/recs/ml-latest/tags.csv')]"
      ]
     },
     "execution_count": 11,
     "metadata": {},
     "output_type": "execute_result"
    }
   ],
   "source": [
    "#path = Path('/home/fvadell/trabajo/recs/ml-latest-small')\n",
    "path = Path('/home/fvadell/trabajo/recs/ml-latest') # Full dataset (demasiado grande)\n",
    "path.ls()"
   ]
  },
  {
   "cell_type": "code",
   "execution_count": 12,
   "metadata": {},
   "outputs": [
    {
     "data": {
      "text/html": [
       "<div>\n",
       "<style scoped>\n",
       "    .dataframe tbody tr th:only-of-type {\n",
       "        vertical-align: middle;\n",
       "    }\n",
       "\n",
       "    .dataframe tbody tr th {\n",
       "        vertical-align: top;\n",
       "    }\n",
       "\n",
       "    .dataframe thead th {\n",
       "        text-align: right;\n",
       "    }\n",
       "</style>\n",
       "<table border=\"1\" class=\"dataframe\">\n",
       "  <thead>\n",
       "    <tr style=\"text-align: right;\">\n",
       "      <th></th>\n",
       "      <th>movieId</th>\n",
       "      <th>title</th>\n",
       "      <th>genres</th>\n",
       "    </tr>\n",
       "  </thead>\n",
       "  <tbody>\n",
       "    <tr>\n",
       "      <th>0</th>\n",
       "      <td>1</td>\n",
       "      <td>Toy Story (1995)</td>\n",
       "      <td>Adventure|Animation|Children|Comedy|Fantasy</td>\n",
       "    </tr>\n",
       "    <tr>\n",
       "      <th>1</th>\n",
       "      <td>2</td>\n",
       "      <td>Jumanji (1995)</td>\n",
       "      <td>Adventure|Children|Fantasy</td>\n",
       "    </tr>\n",
       "    <tr>\n",
       "      <th>2</th>\n",
       "      <td>3</td>\n",
       "      <td>Grumpier Old Men (1995)</td>\n",
       "      <td>Comedy|Romance</td>\n",
       "    </tr>\n",
       "    <tr>\n",
       "      <th>3</th>\n",
       "      <td>4</td>\n",
       "      <td>Waiting to Exhale (1995)</td>\n",
       "      <td>Comedy|Drama|Romance</td>\n",
       "    </tr>\n",
       "    <tr>\n",
       "      <th>4</th>\n",
       "      <td>5</td>\n",
       "      <td>Father of the Bride Part II (1995)</td>\n",
       "      <td>Comedy</td>\n",
       "    </tr>\n",
       "  </tbody>\n",
       "</table>\n",
       "</div>"
      ],
      "text/plain": [
       "   movieId                               title  \\\n",
       "0        1                    Toy Story (1995)   \n",
       "1        2                      Jumanji (1995)   \n",
       "2        3             Grumpier Old Men (1995)   \n",
       "3        4            Waiting to Exhale (1995)   \n",
       "4        5  Father of the Bride Part II (1995)   \n",
       "\n",
       "                                        genres  \n",
       "0  Adventure|Animation|Children|Comedy|Fantasy  \n",
       "1                   Adventure|Children|Fantasy  \n",
       "2                               Comedy|Romance  \n",
       "3                         Comedy|Drama|Romance  \n",
       "4                                       Comedy  "
      ]
     },
     "execution_count": 12,
     "metadata": {},
     "output_type": "execute_result"
    }
   ],
   "source": [
    "movies = pd.read_csv(path/'movies.csv')\n",
    "movies.head()"
   ]
  },
  {
   "cell_type": "code",
   "execution_count": 13,
   "metadata": {},
   "outputs": [
    {
     "data": {
      "text/plain": [
       "58098"
      ]
     },
     "execution_count": 13,
     "metadata": {},
     "output_type": "execute_result"
    }
   ],
   "source": [
    "len(movies)"
   ]
  },
  {
   "cell_type": "code",
   "execution_count": 14,
   "metadata": {},
   "outputs": [],
   "source": [
    "#tags = pd.read_csv(path/'tags.csv')"
   ]
  },
  {
   "cell_type": "code",
   "execution_count": 15,
   "metadata": {},
   "outputs": [],
   "source": [
    "#tags.head()"
   ]
  },
  {
   "cell_type": "code",
   "execution_count": 16,
   "metadata": {},
   "outputs": [],
   "source": [
    "#tags[tags['movieId']==260].head()"
   ]
  },
  {
   "cell_type": "markdown",
   "metadata": {},
   "source": [
    "Acá se ve la matriz de interacciones, presentada como un csv. Agrego copias de algunas columnas pero con otro data type por si necesito"
   ]
  },
  {
   "cell_type": "code",
   "execution_count": 18,
   "metadata": {},
   "outputs": [
    {
     "data": {
      "text/html": [
       "<div>\n",
       "<style scoped>\n",
       "    .dataframe tbody tr th:only-of-type {\n",
       "        vertical-align: middle;\n",
       "    }\n",
       "\n",
       "    .dataframe tbody tr th {\n",
       "        vertical-align: top;\n",
       "    }\n",
       "\n",
       "    .dataframe thead th {\n",
       "        text-align: right;\n",
       "    }\n",
       "</style>\n",
       "<table border=\"1\" class=\"dataframe\">\n",
       "  <thead>\n",
       "    <tr style=\"text-align: right;\">\n",
       "      <th></th>\n",
       "      <th>userId</th>\n",
       "      <th>movieId</th>\n",
       "      <th>rating</th>\n",
       "      <th>timestamp</th>\n",
       "    </tr>\n",
       "  </thead>\n",
       "  <tbody>\n",
       "    <tr>\n",
       "      <th>0</th>\n",
       "      <td>1</td>\n",
       "      <td>307</td>\n",
       "      <td>3.5</td>\n",
       "      <td>1256677221</td>\n",
       "    </tr>\n",
       "    <tr>\n",
       "      <th>1</th>\n",
       "      <td>1</td>\n",
       "      <td>481</td>\n",
       "      <td>3.5</td>\n",
       "      <td>1256677456</td>\n",
       "    </tr>\n",
       "    <tr>\n",
       "      <th>2</th>\n",
       "      <td>1</td>\n",
       "      <td>1091</td>\n",
       "      <td>1.5</td>\n",
       "      <td>1256677471</td>\n",
       "    </tr>\n",
       "    <tr>\n",
       "      <th>3</th>\n",
       "      <td>1</td>\n",
       "      <td>1257</td>\n",
       "      <td>4.5</td>\n",
       "      <td>1256677460</td>\n",
       "    </tr>\n",
       "    <tr>\n",
       "      <th>4</th>\n",
       "      <td>1</td>\n",
       "      <td>1449</td>\n",
       "      <td>4.5</td>\n",
       "      <td>1256677264</td>\n",
       "    </tr>\n",
       "  </tbody>\n",
       "</table>\n",
       "</div>"
      ],
      "text/plain": [
       "   userId  movieId  rating   timestamp\n",
       "0       1      307     3.5  1256677221\n",
       "1       1      481     3.5  1256677456\n",
       "2       1     1091     1.5  1256677471\n",
       "3       1     1257     4.5  1256677460\n",
       "4       1     1449     4.5  1256677264"
      ]
     },
     "execution_count": 18,
     "metadata": {},
     "output_type": "execute_result"
    }
   ],
   "source": [
    "ratings = pd.read_csv(path/'ratings.csv')\n",
    "ratings = ratings[:5000000]\n",
    "#ratings['y'] = ratings.rating.apply(str)\n",
    "#ratings['user'] = ratings['userId'].apply(lambda x:str(int(x))).astype('category')\n",
    "#ratings['item'] = ratings['movieId'].apply(lambda x:str(int(x))).astype('category')\n",
    "ratings.head()"
   ]
  },
  {
   "cell_type": "code",
   "execution_count": 19,
   "metadata": {},
   "outputs": [
    {
     "data": {
      "text/plain": [
       "5000000"
      ]
     },
     "execution_count": 19,
     "metadata": {},
     "output_type": "execute_result"
    }
   ],
   "source": [
    "len(ratings)"
   ]
  },
  {
   "cell_type": "code",
   "execution_count": null,
   "metadata": {},
   "outputs": [],
   "source": []
  },
  {
   "cell_type": "markdown",
   "metadata": {},
   "source": [
    "Separo los genres de las películas en columnas"
   ]
  },
  {
   "cell_type": "code",
   "execution_count": 20,
   "metadata": {},
   "outputs": [],
   "source": [
    "# Getting series of lists by applying split operation.\n",
    "movies.genres = movies.genres.str.split('|')\n",
    "# Getting distinct genre types for generating columns of genre type.\n",
    "genres_columns = list(set([j for i in movies['genres'].tolist() for j in i]))\n",
    "# Iterating over every list to create and fill values into columns.\n",
    "for j in genres_columns:\n",
    "    movies[j] = 0\n",
    "for i in range(movies.shape[0]):\n",
    "    for j in genres_columns:\n",
    "        if(j in movies['genres'].iloc[i]):\n",
    "            movies.loc[i,j] = 1\n",
    "# Separting movie title and year part using split function.\n",
    "split_values = movies['title'].str.split(\"(\", n = 1, expand = True)\n",
    "# setting 'movie_title' values to title part.\n",
    "movies.title = split_values[0]\n",
    "# creating 'release_year' column.\n",
    "movies['release_year'] = split_values[1]\n",
    "# Cleaning the release_year series.\n",
    "movies['release_year'] = movies.release_year.str.replace(')','')\n",
    "# dropping 'genre' columns as it has already been one hot encoded.\n",
    "#movies.drop('genres',axis=1,inplace=True)"
   ]
  },
  {
   "cell_type": "code",
   "execution_count": 21,
   "metadata": {},
   "outputs": [],
   "source": [
    "#Consigo la media de los release years\n",
    "media = round(movies.loc[movies['release_year'].apply(is_digit) == True]['release_year'].astype(int).mean())"
   ]
  },
  {
   "cell_type": "code",
   "execution_count": 22,
   "metadata": {},
   "outputs": [],
   "source": [
    "#Consigo el desvio de los release years\n",
    "std = round(movies.loc[movies['release_year'].apply(is_digit) == True]['release_year'].astype(int).std())"
   ]
  },
  {
   "cell_type": "code",
   "execution_count": 23,
   "metadata": {},
   "outputs": [],
   "source": [
    "# Cambio los valores de release_year que no son digitos por la media\n",
    "movies.loc[movies['release_year'].apply(is_digit) == False, ['release_year']] = str(media)"
   ]
  },
  {
   "cell_type": "code",
   "execution_count": 24,
   "metadata": {},
   "outputs": [],
   "source": [
    "# Cambio el type a int\n",
    "movies['release_year']=movies['release_year'].apply(lambda x: int(x))"
   ]
  },
  {
   "cell_type": "code",
   "execution_count": 25,
   "metadata": {},
   "outputs": [],
   "source": [
    "# Creo la columna 'age' que es el release_year normalizado\n",
    "movies['age'] = movies['release_year'].apply(lambda x: (x-media)/std)"
   ]
  },
  {
   "cell_type": "code",
   "execution_count": 29,
   "metadata": {},
   "outputs": [],
   "source": [
    "ratings_con_nombres = pd.merge(ratings, movies, on = 'movieId')"
   ]
  },
  {
   "cell_type": "code",
   "execution_count": 494,
   "metadata": {},
   "outputs": [],
   "source": [
    "ratings_con_nombres['movieId'] = movies['movieId'].astype(str, inplace = True)"
   ]
  },
  {
   "cell_type": "code",
   "execution_count": 30,
   "metadata": {},
   "outputs": [],
   "source": [
    "ratings_con_nombres.sort_values(by=['movieId']).reset_index(drop = True, inplace = True)"
   ]
  },
  {
   "cell_type": "code",
   "execution_count": 31,
   "metadata": {},
   "outputs": [
    {
     "data": {
      "text/html": [
       "<div>\n",
       "<style scoped>\n",
       "    .dataframe tbody tr th:only-of-type {\n",
       "        vertical-align: middle;\n",
       "    }\n",
       "\n",
       "    .dataframe tbody tr th {\n",
       "        vertical-align: top;\n",
       "    }\n",
       "\n",
       "    .dataframe thead th {\n",
       "        text-align: right;\n",
       "    }\n",
       "</style>\n",
       "<table border=\"1\" class=\"dataframe\">\n",
       "  <thead>\n",
       "    <tr style=\"text-align: right;\">\n",
       "      <th></th>\n",
       "      <th>userId</th>\n",
       "      <th>movieId</th>\n",
       "      <th>rating</th>\n",
       "      <th>timestamp</th>\n",
       "      <th>title</th>\n",
       "      <th>genres</th>\n",
       "      <th>(no genres listed)</th>\n",
       "      <th>Drama</th>\n",
       "      <th>Mystery</th>\n",
       "      <th>Romance</th>\n",
       "      <th>...</th>\n",
       "      <th>Documentary</th>\n",
       "      <th>Children</th>\n",
       "      <th>Film-Noir</th>\n",
       "      <th>Horror</th>\n",
       "      <th>Thriller</th>\n",
       "      <th>War</th>\n",
       "      <th>IMAX</th>\n",
       "      <th>Adventure</th>\n",
       "      <th>release_year</th>\n",
       "      <th>age</th>\n",
       "    </tr>\n",
       "  </thead>\n",
       "  <tbody>\n",
       "    <tr>\n",
       "      <th>4999995</th>\n",
       "      <td>51253</td>\n",
       "      <td>184851</td>\n",
       "      <td>4.5</td>\n",
       "      <td>1519708275</td>\n",
       "      <td>We Are Cheerful, Happy, Talented!</td>\n",
       "      <td>[Comedy, Drama, Romance]</td>\n",
       "      <td>0</td>\n",
       "      <td>1</td>\n",
       "      <td>0</td>\n",
       "      <td>1</td>\n",
       "      <td>...</td>\n",
       "      <td>0</td>\n",
       "      <td>0</td>\n",
       "      <td>0</td>\n",
       "      <td>0</td>\n",
       "      <td>0</td>\n",
       "      <td>0</td>\n",
       "      <td>0</td>\n",
       "      <td>0</td>\n",
       "      <td>1986</td>\n",
       "      <td>-0.24</td>\n",
       "    </tr>\n",
       "    <tr>\n",
       "      <th>4999996</th>\n",
       "      <td>51288</td>\n",
       "      <td>112255</td>\n",
       "      <td>4.0</td>\n",
       "      <td>1455322264</td>\n",
       "      <td>Money as Debt</td>\n",
       "      <td>[Animation, Documentary]</td>\n",
       "      <td>0</td>\n",
       "      <td>0</td>\n",
       "      <td>0</td>\n",
       "      <td>0</td>\n",
       "      <td>...</td>\n",
       "      <td>1</td>\n",
       "      <td>0</td>\n",
       "      <td>0</td>\n",
       "      <td>0</td>\n",
       "      <td>0</td>\n",
       "      <td>0</td>\n",
       "      <td>0</td>\n",
       "      <td>0</td>\n",
       "      <td>2006</td>\n",
       "      <td>0.56</td>\n",
       "    </tr>\n",
       "    <tr>\n",
       "      <th>4999997</th>\n",
       "      <td>51292</td>\n",
       "      <td>72833</td>\n",
       "      <td>3.0</td>\n",
       "      <td>1359408768</td>\n",
       "      <td>Art of Travel, The</td>\n",
       "      <td>[Adventure, Drama, Romance]</td>\n",
       "      <td>0</td>\n",
       "      <td>1</td>\n",
       "      <td>0</td>\n",
       "      <td>1</td>\n",
       "      <td>...</td>\n",
       "      <td>0</td>\n",
       "      <td>0</td>\n",
       "      <td>0</td>\n",
       "      <td>0</td>\n",
       "      <td>0</td>\n",
       "      <td>0</td>\n",
       "      <td>0</td>\n",
       "      <td>1</td>\n",
       "      <td>2008</td>\n",
       "      <td>0.64</td>\n",
       "    </tr>\n",
       "    <tr>\n",
       "      <th>4999998</th>\n",
       "      <td>51342</td>\n",
       "      <td>149656</td>\n",
       "      <td>4.0</td>\n",
       "      <td>1451495637</td>\n",
       "      <td>Three Sisters</td>\n",
       "      <td>[Documentary]</td>\n",
       "      <td>0</td>\n",
       "      <td>0</td>\n",
       "      <td>0</td>\n",
       "      <td>0</td>\n",
       "      <td>...</td>\n",
       "      <td>1</td>\n",
       "      <td>0</td>\n",
       "      <td>0</td>\n",
       "      <td>0</td>\n",
       "      <td>0</td>\n",
       "      <td>0</td>\n",
       "      <td>0</td>\n",
       "      <td>0</td>\n",
       "      <td>2012</td>\n",
       "      <td>0.80</td>\n",
       "    </tr>\n",
       "    <tr>\n",
       "      <th>4999999</th>\n",
       "      <td>51356</td>\n",
       "      <td>134865</td>\n",
       "      <td>3.5</td>\n",
       "      <td>1434305597</td>\n",
       "      <td>Blackie the Pirate</td>\n",
       "      <td>[Action, Adventure, Comedy]</td>\n",
       "      <td>0</td>\n",
       "      <td>0</td>\n",
       "      <td>0</td>\n",
       "      <td>0</td>\n",
       "      <td>...</td>\n",
       "      <td>0</td>\n",
       "      <td>0</td>\n",
       "      <td>0</td>\n",
       "      <td>0</td>\n",
       "      <td>0</td>\n",
       "      <td>0</td>\n",
       "      <td>0</td>\n",
       "      <td>1</td>\n",
       "      <td>1971</td>\n",
       "      <td>-0.84</td>\n",
       "    </tr>\n",
       "  </tbody>\n",
       "</table>\n",
       "<p>5 rows × 28 columns</p>\n",
       "</div>"
      ],
      "text/plain": [
       "         userId  movieId  rating   timestamp  \\\n",
       "4999995   51253   184851     4.5  1519708275   \n",
       "4999996   51288   112255     4.0  1455322264   \n",
       "4999997   51292    72833     3.0  1359408768   \n",
       "4999998   51342   149656     4.0  1451495637   \n",
       "4999999   51356   134865     3.5  1434305597   \n",
       "\n",
       "                                      title                       genres  \\\n",
       "4999995  We Are Cheerful, Happy, Talented!      [Comedy, Drama, Romance]   \n",
       "4999996                      Money as Debt      [Animation, Documentary]   \n",
       "4999997                 Art of Travel, The   [Adventure, Drama, Romance]   \n",
       "4999998                      Three Sisters                 [Documentary]   \n",
       "4999999                 Blackie the Pirate   [Action, Adventure, Comedy]   \n",
       "\n",
       "         (no genres listed)  Drama  Mystery  Romance  ...  Documentary  \\\n",
       "4999995                   0      1        0        1  ...            0   \n",
       "4999996                   0      0        0        0  ...            1   \n",
       "4999997                   0      1        0        1  ...            0   \n",
       "4999998                   0      0        0        0  ...            1   \n",
       "4999999                   0      0        0        0  ...            0   \n",
       "\n",
       "         Children  Film-Noir  Horror  Thriller  War  IMAX  Adventure  \\\n",
       "4999995         0          0       0         0    0     0          0   \n",
       "4999996         0          0       0         0    0     0          0   \n",
       "4999997         0          0       0         0    0     0          1   \n",
       "4999998         0          0       0         0    0     0          0   \n",
       "4999999         0          0       0         0    0     0          1   \n",
       "\n",
       "         release_year   age  \n",
       "4999995          1986 -0.24  \n",
       "4999996          2006  0.56  \n",
       "4999997          2008  0.64  \n",
       "4999998          2012  0.80  \n",
       "4999999          1971 -0.84  \n",
       "\n",
       "[5 rows x 28 columns]"
      ]
     },
     "execution_count": 31,
     "metadata": {},
     "output_type": "execute_result"
    }
   ],
   "source": [
    "ratings_con_nombres.tail()"
   ]
  },
  {
   "cell_type": "markdown",
   "metadata": {},
   "source": [
    "Le agrego las columnas de cantidad de reviews y rating medio"
   ]
  },
  {
   "cell_type": "code",
   "execution_count": 32,
   "metadata": {},
   "outputs": [
    {
     "data": {
      "text/html": [
       "<div>\n",
       "<style scoped>\n",
       "    .dataframe tbody tr th:only-of-type {\n",
       "        vertical-align: middle;\n",
       "    }\n",
       "\n",
       "    .dataframe tbody tr th {\n",
       "        vertical-align: top;\n",
       "    }\n",
       "\n",
       "    .dataframe thead th {\n",
       "        text-align: right;\n",
       "    }\n",
       "</style>\n",
       "<table border=\"1\" class=\"dataframe\">\n",
       "  <thead>\n",
       "    <tr style=\"text-align: right;\">\n",
       "      <th></th>\n",
       "      <th>movieId</th>\n",
       "      <th>title</th>\n",
       "      <th>reviews</th>\n",
       "      <th>rating_mean</th>\n",
       "    </tr>\n",
       "  </thead>\n",
       "  <tbody>\n",
       "    <tr>\n",
       "      <th>0</th>\n",
       "      <td>318</td>\n",
       "      <td>Shawshank Redemption, The</td>\n",
       "      <td>17729</td>\n",
       "      <td>4.422246</td>\n",
       "    </tr>\n",
       "    <tr>\n",
       "      <th>1</th>\n",
       "      <td>356</td>\n",
       "      <td>Forrest Gump</td>\n",
       "      <td>17389</td>\n",
       "      <td>4.055840</td>\n",
       "    </tr>\n",
       "    <tr>\n",
       "      <th>2</th>\n",
       "      <td>296</td>\n",
       "      <td>Pulp Fiction</td>\n",
       "      <td>16647</td>\n",
       "      <td>4.178200</td>\n",
       "    </tr>\n",
       "    <tr>\n",
       "      <th>3</th>\n",
       "      <td>593</td>\n",
       "      <td>Silence of the Lambs, The</td>\n",
       "      <td>15833</td>\n",
       "      <td>4.143371</td>\n",
       "    </tr>\n",
       "    <tr>\n",
       "      <th>4</th>\n",
       "      <td>2571</td>\n",
       "      <td>Matrix, The</td>\n",
       "      <td>15320</td>\n",
       "      <td>4.139001</td>\n",
       "    </tr>\n",
       "  </tbody>\n",
       "</table>\n",
       "</div>"
      ],
      "text/plain": [
       "   movieId                       title  reviews  rating_mean\n",
       "0      318  Shawshank Redemption, The     17729     4.422246\n",
       "1      356               Forrest Gump     17389     4.055840\n",
       "2      296               Pulp Fiction     16647     4.178200\n",
       "3      593  Silence of the Lambs, The     15833     4.143371\n",
       "4     2571                Matrix, The     15320     4.139001"
      ]
     },
     "execution_count": 32,
     "metadata": {},
     "output_type": "execute_result"
    }
   ],
   "source": [
    "# c2.groupby(['idempresa'], as_index=False).agg({'count': 'sum', 'score_ponderado': 'sum'})\n",
    "# df[['source','sent']].groupby('source').agg(['count','mean'])\n",
    "m = ratings_con_nombres\n",
    "m['reviews'] = m['movieId']\n",
    "m['rating_mean'] = m['rating']\n",
    "m = ratings_con_nombres.groupby(['movieId', 'title'], as_index = False)\n",
    "m = m.agg({'reviews': 'size', 'rating_mean': 'mean'}).sort_values(by = 'reviews', ascending = False).reset_index(drop = True)\n",
    "m.head()"
   ]
  },
  {
   "cell_type": "markdown",
   "metadata": {},
   "source": [
    "Lo junto con el data frame movies para tener también el nombre de la película y sus tag de género"
   ]
  },
  {
   "cell_type": "code",
   "execution_count": 33,
   "metadata": {},
   "outputs": [],
   "source": [
    "movies = pd.merge(movies, m, on = ['movieId', 'title'])"
   ]
  },
  {
   "cell_type": "code",
   "execution_count": 490,
   "metadata": {},
   "outputs": [],
   "source": [
    "movies['movieId'] = movies['movieId'].astype(str, inplace = True)"
   ]
  },
  {
   "cell_type": "code",
   "execution_count": 35,
   "metadata": {},
   "outputs": [
    {
     "data": {
      "text/plain": [
       "(33457, 5000000)"
      ]
     },
     "execution_count": 35,
     "metadata": {},
     "output_type": "execute_result"
    }
   ],
   "source": [
    "len(movies), len(ratings_con_nombres)"
   ]
  },
  {
   "cell_type": "markdown",
   "metadata": {},
   "source": [
    "## Modelo Collaborative Filtering"
   ]
  },
  {
   "cell_type": "markdown",
   "metadata": {},
   "source": [
    "Armo el data bunch de fastai con la matriz de interacciones. Le pedimos que arme un validation set con el 15% de los datos y que use un batchsize de 100."
   ]
  },
  {
   "cell_type": "code",
   "execution_count": 31,
   "metadata": {},
   "outputs": [],
   "source": [
    "data = CollabDataBunch.from_df(ratings[['userId','movieId','rating']], valid_pct=0.15, bs=100)"
   ]
  },
  {
   "cell_type": "markdown",
   "metadata": {},
   "source": [
    "El modelo que vamos a utilizar usa Embeddings para los usuarios y para las películas. Hay que especificarle el tamaño de los embeddings que vamos a usar (100 en ambos casos) y cuántas capas lineales y de qué tamaño."
   ]
  },
  {
   "cell_type": "code",
   "execution_count": 32,
   "metadata": {},
   "outputs": [],
   "source": [
    "emb_szs = {\n",
    "  \"userId\": 100,\n",
    "  \"movieId\": 100,\n",
    "}\n",
    "\n",
    "layers = [50, 10, 10]"
   ]
  },
  {
   "cell_type": "code",
   "execution_count": 33,
   "metadata": {},
   "outputs": [],
   "source": [
    "y_range = [0, 5.5]"
   ]
  },
  {
   "cell_type": "code",
   "execution_count": null,
   "metadata": {},
   "outputs": [],
   "source": [
    "learn_small = collab_learner(data, emb_szs=emb_szs, \n",
    "                             use_nn = True, emb_drop= .3, \n",
    "                             layers = [50, 10, 10], \n",
    "                             y_range=y_range)"
   ]
  },
  {
   "cell_type": "markdown",
   "metadata": {},
   "source": [
    "Instancio los callbacks que voy a usar"
   ]
  },
  {
   "cell_type": "code",
   "execution_count": null,
   "metadata": {},
   "outputs": [],
   "source": [
    "early_stopping = EarlyStoppingFede(learn = learn_small, patience = 3)"
   ]
  },
  {
   "cell_type": "code",
   "execution_count": null,
   "metadata": {},
   "outputs": [],
   "source": [
    "testCb = TestCallback(learn = learn_small)"
   ]
  },
  {
   "cell_type": "code",
   "execution_count": null,
   "metadata": {},
   "outputs": [],
   "source": [
    "activation_stats_cb = callbacks.ActivationStats(learn_small, [learn_small.model.layers[0], learn_small.model.layers[3], learn_small.model.layers[6], learn_small.model.layers[9]])"
   ]
  },
  {
   "cell_type": "code",
   "execution_count": null,
   "metadata": {},
   "outputs": [],
   "source": [
    "learn_small.lr_find()\n",
    "learn_small.recorder.plot(suggestion=True)"
   ]
  },
  {
   "cell_type": "code",
   "execution_count": null,
   "metadata": {},
   "outputs": [],
   "source": [
    "small_val = [0.82210755, 0.78039706, 0.76146066, 0.7520096, 0.7477327, 0.7513617, 0.762638, 0.78425294, 0.784332]"
   ]
  },
  {
   "cell_type": "code",
   "execution_count": null,
   "metadata": {},
   "outputs": [],
   "source": []
  },
  {
   "cell_type": "code",
   "execution_count": null,
   "metadata": {},
   "outputs": [],
   "source": [
    "learn_small.fit_one_cycle(10, 5.0E-03, callbacks = [early_stopping, testCb, activation_stats_cb])\n",
    "#learn_small.fit_one_cycle(3, 6.31E-02)"
   ]
  },
  {
   "cell_type": "markdown",
   "metadata": {},
   "source": [
    "Salvo el modelo"
   ]
  },
  {
   "cell_type": "code",
   "execution_count": null,
   "metadata": {},
   "outputs": [],
   "source": [
    "learn_small.model"
   ]
  },
  {
   "cell_type": "code",
   "execution_count": null,
   "metadata": {},
   "outputs": [],
   "source": [
    "learn_small.save(\"learn_small_3layers\")"
   ]
  },
  {
   "cell_type": "markdown",
   "metadata": {},
   "source": [
    "Cargo el modelo guardado"
   ]
  },
  {
   "cell_type": "code",
   "execution_count": null,
   "metadata": {},
   "outputs": [],
   "source": [
    "learn_small = learn_small.load(\"learn_small_3layers\")"
   ]
  },
  {
   "cell_type": "markdown",
   "metadata": {},
   "source": [
    "learn_small.model contiene el modelo entero. Si le paso un tensor con los usuarios y películas va a llamar al forward del modelo y me va a devolver la predicción de la red."
   ]
  },
  {
   "cell_type": "code",
   "execution_count": null,
   "metadata": {},
   "outputs": [],
   "source": [
    "learn_small.data.dataset.x.classes"
   ]
  },
  {
   "cell_type": "code",
   "execution_count": null,
   "metadata": {},
   "outputs": [],
   "source": [
    "learn_small.model(torch.LongTensor([1]),torch.LongTensor([1]))"
   ]
  },
  {
   "cell_type": "code",
   "execution_count": null,
   "metadata": {},
   "outputs": [],
   "source": [
    "# Esto me muestra todos los objetos que tiene definido el modelo\n",
    "# NO significa que se vayan a usar todos.\n",
    "# NO significa que no se use algo más\n",
    "# Para saber exactamente cómo va a ser el flujo de datos tengo que ver el forward\n",
    "#learn_small.model"
   ]
  },
  {
   "cell_type": "code",
   "execution_count": null,
   "metadata": {},
   "outputs": [],
   "source": [
    "# Para ver el forward veo primero el código de collab_learner para ver qué modelo usa\n",
    "# Veo el código de collab_learner\n",
    "# >> collab_learner??\n",
    "# Se ve que crea un modelo de tipo EmbeddingNN\n",
    "#if use_nn: model = EmbeddingNN(emb_szs=emb_szs, layers=layers, ps=ps, emb_drop=emb_drop, y_range=y_range,\n",
    "#                                   use_bn=use_bn, bn_final=bn_final, **learn_kwargs)"
   ]
  },
  {
   "cell_type": "code",
   "execution_count": null,
   "metadata": {},
   "outputs": [],
   "source": [
    "# Veo entonces si el modelo EmbeddingNN tiene definido el forward\n",
    "# >> EmbeddingNN??\n",
    "# Se ve que tiene definido un forward pero que llama al forward de su super que es TabularModel\n",
    "#def forward(self, users:LongTensor, items:LongTensor) -> Tensor:\n",
    "#        return super().forward(torch.stack([users,items], dim=1), None)"
   ]
  },
  {
   "cell_type": "code",
   "execution_count": null,
   "metadata": {},
   "outputs": [],
   "source": [
    "# Veo si en TabularModel hay definido un forward\n",
    "# >> TabularModel??\n",
    "# Se ve que si existe un y_range entonces el resultado lo pasa por una sigmoid\n",
    "# pero si no tene y_range simplemente devuelve el resultado de self.layers(x)\n",
    "# es decir pasar el input directamente por todas las capas que tenga definidas el modelo\n",
    "#def forward(self, x_cat:Tensor, x_cont:Tensor) -> Tensor:\n",
    "#        if self.n_emb != 0:\n",
    "#            x = [e(x_cat[:,i]) for i,e in enumerate(self.embeds)]\n",
    "#            x = torch.cat(x, 1)\n",
    "#            x = self.emb_drop(x)\n",
    "#        if self.n_cont != 0:\n",
    "#            x_cont = self.bn_cont(x_cont)\n",
    "#            x = torch.cat([x, x_cont], 1) if self.n_emb != 0 else x_cont\n",
    "#        x = self.layers(x)\n",
    "#        if self.y_range is not None:\n",
    "#            x = (self.y_range[1]-self.y_range[0]) * torch.sigmoid(x) + self.y_range[0]\n",
    "#        return x"
   ]
  },
  {
   "cell_type": "markdown",
   "metadata": {},
   "source": [
    "Voy a hacer la prueba de tomar los embeddings de la primer película y el primer usuario y pasarlos \"a mano\" por el resto de la red neuronal. Para eso tengo en cuenta la estructura del modelo."
   ]
  },
  {
   "cell_type": "markdown",
   "metadata": {},
   "source": [
    "Voy a pasar el embedding por:\n",
    "\n",
    "emb_drop\n",
    "\n",
    "bn_cont no lo uso porque está seteado con la primer variable en 0 (ver)\n",
    "\n",
    "layers\n",
    "\n",
    "sigmoid"
   ]
  },
  {
   "cell_type": "code",
   "execution_count": null,
   "metadata": {},
   "outputs": [],
   "source": [
    "learn_small.model"
   ]
  },
  {
   "cell_type": "code",
   "execution_count": null,
   "metadata": {},
   "outputs": [],
   "source": [
    "# u y a son los embeddings para el primer usuario y la primer pelicula respectivamente\n",
    "u = learn_small.model.embeds[0](torch.LongTensor([1]))\n",
    "a = learn_small.model.embeds[1](torch.LongTensor([1]))"
   ]
  },
  {
   "cell_type": "code",
   "execution_count": null,
   "metadata": {},
   "outputs": [],
   "source": [
    "u, a"
   ]
  },
  {
   "cell_type": "markdown",
   "metadata": {},
   "source": [
    "Junto los embeddings"
   ]
  },
  {
   "cell_type": "code",
   "execution_count": null,
   "metadata": {},
   "outputs": [],
   "source": [
    "x = torch.cat([u,a],dim=1)"
   ]
  },
  {
   "cell_type": "code",
   "execution_count": null,
   "metadata": {},
   "outputs": [],
   "source": [
    "learn_small.model.layers"
   ]
  },
  {
   "cell_type": "code",
   "execution_count": null,
   "metadata": {},
   "outputs": [],
   "source": [
    "# Lo paso por la capa de emb_drop, layers y después aplico la sigmoid.\n",
    "# Lo que consigo es la predicción\n",
    "x = learn_small.model.emb_drop(x)\n",
    "x = learn_small.model.layers(x)\n",
    "x = (y_range[1]-y_range[0]) * torch.sigmoid(x) + y_range[0]\n",
    "x"
   ]
  },
  {
   "cell_type": "markdown",
   "metadata": {},
   "source": [
    "tomo el usuario con userId = 1"
   ]
  },
  {
   "cell_type": "code",
   "execution_count": null,
   "metadata": {},
   "outputs": [],
   "source": [
    "u = learn_small.model.embeds[0](torch.LongTensor([1]))"
   ]
  },
  {
   "cell_type": "code",
   "execution_count": null,
   "metadata": {},
   "outputs": [],
   "source": [
    "u.shape"
   ]
  },
  {
   "cell_type": "markdown",
   "metadata": {},
   "source": [
    "Y la matriz entera de embeddings de películas"
   ]
  },
  {
   "cell_type": "code",
   "execution_count": null,
   "metadata": {},
   "outputs": [],
   "source": [
    "emb_m = learn_small.model.embeds[1].weight"
   ]
  },
  {
   "cell_type": "code",
   "execution_count": null,
   "metadata": {},
   "outputs": [],
   "source": [
    "emb_m"
   ]
  },
  {
   "cell_type": "code",
   "execution_count": null,
   "metadata": {},
   "outputs": [],
   "source": [
    "emb_m.shape"
   ]
  },
  {
   "cell_type": "code",
   "execution_count": null,
   "metadata": {},
   "outputs": [],
   "source": [
    "emb_m.shape[0]"
   ]
  },
  {
   "cell_type": "code",
   "execution_count": null,
   "metadata": {},
   "outputs": [],
   "source": [
    "emb_m"
   ]
  },
  {
   "cell_type": "code",
   "execution_count": null,
   "metadata": {},
   "outputs": [],
   "source": [
    "#Si queremos hacer una prueba de rapidez aumentando por 100 la cantidad de películas podemos correr esto\n",
    "#emb_m = torch.cat([emb_m]*100)"
   ]
  },
  {
   "cell_type": "code",
   "execution_count": null,
   "metadata": {},
   "outputs": [],
   "source": [
    "u[0]"
   ]
  },
  {
   "cell_type": "markdown",
   "metadata": {},
   "source": [
    "Creo una matriz del mismo tamaño que la matriz de embeddings pero que en cada fila tenga el embeddings del usuario para el que quiero la recomendación"
   ]
  },
  {
   "cell_type": "code",
   "execution_count": null,
   "metadata": {},
   "outputs": [],
   "source": [
    "u = u[0].repeat(emb_m.shape[0]).reshape(emb_m.shape[0], -1)"
   ]
  },
  {
   "cell_type": "code",
   "execution_count": null,
   "metadata": {},
   "outputs": [],
   "source": [
    "u = u.float()"
   ]
  },
  {
   "cell_type": "code",
   "execution_count": null,
   "metadata": {},
   "outputs": [],
   "source": [
    "u[0]"
   ]
  },
  {
   "cell_type": "code",
   "execution_count": null,
   "metadata": {},
   "outputs": [],
   "source": [
    "emb_m.shape"
   ]
  },
  {
   "cell_type": "markdown",
   "metadata": {},
   "source": [
    "Concateno cada vector del embedding de movies con el del usuario"
   ]
  },
  {
   "cell_type": "code",
   "execution_count": null,
   "metadata": {},
   "outputs": [],
   "source": [
    "x = torch.cat([u,emb_m],dim=1)"
   ]
  },
  {
   "cell_type": "code",
   "execution_count": null,
   "metadata": {},
   "outputs": [],
   "source": [
    "x.shape"
   ]
  },
  {
   "cell_type": "markdown",
   "metadata": {},
   "source": [
    "Lo paso por la capa de emb_drop, layers y despues aplico la sigmoid. Lo que consigo es la predicción del rating de ese usuario para cada una de las películas"
   ]
  },
  {
   "cell_type": "code",
   "execution_count": null,
   "metadata": {},
   "outputs": [],
   "source": [
    "# Lo paso por la capa de emb_drop, layers y después aplico la sigmoid.\n",
    "# Lo que consigo es la predicción\n",
    "x = learn_small.model.emb_drop(x)\n",
    "x = learn_small.model.layers(x)\n",
    "x = (y_range[1]-y_range[0]) * torch.sigmoid(x) + y_range[0]\n",
    "x"
   ]
  },
  {
   "cell_type": "code",
   "execution_count": null,
   "metadata": {},
   "outputs": [],
   "source": [
    "learn_small.data.dataset.x.classes"
   ]
  },
  {
   "cell_type": "markdown",
   "metadata": {},
   "source": [
    "Busco los ids de películas en el dataset"
   ]
  },
  {
   "cell_type": "code",
   "execution_count": null,
   "metadata": {},
   "outputs": [],
   "source": [
    "PELIS = learn_small.data.dataset.x.classes['movieId']"
   ]
  },
  {
   "cell_type": "code",
   "execution_count": null,
   "metadata": {},
   "outputs": [],
   "source": [
    "PELIS"
   ]
  },
  {
   "cell_type": "code",
   "execution_count": null,
   "metadata": {},
   "outputs": [],
   "source": [
    "len(PELIS)"
   ]
  },
  {
   "cell_type": "markdown",
   "metadata": {},
   "source": [
    "Le agrego a cada película su rating y armo un ranking de las que mejor rating predicho tienen."
   ]
  },
  {
   "cell_type": "code",
   "execution_count": null,
   "metadata": {},
   "outputs": [],
   "source": [
    "# Armo el top de las pelis con mayor predicción de ranking\n",
    "top = sorted([(PELIS[i],round(n[0],2) ) for i,n in enumerate(x.tolist())],key=lambda x:x[1],reverse=True )\n",
    "top[:10]"
   ]
  },
  {
   "cell_type": "code",
   "execution_count": null,
   "metadata": {},
   "outputs": [],
   "source": [
    "top_df = pd.DataFrame(top)"
   ]
  },
  {
   "cell_type": "code",
   "execution_count": null,
   "metadata": {},
   "outputs": [],
   "source": [
    "top_df.columns = ['movieId', 'prediction']"
   ]
  },
  {
   "cell_type": "code",
   "execution_count": null,
   "metadata": {},
   "outputs": [],
   "source": [
    "top_df['movieId']=top_df['movieId'].astype(str)"
   ]
  },
  {
   "cell_type": "code",
   "execution_count": null,
   "metadata": {},
   "outputs": [],
   "source": [
    "movies['movieId']=movies['movieId'].astype(str)"
   ]
  },
  {
   "cell_type": "code",
   "execution_count": null,
   "metadata": {},
   "outputs": [],
   "source": [
    "top_df = pd.merge(top_df, movies, on = 'movieId')"
   ]
  },
  {
   "cell_type": "code",
   "execution_count": null,
   "metadata": {},
   "outputs": [],
   "source": [
    "top_df.head()"
   ]
  },
  {
   "cell_type": "code",
   "execution_count": null,
   "metadata": {},
   "outputs": [],
   "source": [
    "ratings_con_nombres['movieId']=ratings_con_nombres['movieId'].astype(str)"
   ]
  },
  {
   "cell_type": "code",
   "execution_count": null,
   "metadata": {},
   "outputs": [],
   "source": [
    "movies_for_user = ratings_con_nombres[ratings_con_nombres['userId']==1]"
   ]
  },
  {
   "cell_type": "code",
   "execution_count": null,
   "metadata": {},
   "outputs": [],
   "source": [
    "movies_for_user['movieId']=movies_for_user['movieId'].astype(str)"
   ]
  },
  {
   "cell_type": "code",
   "execution_count": null,
   "metadata": {},
   "outputs": [],
   "source": [
    "a = pd.merge(movies_for_user, top_df, on = 'movieId', how = 'outer').sort_values(by = 'prediction', ascending = False).reset_index(drop = True)"
   ]
  },
  {
   "cell_type": "code",
   "execution_count": null,
   "metadata": {
    "scrolled": true
   },
   "outputs": [],
   "source": [
    "ratings_con_nombres[ratings_con_nombres['userId']==1].sort_values(by = 'rating', ascending = False)"
   ]
  },
  {
   "cell_type": "code",
   "execution_count": null,
   "metadata": {},
   "outputs": [],
   "source": []
  },
  {
   "cell_type": "markdown",
   "metadata": {},
   "source": [
    "#### Ranking de recomendaciones para el usuario."
   ]
  },
  {
   "cell_type": "markdown",
   "metadata": {},
   "source": [
    "Los valores que tienen NaN en user y en rating se refieren a películas que el usuario no vio"
   ]
  },
  {
   "cell_type": "code",
   "execution_count": null,
   "metadata": {
    "scrolled": false
   },
   "outputs": [],
   "source": [
    "a = a.filter(['userId', 'movieId', 'rating', 'prediction', 'title_y', 'genres_y'])"
   ]
  },
  {
   "cell_type": "code",
   "execution_count": null,
   "metadata": {},
   "outputs": [],
   "source": [
    "a.head(20)"
   ]
  },
  {
   "cell_type": "code",
   "execution_count": null,
   "metadata": {},
   "outputs": [],
   "source": [
    "a.dropna()"
   ]
  },
  {
   "cell_type": "code",
   "execution_count": null,
   "metadata": {},
   "outputs": [],
   "source": [
    "# La información sobre la media y el desvío estándar queda en\n",
    "# learner.<nombre del hook>.stats\n",
    "learn_small.activation_stats.stats.shape"
   ]
  },
  {
   "cell_type": "code",
   "execution_count": null,
   "metadata": {},
   "outputs": [],
   "source": [
    "plt.figure(figsize=(20,5))\n",
    "plt.plot(learn_small.activation_stats.stats[0][0].numpy(), alpha = .8, label = '1')\n",
    "plt.plot(learn_small.activation_stats.stats[0][1].numpy(), alpha = .8, label = '2')\n",
    "plt.plot(learn_small.activation_stats.stats[0][2].numpy(), alpha = .8, label = '3')\n",
    "plt.plot(learn_small.activation_stats.stats[0][3].numpy(), alpha = .8, label = '4')\n",
    "plt.grid()\n",
    "plt.legend()\n",
    "plt.title(\"Media de las capas lineas por cada batch pasado\")\n",
    "plt.show()"
   ]
  },
  {
   "cell_type": "code",
   "execution_count": null,
   "metadata": {},
   "outputs": [],
   "source": [
    "plt.figure(figsize=(20,5))\n",
    "plt.plot(learn_small.activation_stats.stats[1][0].numpy(), alpha = .8, label = '1')\n",
    "plt.plot(learn_small.activation_stats.stats[1][1].numpy(), alpha = .8, label = '2')\n",
    "plt.plot(learn_small.activation_stats.stats[1][2].numpy(), alpha = .8, label = '3')\n",
    "plt.plot(learn_small.activation_stats.stats[1][3].numpy(), alpha = .8, label = '4')\n",
    "plt.legend()\n",
    "plt.grid()\n",
    "plt.title(\"Desvío de las capas lineas por cada batch pasado\")\n",
    "plt.show()"
   ]
  },
  {
   "cell_type": "markdown",
   "metadata": {},
   "source": [
    "### Pruebo con un modelo tabular"
   ]
  },
  {
   "cell_type": "markdown",
   "metadata": {},
   "source": [
    "#### y armando el databunch con la data block API de fastai"
   ]
  },
  {
   "cell_type": "code",
   "execution_count": 34,
   "metadata": {},
   "outputs": [],
   "source": [
    "df = ratings\n",
    "df = df.sample(frac=1).reset_index(drop=True) #Le aplico un shuffle\n",
    "dep_var = 'rating'\n",
    "cat_names = ['userId', 'movieId']\n",
    "cont_names = []\n",
    "procs = [FillMissing, Categorify, Normalize]"
   ]
  },
  {
   "cell_type": "code",
   "execution_count": 35,
   "metadata": {},
   "outputs": [],
   "source": [
    "df = df.astype({'rating': 'float'})"
   ]
  },
  {
   "cell_type": "code",
   "execution_count": 36,
   "metadata": {},
   "outputs": [
    {
     "data": {
      "text/html": [
       "<div>\n",
       "<style scoped>\n",
       "    .dataframe tbody tr th:only-of-type {\n",
       "        vertical-align: middle;\n",
       "    }\n",
       "\n",
       "    .dataframe tbody tr th {\n",
       "        vertical-align: top;\n",
       "    }\n",
       "\n",
       "    .dataframe thead th {\n",
       "        text-align: right;\n",
       "    }\n",
       "</style>\n",
       "<table border=\"1\" class=\"dataframe\">\n",
       "  <thead>\n",
       "    <tr style=\"text-align: right;\">\n",
       "      <th></th>\n",
       "      <th>userId</th>\n",
       "      <th>movieId</th>\n",
       "      <th>rating</th>\n",
       "      <th>timestamp</th>\n",
       "      <th>y</th>\n",
       "      <th>user</th>\n",
       "      <th>item</th>\n",
       "    </tr>\n",
       "  </thead>\n",
       "  <tbody>\n",
       "    <tr>\n",
       "      <th>0</th>\n",
       "      <td>34219</td>\n",
       "      <td>800</td>\n",
       "      <td>4.0</td>\n",
       "      <td>944961725</td>\n",
       "      <td>4.0</td>\n",
       "      <td>34219</td>\n",
       "      <td>800</td>\n",
       "    </tr>\n",
       "    <tr>\n",
       "      <th>1</th>\n",
       "      <td>3908</td>\n",
       "      <td>6787</td>\n",
       "      <td>4.0</td>\n",
       "      <td>1416613667</td>\n",
       "      <td>4.0</td>\n",
       "      <td>3908</td>\n",
       "      <td>6787</td>\n",
       "    </tr>\n",
       "    <tr>\n",
       "      <th>2</th>\n",
       "      <td>25199</td>\n",
       "      <td>180</td>\n",
       "      <td>3.0</td>\n",
       "      <td>1190267269</td>\n",
       "      <td>3.0</td>\n",
       "      <td>25199</td>\n",
       "      <td>180</td>\n",
       "    </tr>\n",
       "    <tr>\n",
       "      <th>3</th>\n",
       "      <td>30102</td>\n",
       "      <td>1172</td>\n",
       "      <td>5.0</td>\n",
       "      <td>1386510852</td>\n",
       "      <td>5.0</td>\n",
       "      <td>30102</td>\n",
       "      <td>1172</td>\n",
       "    </tr>\n",
       "    <tr>\n",
       "      <th>4</th>\n",
       "      <td>44487</td>\n",
       "      <td>44555</td>\n",
       "      <td>3.0</td>\n",
       "      <td>1463508764</td>\n",
       "      <td>3.0</td>\n",
       "      <td>44487</td>\n",
       "      <td>44555</td>\n",
       "    </tr>\n",
       "  </tbody>\n",
       "</table>\n",
       "</div>"
      ],
      "text/plain": [
       "   userId  movieId  rating   timestamp    y   user   item\n",
       "0   34219      800     4.0   944961725  4.0  34219    800\n",
       "1    3908     6787     4.0  1416613667  4.0   3908   6787\n",
       "2   25199      180     3.0  1190267269  3.0  25199    180\n",
       "3   30102     1172     5.0  1386510852  5.0  30102   1172\n",
       "4   44487    44555     3.0  1463508764  3.0  44487  44555"
      ]
     },
     "execution_count": 36,
     "metadata": {},
     "output_type": "execute_result"
    }
   ],
   "source": [
    "df.head()"
   ]
  },
  {
   "cell_type": "code",
   "execution_count": 37,
   "metadata": {},
   "outputs": [],
   "source": [
    "data = (TabularList.from_df(df, cat_names=cat_names, cont_names=cont_names, procs=procs)\n",
    "                           .split_by_idx(valid_idx=range(0,10000)) #tomo las primeras 10000 filas como valid\n",
    "                           .label_from_df(cols=dep_var)\n",
    "                           .databunch())"
   ]
  },
  {
   "cell_type": "code",
   "execution_count": null,
   "metadata": {},
   "outputs": [],
   "source": [
    "data.show_batch()"
   ]
  },
  {
   "cell_type": "code",
   "execution_count": 38,
   "metadata": {},
   "outputs": [],
   "source": [
    "emb_szs_str = {\n",
    "  \"userId\": 100,\n",
    "  \"movieId\": 100,\n",
    "}"
   ]
  },
  {
   "cell_type": "code",
   "execution_count": 39,
   "metadata": {},
   "outputs": [],
   "source": [
    "y_range = [0, 5.5]"
   ]
  },
  {
   "cell_type": "code",
   "execution_count": 40,
   "metadata": {},
   "outputs": [],
   "source": [
    "learn_tab = tabular_learner(data, \n",
    "                            layers=[50, 10, 10], \n",
    "                            emb_szs=emb_szs_str,\n",
    "                            y_range = y_range,\n",
    "                            metrics=rmse)"
   ]
  },
  {
   "cell_type": "code",
   "execution_count": 41,
   "metadata": {},
   "outputs": [
    {
     "data": {
      "text/plain": [
       "[(51358, 100), (33446, 100)]"
      ]
     },
     "execution_count": 41,
     "metadata": {},
     "output_type": "execute_result"
    }
   ],
   "source": [
    "data.get_emb_szs({'userId':100,'movieId':100})"
   ]
  },
  {
   "cell_type": "code",
   "execution_count": 42,
   "metadata": {},
   "outputs": [],
   "source": [
    "early_stopping = EarlyStoppingFede(learn = learn_tab, patience = 1)"
   ]
  },
  {
   "cell_type": "code",
   "execution_count": null,
   "metadata": {},
   "outputs": [],
   "source": [
    "testCb = TestCallback(learn = learn_tab)"
   ]
  },
  {
   "cell_type": "code",
   "execution_count": null,
   "metadata": {},
   "outputs": [],
   "source": [
    "activation_stats_cb = callbacks.ActivationStats(learn_tab, [learn_tab.model.layers[0], learn_tab.model.layers[3], learn_tab.model.layers[6], learn_tab.model.layers[9]])"
   ]
  },
  {
   "cell_type": "code",
   "execution_count": null,
   "metadata": {},
   "outputs": [],
   "source": [
    "learn_tab.fit_one_cycle(10, 5.0E-03, callbacks = [early_stopping, testCb, activation_stats_cb])"
   ]
  },
  {
   "cell_type": "code",
   "execution_count": null,
   "metadata": {},
   "outputs": [],
   "source": [
    "tab_val = [0.8082846, 0.77753174, 0.74447626, 0.735781, 0.7415966, 0.7350267, 0.7559605, 0.77367246]"
   ]
  },
  {
   "cell_type": "code",
   "execution_count": null,
   "metadata": {},
   "outputs": [],
   "source": [
    "learn_tab.save(\"learn_tab_3layers\")"
   ]
  },
  {
   "cell_type": "code",
   "execution_count": null,
   "metadata": {},
   "outputs": [],
   "source": [
    "learn_tab.model.forward??"
   ]
  },
  {
   "cell_type": "code",
   "execution_count": null,
   "metadata": {},
   "outputs": [],
   "source": [
    "learn_tab = learn_tab.load(\"learn_tab_3layers\")"
   ]
  },
  {
   "cell_type": "code",
   "execution_count": null,
   "metadata": {},
   "outputs": [],
   "source": [
    "emb_m = learn_tab.model.embeds[1].weight"
   ]
  },
  {
   "cell_type": "code",
   "execution_count": null,
   "metadata": {},
   "outputs": [],
   "source": [
    "emb_m.shape"
   ]
  },
  {
   "cell_type": "code",
   "execution_count": null,
   "metadata": {},
   "outputs": [],
   "source": [
    "u = learn_tab.model.embeds[0](torch.LongTensor([1]))"
   ]
  },
  {
   "cell_type": "code",
   "execution_count": null,
   "metadata": {},
   "outputs": [],
   "source": [
    "u.shape"
   ]
  },
  {
   "cell_type": "code",
   "execution_count": null,
   "metadata": {},
   "outputs": [],
   "source": [
    "learn_tab.model #Me armó los embeddings del tamaño que le pintó"
   ]
  },
  {
   "cell_type": "code",
   "execution_count": null,
   "metadata": {},
   "outputs": [],
   "source": [
    "u = u[0].repeat(emb_m.shape[0]).reshape(emb_m.shape[0], -1)"
   ]
  },
  {
   "cell_type": "code",
   "execution_count": null,
   "metadata": {},
   "outputs": [],
   "source": [
    "u = u.float()"
   ]
  },
  {
   "cell_type": "code",
   "execution_count": null,
   "metadata": {},
   "outputs": [],
   "source": [
    "x = torch.cat([u,emb_m],dim=1)"
   ]
  },
  {
   "cell_type": "code",
   "execution_count": null,
   "metadata": {},
   "outputs": [],
   "source": [
    "x.shape"
   ]
  },
  {
   "cell_type": "code",
   "execution_count": null,
   "metadata": {},
   "outputs": [],
   "source": [
    "# Lo paso por la capa de emb_drop, layers y después aplico la sigmoid.\n",
    "# Lo que consigo es la predicción\n",
    "x = learn_tab.model.emb_drop(x)\n",
    "x = learn_tab.model.layers(x)\n",
    "x = (y_range[1]-y_range[0]) * torch.sigmoid(x) + y_range[0]\n",
    "x"
   ]
  },
  {
   "cell_type": "code",
   "execution_count": null,
   "metadata": {},
   "outputs": [],
   "source": [
    "PELIS = learn_tab.data.dataset.x.classes['movieId']"
   ]
  },
  {
   "cell_type": "code",
   "execution_count": null,
   "metadata": {},
   "outputs": [],
   "source": [
    "PELIS"
   ]
  },
  {
   "cell_type": "code",
   "execution_count": null,
   "metadata": {},
   "outputs": [],
   "source": [
    "# Armo el top de las pelis con mayor predicción de ranking\n",
    "top = sorted([(PELIS[i],round(n[0],2) ) for i,n in enumerate(x.tolist())],key=lambda x:x[1],reverse=True )\n",
    "top[:10]"
   ]
  },
  {
   "cell_type": "code",
   "execution_count": null,
   "metadata": {},
   "outputs": [],
   "source": [
    "top_df = pd.DataFrame(top)"
   ]
  },
  {
   "cell_type": "code",
   "execution_count": null,
   "metadata": {},
   "outputs": [],
   "source": [
    "top_df.columns = ['movieId', 'pred']"
   ]
  },
  {
   "cell_type": "code",
   "execution_count": null,
   "metadata": {},
   "outputs": [],
   "source": [
    "top_df.head()"
   ]
  },
  {
   "cell_type": "code",
   "execution_count": null,
   "metadata": {},
   "outputs": [],
   "source": [
    "top_df['movieId']=top_df['movieId'].astype(str)"
   ]
  },
  {
   "cell_type": "code",
   "execution_count": null,
   "metadata": {},
   "outputs": [],
   "source": [
    "movies['movieId']=movies['movieId'].astype(str)"
   ]
  },
  {
   "cell_type": "code",
   "execution_count": null,
   "metadata": {},
   "outputs": [],
   "source": [
    "top_df = pd.merge(top_df, movies, on = 'movieId')"
   ]
  },
  {
   "cell_type": "code",
   "execution_count": null,
   "metadata": {},
   "outputs": [],
   "source": [
    "top_df.head()"
   ]
  },
  {
   "cell_type": "code",
   "execution_count": null,
   "metadata": {},
   "outputs": [],
   "source": [
    "movies_for_user = ratings_con_nombres[ratings_con_nombres['userId']==1]"
   ]
  },
  {
   "cell_type": "code",
   "execution_count": null,
   "metadata": {},
   "outputs": [],
   "source": [
    "movies_for_user.head()"
   ]
  },
  {
   "cell_type": "code",
   "execution_count": null,
   "metadata": {},
   "outputs": [],
   "source": [
    "top_df['movieId'] = top_df['movieId'].astype(str)"
   ]
  },
  {
   "cell_type": "code",
   "execution_count": null,
   "metadata": {},
   "outputs": [],
   "source": [
    "movies_for_user['movieId'] = movies_for_user['movieId'].astype(str)"
   ]
  },
  {
   "cell_type": "code",
   "execution_count": null,
   "metadata": {},
   "outputs": [],
   "source": [
    "pd.merge(movies_for_user, top_df, on = 'movieId', how = 'outer')"
   ]
  },
  {
   "cell_type": "code",
   "execution_count": null,
   "metadata": {
    "scrolled": true
   },
   "outputs": [],
   "source": [
    "movies_for_user['movieId'].astype(str, inplace = True)"
   ]
  },
  {
   "cell_type": "code",
   "execution_count": null,
   "metadata": {},
   "outputs": [],
   "source": [
    "a = pd.merge(movies_for_user, top_df, on = 'movieId', how = 'outer').sort_values(by = 'pred', ascending = False).reset_index(drop = True)"
   ]
  },
  {
   "cell_type": "code",
   "execution_count": null,
   "metadata": {},
   "outputs": [],
   "source": [
    "a.head()"
   ]
  },
  {
   "cell_type": "code",
   "execution_count": null,
   "metadata": {},
   "outputs": [],
   "source": [
    "a = a.filter(['userId', 'movieId', 'rating', 'pred', 'title_y'])"
   ]
  },
  {
   "cell_type": "code",
   "execution_count": null,
   "metadata": {},
   "outputs": [],
   "source": [
    "a.head()"
   ]
  },
  {
   "cell_type": "code",
   "execution_count": null,
   "metadata": {},
   "outputs": [],
   "source": [
    "a.columns = ['userId', 'movieId', 'rating', 'pred', 'title']"
   ]
  },
  {
   "cell_type": "code",
   "execution_count": null,
   "metadata": {
    "scrolled": true
   },
   "outputs": [],
   "source": [
    "a.dropna()\n"
   ]
  },
  {
   "cell_type": "code",
   "execution_count": null,
   "metadata": {},
   "outputs": [],
   "source": [
    "movies_for_user.head()"
   ]
  },
  {
   "cell_type": "code",
   "execution_count": null,
   "metadata": {},
   "outputs": [],
   "source": [
    "a.head(100)"
   ]
  },
  {
   "cell_type": "code",
   "execution_count": null,
   "metadata": {},
   "outputs": [],
   "source": []
  },
  {
   "cell_type": "markdown",
   "metadata": {},
   "source": [
    "## Modelo Tabular + otras features"
   ]
  },
  {
   "cell_type": "code",
   "execution_count": 36,
   "metadata": {},
   "outputs": [
    {
     "data": {
      "text/plain": [
       "Index(['userId', 'movieId', 'rating', 'timestamp', 'title', 'genres',\n",
       "       '(no genres listed)', 'Drama', 'Mystery', 'Romance', 'Comedy', 'Sci-Fi',\n",
       "       'Western', 'Animation', 'Musical', 'Crime', 'Action', 'Fantasy',\n",
       "       'Documentary', 'Children', 'Film-Noir', 'Horror', 'Thriller', 'War',\n",
       "       'IMAX', 'Adventure', 'release_year', 'age', 'reviews', 'rating_mean'],\n",
       "      dtype='object')"
      ]
     },
     "execution_count": 36,
     "metadata": {},
     "output_type": "execute_result"
    }
   ],
   "source": [
    "ratings_con_nombres.columns"
   ]
  },
  {
   "cell_type": "code",
   "execution_count": 37,
   "metadata": {},
   "outputs": [],
   "source": [
    "df = ratings_con_nombres\n",
    "df = df.sample(frac=1).reset_index(drop=True) #Le aplico un shuffle\n",
    "dep_var = 'rating'\n",
    "cat_names = ['userId', 'movieId']\n",
    "# Ordenarlas alfabeticamente por las dudas\n",
    "cont_names = ['Documentary', 'Musical', 'Thriller',\n",
    "       'Western', 'Film-Noir', 'Adventure', 'Mystery', 'Comedy', 'Animation',\n",
    "       'Drama', 'War', 'Fantasy', 'Children', 'Crime', 'Romance', 'Horror',\n",
    "       'Action', 'Sci-Fi', 'IMAX', 'age']\n",
    "# Agrego la cantidad de reviews y rating medio\n",
    "cont_names = cont_names + ['reviews']\n",
    "procs = [FillMissing, Categorify, Normalize]"
   ]
  },
  {
   "cell_type": "code",
   "execution_count": 38,
   "metadata": {},
   "outputs": [
    {
     "data": {
      "text/html": [
       "<div>\n",
       "<style scoped>\n",
       "    .dataframe tbody tr th:only-of-type {\n",
       "        vertical-align: middle;\n",
       "    }\n",
       "\n",
       "    .dataframe tbody tr th {\n",
       "        vertical-align: top;\n",
       "    }\n",
       "\n",
       "    .dataframe thead th {\n",
       "        text-align: right;\n",
       "    }\n",
       "</style>\n",
       "<table border=\"1\" class=\"dataframe\">\n",
       "  <thead>\n",
       "    <tr style=\"text-align: right;\">\n",
       "      <th></th>\n",
       "      <th>userId</th>\n",
       "      <th>movieId</th>\n",
       "      <th>rating</th>\n",
       "      <th>timestamp</th>\n",
       "      <th>title</th>\n",
       "      <th>genres</th>\n",
       "      <th>(no genres listed)</th>\n",
       "      <th>Drama</th>\n",
       "      <th>Mystery</th>\n",
       "      <th>Romance</th>\n",
       "      <th>...</th>\n",
       "      <th>Film-Noir</th>\n",
       "      <th>Horror</th>\n",
       "      <th>Thriller</th>\n",
       "      <th>War</th>\n",
       "      <th>IMAX</th>\n",
       "      <th>Adventure</th>\n",
       "      <th>release_year</th>\n",
       "      <th>age</th>\n",
       "      <th>reviews</th>\n",
       "      <th>rating_mean</th>\n",
       "    </tr>\n",
       "  </thead>\n",
       "  <tbody>\n",
       "    <tr>\n",
       "      <th>0</th>\n",
       "      <td>49373</td>\n",
       "      <td>3404</td>\n",
       "      <td>3.0</td>\n",
       "      <td>1052287443</td>\n",
       "      <td>Titanic</td>\n",
       "      <td>[Action, Drama]</td>\n",
       "      <td>0</td>\n",
       "      <td>1</td>\n",
       "      <td>0</td>\n",
       "      <td>0</td>\n",
       "      <td>...</td>\n",
       "      <td>0</td>\n",
       "      <td>0</td>\n",
       "      <td>0</td>\n",
       "      <td>0</td>\n",
       "      <td>0</td>\n",
       "      <td>0</td>\n",
       "      <td>1953</td>\n",
       "      <td>-1.56</td>\n",
       "      <td>3404</td>\n",
       "      <td>3.0</td>\n",
       "    </tr>\n",
       "    <tr>\n",
       "      <th>1</th>\n",
       "      <td>37293</td>\n",
       "      <td>74458</td>\n",
       "      <td>3.5</td>\n",
       "      <td>1469313490</td>\n",
       "      <td>Shutter Island</td>\n",
       "      <td>[Drama, Mystery, Thriller]</td>\n",
       "      <td>0</td>\n",
       "      <td>1</td>\n",
       "      <td>1</td>\n",
       "      <td>0</td>\n",
       "      <td>...</td>\n",
       "      <td>0</td>\n",
       "      <td>0</td>\n",
       "      <td>1</td>\n",
       "      <td>0</td>\n",
       "      <td>0</td>\n",
       "      <td>0</td>\n",
       "      <td>2010</td>\n",
       "      <td>0.72</td>\n",
       "      <td>74458</td>\n",
       "      <td>3.5</td>\n",
       "    </tr>\n",
       "    <tr>\n",
       "      <th>2</th>\n",
       "      <td>47660</td>\n",
       "      <td>1777</td>\n",
       "      <td>2.0</td>\n",
       "      <td>942172427</td>\n",
       "      <td>Wedding Singer, The</td>\n",
       "      <td>[Comedy, Romance]</td>\n",
       "      <td>0</td>\n",
       "      <td>0</td>\n",
       "      <td>0</td>\n",
       "      <td>1</td>\n",
       "      <td>...</td>\n",
       "      <td>0</td>\n",
       "      <td>0</td>\n",
       "      <td>0</td>\n",
       "      <td>0</td>\n",
       "      <td>0</td>\n",
       "      <td>0</td>\n",
       "      <td>1998</td>\n",
       "      <td>0.24</td>\n",
       "      <td>1777</td>\n",
       "      <td>2.0</td>\n",
       "    </tr>\n",
       "    <tr>\n",
       "      <th>3</th>\n",
       "      <td>9524</td>\n",
       "      <td>3429</td>\n",
       "      <td>5.0</td>\n",
       "      <td>962468296</td>\n",
       "      <td>Creature Comforts</td>\n",
       "      <td>[Animation, Comedy]</td>\n",
       "      <td>0</td>\n",
       "      <td>0</td>\n",
       "      <td>0</td>\n",
       "      <td>0</td>\n",
       "      <td>...</td>\n",
       "      <td>0</td>\n",
       "      <td>0</td>\n",
       "      <td>0</td>\n",
       "      <td>0</td>\n",
       "      <td>0</td>\n",
       "      <td>0</td>\n",
       "      <td>1989</td>\n",
       "      <td>-0.12</td>\n",
       "      <td>3429</td>\n",
       "      <td>5.0</td>\n",
       "    </tr>\n",
       "    <tr>\n",
       "      <th>4</th>\n",
       "      <td>33903</td>\n",
       "      <td>912</td>\n",
       "      <td>4.0</td>\n",
       "      <td>941751781</td>\n",
       "      <td>Casablanca</td>\n",
       "      <td>[Drama, Romance]</td>\n",
       "      <td>0</td>\n",
       "      <td>1</td>\n",
       "      <td>0</td>\n",
       "      <td>1</td>\n",
       "      <td>...</td>\n",
       "      <td>0</td>\n",
       "      <td>0</td>\n",
       "      <td>0</td>\n",
       "      <td>0</td>\n",
       "      <td>0</td>\n",
       "      <td>0</td>\n",
       "      <td>1942</td>\n",
       "      <td>-2.00</td>\n",
       "      <td>912</td>\n",
       "      <td>4.0</td>\n",
       "    </tr>\n",
       "  </tbody>\n",
       "</table>\n",
       "<p>5 rows × 30 columns</p>\n",
       "</div>"
      ],
      "text/plain": [
       "   userId  movieId  rating   timestamp                 title  \\\n",
       "0   49373     3404     3.0  1052287443              Titanic    \n",
       "1   37293    74458     3.5  1469313490       Shutter Island    \n",
       "2   47660     1777     2.0   942172427  Wedding Singer, The    \n",
       "3    9524     3429     5.0   962468296    Creature Comforts    \n",
       "4   33903      912     4.0   941751781           Casablanca    \n",
       "\n",
       "                       genres  (no genres listed)  Drama  Mystery  Romance  \\\n",
       "0             [Action, Drama]                   0      1        0        0   \n",
       "1  [Drama, Mystery, Thriller]                   0      1        1        0   \n",
       "2           [Comedy, Romance]                   0      0        0        1   \n",
       "3         [Animation, Comedy]                   0      0        0        0   \n",
       "4            [Drama, Romance]                   0      1        0        1   \n",
       "\n",
       "   ...  Film-Noir  Horror  Thriller  War  IMAX  Adventure  release_year   age  \\\n",
       "0  ...          0       0         0    0     0          0          1953 -1.56   \n",
       "1  ...          0       0         1    0     0          0          2010  0.72   \n",
       "2  ...          0       0         0    0     0          0          1998  0.24   \n",
       "3  ...          0       0         0    0     0          0          1989 -0.12   \n",
       "4  ...          0       0         0    0     0          0          1942 -2.00   \n",
       "\n",
       "   reviews  rating_mean  \n",
       "0     3404          3.0  \n",
       "1    74458          3.5  \n",
       "2     1777          2.0  \n",
       "3     3429          5.0  \n",
       "4      912          4.0  \n",
       "\n",
       "[5 rows x 30 columns]"
      ]
     },
     "execution_count": 38,
     "metadata": {},
     "output_type": "execute_result"
    }
   ],
   "source": [
    "df.head()"
   ]
  },
  {
   "cell_type": "code",
   "execution_count": 39,
   "metadata": {},
   "outputs": [],
   "source": [
    "df = df.astype({'rating': 'float'})"
   ]
  },
  {
   "cell_type": "code",
   "execution_count": 57,
   "metadata": {},
   "outputs": [],
   "source": [
    "batch_size = 4096*2"
   ]
  },
  {
   "cell_type": "code",
   "execution_count": 58,
   "metadata": {},
   "outputs": [],
   "source": [
    "data = (TabularList.from_df(df, cat_names=cat_names, cont_names=cont_names, procs=procs)\n",
    "                           .split_by_idx(valid_idx=range(0,100000)) #tomo las primeras 10000 filas como valid\n",
    "                           .label_from_df(cols=dep_var)\n",
    "                           .databunch(bs = batch_size))"
   ]
  },
  {
   "cell_type": "code",
   "execution_count": 59,
   "metadata": {},
   "outputs": [],
   "source": [
    "# Pruebo otra cosa\n",
    "#emb_szs_str = {\n",
    "#  \"userId\": 20,\n",
    "#  \"movieId\": 20,\n",
    "#}"
   ]
  },
  {
   "cell_type": "code",
   "execution_count": 60,
   "metadata": {},
   "outputs": [],
   "source": [
    "emb_szs_str = {\n",
    "  \"userId\": 100,\n",
    "  \"movieId\": 100,\n",
    "}"
   ]
  },
  {
   "cell_type": "code",
   "execution_count": 61,
   "metadata": {},
   "outputs": [],
   "source": [
    "y_range = [0, 5.5]\n",
    "#layers = [50]\n",
    "#layers=[50, 10, 10]\n",
    "layers = [200, 100, 50, 20] #<- Esta es la mejor\n",
    "#layers = [200, 100, 100, 50, 20]"
   ]
  },
  {
   "cell_type": "code",
   "execution_count": 45,
   "metadata": {},
   "outputs": [],
   "source": [
    "learn_feat = tabular_learner(data, \n",
    "                            layers=layers, \n",
    "                            emb_szs=emb_szs_str,\n",
    "                            y_range = y_range,\n",
    "                            metrics=[rmse, mae])"
   ]
  },
  {
   "cell_type": "code",
   "execution_count": 46,
   "metadata": {},
   "outputs": [
    {
     "data": {
      "text/plain": [
       "TabularModel(\n",
       "  (embeds): ModuleList(\n",
       "    (0): Embedding(51339, 100)\n",
       "    (1): Embedding(33249, 100)\n",
       "  )\n",
       "  (emb_drop): Dropout(p=0.0, inplace=False)\n",
       "  (bn_cont): BatchNorm1d(21, eps=1e-05, momentum=0.1, affine=True, track_running_stats=True)\n",
       "  (layers): Sequential(\n",
       "    (0): Linear(in_features=221, out_features=200, bias=True)\n",
       "    (1): ReLU(inplace=True)\n",
       "    (2): BatchNorm1d(200, eps=1e-05, momentum=0.1, affine=True, track_running_stats=True)\n",
       "    (3): Linear(in_features=200, out_features=100, bias=True)\n",
       "    (4): ReLU(inplace=True)\n",
       "    (5): BatchNorm1d(100, eps=1e-05, momentum=0.1, affine=True, track_running_stats=True)\n",
       "    (6): Linear(in_features=100, out_features=50, bias=True)\n",
       "    (7): ReLU(inplace=True)\n",
       "    (8): BatchNorm1d(50, eps=1e-05, momentum=0.1, affine=True, track_running_stats=True)\n",
       "    (9): Linear(in_features=50, out_features=20, bias=True)\n",
       "    (10): ReLU(inplace=True)\n",
       "    (11): BatchNorm1d(20, eps=1e-05, momentum=0.1, affine=True, track_running_stats=True)\n",
       "    (12): Linear(in_features=20, out_features=1, bias=True)\n",
       "  )\n",
       ")"
      ]
     },
     "execution_count": 46,
     "metadata": {},
     "output_type": "execute_result"
    }
   ],
   "source": [
    "learn_feat.model"
   ]
  },
  {
   "cell_type": "code",
   "execution_count": 47,
   "metadata": {},
   "outputs": [],
   "source": [
    "early_stopping = EarlyStoppingFede(learn = learn_feat, patience = 0)"
   ]
  },
  {
   "cell_type": "code",
   "execution_count": 48,
   "metadata": {},
   "outputs": [],
   "source": [
    "testCb = TestCallback(learn = learn_feat)"
   ]
  },
  {
   "cell_type": "code",
   "execution_count": 51,
   "metadata": {},
   "outputs": [],
   "source": [
    "activation_stats_cb = callbacks.ActivationStats(learn_feat, [learn_feat.model.layers[0], learn_feat.model.layers[3], learn_feat.model.layers[6], learn_feat.model.layers[9], learn_feat.model.layers[12]])"
   ]
  },
  {
   "cell_type": "code",
   "execution_count": 58,
   "metadata": {},
   "outputs": [
    {
     "data": {
      "text/html": [],
      "text/plain": [
       "<IPython.core.display.HTML object>"
      ]
     },
     "metadata": {},
     "output_type": "display_data"
    },
    {
     "name": "stdout",
     "output_type": "stream",
     "text": [
      "LR Finder is complete, type {learner_name}.recorder.plot() to see the graph.\n",
      "Min numerical gradient: 1.91E-02\n",
      "Min loss divided by 10: 1.10E-01\n"
     ]
    },
    {
     "data": {
      "image/png": "[encoded data removed]",
      "text/plain": [
       "<Figure size 432x288 with 1 Axes>"
      ]
     },
     "metadata": {
      "needs_background": "light"
     },
     "output_type": "display_data"
    }
   ],
   "source": [
    "learn_feat.lr_find()\n",
    "learn_feat.recorder.plot(suggestion = True)"
   ]
  },
  {
   "cell_type": "code",
   "execution_count": null,
   "metadata": {},
   "outputs": [],
   "source": [
    "learn_feat.loss_func\n",
    "len(ratings_con_nombres)"
   ]
  },
  {
   "cell_type": "code",
   "execution_count": 488,
   "metadata": {
    "scrolled": false
   },
   "outputs": [
    {
     "data": {
      "text/html": [
       "\n",
       "    <div>\n",
       "        <style>\n",
       "            /* Turns off some styling */\n",
       "            progress {\n",
       "                /* gets rid of default border in Firefox and Opera. */\n",
       "                border: none;\n",
       "                /* Needs to be in here for Safari polyfill so background images work as expected. */\n",
       "                background-size: auto;\n",
       "            }\n",
       "            .progress-bar-interrupted, .progress-bar-interrupted::-webkit-progress-bar {\n",
       "                background: #F44336;\n",
       "            }\n",
       "        </style>\n",
       "      <progress value='7' class='' max='15', style='width:300px; height:20px; vertical-align: middle;'></progress>\n",
       "      46.67% [7/15 42:34<48:39]\n",
       "    </div>\n",
       "    \n",
       "<table border=\"1\" class=\"dataframe\">\n",
       "  <thead>\n",
       "    <tr style=\"text-align: left;\">\n",
       "      <th>epoch</th>\n",
       "      <th>train_loss</th>\n",
       "      <th>valid_loss</th>\n",
       "      <th>root_mean_squared_error</th>\n",
       "      <th>mean_absolute_error</th>\n",
       "      <th>time</th>\n",
       "    </tr>\n",
       "  </thead>\n",
       "  <tbody>\n",
       "    <tr>\n",
       "      <td>0</td>\n",
       "      <td>0.669447</td>\n",
       "      <td>0.700805</td>\n",
       "      <td>0.837066</td>\n",
       "      <td>0.637085</td>\n",
       "      <td>05:55</td>\n",
       "    </tr>\n",
       "    <tr>\n",
       "      <td>1</td>\n",
       "      <td>0.649051</td>\n",
       "      <td>0.685597</td>\n",
       "      <td>0.827938</td>\n",
       "      <td>0.628788</td>\n",
       "      <td>05:53</td>\n",
       "    </tr>\n",
       "    <tr>\n",
       "      <td>2</td>\n",
       "      <td>0.623181</td>\n",
       "      <td>0.667489</td>\n",
       "      <td>0.816932</td>\n",
       "      <td>0.618670</td>\n",
       "      <td>06:06</td>\n",
       "    </tr>\n",
       "    <tr>\n",
       "      <td>3</td>\n",
       "      <td>0.605247</td>\n",
       "      <td>0.651674</td>\n",
       "      <td>0.807197</td>\n",
       "      <td>0.610888</td>\n",
       "      <td>06:08</td>\n",
       "    </tr>\n",
       "    <tr>\n",
       "      <td>4</td>\n",
       "      <td>0.587977</td>\n",
       "      <td>0.642805</td>\n",
       "      <td>0.801685</td>\n",
       "      <td>0.604947</td>\n",
       "      <td>06:13</td>\n",
       "    </tr>\n",
       "    <tr>\n",
       "      <td>5</td>\n",
       "      <td>0.569921</td>\n",
       "      <td>0.637293</td>\n",
       "      <td>0.798232</td>\n",
       "      <td>0.602287</td>\n",
       "      <td>06:13</td>\n",
       "    </tr>\n",
       "    <tr>\n",
       "      <td>6</td>\n",
       "      <td>0.556197</td>\n",
       "      <td>0.634984</td>\n",
       "      <td>0.796785</td>\n",
       "      <td>0.599964</td>\n",
       "      <td>06:03</td>\n",
       "    </tr>\n",
       "  </tbody>\n",
       "</table><p>\n",
       "\n",
       "    <div>\n",
       "        <style>\n",
       "            /* Turns off some styling */\n",
       "            progress {\n",
       "                /* gets rid of default border in Firefox and Opera. */\n",
       "                border: none;\n",
       "                /* Needs to be in here for Safari polyfill so background images work as expected. */\n",
       "                background-size: auto;\n",
       "            }\n",
       "            .progress-bar-interrupted, .progress-bar-interrupted::-webkit-progress-bar {\n",
       "                background: #F44336;\n",
       "            }\n",
       "        </style>\n",
       "      <progress value='25' class='' max='25', style='width:300px; height:20px; vertical-align: middle;'></progress>\n",
       "      100.00% [25/25 00:04<00:00]\n",
       "    </div>\n",
       "    "
      ],
      "text/plain": [
       "<IPython.core.display.HTML object>"
      ]
     },
     "metadata": {},
     "output_type": "display_data"
    },
    {
     "name": "stdout",
     "output_type": "stream",
     "text": [
      "\n",
      "current:  0.7008046\n",
      "current - delta:  0.700804591178894\n",
      "best:  inf\n",
      "Esto viene bien...\n",
      "testCb: Fin de la epoch  1\n",
      "\n",
      "current:  0.68559724\n",
      "current - delta:  0.6855972409248352\n",
      "best:  0.7008046\n",
      "Esto viene bien...\n",
      "testCb: Fin de la epoch  2\n",
      "\n",
      "current:  0.6674893\n",
      "current - delta:  0.6674892902374268\n",
      "best:  0.68559724\n",
      "Esto viene bien...\n",
      "testCb: Fin de la epoch  3\n",
      "\n",
      "current:  0.6516737\n",
      "current - delta:  0.6516736745834351\n",
      "best:  0.6674893\n",
      "Esto viene bien...\n",
      "testCb: Fin de la epoch  4\n",
      "\n",
      "current:  0.64280534\n",
      "current - delta:  0.6428053379058838\n",
      "best:  0.6516737\n",
      "Esto viene bien...\n",
      "testCb: Fin de la epoch  5\n",
      "\n",
      "current:  0.6372927\n",
      "current - delta:  0.6372926831245422\n",
      "best:  0.64280534\n",
      "Esto viene bien...\n",
      "testCb: Fin de la epoch  6\n",
      "\n",
      "current:  0.63498384\n",
      "current - delta:  0.6349838376045227\n",
      "best:  0.6372927\n",
      "Esto viene bien...\n",
      "testCb: Fin de la epoch  7\n",
      "\n",
      "current:  0.63606894\n",
      "current - delta:  0.6360689401626587\n",
      "best:  0.63498384\n",
      "Hmmmm... sigamos un poco...\n",
      "Epoch 7: early stopping\n",
      "Bueno, ya!\n",
      "testCb: Fin de la epoch  8\n",
      " \n",
      "[0.7008046, 0.68559724, 0.6674893, 0.6516737, 0.64280534, 0.6372927, 0.63498384, 0.63606894]\n",
      " \n",
      "TestCallBack: ¡Gracias por todo! Cantidad de epochs corridas:  8\n"
     ]
    },
    {
     "data": {
      "image/png": "[encoded data removed]",
      "text/plain": [
       "<Figure size 432x288 with 1 Axes>"
      ]
     },
     "metadata": {},
     "output_type": "display_data"
    }
   ],
   "source": [
    "learn_feat.fit_one_cycle(15, max_lr=slice(5.0E-4), callbacks = [early_stopping, testCb, activation_stats_cb], wd = 1e-1)"
   ]
  },
  {
   "cell_type": "code",
   "execution_count": null,
   "metadata": {},
   "outputs": [],
   "source": [
    "# Estos fueron los validation loss que me dieron cuando corrí por primera vez los modelos\n",
    "feat_val_4l_wd = [1.6336462, 1.4850413, 1.3301895, 1.1259092, 0.9350655, 0.809925, 0.7693917, 0.7516432, 0.7440811, 0.7270105, 0.72694075, 0.7237925, 0.71411973, 0.7136541, 0.7087524, 0.7042996, 0.70322967, 0.7037794, 0.70167774, 0.7034479, 0.70354235, 0.70236206]\n",
    "feat_val = [1.497502, 1.2569796, 1.0194939, 0.84688425, 0.79506433, 0.76746106, 0.75731516, 0.7520365, 0.74122566, 0.73910344, 0.7420274, 0.73805964, 0.7364563, 0.7356083, 0.7408874, 0.74903953, 0.7393274]\n",
    "feat_val_4l = [2.0200536, 1.647527, 1.149215, 0.7743218, 0.7528064, 0.723357, 0.7092882, 0.70643723, 0.7073763, 0.7027935, 0.69671184, 0.69825137, 0.6999685]\n",
    "feat_val_5l = [1.4140244, 1.2700337, 1.1224762, 0.9325785, 0.8421689, 0.7948672, 0.7772083, 0.75844234, 0.7481273, 0.73664397, 0.7258033, 0.72641003, 0.71947235, 0.71339095, 0.7171096, 0.7156349, 0.7207856]"
   ]
  },
  {
   "cell_type": "markdown",
   "metadata": {},
   "source": [
    "#### Inicio prueba de dataset de juguete"
   ]
  },
  {
   "cell_type": "code",
   "execution_count": null,
   "metadata": {},
   "outputs": [],
   "source": [
    "N_PELIS = 7000"
   ]
  },
  {
   "cell_type": "code",
   "execution_count": null,
   "metadata": {},
   "outputs": [],
   "source": [
    "import numpy as np"
   ]
  },
  {
   "cell_type": "code",
   "execution_count": null,
   "metadata": {},
   "outputs": [],
   "source": [
    "pelis = pd.DataFrame(np.random.random((20,N_PELIS))).apply(round).T #20 Filas, N_PELIS columnas y transpose al final"
   ]
  },
  {
   "cell_type": "code",
   "execution_count": null,
   "metadata": {},
   "outputs": [],
   "source": [
    "pelis.columns = cont_names"
   ]
  },
  {
   "cell_type": "code",
   "execution_count": null,
   "metadata": {},
   "outputs": [],
   "source": [
    "pelis = pelis.reset_index()\n"
   ]
  },
  {
   "cell_type": "code",
   "execution_count": null,
   "metadata": {},
   "outputs": [],
   "source": [
    "pelis.columns = ['movieId']+cont_names"
   ]
  },
  {
   "cell_type": "code",
   "execution_count": null,
   "metadata": {},
   "outputs": [],
   "source": [
    "pelis.head()"
   ]
  },
  {
   "cell_type": "code",
   "execution_count": null,
   "metadata": {},
   "outputs": [],
   "source": [
    "minter = pd.DataFrame({'user':[500 for i in range(N_PELIS)],'movieId':[i for i in range(N_PELIS)]})"
   ]
  },
  {
   "cell_type": "code",
   "execution_count": null,
   "metadata": {},
   "outputs": [],
   "source": [
    "minter.head()"
   ]
  },
  {
   "cell_type": "code",
   "execution_count": null,
   "metadata": {},
   "outputs": [],
   "source": [
    "arr = minter.merge(pelis,on='movieId')"
   ]
  },
  {
   "cell_type": "code",
   "execution_count": null,
   "metadata": {},
   "outputs": [],
   "source": [
    "arr.shape"
   ]
  },
  {
   "cell_type": "code",
   "execution_count": null,
   "metadata": {},
   "outputs": [],
   "source": [
    "arr.head()"
   ]
  },
  {
   "cell_type": "code",
   "execution_count": null,
   "metadata": {},
   "outputs": [],
   "source": [
    "user_movie = torch.LongTensor(arr.iloc[:,:2].values) # Las variables categoricas por un lado\n",
    "movie_feats = torch.FloatTensor(arr.iloc[:,2:].values) # Y las continuas por el otro"
   ]
  },
  {
   "cell_type": "code",
   "execution_count": null,
   "metadata": {},
   "outputs": [],
   "source": [
    "arr.iloc[:,:2].values"
   ]
  },
  {
   "cell_type": "code",
   "execution_count": null,
   "metadata": {},
   "outputs": [],
   "source": [
    "user_movie.shape, movie_feats.shape"
   ]
  },
  {
   "cell_type": "code",
   "execution_count": null,
   "metadata": {},
   "outputs": [],
   "source": [
    "user_movie"
   ]
  },
  {
   "cell_type": "code",
   "execution_count": null,
   "metadata": {},
   "outputs": [],
   "source": [
    "movie_feats"
   ]
  },
  {
   "cell_type": "code",
   "execution_count": null,
   "metadata": {},
   "outputs": [],
   "source": [
    "learn_feat.model(user_movie,\n",
    "                movie_feats) # Se lo pasamos al modelo y conseguimos las predicciones\n",
    "# Aclaro: Para usar este método reqiuere tener el DataFrame filtrado para un sólo user"
   ]
  },
  {
   "cell_type": "markdown",
   "metadata": {},
   "source": [
    "#### Fin de la prueba con el DataSet de juguete"
   ]
  },
  {
   "cell_type": "markdown",
   "metadata": {},
   "source": [
    "Voy a crear una matriz que tenga todas las películas (las del testset) con sus categorías y age, y le vamos a agregar un user. Esto va a ser el input del modelo para que nos haga las predicciones."
   ]
  },
  {
   "cell_type": "code",
   "execution_count": null,
   "metadata": {},
   "outputs": [],
   "source": [
    "movies.head()"
   ]
  },
  {
   "cell_type": "code",
   "execution_count": null,
   "metadata": {
    "scrolled": true
   },
   "outputs": [],
   "source": [
    "arr = movies"
   ]
  },
  {
   "cell_type": "code",
   "execution_count": null,
   "metadata": {},
   "outputs": [],
   "source": [
    "arr.head()"
   ]
  },
  {
   "cell_type": "markdown",
   "metadata": {},
   "source": [
    "Primero voy a quedarme con aquellas películas que forman parte del Train set."
   ]
  },
  {
   "cell_type": "code",
   "execution_count": null,
   "metadata": {},
   "outputs": [],
   "source": [
    "arr = arr[arr['movieId'].apply(lambda x: np.isin(learn_feat.data.dataset.x.classes['movieId'], str(x)).sum() >0)]"
   ]
  },
  {
   "cell_type": "markdown",
   "metadata": {},
   "source": [
    "A aquellas películas que forman parte del Train set le asigno un número de fila. Esto debería coincidir con el número de fila en su matriz de embeddings."
   ]
  },
  {
   "cell_type": "code",
   "execution_count": null,
   "metadata": {},
   "outputs": [],
   "source": [
    "arr['movie_pos'] = [id_to_position(x, learn_feat, user = False) for x in arr['movieId']]"
   ]
  },
  {
   "cell_type": "markdown",
   "metadata": {},
   "source": [
    "Por otro lado, vamos a hacer las predicciones para un user. El user que fijamos es el número de fila de su matriz de embeddings, no necesariamente coincide con el userId."
   ]
  },
  {
   "cell_type": "code",
   "execution_count": null,
   "metadata": {},
   "outputs": [],
   "source": [
    "userId = 3\n",
    "arr['userId'] = [userId for i in range(len(arr))]"
   ]
  },
  {
   "cell_type": "code",
   "execution_count": null,
   "metadata": {},
   "outputs": [],
   "source": [
    "arr['user_pos'] = [id_to_position(x, learn_feat, user = True) for x in arr['userId']]"
   ]
  },
  {
   "cell_type": "code",
   "execution_count": null,
   "metadata": {},
   "outputs": [],
   "source": [
    "arr = arr.filter(['user_pos', 'movie_pos'] + ['userId', 'movieId'] + ['title'] + cont_names)"
   ]
  },
  {
   "cell_type": "code",
   "execution_count": null,
   "metadata": {},
   "outputs": [],
   "source": [
    "arr.shape"
   ]
  },
  {
   "cell_type": "code",
   "execution_count": null,
   "metadata": {},
   "outputs": [],
   "source": [
    "arr.tail()"
   ]
  },
  {
   "cell_type": "code",
   "execution_count": null,
   "metadata": {},
   "outputs": [],
   "source": [
    "arr.columns"
   ]
  },
  {
   "cell_type": "markdown",
   "metadata": {},
   "source": [
    "Creamos la entrada del modelo. Por un lado va a ser las posiciones en la matriz de embeddings del usuario y de la película. Esto en forma de tensor de tipo Long (de nuevo porque estamos dando una posición)\n",
    "\n",
    "Por otro lado tenemos las variables continuas, que entran directamente y no como posición dentro de una matriz de embeddings porque no se traducen a embeddings."
   ]
  },
  {
   "cell_type": "code",
   "execution_count": null,
   "metadata": {},
   "outputs": [],
   "source": [
    "user_movie = torch.LongTensor(arr.iloc[:,:2].values) # Las variables categoricas por un lado\n",
    "movie_feats = torch.FloatTensor(arr.iloc[:,5:].values) # Y las continuas por el otro"
   ]
  },
  {
   "cell_type": "code",
   "execution_count": null,
   "metadata": {},
   "outputs": [],
   "source": [
    "user_movie.shape, movie_feats.shape"
   ]
  },
  {
   "cell_type": "markdown",
   "metadata": {},
   "source": [
    "Por último, se lo damos al modelo para que calcule sus predicciones."
   ]
  },
  {
   "cell_type": "code",
   "execution_count": null,
   "metadata": {},
   "outputs": [],
   "source": [
    "# El problema es que le estoy dando input de películas que no tiene? (porque no están en el train set)\n",
    "print(user_movie.shape, movie_feats.shape)\n",
    "preds = learn_feat.model(user_movie,\n",
    "                movie_feats) # Se lo pasamos al modelo y conseguimos las predicciones"
   ]
  },
  {
   "cell_type": "code",
   "execution_count": null,
   "metadata": {},
   "outputs": [],
   "source": [
    "preds "
   ]
  },
  {
   "cell_type": "markdown",
   "metadata": {},
   "source": [
    "El resultado lo agregamos a la matriz que estábamos armandoo"
   ]
  },
  {
   "cell_type": "code",
   "execution_count": null,
   "metadata": {},
   "outputs": [],
   "source": [
    "arr['prediction'] = preds.detach().numpy() #Uso detach porque tiene que tener req_grad = False para poder pasar a numpy"
   ]
  },
  {
   "cell_type": "code",
   "execution_count": null,
   "metadata": {},
   "outputs": [],
   "source": [
    "arr.head()"
   ]
  },
  {
   "cell_type": "code",
   "execution_count": null,
   "metadata": {},
   "outputs": [],
   "source": [
    "#preds = pd.merge(movies.filter(['movieId']), arr, on = 'movieId').filter(cat_names + ['preds'])"
   ]
  },
  {
   "cell_type": "code",
   "execution_count": null,
   "metadata": {},
   "outputs": [],
   "source": [
    "arr.filter(['user', 'movieId', 'title', 'prediction']).head()"
   ]
  },
  {
   "cell_type": "code",
   "execution_count": null,
   "metadata": {},
   "outputs": [],
   "source": [
    "pred = pd.merge(arr.filter(['user', 'movieId', 'title', 'prediction']), \n",
    "         ratings_con_nombres[ratings_con_nombres['userId']==1].filter(['movieId', 'rating']), \n",
    "         on = 'movieId', how = 'outer')"
   ]
  },
  {
   "cell_type": "code",
   "execution_count": null,
   "metadata": {},
   "outputs": [],
   "source": [
    "pred.head()"
   ]
  },
  {
   "cell_type": "code",
   "execution_count": null,
   "metadata": {},
   "outputs": [],
   "source": [
    "pred = pd.merge(pred, movies.filter(['movieId', 'genres', 'release_year']), on = 'movieId')"
   ]
  },
  {
   "cell_type": "code",
   "execution_count": null,
   "metadata": {},
   "outputs": [],
   "source": [
    "pred = pred.sort_values(by = 'prediction', ascending=False).reset_index(drop = True)"
   ]
  },
  {
   "cell_type": "code",
   "execution_count": null,
   "metadata": {},
   "outputs": [],
   "source": [
    "pred.head(10)"
   ]
  },
  {
   "cell_type": "code",
   "execution_count": null,
   "metadata": {
    "scrolled": true
   },
   "outputs": [],
   "source": [
    "pred.dropna()"
   ]
  },
  {
   "cell_type": "markdown",
   "metadata": {},
   "source": [
    "Todo lo anterior lo resumimos en la función __get_user_recommendation__ que definimos al principio de la notebook"
   ]
  },
  {
   "cell_type": "code",
   "execution_count": 495,
   "metadata": {},
   "outputs": [
    {
     "data": {
      "text/html": [
       "<div>\n",
       "<style scoped>\n",
       "    .dataframe tbody tr th:only-of-type {\n",
       "        vertical-align: middle;\n",
       "    }\n",
       "\n",
       "    .dataframe tbody tr th {\n",
       "        vertical-align: top;\n",
       "    }\n",
       "\n",
       "    .dataframe thead th {\n",
       "        text-align: right;\n",
       "    }\n",
       "</style>\n",
       "<table border=\"1\" class=\"dataframe\">\n",
       "  <thead>\n",
       "    <tr style=\"text-align: right;\">\n",
       "      <th></th>\n",
       "      <th>movieId</th>\n",
       "      <th>title</th>\n",
       "      <th>reviews</th>\n",
       "      <th>prediction</th>\n",
       "      <th>rating</th>\n",
       "      <th>genres</th>\n",
       "      <th>release_year</th>\n",
       "    </tr>\n",
       "  </thead>\n",
       "  <tbody>\n",
       "    <tr>\n",
       "      <th>0</th>\n",
       "      <td>1</td>\n",
       "      <td>Toy Story</td>\n",
       "      <td>12273</td>\n",
       "      <td>5.500000</td>\n",
       "      <td>3.5</td>\n",
       "      <td>[Adventure, Animation, Children, Comedy, Fantasy]</td>\n",
       "      <td>1995</td>\n",
       "    </tr>\n",
       "    <tr>\n",
       "      <th>1</th>\n",
       "      <td>55052</td>\n",
       "      <td>Atonement</td>\n",
       "      <td>667</td>\n",
       "      <td>5.500000</td>\n",
       "      <td>NaN</td>\n",
       "      <td>[Drama, Romance, War]</td>\n",
       "      <td>2007</td>\n",
       "    </tr>\n",
       "    <tr>\n",
       "      <th>2</th>\n",
       "      <td>55232</td>\n",
       "      <td>Resident Evil: Extinction</td>\n",
       "      <td>507</td>\n",
       "      <td>5.500000</td>\n",
       "      <td>NaN</td>\n",
       "      <td>[Action, Horror, Sci-Fi, Thriller]</td>\n",
       "      <td>2007</td>\n",
       "    </tr>\n",
       "    <tr>\n",
       "      <th>3</th>\n",
       "      <td>2594</td>\n",
       "      <td>Open Your Eyes</td>\n",
       "      <td>511</td>\n",
       "      <td>5.500000</td>\n",
       "      <td>NaN</td>\n",
       "      <td>[Drama, Romance, Sci-Fi, Thriller]</td>\n",
       "      <td>1992</td>\n",
       "    </tr>\n",
       "    <tr>\n",
       "      <th>4</th>\n",
       "      <td>7173</td>\n",
       "      <td>Along Came Polly</td>\n",
       "      <td>730</td>\n",
       "      <td>5.500000</td>\n",
       "      <td>NaN</td>\n",
       "      <td>[Comedy, Romance]</td>\n",
       "      <td>2004</td>\n",
       "    </tr>\n",
       "    <tr>\n",
       "      <th>5</th>\n",
       "      <td>2598</td>\n",
       "      <td>Pushing Tin</td>\n",
       "      <td>750</td>\n",
       "      <td>5.500000</td>\n",
       "      <td>NaN</td>\n",
       "      <td>[Comedy]</td>\n",
       "      <td>1999</td>\n",
       "    </tr>\n",
       "    <tr>\n",
       "      <th>6</th>\n",
       "      <td>2599</td>\n",
       "      <td>Election</td>\n",
       "      <td>2743</td>\n",
       "      <td>5.500000</td>\n",
       "      <td>NaN</td>\n",
       "      <td>[Comedy]</td>\n",
       "      <td>1999</td>\n",
       "    </tr>\n",
       "    <tr>\n",
       "      <th>7</th>\n",
       "      <td>2600</td>\n",
       "      <td>eXistenZ</td>\n",
       "      <td>1132</td>\n",
       "      <td>5.500000</td>\n",
       "      <td>NaN</td>\n",
       "      <td>[Action, Sci-Fi, Thriller]</td>\n",
       "      <td>1999</td>\n",
       "    </tr>\n",
       "    <tr>\n",
       "      <th>8</th>\n",
       "      <td>55247</td>\n",
       "      <td>Into the Wild</td>\n",
       "      <td>1969</td>\n",
       "      <td>5.500000</td>\n",
       "      <td>NaN</td>\n",
       "      <td>[Action, Adventure, Drama]</td>\n",
       "      <td>2007</td>\n",
       "    </tr>\n",
       "    <tr>\n",
       "      <th>9</th>\n",
       "      <td>179819</td>\n",
       "      <td>Star Wars: The Last Jedi</td>\n",
       "      <td>396</td>\n",
       "      <td>5.500000</td>\n",
       "      <td>NaN</td>\n",
       "      <td>[Action, Adventure, Fantasy, Sci-Fi]</td>\n",
       "      <td>2017</td>\n",
       "    </tr>\n",
       "    <tr>\n",
       "      <th>10</th>\n",
       "      <td>2605</td>\n",
       "      <td>Entrapment</td>\n",
       "      <td>1940</td>\n",
       "      <td>5.500000</td>\n",
       "      <td>NaN</td>\n",
       "      <td>[Crime, Thriller]</td>\n",
       "      <td>1999</td>\n",
       "    </tr>\n",
       "    <tr>\n",
       "      <th>11</th>\n",
       "      <td>2606</td>\n",
       "      <td>Idle Hands</td>\n",
       "      <td>418</td>\n",
       "      <td>5.500000</td>\n",
       "      <td>NaN</td>\n",
       "      <td>[Comedy, Horror]</td>\n",
       "      <td>1999</td>\n",
       "    </tr>\n",
       "    <tr>\n",
       "      <th>12</th>\n",
       "      <td>7163</td>\n",
       "      <td>Paycheck</td>\n",
       "      <td>637</td>\n",
       "      <td>5.500000</td>\n",
       "      <td>NaN</td>\n",
       "      <td>[Action, Sci-Fi, Thriller]</td>\n",
       "      <td>2003</td>\n",
       "    </tr>\n",
       "    <tr>\n",
       "      <th>13</th>\n",
       "      <td>7162</td>\n",
       "      <td>Cold Mountain</td>\n",
       "      <td>742</td>\n",
       "      <td>5.500000</td>\n",
       "      <td>NaN</td>\n",
       "      <td>[Drama, Romance, War]</td>\n",
       "      <td>2003</td>\n",
       "    </tr>\n",
       "    <tr>\n",
       "      <th>14</th>\n",
       "      <td>7161</td>\n",
       "      <td>Cheaper by the Dozen</td>\n",
       "      <td>388</td>\n",
       "      <td>5.500000</td>\n",
       "      <td>NaN</td>\n",
       "      <td>[Children, Comedy]</td>\n",
       "      <td>2003</td>\n",
       "    </tr>\n",
       "    <tr>\n",
       "      <th>15</th>\n",
       "      <td>2616</td>\n",
       "      <td>Dick Tracy</td>\n",
       "      <td>1298</td>\n",
       "      <td>5.500000</td>\n",
       "      <td>NaN</td>\n",
       "      <td>[Action, Crime]</td>\n",
       "      <td>1990</td>\n",
       "    </tr>\n",
       "    <tr>\n",
       "      <th>16</th>\n",
       "      <td>2617</td>\n",
       "      <td>Mummy, The</td>\n",
       "      <td>3958</td>\n",
       "      <td>5.500000</td>\n",
       "      <td>NaN</td>\n",
       "      <td>[Action, Adventure, Comedy, Fantasy, Horror, T...</td>\n",
       "      <td>1999</td>\n",
       "    </tr>\n",
       "    <tr>\n",
       "      <th>17</th>\n",
       "      <td>2</td>\n",
       "      <td>Jumanji</td>\n",
       "      <td>4868</td>\n",
       "      <td>5.500000</td>\n",
       "      <td>NaN</td>\n",
       "      <td>[Adventure, Children, Fantasy]</td>\n",
       "      <td>1995</td>\n",
       "    </tr>\n",
       "    <tr>\n",
       "      <th>18</th>\n",
       "      <td>7160</td>\n",
       "      <td>Monster</td>\n",
       "      <td>869</td>\n",
       "      <td>5.500000</td>\n",
       "      <td>NaN</td>\n",
       "      <td>[Crime, Drama]</td>\n",
       "      <td>2003</td>\n",
       "    </tr>\n",
       "    <tr>\n",
       "      <th>19</th>\n",
       "      <td>7158</td>\n",
       "      <td>House of Sand and Fog</td>\n",
       "      <td>496</td>\n",
       "      <td>5.500000</td>\n",
       "      <td>NaN</td>\n",
       "      <td>[Drama]</td>\n",
       "      <td>2003</td>\n",
       "    </tr>\n",
       "    <tr>\n",
       "      <th>20</th>\n",
       "      <td>2622</td>\n",
       "      <td>William Shakespeare's A Midsummer Night's Dream</td>\n",
       "      <td>791</td>\n",
       "      <td>5.500000</td>\n",
       "      <td>NaN</td>\n",
       "      <td>[Comedy, Fantasy]</td>\n",
       "      <td>1999</td>\n",
       "    </tr>\n",
       "    <tr>\n",
       "      <th>21</th>\n",
       "      <td>91077</td>\n",
       "      <td>Descendants, The</td>\n",
       "      <td>535</td>\n",
       "      <td>5.500000</td>\n",
       "      <td>NaN</td>\n",
       "      <td>[Comedy, Drama]</td>\n",
       "      <td>2011</td>\n",
       "    </tr>\n",
       "    <tr>\n",
       "      <th>22</th>\n",
       "      <td>7156</td>\n",
       "      <td>Fog of War: Eleven Lessons from the Life of Ro...</td>\n",
       "      <td>585</td>\n",
       "      <td>5.500000</td>\n",
       "      <td>NaN</td>\n",
       "      <td>[Documentary, War]</td>\n",
       "      <td>2003</td>\n",
       "    </tr>\n",
       "    <tr>\n",
       "      <th>23</th>\n",
       "      <td>55118</td>\n",
       "      <td>Eastern Promises</td>\n",
       "      <td>894</td>\n",
       "      <td>5.500000</td>\n",
       "      <td>NaN</td>\n",
       "      <td>[Crime, Drama, Thriller]</td>\n",
       "      <td>2007</td>\n",
       "    </tr>\n",
       "    <tr>\n",
       "      <th>24</th>\n",
       "      <td>2583</td>\n",
       "      <td>Cookie's Fortune</td>\n",
       "      <td>368</td>\n",
       "      <td>5.500000</td>\n",
       "      <td>NaN</td>\n",
       "      <td>[Comedy, Drama]</td>\n",
       "      <td>1999</td>\n",
       "    </tr>\n",
       "    <tr>\n",
       "      <th>25</th>\n",
       "      <td>7154</td>\n",
       "      <td>Mona Lisa Smile</td>\n",
       "      <td>501</td>\n",
       "      <td>5.500000</td>\n",
       "      <td>NaN</td>\n",
       "      <td>[Drama, Romance]</td>\n",
       "      <td>2003</td>\n",
       "    </tr>\n",
       "    <tr>\n",
       "      <th>26</th>\n",
       "      <td>2581</td>\n",
       "      <td>Never Been Kissed</td>\n",
       "      <td>1688</td>\n",
       "      <td>5.500000</td>\n",
       "      <td>NaN</td>\n",
       "      <td>[Comedy, Romance]</td>\n",
       "      <td>1999</td>\n",
       "    </tr>\n",
       "    <tr>\n",
       "      <th>27</th>\n",
       "      <td>2532</td>\n",
       "      <td>Conquest of the Planet of the Apes</td>\n",
       "      <td>394</td>\n",
       "      <td>5.500000</td>\n",
       "      <td>NaN</td>\n",
       "      <td>[Action, Sci-Fi]</td>\n",
       "      <td>1972</td>\n",
       "    </tr>\n",
       "    <tr>\n",
       "      <th>28</th>\n",
       "      <td>2533</td>\n",
       "      <td>Escape from the Planet of the Apes</td>\n",
       "      <td>763</td>\n",
       "      <td>5.500000</td>\n",
       "      <td>NaN</td>\n",
       "      <td>[Action, Sci-Fi]</td>\n",
       "      <td>1971</td>\n",
       "    </tr>\n",
       "    <tr>\n",
       "      <th>29</th>\n",
       "      <td>79132</td>\n",
       "      <td>Inception</td>\n",
       "      <td>7513</td>\n",
       "      <td>5.500000</td>\n",
       "      <td>NaN</td>\n",
       "      <td>[Action, Crime, Drama, Mystery, Sci-Fi, Thrill...</td>\n",
       "      <td>2010</td>\n",
       "    </tr>\n",
       "    <tr>\n",
       "      <th>...</th>\n",
       "      <td>...</td>\n",
       "      <td>...</td>\n",
       "      <td>...</td>\n",
       "      <td>...</td>\n",
       "      <td>...</td>\n",
       "      <td>...</td>\n",
       "      <td>...</td>\n",
       "    </tr>\n",
       "    <tr>\n",
       "      <th>33218</th>\n",
       "      <td>187713</td>\n",
       "      <td>211</td>\n",
       "      <td>4</td>\n",
       "      <td>1.224472</td>\n",
       "      <td>NaN</td>\n",
       "      <td>[(no genres listed)]</td>\n",
       "      <td>2018</td>\n",
       "    </tr>\n",
       "    <tr>\n",
       "      <th>33219</th>\n",
       "      <td>169758</td>\n",
       "      <td>The Ottoman Lieutenant</td>\n",
       "      <td>3</td>\n",
       "      <td>1.220965</td>\n",
       "      <td>NaN</td>\n",
       "      <td>[Drama, Romance, War]</td>\n",
       "      <td>2017</td>\n",
       "    </tr>\n",
       "    <tr>\n",
       "      <th>33220</th>\n",
       "      <td>107115</td>\n",
       "      <td>Fairly Odd Movie: Grow Up, Timmy Turner!, A</td>\n",
       "      <td>2</td>\n",
       "      <td>1.216099</td>\n",
       "      <td>NaN</td>\n",
       "      <td>[Children, Fantasy]</td>\n",
       "      <td>2011</td>\n",
       "    </tr>\n",
       "    <tr>\n",
       "      <th>33221</th>\n",
       "      <td>115961</td>\n",
       "      <td>The Marine 3: Homefront</td>\n",
       "      <td>2</td>\n",
       "      <td>1.211468</td>\n",
       "      <td>NaN</td>\n",
       "      <td>[Action]</td>\n",
       "      <td>2013</td>\n",
       "    </tr>\n",
       "    <tr>\n",
       "      <th>33222</th>\n",
       "      <td>93665</td>\n",
       "      <td>Frankenstein Syndrome, The</td>\n",
       "      <td>1</td>\n",
       "      <td>1.209028</td>\n",
       "      <td>NaN</td>\n",
       "      <td>[Horror, Sci-Fi]</td>\n",
       "      <td>2010</td>\n",
       "    </tr>\n",
       "    <tr>\n",
       "      <th>33223</th>\n",
       "      <td>121247</td>\n",
       "      <td>Wishmaster 3: Beyond the Gates of Hell</td>\n",
       "      <td>4</td>\n",
       "      <td>1.208083</td>\n",
       "      <td>NaN</td>\n",
       "      <td>[Fantasy, Horror]</td>\n",
       "      <td>2001</td>\n",
       "    </tr>\n",
       "    <tr>\n",
       "      <th>33224</th>\n",
       "      <td>177297</td>\n",
       "      <td>Temple</td>\n",
       "      <td>4</td>\n",
       "      <td>1.192523</td>\n",
       "      <td>NaN</td>\n",
       "      <td>[Horror]</td>\n",
       "      <td>2017</td>\n",
       "    </tr>\n",
       "    <tr>\n",
       "      <th>33225</th>\n",
       "      <td>119701</td>\n",
       "      <td>Let It Snow</td>\n",
       "      <td>4</td>\n",
       "      <td>1.184531</td>\n",
       "      <td>NaN</td>\n",
       "      <td>[Children, Drama, Romance]</td>\n",
       "      <td>2013</td>\n",
       "    </tr>\n",
       "    <tr>\n",
       "      <th>33226</th>\n",
       "      <td>155129</td>\n",
       "      <td>Hot Bot</td>\n",
       "      <td>3</td>\n",
       "      <td>1.184417</td>\n",
       "      <td>NaN</td>\n",
       "      <td>[(no genres listed)]</td>\n",
       "      <td>2016</td>\n",
       "    </tr>\n",
       "    <tr>\n",
       "      <th>33227</th>\n",
       "      <td>164103</td>\n",
       "      <td>Most Likely to Die</td>\n",
       "      <td>2</td>\n",
       "      <td>1.183352</td>\n",
       "      <td>NaN</td>\n",
       "      <td>[Horror]</td>\n",
       "      <td>2015</td>\n",
       "    </tr>\n",
       "    <tr>\n",
       "      <th>33228</th>\n",
       "      <td>4075</td>\n",
       "      <td>Monkey's Tale, A</td>\n",
       "      <td>4</td>\n",
       "      <td>1.182366</td>\n",
       "      <td>NaN</td>\n",
       "      <td>[Animation, Children]</td>\n",
       "      <td>1992</td>\n",
       "    </tr>\n",
       "    <tr>\n",
       "      <th>33229</th>\n",
       "      <td>8122</td>\n",
       "      <td>City Limits</td>\n",
       "      <td>7</td>\n",
       "      <td>1.177573</td>\n",
       "      <td>NaN</td>\n",
       "      <td>[Action, Sci-Fi]</td>\n",
       "      <td>1984</td>\n",
       "    </tr>\n",
       "    <tr>\n",
       "      <th>33230</th>\n",
       "      <td>99222</td>\n",
       "      <td>Silent Night</td>\n",
       "      <td>3</td>\n",
       "      <td>1.165968</td>\n",
       "      <td>NaN</td>\n",
       "      <td>[Horror]</td>\n",
       "      <td>2012</td>\n",
       "    </tr>\n",
       "    <tr>\n",
       "      <th>33231</th>\n",
       "      <td>164226</td>\n",
       "      <td>Maximum Ride</td>\n",
       "      <td>6</td>\n",
       "      <td>1.165194</td>\n",
       "      <td>NaN</td>\n",
       "      <td>[Action, Adventure, Comedy, Fantasy, Sci-Fi, T...</td>\n",
       "      <td>2016</td>\n",
       "    </tr>\n",
       "    <tr>\n",
       "      <th>33232</th>\n",
       "      <td>104671</td>\n",
       "      <td>Dracula</td>\n",
       "      <td>4</td>\n",
       "      <td>1.160598</td>\n",
       "      <td>NaN</td>\n",
       "      <td>[Horror, Romance, Thriller]</td>\n",
       "      <td>1992</td>\n",
       "    </tr>\n",
       "    <tr>\n",
       "      <th>33233</th>\n",
       "      <td>69917</td>\n",
       "      <td>Slap Shot 2: Breaking the Ice</td>\n",
       "      <td>7</td>\n",
       "      <td>1.152461</td>\n",
       "      <td>NaN</td>\n",
       "      <td>[Comedy]</td>\n",
       "      <td>2002</td>\n",
       "    </tr>\n",
       "    <tr>\n",
       "      <th>33234</th>\n",
       "      <td>120274</td>\n",
       "      <td>America: Imagine the World Without Her</td>\n",
       "      <td>4</td>\n",
       "      <td>1.150549</td>\n",
       "      <td>NaN</td>\n",
       "      <td>[Documentary]</td>\n",
       "      <td>2014</td>\n",
       "    </tr>\n",
       "    <tr>\n",
       "      <th>33235</th>\n",
       "      <td>175191</td>\n",
       "      <td>Hickok</td>\n",
       "      <td>4</td>\n",
       "      <td>1.149680</td>\n",
       "      <td>NaN</td>\n",
       "      <td>[(no genres listed)]</td>\n",
       "      <td>2017</td>\n",
       "    </tr>\n",
       "    <tr>\n",
       "      <th>33236</th>\n",
       "      <td>173307</td>\n",
       "      <td>The Gracefield Incident</td>\n",
       "      <td>4</td>\n",
       "      <td>1.133107</td>\n",
       "      <td>NaN</td>\n",
       "      <td>[Action, Horror, Sci-Fi]</td>\n",
       "      <td>2015</td>\n",
       "    </tr>\n",
       "    <tr>\n",
       "      <th>33237</th>\n",
       "      <td>92448</td>\n",
       "      <td>Bucky Larson: Born to Be a Star</td>\n",
       "      <td>2</td>\n",
       "      <td>1.128594</td>\n",
       "      <td>NaN</td>\n",
       "      <td>[Comedy]</td>\n",
       "      <td>2011</td>\n",
       "    </tr>\n",
       "    <tr>\n",
       "      <th>33238</th>\n",
       "      <td>41736</td>\n",
       "      <td>7 Seconds</td>\n",
       "      <td>7</td>\n",
       "      <td>1.111470</td>\n",
       "      <td>NaN</td>\n",
       "      <td>[Action, Crime, Thriller]</td>\n",
       "      <td>2005</td>\n",
       "    </tr>\n",
       "    <tr>\n",
       "      <th>33239</th>\n",
       "      <td>99487</td>\n",
       "      <td>All Superheros Must Die</td>\n",
       "      <td>5</td>\n",
       "      <td>1.110489</td>\n",
       "      <td>NaN</td>\n",
       "      <td>[Thriller]</td>\n",
       "      <td>2011</td>\n",
       "    </tr>\n",
       "    <tr>\n",
       "      <th>33240</th>\n",
       "      <td>174661</td>\n",
       "      <td>Tubelight</td>\n",
       "      <td>5</td>\n",
       "      <td>1.085268</td>\n",
       "      <td>NaN</td>\n",
       "      <td>[Drama, War]</td>\n",
       "      <td>2017</td>\n",
       "    </tr>\n",
       "    <tr>\n",
       "      <th>33241</th>\n",
       "      <td>186251</td>\n",
       "      <td>God's Not Dead: A Light in Darkness</td>\n",
       "      <td>4</td>\n",
       "      <td>1.080179</td>\n",
       "      <td>NaN</td>\n",
       "      <td>[Drama]</td>\n",
       "      <td>2018</td>\n",
       "    </tr>\n",
       "    <tr>\n",
       "      <th>33242</th>\n",
       "      <td>93923</td>\n",
       "      <td>Agent Vinod</td>\n",
       "      <td>5</td>\n",
       "      <td>1.076279</td>\n",
       "      <td>NaN</td>\n",
       "      <td>[Action]</td>\n",
       "      <td>2012</td>\n",
       "    </tr>\n",
       "    <tr>\n",
       "      <th>33243</th>\n",
       "      <td>121117</td>\n",
       "      <td>Highlander: The Source</td>\n",
       "      <td>6</td>\n",
       "      <td>1.066651</td>\n",
       "      <td>NaN</td>\n",
       "      <td>[Action, Adventure, Fantasy, Sci-Fi]</td>\n",
       "      <td>2007</td>\n",
       "    </tr>\n",
       "    <tr>\n",
       "      <th>33244</th>\n",
       "      <td>121188</td>\n",
       "      <td>Room 6</td>\n",
       "      <td>4</td>\n",
       "      <td>1.015723</td>\n",
       "      <td>NaN</td>\n",
       "      <td>[Horror, Mystery, Thriller]</td>\n",
       "      <td>2006</td>\n",
       "    </tr>\n",
       "    <tr>\n",
       "      <th>33245</th>\n",
       "      <td>141960</td>\n",
       "      <td>Lost After Dark</td>\n",
       "      <td>2</td>\n",
       "      <td>0.935713</td>\n",
       "      <td>NaN</td>\n",
       "      <td>[Horror]</td>\n",
       "      <td>2014</td>\n",
       "    </tr>\n",
       "    <tr>\n",
       "      <th>33246</th>\n",
       "      <td>7120</td>\n",
       "      <td>DarkWolf</td>\n",
       "      <td>4</td>\n",
       "      <td>0.921454</td>\n",
       "      <td>NaN</td>\n",
       "      <td>[Horror]</td>\n",
       "      <td>2003</td>\n",
       "    </tr>\n",
       "    <tr>\n",
       "      <th>33247</th>\n",
       "      <td>98116</td>\n",
       "      <td>The Scorpion King 3: Battle for Redemption</td>\n",
       "      <td>4</td>\n",
       "      <td>0.840994</td>\n",
       "      <td>NaN</td>\n",
       "      <td>[Action, Adventure, Fantasy]</td>\n",
       "      <td>2012</td>\n",
       "    </tr>\n",
       "  </tbody>\n",
       "</table>\n",
       "<p>33248 rows × 7 columns</p>\n",
       "</div>"
      ],
      "text/plain": [
       "      movieId                                              title  reviews  \\\n",
       "0           1                                         Toy Story     12273   \n",
       "1       55052                                         Atonement       667   \n",
       "2       55232                         Resident Evil: Extinction       507   \n",
       "3        2594                                    Open Your Eyes       511   \n",
       "4        7173                                  Along Came Polly       730   \n",
       "5        2598                                       Pushing Tin       750   \n",
       "6        2599                                          Election      2743   \n",
       "7        2600                                          eXistenZ      1132   \n",
       "8       55247                                     Into the Wild      1969   \n",
       "9      179819                          Star Wars: The Last Jedi       396   \n",
       "10       2605                                        Entrapment      1940   \n",
       "11       2606                                        Idle Hands       418   \n",
       "12       7163                                          Paycheck       637   \n",
       "13       7162                                     Cold Mountain       742   \n",
       "14       7161                              Cheaper by the Dozen       388   \n",
       "15       2616                                        Dick Tracy      1298   \n",
       "16       2617                                        Mummy, The      3958   \n",
       "17          2                                           Jumanji      4868   \n",
       "18       7160                                           Monster       869   \n",
       "19       7158                             House of Sand and Fog       496   \n",
       "20       2622   William Shakespeare's A Midsummer Night's Dream       791   \n",
       "21      91077                                  Descendants, The       535   \n",
       "22       7156  Fog of War: Eleven Lessons from the Life of Ro...      585   \n",
       "23      55118                                  Eastern Promises       894   \n",
       "24       2583                                  Cookie's Fortune       368   \n",
       "25       7154                                   Mona Lisa Smile       501   \n",
       "26       2581                                 Never Been Kissed      1688   \n",
       "27       2532                Conquest of the Planet of the Apes       394   \n",
       "28       2533                Escape from the Planet of the Apes       763   \n",
       "29      79132                                         Inception      7513   \n",
       "...       ...                                                ...      ...   \n",
       "33218  187713                                               211         4   \n",
       "33219  169758                            The Ottoman Lieutenant         3   \n",
       "33220  107115       Fairly Odd Movie: Grow Up, Timmy Turner!, A         2   \n",
       "33221  115961                           The Marine 3: Homefront         2   \n",
       "33222   93665                        Frankenstein Syndrome, The         1   \n",
       "33223  121247            Wishmaster 3: Beyond the Gates of Hell         4   \n",
       "33224  177297                                            Temple         4   \n",
       "33225  119701                                       Let It Snow         4   \n",
       "33226  155129                                           Hot Bot         3   \n",
       "33227  164103                                Most Likely to Die         2   \n",
       "33228    4075                                  Monkey's Tale, A         4   \n",
       "33229    8122                                       City Limits         7   \n",
       "33230   99222                                      Silent Night         3   \n",
       "33231  164226                                      Maximum Ride         6   \n",
       "33232  104671                                           Dracula         4   \n",
       "33233   69917                     Slap Shot 2: Breaking the Ice         7   \n",
       "33234  120274            America: Imagine the World Without Her         4   \n",
       "33235  175191                                            Hickok         4   \n",
       "33236  173307                           The Gracefield Incident         4   \n",
       "33237   92448                   Bucky Larson: Born to Be a Star         2   \n",
       "33238   41736                                         7 Seconds         7   \n",
       "33239   99487                           All Superheros Must Die         5   \n",
       "33240  174661                                         Tubelight         5   \n",
       "33241  186251               God's Not Dead: A Light in Darkness         4   \n",
       "33242   93923                                       Agent Vinod         5   \n",
       "33243  121117                            Highlander: The Source         6   \n",
       "33244  121188                                            Room 6         4   \n",
       "33245  141960                                   Lost After Dark         2   \n",
       "33246    7120                                          DarkWolf         4   \n",
       "33247   98116        The Scorpion King 3: Battle for Redemption         4   \n",
       "\n",
       "       prediction  rating                                             genres  \\\n",
       "0        5.500000     3.5  [Adventure, Animation, Children, Comedy, Fantasy]   \n",
       "1        5.500000     NaN                              [Drama, Romance, War]   \n",
       "2        5.500000     NaN                 [Action, Horror, Sci-Fi, Thriller]   \n",
       "3        5.500000     NaN                 [Drama, Romance, Sci-Fi, Thriller]   \n",
       "4        5.500000     NaN                                  [Comedy, Romance]   \n",
       "5        5.500000     NaN                                           [Comedy]   \n",
       "6        5.500000     NaN                                           [Comedy]   \n",
       "7        5.500000     NaN                         [Action, Sci-Fi, Thriller]   \n",
       "8        5.500000     NaN                         [Action, Adventure, Drama]   \n",
       "9        5.500000     NaN               [Action, Adventure, Fantasy, Sci-Fi]   \n",
       "10       5.500000     NaN                                  [Crime, Thriller]   \n",
       "11       5.500000     NaN                                   [Comedy, Horror]   \n",
       "12       5.500000     NaN                         [Action, Sci-Fi, Thriller]   \n",
       "13       5.500000     NaN                              [Drama, Romance, War]   \n",
       "14       5.500000     NaN                                 [Children, Comedy]   \n",
       "15       5.500000     NaN                                    [Action, Crime]   \n",
       "16       5.500000     NaN  [Action, Adventure, Comedy, Fantasy, Horror, T...   \n",
       "17       5.500000     NaN                     [Adventure, Children, Fantasy]   \n",
       "18       5.500000     NaN                                     [Crime, Drama]   \n",
       "19       5.500000     NaN                                            [Drama]   \n",
       "20       5.500000     NaN                                  [Comedy, Fantasy]   \n",
       "21       5.500000     NaN                                    [Comedy, Drama]   \n",
       "22       5.500000     NaN                                 [Documentary, War]   \n",
       "23       5.500000     NaN                           [Crime, Drama, Thriller]   \n",
       "24       5.500000     NaN                                    [Comedy, Drama]   \n",
       "25       5.500000     NaN                                   [Drama, Romance]   \n",
       "26       5.500000     NaN                                  [Comedy, Romance]   \n",
       "27       5.500000     NaN                                   [Action, Sci-Fi]   \n",
       "28       5.500000     NaN                                   [Action, Sci-Fi]   \n",
       "29       5.500000     NaN  [Action, Crime, Drama, Mystery, Sci-Fi, Thrill...   \n",
       "...           ...     ...                                                ...   \n",
       "33218    1.224472     NaN                               [(no genres listed)]   \n",
       "33219    1.220965     NaN                              [Drama, Romance, War]   \n",
       "33220    1.216099     NaN                                [Children, Fantasy]   \n",
       "33221    1.211468     NaN                                           [Action]   \n",
       "33222    1.209028     NaN                                   [Horror, Sci-Fi]   \n",
       "33223    1.208083     NaN                                  [Fantasy, Horror]   \n",
       "33224    1.192523     NaN                                           [Horror]   \n",
       "33225    1.184531     NaN                         [Children, Drama, Romance]   \n",
       "33226    1.184417     NaN                               [(no genres listed)]   \n",
       "33227    1.183352     NaN                                           [Horror]   \n",
       "33228    1.182366     NaN                              [Animation, Children]   \n",
       "33229    1.177573     NaN                                   [Action, Sci-Fi]   \n",
       "33230    1.165968     NaN                                           [Horror]   \n",
       "33231    1.165194     NaN  [Action, Adventure, Comedy, Fantasy, Sci-Fi, T...   \n",
       "33232    1.160598     NaN                        [Horror, Romance, Thriller]   \n",
       "33233    1.152461     NaN                                           [Comedy]   \n",
       "33234    1.150549     NaN                                      [Documentary]   \n",
       "33235    1.149680     NaN                               [(no genres listed)]   \n",
       "33236    1.133107     NaN                           [Action, Horror, Sci-Fi]   \n",
       "33237    1.128594     NaN                                           [Comedy]   \n",
       "33238    1.111470     NaN                          [Action, Crime, Thriller]   \n",
       "33239    1.110489     NaN                                         [Thriller]   \n",
       "33240    1.085268     NaN                                       [Drama, War]   \n",
       "33241    1.080179     NaN                                            [Drama]   \n",
       "33242    1.076279     NaN                                           [Action]   \n",
       "33243    1.066651     NaN               [Action, Adventure, Fantasy, Sci-Fi]   \n",
       "33244    1.015723     NaN                        [Horror, Mystery, Thriller]   \n",
       "33245    0.935713     NaN                                           [Horror]   \n",
       "33246    0.921454     NaN                                           [Horror]   \n",
       "33247    0.840994     NaN                       [Action, Adventure, Fantasy]   \n",
       "\n",
       "       release_year  \n",
       "0              1995  \n",
       "1              2007  \n",
       "2              2007  \n",
       "3              1992  \n",
       "4              2004  \n",
       "5              1999  \n",
       "6              1999  \n",
       "7              1999  \n",
       "8              2007  \n",
       "9              2017  \n",
       "10             1999  \n",
       "11             1999  \n",
       "12             2003  \n",
       "13             2003  \n",
       "14             2003  \n",
       "15             1990  \n",
       "16             1999  \n",
       "17             1995  \n",
       "18             2003  \n",
       "19             2003  \n",
       "20             1999  \n",
       "21             2011  \n",
       "22             2003  \n",
       "23             2007  \n",
       "24             1999  \n",
       "25             2003  \n",
       "26             1999  \n",
       "27             1972  \n",
       "28             1971  \n",
       "29             2010  \n",
       "...             ...  \n",
       "33218          2018  \n",
       "33219          2017  \n",
       "33220          2011  \n",
       "33221          2013  \n",
       "33222          2010  \n",
       "33223          2001  \n",
       "33224          2017  \n",
       "33225          2013  \n",
       "33226          2016  \n",
       "33227          2015  \n",
       "33228          1992  \n",
       "33229          1984  \n",
       "33230          2012  \n",
       "33231          2016  \n",
       "33232          1992  \n",
       "33233          2002  \n",
       "33234          2014  \n",
       "33235          2017  \n",
       "33236          2015  \n",
       "33237          2011  \n",
       "33238          2005  \n",
       "33239          2011  \n",
       "33240          2017  \n",
       "33241          2018  \n",
       "33242          2012  \n",
       "33243          2007  \n",
       "33244          2006  \n",
       "33245          2014  \n",
       "33246          2003  \n",
       "33247          2012  \n",
       "\n",
       "[33248 rows x 7 columns]"
      ]
     },
     "execution_count": 495,
     "metadata": {},
     "output_type": "execute_result"
    }
   ],
   "source": [
    "recs = get_user_recommendations(userid=1, movies = movies, learner=learn_feat, only_seen = False)\n",
    "recs\n",
    "#recs[recs['title'].str.contains('Harry Potter')]"
   ]
  },
  {
   "cell_type": "code",
   "execution_count": null,
   "metadata": {},
   "outputs": [],
   "source": [
    "learn_feat.model"
   ]
  },
  {
   "cell_type": "markdown",
   "metadata": {},
   "source": [
    "## KNN de los Embeddings de Películas"
   ]
  },
  {
   "cell_type": "markdown",
   "metadata": {},
   "source": [
    "#### Ejemplo con dataset de sklearn"
   ]
  },
  {
   "cell_type": "code",
   "execution_count": 496,
   "metadata": {},
   "outputs": [],
   "source": [
    "import numpy as np\n",
    "import pandas as pd\n",
    "from matplotlib import pyplot as plt\n",
    "from sklearn.datasets import load_breast_cancer\n",
    "from sklearn.metrics import confusion_matrix\n",
    "from sklearn.neighbors import KNeighborsClassifier\n",
    "from sklearn.model_selection import train_test_split\n",
    "import seaborn as sns\n",
    "sns.set()"
   ]
  },
  {
   "cell_type": "code",
   "execution_count": null,
   "metadata": {},
   "outputs": [],
   "source": [
    "breast_cancer = load_breast_cancer()\n",
    "X = pd.DataFrame(breast_cancer.data, columns=breast_cancer.feature_names)\n",
    "X = X[['mean area', 'mean compactness']]\n",
    "y = pd.Categorical.from_codes(breast_cancer.target, breast_cancer.target_names)\n",
    "y = pd.get_dummies(y, drop_first=True)"
   ]
  },
  {
   "cell_type": "code",
   "execution_count": null,
   "metadata": {},
   "outputs": [],
   "source": [
    "X.head()"
   ]
  },
  {
   "cell_type": "code",
   "execution_count": null,
   "metadata": {},
   "outputs": [],
   "source": [
    "np.array(X.iloc[0]).reshape(1, -1)"
   ]
  },
  {
   "cell_type": "code",
   "execution_count": null,
   "metadata": {},
   "outputs": [],
   "source": [
    "X_train, X_test, y_train, y_test = train_test_split(X, y, random_state=1)"
   ]
  },
  {
   "cell_type": "code",
   "execution_count": null,
   "metadata": {},
   "outputs": [],
   "source": [
    "X_train.shape # (datos, features)"
   ]
  },
  {
   "cell_type": "code",
   "execution_count": null,
   "metadata": {},
   "outputs": [],
   "source": [
    "y_train.head()"
   ]
  },
  {
   "cell_type": "code",
   "execution_count": null,
   "metadata": {},
   "outputs": [],
   "source": [
    "knn = KNeighborsClassifier(n_neighbors=5, metric='euclidean')\n",
    "knn.fit(X_train, y_train['benign'])"
   ]
  },
  {
   "cell_type": "code",
   "execution_count": null,
   "metadata": {},
   "outputs": [],
   "source": [
    "y_pred = knn.predict(X_test)"
   ]
  },
  {
   "cell_type": "code",
   "execution_count": null,
   "metadata": {},
   "outputs": [],
   "source": [
    "y_pred"
   ]
  },
  {
   "cell_type": "code",
   "execution_count": null,
   "metadata": {},
   "outputs": [],
   "source": [
    "\n",
    "id_to_position(2571, learn_feat)"
   ]
  },
  {
   "cell_type": "code",
   "execution_count": null,
   "metadata": {},
   "outputs": [],
   "source": [
    "# Input = Xarray-like, shape (n_queries, n_features), or (n_queries, n_indexed) if metric == ‘precomputed’\n",
    "dist, indices = knn.kneighbors(np.array(X.iloc[0]).reshape(1, -1), n_neighbors=3)"
   ]
  },
  {
   "cell_type": "code",
   "execution_count": null,
   "metadata": {},
   "outputs": [],
   "source": [
    "dist, indices"
   ]
  },
  {
   "cell_type": "markdown",
   "metadata": {},
   "source": [
    "### Volviendo a movieLens"
   ]
  },
  {
   "cell_type": "code",
   "execution_count": 80,
   "metadata": {},
   "outputs": [],
   "source": [
    "movies['movieId'] = movies['movieId'].astype(str, inplace = True)"
   ]
  },
  {
   "cell_type": "code",
   "execution_count": 81,
   "metadata": {},
   "outputs": [
    {
     "data": {
      "text/plain": [
       "33457"
      ]
     },
     "execution_count": 81,
     "metadata": {},
     "output_type": "execute_result"
    }
   ],
   "source": [
    "len(movies)"
   ]
  },
  {
   "cell_type": "code",
   "execution_count": 497,
   "metadata": {},
   "outputs": [],
   "source": [
    "X_movies = np.array(learn_feat.model.embeds[1].weight)"
   ]
  },
  {
   "cell_type": "code",
   "execution_count": 498,
   "metadata": {},
   "outputs": [],
   "source": [
    "_ = np.array([0 for x in range((X_movies.shape[0]))])"
   ]
  },
  {
   "cell_type": "code",
   "execution_count": 499,
   "metadata": {},
   "outputs": [
    {
     "data": {
      "text/plain": [
       "(33249,)"
      ]
     },
     "execution_count": 499,
     "metadata": {},
     "output_type": "execute_result"
    }
   ],
   "source": [
    "_.shape"
   ]
  },
  {
   "cell_type": "code",
   "execution_count": 500,
   "metadata": {},
   "outputs": [
    {
     "data": {
      "text/plain": [
       "KNeighborsClassifier(algorithm='auto', leaf_size=30, metric='euclidean',\n",
       "           metric_params=None, n_jobs=None, n_neighbors=5, p=2,\n",
       "           weights='uniform')"
      ]
     },
     "execution_count": 500,
     "metadata": {},
     "output_type": "execute_result"
    }
   ],
   "source": [
    "knn_feat = KNeighborsClassifier(n_neighbors=5, metric='euclidean')\n",
    "knn_feat.fit(X_movies, _)"
   ]
  },
  {
   "cell_type": "code",
   "execution_count": 551,
   "metadata": {},
   "outputs": [
    {
     "data": {
      "text/html": [
       "<div>\n",
       "<style scoped>\n",
       "    .dataframe tbody tr th:only-of-type {\n",
       "        vertical-align: middle;\n",
       "    }\n",
       "\n",
       "    .dataframe tbody tr th {\n",
       "        vertical-align: top;\n",
       "    }\n",
       "\n",
       "    .dataframe thead th {\n",
       "        text-align: right;\n",
       "    }\n",
       "</style>\n",
       "<table border=\"1\" class=\"dataframe\">\n",
       "  <thead>\n",
       "    <tr style=\"text-align: right;\">\n",
       "      <th></th>\n",
       "      <th>movieId</th>\n",
       "      <th>title</th>\n",
       "      <th>release_year</th>\n",
       "      <th>reviews</th>\n",
       "      <th>rating_mean</th>\n",
       "    </tr>\n",
       "  </thead>\n",
       "  <tbody>\n",
       "    <tr>\n",
       "      <th>4863</th>\n",
       "      <td>4973</td>\n",
       "      <td>Amelie</td>\n",
       "      <td>1992</td>\n",
       "      <td>6666</td>\n",
       "      <td>4.125938</td>\n",
       "    </tr>\n",
       "  </tbody>\n",
       "</table>\n",
       "</div>"
      ],
      "text/plain": [
       "     movieId    title  release_year  reviews  rating_mean\n",
       "4863    4973  Amelie           1992     6666     4.125938"
      ]
     },
     "execution_count": 551,
     "metadata": {},
     "output_type": "execute_result"
    }
   ],
   "source": [
    "movies[movies['title'].str.contains('Amelie')].filter(['movieId', 'title', 'release_year', 'reviews', 'rating_mean']).head(2)"
   ]
  },
  {
   "cell_type": "code",
   "execution_count": 552,
   "metadata": {},
   "outputs": [],
   "source": [
    "dist, indices = knn_feat.kneighbors(X_movies[id_to_position(4973, learn_feat)].reshape(1, -1), n_neighbors=33249)\n",
    "dist_max = max(dist[0])"
   ]
  },
  {
   "cell_type": "code",
   "execution_count": 553,
   "metadata": {},
   "outputs": [],
   "source": [
    "def position_to_id(position, learner = learn_feat):\n",
    "    try:\n",
    "        res = learner.data.dataset.x.classes['movieId'][position]\n",
    "    except:\n",
    "        print(\"No movie in position \", position)\n",
    "        res = None\n",
    "    return res"
   ]
  },
  {
   "cell_type": "code",
   "execution_count": 554,
   "metadata": {},
   "outputs": [],
   "source": [
    "# position_to_id\n",
    "indices_ids = [learn_feat.data.dataset.x.classes['movieId'][x] for x in indices[0]]\n",
    "#print(indices_ids)"
   ]
  },
  {
   "cell_type": "code",
   "execution_count": 555,
   "metadata": {},
   "outputs": [],
   "source": [
    "_ = pd.DataFrame(list(zip(indices_ids,dist[0])))\n",
    "_.columns = ['movieId', 'dist']"
   ]
  },
  {
   "cell_type": "code",
   "execution_count": 556,
   "metadata": {
    "scrolled": true
   },
   "outputs": [
    {
     "data": {
      "text/html": [
       "<div>\n",
       "<style scoped>\n",
       "    .dataframe tbody tr th:only-of-type {\n",
       "        vertical-align: middle;\n",
       "    }\n",
       "\n",
       "    .dataframe tbody tr th {\n",
       "        vertical-align: top;\n",
       "    }\n",
       "\n",
       "    .dataframe thead th {\n",
       "        text-align: right;\n",
       "    }\n",
       "</style>\n",
       "<table border=\"1\" class=\"dataframe\">\n",
       "  <thead>\n",
       "    <tr style=\"text-align: right;\">\n",
       "      <th></th>\n",
       "      <th>movieId</th>\n",
       "      <th>title</th>\n",
       "      <th>genres</th>\n",
       "      <th>reviews</th>\n",
       "      <th>release_year</th>\n",
       "      <th>dist</th>\n",
       "      <th>confidence</th>\n",
       "    </tr>\n",
       "  </thead>\n",
       "  <tbody>\n",
       "    <tr>\n",
       "      <th>4862</th>\n",
       "      <td>4973</td>\n",
       "      <td>Amelie</td>\n",
       "      <td>[Comedy, Romance]</td>\n",
       "      <td>6666</td>\n",
       "      <td>1992</td>\n",
       "      <td>0.000000</td>\n",
       "      <td>100.000000</td>\n",
       "    </tr>\n",
       "    <tr>\n",
       "      <th>5502</th>\n",
       "      <td>5618</td>\n",
       "      <td>Spirited Away</td>\n",
       "      <td>[Adventure, Animation, Fantasy]</td>\n",
       "      <td>4235</td>\n",
       "      <td>1992</td>\n",
       "      <td>1.567927</td>\n",
       "      <td>68.444413</td>\n",
       "    </tr>\n",
       "    <tr>\n",
       "      <th>5852</th>\n",
       "      <td>5971</td>\n",
       "      <td>My Neighbor Totoro</td>\n",
       "      <td>[Animation, Children, Drama, Fantasy]</td>\n",
       "      <td>1766</td>\n",
       "      <td>1992</td>\n",
       "      <td>1.567976</td>\n",
       "      <td>68.443435</td>\n",
       "    </tr>\n",
       "    <tr>\n",
       "      <th>7214</th>\n",
       "      <td>7361</td>\n",
       "      <td>Eternal Sunshine of the Spotless Mind</td>\n",
       "      <td>[Drama, Romance, Sci-Fi]</td>\n",
       "      <td>6375</td>\n",
       "      <td>2004</td>\n",
       "      <td>1.600344</td>\n",
       "      <td>67.792005</td>\n",
       "    </tr>\n",
       "    <tr>\n",
       "      <th>7904</th>\n",
       "      <td>8638</td>\n",
       "      <td>Before Sunset</td>\n",
       "      <td>[Drama, Romance]</td>\n",
       "      <td>916</td>\n",
       "      <td>2004</td>\n",
       "      <td>1.704520</td>\n",
       "      <td>65.695392</td>\n",
       "    </tr>\n",
       "    <tr>\n",
       "      <th>6946</th>\n",
       "      <td>7090</td>\n",
       "      <td>Hero</td>\n",
       "      <td>[Action, Adventure, Drama]</td>\n",
       "      <td>1609</td>\n",
       "      <td>1992</td>\n",
       "      <td>1.774891</td>\n",
       "      <td>64.279131</td>\n",
       "    </tr>\n",
       "    <tr>\n",
       "      <th>3919</th>\n",
       "      <td>4027</td>\n",
       "      <td>O Brother, Where Art Thou?</td>\n",
       "      <td>[Adventure, Comedy, Crime]</td>\n",
       "      <td>4548</td>\n",
       "      <td>2000</td>\n",
       "      <td>1.811828</td>\n",
       "      <td>63.535746</td>\n",
       "    </tr>\n",
       "    <tr>\n",
       "      <th>5897</th>\n",
       "      <td>6016</td>\n",
       "      <td>City of God</td>\n",
       "      <td>[Action, Adventure, Crime, Drama, Thriller]</td>\n",
       "      <td>3880</td>\n",
       "      <td>1992</td>\n",
       "      <td>1.834973</td>\n",
       "      <td>63.069930</td>\n",
       "    </tr>\n",
       "    <tr>\n",
       "      <th>9567</th>\n",
       "      <td>31658</td>\n",
       "      <td>Howl's Moving Castle</td>\n",
       "      <td>[Adventure, Animation, Fantasy, Romance]</td>\n",
       "      <td>1959</td>\n",
       "      <td>1992</td>\n",
       "      <td>1.843588</td>\n",
       "      <td>62.896552</td>\n",
       "    </tr>\n",
       "    <tr>\n",
       "      <th>1192</th>\n",
       "      <td>1223</td>\n",
       "      <td>Grand Day Out with Wallace and Gromit, A</td>\n",
       "      <td>[Adventure, Animation, Children, Comedy, Sci-Fi]</td>\n",
       "      <td>1679</td>\n",
       "      <td>1989</td>\n",
       "      <td>1.846150</td>\n",
       "      <td>62.844991</td>\n",
       "    </tr>\n",
       "    <tr>\n",
       "      <th>2910</th>\n",
       "      <td>3000</td>\n",
       "      <td>Princess Mononoke</td>\n",
       "      <td>[Action, Adventure, Animation, Drama, Fantasy]</td>\n",
       "      <td>2543</td>\n",
       "      <td>1992</td>\n",
       "      <td>1.857604</td>\n",
       "      <td>62.614466</td>\n",
       "    </tr>\n",
       "    <tr>\n",
       "      <th>5665</th>\n",
       "      <td>5782</td>\n",
       "      <td>Professional, The</td>\n",
       "      <td>[Action, Drama, Thriller]</td>\n",
       "      <td>903</td>\n",
       "      <td>1992</td>\n",
       "      <td>1.880078</td>\n",
       "      <td>62.162160</td>\n",
       "    </tr>\n",
       "    <tr>\n",
       "      <th>2992</th>\n",
       "      <td>3083</td>\n",
       "      <td>All About My Mother</td>\n",
       "      <td>[Drama]</td>\n",
       "      <td>965</td>\n",
       "      <td>1992</td>\n",
       "      <td>1.893736</td>\n",
       "      <td>61.887295</td>\n",
       "    </tr>\n",
       "    <tr>\n",
       "      <th>2602</th>\n",
       "      <td>2692</td>\n",
       "      <td>Run Lola Run</td>\n",
       "      <td>[Action, Crime]</td>\n",
       "      <td>3856</td>\n",
       "      <td>1992</td>\n",
       "      <td>1.894741</td>\n",
       "      <td>61.867062</td>\n",
       "    </tr>\n",
       "    <tr>\n",
       "      <th>4127</th>\n",
       "      <td>4235</td>\n",
       "      <td>Amores Perros</td>\n",
       "      <td>[Drama, Thriller]</td>\n",
       "      <td>1235</td>\n",
       "      <td>1992</td>\n",
       "      <td>1.904425</td>\n",
       "      <td>61.672163</td>\n",
       "    </tr>\n",
       "    <tr>\n",
       "      <th>11538</th>\n",
       "      <td>53123</td>\n",
       "      <td>Once</td>\n",
       "      <td>[Drama, Musical, Romance]</td>\n",
       "      <td>595</td>\n",
       "      <td>2006</td>\n",
       "      <td>1.925232</td>\n",
       "      <td>61.253415</td>\n",
       "    </tr>\n",
       "    <tr>\n",
       "      <th>5759</th>\n",
       "      <td>5878</td>\n",
       "      <td>Talk to Her</td>\n",
       "      <td>[Drama, Romance]</td>\n",
       "      <td>749</td>\n",
       "      <td>1992</td>\n",
       "      <td>1.926765</td>\n",
       "      <td>61.222562</td>\n",
       "    </tr>\n",
       "    <tr>\n",
       "      <th>11061</th>\n",
       "      <td>48394</td>\n",
       "      <td>Pan's Labyrinth</td>\n",
       "      <td>[Drama, Fantasy, Thriller]</td>\n",
       "      <td>3756</td>\n",
       "      <td>1992</td>\n",
       "      <td>1.944909</td>\n",
       "      <td>60.857396</td>\n",
       "    </tr>\n",
       "    <tr>\n",
       "      <th>6726</th>\n",
       "      <td>6867</td>\n",
       "      <td>Station Agent, The</td>\n",
       "      <td>[Comedy, Drama]</td>\n",
       "      <td>719</td>\n",
       "      <td>2003</td>\n",
       "      <td>1.948650</td>\n",
       "      <td>60.782103</td>\n",
       "    </tr>\n",
       "    <tr>\n",
       "      <th>8848</th>\n",
       "      <td>26662</td>\n",
       "      <td>Kiki's Delivery Service</td>\n",
       "      <td>[Adventure, Animation, Children, Drama, Fantasy]</td>\n",
       "      <td>847</td>\n",
       "      <td>1992</td>\n",
       "      <td>1.971309</td>\n",
       "      <td>60.326084</td>\n",
       "    </tr>\n",
       "    <tr>\n",
       "      <th>4532</th>\n",
       "      <td>4642</td>\n",
       "      <td>Hedwig and the Angry Inch</td>\n",
       "      <td>[Comedy, Drama, Musical]</td>\n",
       "      <td>525</td>\n",
       "      <td>2000</td>\n",
       "      <td>1.982576</td>\n",
       "      <td>60.099322</td>\n",
       "    </tr>\n",
       "    <tr>\n",
       "      <th>1193</th>\n",
       "      <td>1224</td>\n",
       "      <td>Henry V</td>\n",
       "      <td>[Action, Drama, Romance, War]</td>\n",
       "      <td>907</td>\n",
       "      <td>1989</td>\n",
       "      <td>2.021776</td>\n",
       "      <td>59.310405</td>\n",
       "    </tr>\n",
       "    <tr>\n",
       "      <th>2907</th>\n",
       "      <td>2997</td>\n",
       "      <td>Being John Malkovich</td>\n",
       "      <td>[Comedy, Drama, Fantasy]</td>\n",
       "      <td>6021</td>\n",
       "      <td>1999</td>\n",
       "      <td>2.026518</td>\n",
       "      <td>59.214953</td>\n",
       "    </tr>\n",
       "    <tr>\n",
       "      <th>14825</th>\n",
       "      <td>79702</td>\n",
       "      <td>Scott Pilgrim vs. the World</td>\n",
       "      <td>[Action, Comedy, Fantasy, Musical, Romance]</td>\n",
       "      <td>1655</td>\n",
       "      <td>2010</td>\n",
       "      <td>2.045632</td>\n",
       "      <td>58.830276</td>\n",
       "    </tr>\n",
       "    <tr>\n",
       "      <th>714</th>\n",
       "      <td>728</td>\n",
       "      <td>Cold Comfort Farm</td>\n",
       "      <td>[Comedy]</td>\n",
       "      <td>686</td>\n",
       "      <td>1995</td>\n",
       "      <td>2.048041</td>\n",
       "      <td>58.781798</td>\n",
       "    </tr>\n",
       "    <tr>\n",
       "      <th>3803</th>\n",
       "      <td>3910</td>\n",
       "      <td>Dancer in the Dark</td>\n",
       "      <td>[Drama, Musical]</td>\n",
       "      <td>904</td>\n",
       "      <td>2000</td>\n",
       "      <td>2.049715</td>\n",
       "      <td>58.748103</td>\n",
       "    </tr>\n",
       "    <tr>\n",
       "      <th>10653</th>\n",
       "      <td>44555</td>\n",
       "      <td>Lives of Others, The</td>\n",
       "      <td>[Drama, Romance, Thriller]</td>\n",
       "      <td>1769</td>\n",
       "      <td>1992</td>\n",
       "      <td>2.050588</td>\n",
       "      <td>58.730534</td>\n",
       "    </tr>\n",
       "    <tr>\n",
       "      <th>5984</th>\n",
       "      <td>6104</td>\n",
       "      <td>Monty Python Live at the Hollywood Bowl</td>\n",
       "      <td>[Comedy]</td>\n",
       "      <td>517</td>\n",
       "      <td>1982</td>\n",
       "      <td>2.054911</td>\n",
       "      <td>58.643528</td>\n",
       "    </tr>\n",
       "    <tr>\n",
       "      <th>12514</th>\n",
       "      <td>61240</td>\n",
       "      <td>Let the Right One In</td>\n",
       "      <td>[Drama, Fantasy, Horror, Romance]</td>\n",
       "      <td>965</td>\n",
       "      <td>1992</td>\n",
       "      <td>2.055667</td>\n",
       "      <td>58.628312</td>\n",
       "    </tr>\n",
       "    <tr>\n",
       "      <th>762</th>\n",
       "      <td>778</td>\n",
       "      <td>Trainspotting</td>\n",
       "      <td>[Comedy, Crime, Drama]</td>\n",
       "      <td>5649</td>\n",
       "      <td>1996</td>\n",
       "      <td>2.069837</td>\n",
       "      <td>58.343133</td>\n",
       "    </tr>\n",
       "    <tr>\n",
       "      <th>...</th>\n",
       "      <td>...</td>\n",
       "      <td>...</td>\n",
       "      <td>...</td>\n",
       "      <td>...</td>\n",
       "      <td>...</td>\n",
       "      <td>...</td>\n",
       "      <td>...</td>\n",
       "    </tr>\n",
       "    <tr>\n",
       "      <th>18739</th>\n",
       "      <td>103249</td>\n",
       "      <td>World War Z</td>\n",
       "      <td>[Action, Drama, Horror, IMAX]</td>\n",
       "      <td>1074</td>\n",
       "      <td>2013</td>\n",
       "      <td>4.314182</td>\n",
       "      <td>13.174190</td>\n",
       "    </tr>\n",
       "    <tr>\n",
       "      <th>2452</th>\n",
       "      <td>2541</td>\n",
       "      <td>Cruel Intentions</td>\n",
       "      <td>[Drama]</td>\n",
       "      <td>2001</td>\n",
       "      <td>1999</td>\n",
       "      <td>4.316664</td>\n",
       "      <td>13.124236</td>\n",
       "    </tr>\n",
       "    <tr>\n",
       "      <th>47</th>\n",
       "      <td>48</td>\n",
       "      <td>Pocahontas</td>\n",
       "      <td>[Animation, Children, Drama, Musical, Romance]</td>\n",
       "      <td>2965</td>\n",
       "      <td>1995</td>\n",
       "      <td>4.341450</td>\n",
       "      <td>12.625399</td>\n",
       "    </tr>\n",
       "    <tr>\n",
       "      <th>2291</th>\n",
       "      <td>2380</td>\n",
       "      <td>Police Academy 3: Back in Training</td>\n",
       "      <td>[Comedy, Crime]</td>\n",
       "      <td>603</td>\n",
       "      <td>1986</td>\n",
       "      <td>4.344313</td>\n",
       "      <td>12.567784</td>\n",
       "    </tr>\n",
       "    <tr>\n",
       "      <th>538</th>\n",
       "      <td>542</td>\n",
       "      <td>Son in Law</td>\n",
       "      <td>[Comedy, Drama, Romance]</td>\n",
       "      <td>711</td>\n",
       "      <td>1993</td>\n",
       "      <td>4.359324</td>\n",
       "      <td>12.265658</td>\n",
       "    </tr>\n",
       "    <tr>\n",
       "      <th>3933</th>\n",
       "      <td>4041</td>\n",
       "      <td>Officer and a Gentleman, An</td>\n",
       "      <td>[Drama, Romance]</td>\n",
       "      <td>786</td>\n",
       "      <td>1982</td>\n",
       "      <td>4.365281</td>\n",
       "      <td>12.145777</td>\n",
       "    </tr>\n",
       "    <tr>\n",
       "      <th>913</th>\n",
       "      <td>934</td>\n",
       "      <td>Father of the Bride</td>\n",
       "      <td>[Comedy]</td>\n",
       "      <td>852</td>\n",
       "      <td>1950</td>\n",
       "      <td>4.389163</td>\n",
       "      <td>11.665145</td>\n",
       "    </tr>\n",
       "    <tr>\n",
       "      <th>1383</th>\n",
       "      <td>1422</td>\n",
       "      <td>Murder at 1600</td>\n",
       "      <td>[Crime, Drama, Mystery, Thriller]</td>\n",
       "      <td>637</td>\n",
       "      <td>1997</td>\n",
       "      <td>4.392269</td>\n",
       "      <td>11.602626</td>\n",
       "    </tr>\n",
       "    <tr>\n",
       "      <th>3163</th>\n",
       "      <td>3257</td>\n",
       "      <td>Bodyguard, The</td>\n",
       "      <td>[Drama, Romance, Thriller]</td>\n",
       "      <td>1338</td>\n",
       "      <td>1992</td>\n",
       "      <td>4.393431</td>\n",
       "      <td>11.579242</td>\n",
       "    </tr>\n",
       "    <tr>\n",
       "      <th>2292</th>\n",
       "      <td>2381</td>\n",
       "      <td>Police Academy 4: Citizens on Patrol</td>\n",
       "      <td>[Comedy, Crime]</td>\n",
       "      <td>589</td>\n",
       "      <td>1987</td>\n",
       "      <td>4.395051</td>\n",
       "      <td>11.546636</td>\n",
       "    </tr>\n",
       "    <tr>\n",
       "      <th>13609</th>\n",
       "      <td>71264</td>\n",
       "      <td>Cloudy with a Chance of Meatballs</td>\n",
       "      <td>[Animation, Children, Fantasy, IMAX]</td>\n",
       "      <td>606</td>\n",
       "      <td>2009</td>\n",
       "      <td>4.396089</td>\n",
       "      <td>11.525756</td>\n",
       "    </tr>\n",
       "    <tr>\n",
       "      <th>2290</th>\n",
       "      <td>2379</td>\n",
       "      <td>Police Academy 2: Their First Assignment</td>\n",
       "      <td>[Comedy, Crime]</td>\n",
       "      <td>733</td>\n",
       "      <td>1985</td>\n",
       "      <td>4.404131</td>\n",
       "      <td>11.363906</td>\n",
       "    </tr>\n",
       "    <tr>\n",
       "      <th>3169</th>\n",
       "      <td>3263</td>\n",
       "      <td>White Men Can't Jump</td>\n",
       "      <td>[Comedy, Drama]</td>\n",
       "      <td>1197</td>\n",
       "      <td>1992</td>\n",
       "      <td>4.409611</td>\n",
       "      <td>11.253607</td>\n",
       "    </tr>\n",
       "    <tr>\n",
       "      <th>2321</th>\n",
       "      <td>2410</td>\n",
       "      <td>Rocky III</td>\n",
       "      <td>[Action, Drama]</td>\n",
       "      <td>1198</td>\n",
       "      <td>1982</td>\n",
       "      <td>4.415096</td>\n",
       "      <td>11.143222</td>\n",
       "    </tr>\n",
       "    <tr>\n",
       "      <th>314</th>\n",
       "      <td>317</td>\n",
       "      <td>Santa Clause, The</td>\n",
       "      <td>[Comedy, Drama, Fantasy]</td>\n",
       "      <td>3257</td>\n",
       "      <td>1994</td>\n",
       "      <td>4.418407</td>\n",
       "      <td>11.076584</td>\n",
       "    </tr>\n",
       "    <tr>\n",
       "      <th>423</th>\n",
       "      <td>427</td>\n",
       "      <td>Boxing Helena</td>\n",
       "      <td>[Drama, Mystery, Romance, Thriller]</td>\n",
       "      <td>653</td>\n",
       "      <td>1993</td>\n",
       "      <td>4.441012</td>\n",
       "      <td>10.621651</td>\n",
       "    </tr>\n",
       "    <tr>\n",
       "      <th>515</th>\n",
       "      <td>519</td>\n",
       "      <td>RoboCop 3</td>\n",
       "      <td>[Action, Crime, Drama, Sci-Fi, Thriller]</td>\n",
       "      <td>1092</td>\n",
       "      <td>1993</td>\n",
       "      <td>4.442471</td>\n",
       "      <td>10.592286</td>\n",
       "    </tr>\n",
       "    <tr>\n",
       "      <th>191</th>\n",
       "      <td>193</td>\n",
       "      <td>Showgirls</td>\n",
       "      <td>[Drama]</td>\n",
       "      <td>1620</td>\n",
       "      <td>1995</td>\n",
       "      <td>4.472820</td>\n",
       "      <td>9.981487</td>\n",
       "    </tr>\n",
       "    <tr>\n",
       "      <th>1040</th>\n",
       "      <td>1064</td>\n",
       "      <td>Aladdin and the King of Thieves</td>\n",
       "      <td>[Animation, Children, Comedy, Fantasy, Musical...</td>\n",
       "      <td>695</td>\n",
       "      <td>1996</td>\n",
       "      <td>4.483161</td>\n",
       "      <td>9.773374</td>\n",
       "    </tr>\n",
       "    <tr>\n",
       "      <th>2322</th>\n",
       "      <td>2411</td>\n",
       "      <td>Rocky IV</td>\n",
       "      <td>[Action, Drama]</td>\n",
       "      <td>1168</td>\n",
       "      <td>1985</td>\n",
       "      <td>4.489119</td>\n",
       "      <td>9.653457</td>\n",
       "    </tr>\n",
       "    <tr>\n",
       "      <th>2860</th>\n",
       "      <td>2950</td>\n",
       "      <td>Blue Lagoon, The</td>\n",
       "      <td>[Adventure, Drama, Romance]</td>\n",
       "      <td>765</td>\n",
       "      <td>1980</td>\n",
       "      <td>4.504690</td>\n",
       "      <td>9.340079</td>\n",
       "    </tr>\n",
       "    <tr>\n",
       "      <th>13829</th>\n",
       "      <td>72407</td>\n",
       "      <td>Twilight Saga: New Moon, The</td>\n",
       "      <td>[Drama, Fantasy, Horror, Romance, Thriller]</td>\n",
       "      <td>516</td>\n",
       "      <td>2009</td>\n",
       "      <td>4.522614</td>\n",
       "      <td>8.979340</td>\n",
       "    </tr>\n",
       "    <tr>\n",
       "      <th>2331</th>\n",
       "      <td>2420</td>\n",
       "      <td>Karate Kid, The</td>\n",
       "      <td>[Drama]</td>\n",
       "      <td>1997</td>\n",
       "      <td>1984</td>\n",
       "      <td>4.532438</td>\n",
       "      <td>8.781638</td>\n",
       "    </tr>\n",
       "    <tr>\n",
       "      <th>2293</th>\n",
       "      <td>2382</td>\n",
       "      <td>Police Academy 5: Assignment: Miami Beach</td>\n",
       "      <td>[Comedy, Crime]</td>\n",
       "      <td>517</td>\n",
       "      <td>1988</td>\n",
       "      <td>4.535156</td>\n",
       "      <td>8.726934</td>\n",
       "    </tr>\n",
       "    <tr>\n",
       "      <th>1074</th>\n",
       "      <td>1100</td>\n",
       "      <td>Days of Thunder</td>\n",
       "      <td>[Action, Drama, Romance]</td>\n",
       "      <td>1117</td>\n",
       "      <td>1990</td>\n",
       "      <td>4.611399</td>\n",
       "      <td>7.192484</td>\n",
       "    </tr>\n",
       "    <tr>\n",
       "      <th>21272</th>\n",
       "      <td>117529</td>\n",
       "      <td>Jurassic World</td>\n",
       "      <td>[Action, Adventure, Drama, Sci-Fi, Thriller]</td>\n",
       "      <td>978</td>\n",
       "      <td>2015</td>\n",
       "      <td>4.614919</td>\n",
       "      <td>7.121639</td>\n",
       "    </tr>\n",
       "    <tr>\n",
       "      <th>662</th>\n",
       "      <td>673</td>\n",
       "      <td>Space Jam</td>\n",
       "      <td>[Adventure, Animation, Children, Comedy, Fanta...</td>\n",
       "      <td>2310</td>\n",
       "      <td>1996</td>\n",
       "      <td>4.695251</td>\n",
       "      <td>5.504918</td>\n",
       "    </tr>\n",
       "    <tr>\n",
       "      <th>1345</th>\n",
       "      <td>1381</td>\n",
       "      <td>Grease 2</td>\n",
       "      <td>[Comedy, Musical, Romance]</td>\n",
       "      <td>796</td>\n",
       "      <td>1982</td>\n",
       "      <td>4.695702</td>\n",
       "      <td>5.495839</td>\n",
       "    </tr>\n",
       "    <tr>\n",
       "      <th>4139</th>\n",
       "      <td>4247</td>\n",
       "      <td>Joe Dirt</td>\n",
       "      <td>[Adventure, Comedy, Mystery, Romance]</td>\n",
       "      <td>546</td>\n",
       "      <td>2001</td>\n",
       "      <td>4.698422</td>\n",
       "      <td>5.441085</td>\n",
       "    </tr>\n",
       "    <tr>\n",
       "      <th>1832</th>\n",
       "      <td>1920</td>\n",
       "      <td>Small Soldiers</td>\n",
       "      <td>[Animation, Children, Fantasy, War]</td>\n",
       "      <td>856</td>\n",
       "      <td>1998</td>\n",
       "      <td>4.738127</td>\n",
       "      <td>4.641993</td>\n",
       "    </tr>\n",
       "  </tbody>\n",
       "</table>\n",
       "<p>2071 rows × 7 columns</p>\n",
       "</div>"
      ],
      "text/plain": [
       "      movieId                                       title  \\\n",
       "4862     4973                                     Amelie    \n",
       "5502     5618                              Spirited Away    \n",
       "5852     5971                         My Neighbor Totoro    \n",
       "7214     7361      Eternal Sunshine of the Spotless Mind    \n",
       "7904     8638                              Before Sunset    \n",
       "6946     7090                                       Hero    \n",
       "3919     4027                 O Brother, Where Art Thou?    \n",
       "5897     6016                                City of God    \n",
       "9567    31658                       Howl's Moving Castle    \n",
       "1192     1223   Grand Day Out with Wallace and Gromit, A    \n",
       "2910     3000                          Princess Mononoke    \n",
       "5665     5782                          Professional, The    \n",
       "2992     3083                        All About My Mother    \n",
       "2602     2692                               Run Lola Run    \n",
       "4127     4235                              Amores Perros    \n",
       "11538   53123                                       Once    \n",
       "5759     5878                                Talk to Her    \n",
       "11061   48394                            Pan's Labyrinth    \n",
       "6726     6867                         Station Agent, The    \n",
       "8848    26662                    Kiki's Delivery Service    \n",
       "4532     4642                  Hedwig and the Angry Inch    \n",
       "1193     1224                                    Henry V    \n",
       "2907     2997                       Being John Malkovich    \n",
       "14825   79702                Scott Pilgrim vs. the World    \n",
       "714       728                          Cold Comfort Farm    \n",
       "3803     3910                         Dancer in the Dark    \n",
       "10653   44555                       Lives of Others, The    \n",
       "5984     6104    Monty Python Live at the Hollywood Bowl    \n",
       "12514   61240                       Let the Right One In    \n",
       "762       778                              Trainspotting    \n",
       "...       ...                                         ...   \n",
       "18739  103249                                World War Z    \n",
       "2452     2541                           Cruel Intentions    \n",
       "47         48                                 Pocahontas    \n",
       "2291     2380         Police Academy 3: Back in Training    \n",
       "538       542                                 Son in Law    \n",
       "3933     4041                Officer and a Gentleman, An    \n",
       "913       934                        Father of the Bride    \n",
       "1383     1422                             Murder at 1600    \n",
       "3163     3257                             Bodyguard, The    \n",
       "2292     2381       Police Academy 4: Citizens on Patrol    \n",
       "13609   71264          Cloudy with a Chance of Meatballs    \n",
       "2290     2379   Police Academy 2: Their First Assignment    \n",
       "3169     3263                       White Men Can't Jump    \n",
       "2321     2410                                  Rocky III    \n",
       "314       317                          Santa Clause, The    \n",
       "423       427                              Boxing Helena    \n",
       "515       519                                  RoboCop 3    \n",
       "191       193                                  Showgirls    \n",
       "1040     1064            Aladdin and the King of Thieves    \n",
       "2322     2411                                   Rocky IV    \n",
       "2860     2950                           Blue Lagoon, The    \n",
       "13829   72407               Twilight Saga: New Moon, The    \n",
       "2331     2420                            Karate Kid, The    \n",
       "2293     2382  Police Academy 5: Assignment: Miami Beach    \n",
       "1074     1100                            Days of Thunder    \n",
       "21272  117529                             Jurassic World    \n",
       "662       673                                  Space Jam    \n",
       "1345     1381                                   Grease 2    \n",
       "4139     4247                                   Joe Dirt    \n",
       "1832     1920                             Small Soldiers    \n",
       "\n",
       "                                                  genres  reviews  \\\n",
       "4862                                   [Comedy, Romance]     6666   \n",
       "5502                     [Adventure, Animation, Fantasy]     4235   \n",
       "5852               [Animation, Children, Drama, Fantasy]     1766   \n",
       "7214                            [Drama, Romance, Sci-Fi]     6375   \n",
       "7904                                    [Drama, Romance]      916   \n",
       "6946                          [Action, Adventure, Drama]     1609   \n",
       "3919                          [Adventure, Comedy, Crime]     4548   \n",
       "5897         [Action, Adventure, Crime, Drama, Thriller]     3880   \n",
       "9567            [Adventure, Animation, Fantasy, Romance]     1959   \n",
       "1192    [Adventure, Animation, Children, Comedy, Sci-Fi]     1679   \n",
       "2910      [Action, Adventure, Animation, Drama, Fantasy]     2543   \n",
       "5665                           [Action, Drama, Thriller]      903   \n",
       "2992                                             [Drama]      965   \n",
       "2602                                     [Action, Crime]     3856   \n",
       "4127                                   [Drama, Thriller]     1235   \n",
       "11538                          [Drama, Musical, Romance]      595   \n",
       "5759                                    [Drama, Romance]      749   \n",
       "11061                         [Drama, Fantasy, Thriller]     3756   \n",
       "6726                                     [Comedy, Drama]      719   \n",
       "8848    [Adventure, Animation, Children, Drama, Fantasy]      847   \n",
       "4532                            [Comedy, Drama, Musical]      525   \n",
       "1193                       [Action, Drama, Romance, War]      907   \n",
       "2907                            [Comedy, Drama, Fantasy]     6021   \n",
       "14825        [Action, Comedy, Fantasy, Musical, Romance]     1655   \n",
       "714                                             [Comedy]      686   \n",
       "3803                                    [Drama, Musical]      904   \n",
       "10653                         [Drama, Romance, Thriller]     1769   \n",
       "5984                                            [Comedy]      517   \n",
       "12514                  [Drama, Fantasy, Horror, Romance]      965   \n",
       "762                               [Comedy, Crime, Drama]     5649   \n",
       "...                                                  ...      ...   \n",
       "18739                      [Action, Drama, Horror, IMAX]     1074   \n",
       "2452                                             [Drama]     2001   \n",
       "47        [Animation, Children, Drama, Musical, Romance]     2965   \n",
       "2291                                     [Comedy, Crime]      603   \n",
       "538                             [Comedy, Drama, Romance]      711   \n",
       "3933                                    [Drama, Romance]      786   \n",
       "913                                             [Comedy]      852   \n",
       "1383                   [Crime, Drama, Mystery, Thriller]      637   \n",
       "3163                          [Drama, Romance, Thriller]     1338   \n",
       "2292                                     [Comedy, Crime]      589   \n",
       "13609               [Animation, Children, Fantasy, IMAX]      606   \n",
       "2290                                     [Comedy, Crime]      733   \n",
       "3169                                     [Comedy, Drama]     1197   \n",
       "2321                                     [Action, Drama]     1198   \n",
       "314                             [Comedy, Drama, Fantasy]     3257   \n",
       "423                  [Drama, Mystery, Romance, Thriller]      653   \n",
       "515             [Action, Crime, Drama, Sci-Fi, Thriller]     1092   \n",
       "191                                              [Drama]     1620   \n",
       "1040   [Animation, Children, Comedy, Fantasy, Musical...      695   \n",
       "2322                                     [Action, Drama]     1168   \n",
       "2860                         [Adventure, Drama, Romance]      765   \n",
       "13829        [Drama, Fantasy, Horror, Romance, Thriller]      516   \n",
       "2331                                             [Drama]     1997   \n",
       "2293                                     [Comedy, Crime]      517   \n",
       "1074                            [Action, Drama, Romance]     1117   \n",
       "21272       [Action, Adventure, Drama, Sci-Fi, Thriller]      978   \n",
       "662    [Adventure, Animation, Children, Comedy, Fanta...     2310   \n",
       "1345                          [Comedy, Musical, Romance]      796   \n",
       "4139               [Adventure, Comedy, Mystery, Romance]      546   \n",
       "1832                 [Animation, Children, Fantasy, War]      856   \n",
       "\n",
       "       release_year      dist  confidence  \n",
       "4862           1992  0.000000  100.000000  \n",
       "5502           1992  1.567927   68.444413  \n",
       "5852           1992  1.567976   68.443435  \n",
       "7214           2004  1.600344   67.792005  \n",
       "7904           2004  1.704520   65.695392  \n",
       "6946           1992  1.774891   64.279131  \n",
       "3919           2000  1.811828   63.535746  \n",
       "5897           1992  1.834973   63.069930  \n",
       "9567           1992  1.843588   62.896552  \n",
       "1192           1989  1.846150   62.844991  \n",
       "2910           1992  1.857604   62.614466  \n",
       "5665           1992  1.880078   62.162160  \n",
       "2992           1992  1.893736   61.887295  \n",
       "2602           1992  1.894741   61.867062  \n",
       "4127           1992  1.904425   61.672163  \n",
       "11538          2006  1.925232   61.253415  \n",
       "5759           1992  1.926765   61.222562  \n",
       "11061          1992  1.944909   60.857396  \n",
       "6726           2003  1.948650   60.782103  \n",
       "8848           1992  1.971309   60.326084  \n",
       "4532           2000  1.982576   60.099322  \n",
       "1193           1989  2.021776   59.310405  \n",
       "2907           1999  2.026518   59.214953  \n",
       "14825          2010  2.045632   58.830276  \n",
       "714            1995  2.048041   58.781798  \n",
       "3803           2000  2.049715   58.748103  \n",
       "10653          1992  2.050588   58.730534  \n",
       "5984           1982  2.054911   58.643528  \n",
       "12514          1992  2.055667   58.628312  \n",
       "762            1996  2.069837   58.343133  \n",
       "...             ...       ...         ...  \n",
       "18739          2013  4.314182   13.174190  \n",
       "2452           1999  4.316664   13.124236  \n",
       "47             1995  4.341450   12.625399  \n",
       "2291           1986  4.344313   12.567784  \n",
       "538            1993  4.359324   12.265658  \n",
       "3933           1982  4.365281   12.145777  \n",
       "913            1950  4.389163   11.665145  \n",
       "1383           1997  4.392269   11.602626  \n",
       "3163           1992  4.393431   11.579242  \n",
       "2292           1987  4.395051   11.546636  \n",
       "13609          2009  4.396089   11.525756  \n",
       "2290           1985  4.404131   11.363906  \n",
       "3169           1992  4.409611   11.253607  \n",
       "2321           1982  4.415096   11.143222  \n",
       "314            1994  4.418407   11.076584  \n",
       "423            1993  4.441012   10.621651  \n",
       "515            1993  4.442471   10.592286  \n",
       "191            1995  4.472820    9.981487  \n",
       "1040           1996  4.483161    9.773374  \n",
       "2322           1985  4.489119    9.653457  \n",
       "2860           1980  4.504690    9.340079  \n",
       "13829          2009  4.522614    8.979340  \n",
       "2331           1984  4.532438    8.781638  \n",
       "2293           1988  4.535156    8.726934  \n",
       "1074           1990  4.611399    7.192484  \n",
       "21272          2015  4.614919    7.121639  \n",
       "662            1996  4.695251    5.504918  \n",
       "1345           1982  4.695702    5.495839  \n",
       "4139           2001  4.698422    5.441085  \n",
       "1832           1998  4.738127    4.641993  \n",
       "\n",
       "[2071 rows x 7 columns]"
      ]
     },
     "execution_count": 556,
     "metadata": {},
     "output_type": "execute_result"
    }
   ],
   "source": [
    "recs_i_i = movies[movies['movieId'].isin(indices_ids)].filter(['movieId', 'title', 'genres', 'reviews', 'release_year'])\n",
    "recs_i_i = pd.merge(recs_i_i, _, on = 'movieId')\n",
    "recs_i_i = recs_i_i.sort_values(by = 'dist', ascending = True)\n",
    "recs_i_i['confidence'] = (1 - recs_i_i['dist']/dist_max)*100\n",
    "recs_i_i[recs_i_i['reviews']>500]\n",
    "#recs_i_i[recs_i_i['reviews']>50]"
   ]
  },
  {
   "cell_type": "markdown",
   "metadata": {},
   "source": [
    "## Visualization"
   ]
  },
  {
   "cell_type": "code",
   "execution_count": 507,
   "metadata": {},
   "outputs": [],
   "source": [
    "from sklearn.manifold import TSNE"
   ]
  },
  {
   "cell_type": "code",
   "execution_count": 508,
   "metadata": {},
   "outputs": [],
   "source": [
    "embs = learn_feat.model.embeds[1].weight.detach().numpy()"
   ]
  },
  {
   "cell_type": "code",
   "execution_count": 509,
   "metadata": {},
   "outputs": [],
   "source": [
    "embs_red = reduce_dim(embs, components = 2)"
   ]
  },
  {
   "cell_type": "code",
   "execution_count": 510,
   "metadata": {},
   "outputs": [
    {
     "data": {
      "text/plain": [
       "array([[ -6.316306,  37.748238],\n",
       "       [-25.391655, -14.630074],\n",
       "       [  3.309278, -19.44089 ],\n",
       "       [ 12.364125,  -9.980977],\n",
       "       ...,\n",
       "       [-18.599121, -26.556538],\n",
       "       [-13.946325, -23.7626  ],\n",
       "       [ 38.350887,  29.6411  ],\n",
       "       [  0.776258,  38.576805]], dtype=float32)"
      ]
     },
     "execution_count": 510,
     "metadata": {},
     "output_type": "execute_result"
    }
   ],
   "source": [
    "embs_red"
   ]
  },
  {
   "cell_type": "code",
   "execution_count": 511,
   "metadata": {},
   "outputs": [],
   "source": [
    "embs_red_df = pd.DataFrame(embs_red)"
   ]
  },
  {
   "cell_type": "code",
   "execution_count": 512,
   "metadata": {},
   "outputs": [],
   "source": [
    "embs_red_df['genre'] = [movie_has_genre(x, genre='Children') for x in embds_ids]"
   ]
  },
  {
   "cell_type": "code",
   "execution_count": 513,
   "metadata": {},
   "outputs": [],
   "source": [
    "embs_red_df.columns = ['tsne 1', 'tsne 2', 'genre']"
   ]
  },
  {
   "cell_type": "code",
   "execution_count": 514,
   "metadata": {},
   "outputs": [
    {
     "data": {
      "text/html": [
       "<div>\n",
       "<style scoped>\n",
       "    .dataframe tbody tr th:only-of-type {\n",
       "        vertical-align: middle;\n",
       "    }\n",
       "\n",
       "    .dataframe tbody tr th {\n",
       "        vertical-align: top;\n",
       "    }\n",
       "\n",
       "    .dataframe thead th {\n",
       "        text-align: right;\n",
       "    }\n",
       "</style>\n",
       "<table border=\"1\" class=\"dataframe\">\n",
       "  <thead>\n",
       "    <tr style=\"text-align: right;\">\n",
       "      <th></th>\n",
       "      <th>movieId</th>\n",
       "      <th>tsne 1</th>\n",
       "      <th>tsne 2</th>\n",
       "    </tr>\n",
       "  </thead>\n",
       "  <tbody>\n",
       "    <tr>\n",
       "      <th>0</th>\n",
       "      <td>#na#</td>\n",
       "      <td>-6.316306</td>\n",
       "      <td>37.748238</td>\n",
       "    </tr>\n",
       "    <tr>\n",
       "      <th>1</th>\n",
       "      <td>1</td>\n",
       "      <td>-25.391655</td>\n",
       "      <td>-14.630074</td>\n",
       "    </tr>\n",
       "    <tr>\n",
       "      <th>2</th>\n",
       "      <td>2</td>\n",
       "      <td>3.309278</td>\n",
       "      <td>-19.440889</td>\n",
       "    </tr>\n",
       "    <tr>\n",
       "      <th>3</th>\n",
       "      <td>3</td>\n",
       "      <td>12.364125</td>\n",
       "      <td>-9.980977</td>\n",
       "    </tr>\n",
       "    <tr>\n",
       "      <th>4</th>\n",
       "      <td>4</td>\n",
       "      <td>47.060913</td>\n",
       "      <td>-5.152777</td>\n",
       "    </tr>\n",
       "  </tbody>\n",
       "</table>\n",
       "</div>"
      ],
      "text/plain": [
       "  movieId     tsne 1     tsne 2\n",
       "0    #na#  -6.316306  37.748238\n",
       "1       1 -25.391655 -14.630074\n",
       "2       2   3.309278 -19.440889\n",
       "3       3  12.364125  -9.980977\n",
       "4       4  47.060913  -5.152777"
      ]
     },
     "execution_count": 514,
     "metadata": {},
     "output_type": "execute_result"
    }
   ],
   "source": [
    "embs_red_df = embs_red_df.filter(['tsne 1', 'tsne 2'])\n",
    "embs_red_df.reset_index(level=0, inplace=True)\n",
    "embs_red_df['movieId'] = [position_to_id(x) for x in embs_red_df['index']]\n",
    "embs_red_df = embs_red_df.filter(['movieId', 'tsne 1', 'tsne 2'])\n",
    "embs_red_df.head()"
   ]
  },
  {
   "cell_type": "code",
   "execution_count": 515,
   "metadata": {},
   "outputs": [],
   "source": [
    "movie_emb = pd.merge(movies, embs_red_df, on = 'movieId')"
   ]
  },
  {
   "cell_type": "code",
   "execution_count": 517,
   "metadata": {},
   "outputs": [],
   "source": [
    "assert(len(embs_red)==len(learn_feat.data.dataset.x.classes['movieId']))"
   ]
  },
  {
   "cell_type": "code",
   "execution_count": 561,
   "metadata": {},
   "outputs": [
    {
     "data": {
      "image/png": "[encoded data removed]",
      "text/plain": [
       "<Figure size 864x576 with 1 Axes>"
      ]
     },
     "metadata": {},
     "output_type": "display_data"
    }
   ],
   "source": [
    "def label_point(x, y, val, ax):\n",
    "    a = pd.concat({'x': x, 'y': y, 'val': val}, axis=1)\n",
    "    for i, point in a.iterrows():\n",
    "        ax.text(point['x']+.05, point['y'], str(point['val']))\n",
    "\n",
    "movie = 'Die Hard'\n",
    "data = movie_emb\n",
    "data_movie = data[data['title'].str.contains(movie)]\n",
    "genre = 'Action'\n",
    "\n",
    "plt.figure(figsize=(12,8))\n",
    "sns.set_style(\"darkgrid\")\n",
    "ax =sns.scatterplot(x=\"tsne 1\", y=\"tsne 2\",\n",
    "              hue=genre,\n",
    "              data=data, alpha = 0.3,\n",
    "                  palette=('colorblind'), size = \"reviews\", sizes = (1, 500), legend = 'brief')\n",
    "ax1 =sns.scatterplot(x=\"tsne 1\", y=\"tsne 2\",\n",
    "                  data=data[data[genre]==1], alpha = 0.5,\n",
    "                  palette=('colorblind'), size = \"reviews\", sizes = (1, 500), legend = False)\n",
    "ax2 =sns.scatterplot(x=\"tsne 1\", y=\"tsne 2\",\n",
    "                  data=data_movie, alpha = 1,\n",
    "                  color = 'k', marker ='X', s = 50, legend = False)\n",
    "\n",
    "\n",
    "label_point(data_movie['tsne 1'], data_movie['tsne 2'], data_movie['title'], ax2)  \n",
    "\n",
    "plt.title(\"Embeddings for movies using T-SNE with highlighted genre: \"+ genre);"
   ]
  },
  {
   "cell_type": "markdown",
   "metadata": {},
   "source": [
    "## Comparación de modelos"
   ]
  },
  {
   "cell_type": "code",
   "execution_count": null,
   "metadata": {},
   "outputs": [],
   "source": [
    "import seaborn as sns"
   ]
  },
  {
   "cell_type": "code",
   "execution_count": null,
   "metadata": {},
   "outputs": [],
   "source": [
    "plt.figure(figsize=(25,5))\n",
    "sns.set(font_scale=1.3)\n",
    "sns.set_style(\"darkgrid\")\n",
    "plt.ylim(0.67, 1)\n",
    "plt.plot(feat_val, label = \"Tabular + features\")\n",
    "plt.plot(feat_val_4l, label = \"Tabular + features 4 layers\")\n",
    "plt.plot(feat_val_4l_wd, label = \"Tabular + features 4 layers with WD\") # lr slice(5E-05) bs = 64\n",
    "plt.plot(feat_val_5l, label = \"Tabular + features 5 layers\")\n",
    "plt.plot(small_val, label = \"Collaborative filtering\") # bs = 100\n",
    "plt.plot(tab_val, label = \"Tabular simple\")\n",
    "plt.title(\"Validation Loss for different Models\")\n",
    "plt.legend()\n",
    "plt.show()"
   ]
  },
  {
   "cell_type": "code",
   "execution_count": null,
   "metadata": {},
   "outputs": [],
   "source": [
    "plt.figure(figsize=(25,5))\n",
    "sns.set(font_scale=1.3)\n",
    "sns.set_style(\"darkgrid\");\n",
    "g1 = sns.lineplot(x='date', y='counter', data = data[data['event']=='convertion'], label = 'Total convertions (sin bts)', ci=None)\n",
    "g2 = sns.lineplot(x='date', y='counter', data = dataf[dataf['event']=='convertion'], label = 'Convertions 3 1 Recommender', ci=None)\n",
    "plt.xticks(rotation=50);\n",
    "plt.ticklabel_format(style='plain', axis='y',useOffset=False)\n",
    "days = data.sort_values(by=['date'])['date'].unique()\n",
    "daysf = data.sort_values(by=['date'])['date'].unique()\n",
    "if len(days)>1 : \n",
    "    g1.set(xticks=days[0:len(days):step]);\n",
    "    g2.set(xticks=daysf[0:len(daysf):step]);\n",
    "g1.axes.set_title(c,fontsize=20)"
   ]
  },
  {
   "cell_type": "markdown",
   "metadata": {},
   "source": [
    "### De aca para abajo no hay que prestarle atención"
   ]
  },
  {
   "cell_type": "code",
   "execution_count": null,
   "metadata": {},
   "outputs": [],
   "source": []
  },
  {
   "cell_type": "code",
   "execution_count": null,
   "metadata": {},
   "outputs": [],
   "source": []
  },
  {
   "cell_type": "code",
   "execution_count": null,
   "metadata": {},
   "outputs": [],
   "source": []
  },
  {
   "cell_type": "markdown",
   "metadata": {},
   "source": [
    "Otra forma de reordenar los datos es usando el topk que viene con torch"
   ]
  },
  {
   "cell_type": "code",
   "execution_count": null,
   "metadata": {},
   "outputs": [],
   "source": [
    "b,a = torch.topk(x.view(-1),10)\n",
    "[(PELIS[i],round(n,2) ) for i,n in zip(a.tolist(),b.tolist()) ]"
   ]
  },
  {
   "cell_type": "code",
   "execution_count": null,
   "metadata": {},
   "outputs": [],
   "source": []
  },
  {
   "cell_type": "markdown",
   "metadata": {},
   "source": [
    "Ejemplo de module de pytorch que toma dos embeddings de avisos de casas y un embedding de avisos de usuario y los pasa por una capa lineal"
   ]
  },
  {
   "cell_type": "code",
   "execution_count": null,
   "metadata": {},
   "outputs": [],
   "source": [
    "class MiMo(nn.Module):     \n",
    "    def __init__(self, D_in=15, H=5, D_out=10):\n",
    "        \n",
    "        super(MiMo, self).__init__()\n",
    "        self.casa1 = learn_small.model.embeds[0]\n",
    "        self.casa2 = learn_small.model.embeds[0]\n",
    "        self.usuario = learn_small.model.embeds[1]\n",
    "        self.densa = nn.Linear(300,1)\n",
    "    \n",
    "    def forward(self, x):\n",
    "        # Se asume que la estructura del input de entrada (x) es un tensor de vectores de (al menos) 3 coordenadas\n",
    "        # La primer y segunda coordenadas son ids de casa y la tercera es un id de usuario\n",
    "        x = torch.cat([self.casa1(x[:,0]),self.casa2(x[:,1]),self.usuario(x[:,2])],dim=1)        \n",
    "        #x = torch.cat([x,features])   #Puedo pedir que agregue features al embedding antes de pasarlo por la capa lineal\n",
    "        return self.densa(x)\n",
    "        #return 1"
   ]
  },
  {
   "cell_type": "code",
   "execution_count": null,
   "metadata": {},
   "outputs": [],
   "source": []
  },
  {
   "cell_type": "code",
   "execution_count": null,
   "metadata": {},
   "outputs": [],
   "source": []
  },
  {
   "cell_type": "code",
   "execution_count": null,
   "metadata": {},
   "outputs": [],
   "source": [
    "torch.LongTensor([[0,1,2], [3,4,5]])[:,0]"
   ]
  },
  {
   "cell_type": "code",
   "execution_count": null,
   "metadata": {},
   "outputs": [],
   "source": []
  },
  {
   "cell_type": "code",
   "execution_count": null,
   "metadata": {},
   "outputs": [],
   "source": [
    "x = MiMo()\n",
    "x(torch.LongTensor([[0,1,2]]))"
   ]
  },
  {
   "cell_type": "code",
   "execution_count": null,
   "metadata": {},
   "outputs": [],
   "source": []
  },
  {
   "cell_type": "code",
   "execution_count": null,
   "metadata": {},
   "outputs": [],
   "source": []
  },
  {
   "cell_type": "markdown",
   "metadata": {},
   "source": [
    "# Pytorch NN"
   ]
  },
  {
   "cell_type": "markdown",
   "metadata": {},
   "source": [
    "#### Aca hay algunas pruebas con una red de pytorch"
   ]
  },
  {
   "cell_type": "code",
   "execution_count": null,
   "metadata": {},
   "outputs": [],
   "source": [
    "import torch\n",
    "import torch.nn as nn"
   ]
  },
  {
   "cell_type": "code",
   "execution_count": null,
   "metadata": {},
   "outputs": [],
   "source": [
    "# Defining input size, hidden layer size, output size and batch size respectively\n",
    "n_in, n_h, n_out, batch_size = 10, 5, 1, 10"
   ]
  },
  {
   "cell_type": "code",
   "execution_count": null,
   "metadata": {},
   "outputs": [],
   "source": [
    "# Create dummy input and target tensors (data)\n",
    "# Creo un tensor formado por 10 (batch_size) vectores de tamaño 10 (n_in)\n",
    "x = torch.randn(batch_size, n_in)"
   ]
  },
  {
   "cell_type": "code",
   "execution_count": null,
   "metadata": {},
   "outputs": [],
   "source": [
    "# Y creo la salida esperada para cada uno de esos vectores\n",
    "y = torch.tensor([[1.0], [0.0], [0.0], \n",
    "[1.0], [1.0], [1.0], [0.0], [0.0], [1.0], [1.0]])"
   ]
  },
  {
   "cell_type": "code",
   "execution_count": null,
   "metadata": {},
   "outputs": [],
   "source": [
    "# Create a model\n",
    "# nn.Sequential crea una sequencia de modulos (o capas). En este caso armamos una que tenga\n",
    "# Una capa lineal, una Relu, una lineal y una Sigmoid\n",
    "model = nn.Sequential(nn.Linear(n_in, n_h),\n",
    "   nn.ReLU(),\n",
    "   nn.Linear(n_h, n_out),\n",
    "   nn.Sigmoid())"
   ]
  },
  {
   "cell_type": "code",
   "execution_count": null,
   "metadata": {},
   "outputs": [],
   "source": [
    "model"
   ]
  },
  {
   "cell_type": "code",
   "execution_count": null,
   "metadata": {},
   "outputs": [],
   "source": [
    "# Defino la función de pérdida\n",
    "criterion = torch.nn.MSELoss()\n",
    "# Construct the optimizer (Stochastic Gradient Descent in this case)\n",
    "optimizer = torch.optim.SGD(model.parameters(), lr = 0.01)"
   ]
  },
  {
   "cell_type": "code",
   "execution_count": null,
   "metadata": {},
   "outputs": [],
   "source": [
    "# Gradient Descent\n",
    "for epoch in range(50):\n",
    "   # Forward pass: Compute predicted y by passing x to the model\n",
    "   y_pred = model(x)\n",
    "\n",
    "   # Compute and print loss\n",
    "   loss = criterion(y_pred, y)\n",
    "   #print('epoch: ', epoch,' loss: ', loss.item())\n",
    "\n",
    "   # Zero gradients, perform a backward pass, and update the weights.\n",
    "   optimizer.zero_grad()\n",
    "\n",
    "   # perform a backward pass (backpropagation)\n",
    "   loss.backward()\n",
    "\n",
    "   # Update the parameters\n",
    "   optimizer.step()\n",
    "\n",
    "print(y_pred)\n",
    "print(y)"
   ]
  },
  {
   "cell_type": "code",
   "execution_count": null,
   "metadata": {},
   "outputs": [],
   "source": [
    "import os\n",
    "import numpy as np # linear algebra\n",
    "import pandas as pd \n",
    "from scipy import sparse\n",
    "from sklearn.model_selection import train_test_split\n",
    "from sklearn.metrics import mean_squared_error,mean_absolute_error\n",
    "import matplotlib.pyplot as plt\n",
    "import seaborn as sns\n",
    "\n",
    "import torch\n",
    "import torch.nn as nn\n",
    "import torch.nn.functional as F\n",
    "from torch.optim import SparseAdam,Adam,Adagrad,SGD\n",
    "#from livelossplot import PlotLosses"
   ]
  },
  {
   "cell_type": "code",
   "execution_count": null,
   "metadata": {},
   "outputs": [],
   "source": [
    "path = '/home/fvadell/trabajo/recs/ml-latest-small'"
   ]
  },
  {
   "cell_type": "code",
   "execution_count": null,
   "metadata": {},
   "outputs": [],
   "source": [
    "ratings = pd.read_csv(path+'/ratings.csv')\n",
    "ratings['y'] = ratings.rating.apply(str)\n",
    "ratings['user'] = ratings['userId'].apply(lambda x:str(int(x))).astype('category')\n",
    "ratings['item'] = ratings['movieId'].apply(lambda x:str(int(x))).astype('category')\n",
    "ratings.head()"
   ]
  },
  {
   "cell_type": "code",
   "execution_count": null,
   "metadata": {},
   "outputs": [],
   "source": [
    "# Creo train y test sets\n",
    "train, test = train_test_split(ratings, test_size=0.2)"
   ]
  },
  {
   "cell_type": "code",
   "execution_count": null,
   "metadata": {},
   "outputs": [],
   "source": [
    "test.head()"
   ]
  },
  {
   "cell_type": "code",
   "execution_count": null,
   "metadata": {},
   "outputs": [],
   "source": [
    "class Net(nn.Module):\n",
    "\n",
    "    def __init__(self):\n",
    "        super(Net, self).__init__()\n",
    "        # an affine operation: y = Wx + b\n",
    "        self.fc1 = nn.Linear(100, 30)\n",
    "        self.fc2 = nn.Linear(30, 50)\n",
    "        self.fc3 = nn.Linear(50, 1)\n",
    "\n",
    "    def forward(self, x):\n",
    "        x = self.fc1(x)\n",
    "        x = F.relu(x)\n",
    "        x = self.fc2(x)\n",
    "        x = F.relu(x)\n",
    "        x = self.fc3(x)\n",
    "        return x\n",
    "\n",
    "    def num_flat_features(self, x):\n",
    "        size = x.size()[1:]  # all dimensions except the batch dimension\n",
    "        num_features = 1\n",
    "        for s in size:\n",
    "            num_features *= s\n",
    "        return num_features\n",
    "\n",
    "\n",
    "net = Net()\n",
    "print(net)"
   ]
  },
  {
   "cell_type": "code",
   "execution_count": null,
   "metadata": {},
   "outputs": [],
   "source": [
    "x = torch.randn(5,100)"
   ]
  },
  {
   "cell_type": "code",
   "execution_count": null,
   "metadata": {
    "scrolled": true
   },
   "outputs": [],
   "source": [
    "x"
   ]
  },
  {
   "cell_type": "code",
   "execution_count": null,
   "metadata": {},
   "outputs": [],
   "source": [
    "net = Net()"
   ]
  },
  {
   "cell_type": "code",
   "execution_count": null,
   "metadata": {},
   "outputs": [],
   "source": [
    "x = torch.Tensor(x)"
   ]
  },
  {
   "cell_type": "code",
   "execution_count": null,
   "metadata": {},
   "outputs": [],
   "source": [
    "x.shape"
   ]
  },
  {
   "cell_type": "code",
   "execution_count": null,
   "metadata": {},
   "outputs": [],
   "source": [
    "net.forward(x)"
   ]
  },
  {
   "cell_type": "code",
   "execution_count": null,
   "metadata": {},
   "outputs": [],
   "source": [
    "params = list(net.parameters())"
   ]
  },
  {
   "cell_type": "code",
   "execution_count": null,
   "metadata": {},
   "outputs": [],
   "source": [
    "# Hay 2 sets de parámetros por cada capa porque las capas Lineales tienen tanto Weights como Bias.\n",
    "# Si seteara bias=False cuando se llama a nn.Linear entonces tendría 3 sets de parámetros\n",
    "len(params)"
   ]
  },
  {
   "cell_type": "code",
   "execution_count": null,
   "metadata": {},
   "outputs": [],
   "source": [
    "model = nn.Sequential(Net())"
   ]
  },
  {
   "cell_type": "code",
   "execution_count": null,
   "metadata": {},
   "outputs": [],
   "source": [
    "model"
   ]
  },
  {
   "cell_type": "code",
   "execution_count": null,
   "metadata": {},
   "outputs": [],
   "source": [
    "# Defino la función de pérdida\n",
    "criterion = torch.nn.MSELoss()\n",
    "# Construct the optimizer (Stochastic Gradient Descent in this case)\n",
    "optimizer = torch.optim.SGD(model.parameters(), lr = 0.01)"
   ]
  },
  {
   "cell_type": "code",
   "execution_count": null,
   "metadata": {},
   "outputs": [],
   "source": [
    "x"
   ]
  },
  {
   "cell_type": "code",
   "execution_count": null,
   "metadata": {},
   "outputs": [],
   "source": [
    "model(x).shape"
   ]
  },
  {
   "cell_type": "code",
   "execution_count": null,
   "metadata": {},
   "outputs": [],
   "source": [
    "y = torch.Tensor([1,0.2,0.7,0.1,0])"
   ]
  },
  {
   "cell_type": "code",
   "execution_count": null,
   "metadata": {},
   "outputs": [],
   "source": [
    "y.shape"
   ]
  },
  {
   "cell_type": "code",
   "execution_count": null,
   "metadata": {},
   "outputs": [],
   "source": [
    "y.resize_((5,1))\n",
    "y.shape"
   ]
  },
  {
   "cell_type": "code",
   "execution_count": null,
   "metadata": {},
   "outputs": [],
   "source": [
    "# Gradient Descent\n",
    "for epoch in range(50):\n",
    "   # Forward pass: Compute predicted y by passing x to the model\n",
    "   y_pred = model(x)\n",
    "\n",
    "   # Compute and print loss\n",
    "   loss = criterion(y_pred, y)\n",
    "   #print('epoch: ', epoch,' loss: ', loss.item())\n",
    "\n",
    "   # Zero gradients, perform a backward pass, and update the weights.\n",
    "   optimizer.zero_grad()\n",
    "\n",
    "   # perform a backward pass (backpropagation)\n",
    "   loss.backward()\n",
    "\n",
    "   # Update the parameters\n",
    "   optimizer.step()\n",
    "\n",
    "print(y_pred)\n",
    "print(y)"
   ]
  }
 ],
 "metadata": {
  "kernelspec": {
   "display_name": "Python 3",
   "language": "python",
   "name": "python3"
  },
  "language_info": {
   "codemirror_mode": {
    "name": "ipython",
    "version": 3
   },
   "file_extension": ".py",
   "mimetype": "text/x-python",
   "name": "python",
   "nbconvert_exporter": "python",
   "pygments_lexer": "ipython3",
   "version": "3.7.3"
  }
 },
 "nbformat": 4,
 "nbformat_minor": 2
}
