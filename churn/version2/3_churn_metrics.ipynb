{
 "cells": [
  {
   "cell_type": "markdown",
   "metadata": {},
   "source": [
    "# Pasos\n",
    "\n",
    "#### Input\n",
    "\n",
    "Esta notebook va a levantar el csv que se llame __test_results.csv__ que es la salida de la notebook __churn_model_train.ipynb__ y va a calcular algunas métricas a partir de esos resultados. \n",
    "\n",
    "Las columnas deben ser como las del ejemplo __'./data/example_test_results.csv'__.\n",
    "\n",
    "Si se quiere hacer una prueba para ver cómo funciona se puede cambiar el nombre del example_test_results.csv a test_results.csv y correr la notebook\n",
    "\n",
    "#### Output\n",
    "\n",
    "Va a generar el csv __test_metrics.csv__.\n"
   ]
  },
  {
   "cell_type": "code",
   "execution_count": 1,
   "metadata": {},
   "outputs": [],
   "source": [
    "import pandas as pd"
   ]
  },
  {
   "cell_type": "code",
   "execution_count": 2,
   "metadata": {},
   "outputs": [],
   "source": [
    "import metrics_toolbox as mt"
   ]
  },
  {
   "cell_type": "code",
   "execution_count": 3,
   "metadata": {},
   "outputs": [],
   "source": [
    "results = pd.read_csv('./data/test_results.csv', index_col = 'idclientecrm')"
   ]
  },
  {
   "cell_type": "code",
   "execution_count": 4,
   "metadata": {},
   "outputs": [],
   "source": [
    "metrics = mt.create_metrics_df(results)"
   ]
  },
  {
   "cell_type": "code",
   "execution_count": 5,
   "metadata": {},
   "outputs": [],
   "source": [
    "metrics.to_csv('./data/test_metrics.csv')"
   ]
  },
  {
   "cell_type": "code",
   "execution_count": 6,
   "metadata": {},
   "outputs": [
    {
     "name": "stdout",
     "output_type": "stream",
     "text": [
      "705\n",
      "651\n",
      "159\n",
      "191\n"
     ]
    },
    {
     "data": {
      "text/plain": [
       "(None, None, None, None)"
      ]
     },
     "execution_count": 6,
     "metadata": {},
     "output_type": "execute_result"
    }
   ],
   "source": [
    "tp = mt.true_positives(results)\n",
    "tn = mt.true_negatives(results)\n",
    "fp = mt.false_positives(results)\n",
    "fn = mt.false_negatives(results)\n",
    "print(tp), print(tn), print(fp), print(fn)"
   ]
  },
  {
   "cell_type": "code",
   "execution_count": 7,
   "metadata": {},
   "outputs": [
    {
     "data": {
      "text/plain": [
       "0.7868303571428571"
      ]
     },
     "execution_count": 7,
     "metadata": {},
     "output_type": "execute_result"
    }
   ],
   "source": [
    "#tp / (tp+fn) # (tp+fn todos los de Status Cliente = 1 - Todos los Cancelados)\n",
    "mt.recall(results)"
   ]
  },
  {
   "cell_type": "code",
   "execution_count": 8,
   "metadata": {},
   "outputs": [
    {
     "data": {
      "text/plain": [
       "0.8159722222222222"
      ]
     },
     "execution_count": 8,
     "metadata": {},
     "output_type": "execute_result"
    }
   ],
   "source": [
    "#tp / (tp+fp) # (tp+fp todos los de pred = 1 - Todos los predichos como Cancelados)\n",
    "mt.precision(results)"
   ]
  },
  {
   "cell_type": "code",
   "execution_count": 9,
   "metadata": {},
   "outputs": [
    {
     "data": {
      "text/html": [
       "<div>\n",
       "<style scoped>\n",
       "    .dataframe tbody tr th:only-of-type {\n",
       "        vertical-align: middle;\n",
       "    }\n",
       "\n",
       "    .dataframe tbody tr th {\n",
       "        vertical-align: top;\n",
       "    }\n",
       "\n",
       "    .dataframe thead th {\n",
       "        text-align: right;\n",
       "    }\n",
       "</style>\n",
       "<table border=\"1\" class=\"dataframe\">\n",
       "  <thead>\n",
       "    <tr style=\"text-align: right;\">\n",
       "      <th></th>\n",
       "      <th>value</th>\n",
       "    </tr>\n",
       "    <tr>\n",
       "      <th>metric</th>\n",
       "      <th></th>\n",
       "    </tr>\n",
       "  </thead>\n",
       "  <tbody>\n",
       "    <tr>\n",
       "      <th>Total data</th>\n",
       "      <td>1706</td>\n",
       "    </tr>\n",
       "    <tr>\n",
       "      <th>True Positives</th>\n",
       "      <td>705</td>\n",
       "    </tr>\n",
       "    <tr>\n",
       "      <th>True Positives at 75%</th>\n",
       "      <td>556</td>\n",
       "    </tr>\n",
       "    <tr>\n",
       "      <th>True Positives at 90%</th>\n",
       "      <td>359</td>\n",
       "    </tr>\n",
       "    <tr>\n",
       "      <th>True Negatives</th>\n",
       "      <td>651</td>\n",
       "    </tr>\n",
       "    <tr>\n",
       "      <th>True Negatives at 75%</th>\n",
       "      <td>471</td>\n",
       "    </tr>\n",
       "    <tr>\n",
       "      <th>True Negatives at 90%</th>\n",
       "      <td>259</td>\n",
       "    </tr>\n",
       "    <tr>\n",
       "      <th>False Positives</th>\n",
       "      <td>159</td>\n",
       "    </tr>\n",
       "    <tr>\n",
       "      <th>False Positives at 75%</th>\n",
       "      <td>77</td>\n",
       "    </tr>\n",
       "    <tr>\n",
       "      <th>False Positives at 90%</th>\n",
       "      <td>21</td>\n",
       "    </tr>\n",
       "    <tr>\n",
       "      <th>False Negatives</th>\n",
       "      <td>191</td>\n",
       "    </tr>\n",
       "    <tr>\n",
       "      <th>False Negatives at 75%</th>\n",
       "      <td>102</td>\n",
       "    </tr>\n",
       "    <tr>\n",
       "      <th>False Negatives at 90%</th>\n",
       "      <td>26</td>\n",
       "    </tr>\n",
       "    <tr>\n",
       "      <th>Overall Accuracy</th>\n",
       "      <td>0.794842</td>\n",
       "    </tr>\n",
       "    <tr>\n",
       "      <th>Accuracy at 75% trust</th>\n",
       "      <td>0.851575</td>\n",
       "    </tr>\n",
       "    <tr>\n",
       "      <th>Accuracy at 90% trust</th>\n",
       "      <td>0.929323</td>\n",
       "    </tr>\n",
       "    <tr>\n",
       "      <th>Overall Recall</th>\n",
       "      <td>0.78683</td>\n",
       "    </tr>\n",
       "    <tr>\n",
       "      <th>Recall at 75% trust</th>\n",
       "      <td>0.844985</td>\n",
       "    </tr>\n",
       "    <tr>\n",
       "      <th>Recall at 90% trust</th>\n",
       "      <td>0.932468</td>\n",
       "    </tr>\n",
       "    <tr>\n",
       "      <th>Overall Precision</th>\n",
       "      <td>0.815972</td>\n",
       "    </tr>\n",
       "    <tr>\n",
       "      <th>Precision at 75% trust</th>\n",
       "      <td>0.878357</td>\n",
       "    </tr>\n",
       "    <tr>\n",
       "      <th>Precision at 90% trust</th>\n",
       "      <td>0.944737</td>\n",
       "    </tr>\n",
       "    <tr>\n",
       "      <th>Overall F1</th>\n",
       "      <td>0.801136</td>\n",
       "    </tr>\n",
       "    <tr>\n",
       "      <th>F1 at 75% trust</th>\n",
       "      <td>0.861348</td>\n",
       "    </tr>\n",
       "    <tr>\n",
       "      <th>F1 at 90% trust</th>\n",
       "      <td>0.938562</td>\n",
       "    </tr>\n",
       "    <tr>\n",
       "      <th>Subset Relative Size at 75%</th>\n",
       "      <td>0.706917</td>\n",
       "    </tr>\n",
       "    <tr>\n",
       "      <th>Subset Relative Size at 90%</th>\n",
       "      <td>0.389801</td>\n",
       "    </tr>\n",
       "  </tbody>\n",
       "</table>\n",
       "</div>"
      ],
      "text/plain": [
       "                                value\n",
       "metric                               \n",
       "Total data                       1706\n",
       "True Positives                    705\n",
       "True Positives at 75%             556\n",
       "True Positives at 90%             359\n",
       "True Negatives                    651\n",
       "True Negatives at 75%             471\n",
       "True Negatives at 90%             259\n",
       "False Positives                   159\n",
       "False Positives at 75%             77\n",
       "False Positives at 90%             21\n",
       "False Negatives                   191\n",
       "False Negatives at 75%            102\n",
       "False Negatives at 90%             26\n",
       "Overall Accuracy             0.794842\n",
       "Accuracy at 75% trust        0.851575\n",
       "Accuracy at 90% trust        0.929323\n",
       "Overall Recall                0.78683\n",
       "Recall at 75% trust          0.844985\n",
       "Recall at 90% trust          0.932468\n",
       "Overall Precision            0.815972\n",
       "Precision at 75% trust       0.878357\n",
       "Precision at 90% trust       0.944737\n",
       "Overall F1                   0.801136\n",
       "F1 at 75% trust              0.861348\n",
       "F1 at 90% trust              0.938562\n",
       "Subset Relative Size at 75%  0.706917\n",
       "Subset Relative Size at 90%  0.389801"
      ]
     },
     "execution_count": 9,
     "metadata": {},
     "output_type": "execute_result"
    }
   ],
   "source": [
    "metrics"
   ]
  },
  {
   "cell_type": "code",
   "execution_count": 12,
   "metadata": {},
   "outputs": [],
   "source": [
    "steps = [.05 * t for t in range(20)]"
   ]
  },
  {
   "cell_type": "code",
   "execution_count": 13,
   "metadata": {},
   "outputs": [],
   "source": [
    "df = pd.DataFrame(steps)\n",
    "df.columns = ['weight']"
   ]
  },
  {
   "cell_type": "code",
   "execution_count": 14,
   "metadata": {},
   "outputs": [],
   "source": [
    "df['accuracy'] = df['weight'].apply(lambda x: mt.accuracy(results, filter = x))\n",
    "df['recall'] = df['weight'].apply(lambda x: mt.recall(results, filter = x))\n",
    "df['precision'] = df['weight'].apply(lambda x: mt.precision(results, filter = x))\n",
    "df['subset relative size'] = df['weight'].apply(lambda x: mt.subset_relative_size(results, filter = x))"
   ]
  },
  {
   "cell_type": "code",
   "execution_count": 15,
   "metadata": {
    "scrolled": false
   },
   "outputs": [
    {
     "data": {
      "text/plain": [
       "([<matplotlib.axis.XTick at 0x7f8106d79a20>,\n",
       "  <matplotlib.axis.XTick at 0x7f8106d79278>,\n",
       "  <matplotlib.axis.XTick at 0x7f8104d10048>,\n",
       "  <matplotlib.axis.XTick at 0x7f8104cab7b8>,\n",
       "  <matplotlib.axis.XTick at 0x7f8104cabeb8>,\n",
       "  <matplotlib.axis.XTick at 0x7f8104cb9400>,\n",
       "  <matplotlib.axis.XTick at 0x7f8104cb9978>,\n",
       "  <matplotlib.axis.XTick at 0x7f8106d47a20>,\n",
       "  <matplotlib.axis.XTick at 0x7f8104c4f8d0>,\n",
       "  <matplotlib.axis.XTick at 0x7f8104c4fda0>,\n",
       "  <matplotlib.axis.XTick at 0x7f8104c642b0>,\n",
       "  <matplotlib.axis.XTick at 0x7f8104c64780>,\n",
       "  <matplotlib.axis.XTick at 0x7f8104c64c50>,\n",
       "  <matplotlib.axis.XTick at 0x7f8104c64828>,\n",
       "  <matplotlib.axis.XTick at 0x7f8104c4fc18>,\n",
       "  <matplotlib.axis.XTick at 0x7f8104c6b2e8>,\n",
       "  <matplotlib.axis.XTick at 0x7f8104c6b898>,\n",
       "  <matplotlib.axis.XTick at 0x7f8104c6be10>,\n",
       "  <matplotlib.axis.XTick at 0x7f8104c713c8>,\n",
       "  <matplotlib.axis.XTick at 0x7f8104c71940>],\n",
       " <a list of 20 Text xticklabel objects>)"
      ]
     },
     "execution_count": 15,
     "metadata": {},
     "output_type": "execute_result"
    },
    {
     "data": {
      "image/png": "[encoded data removed]",
      "text/plain": [
       "<Figure size 1440x288 with 1 Axes>"
      ]
     },
     "metadata": {
      "needs_background": "light"
     },
     "output_type": "display_data"
    }
   ],
   "source": [
    "import matplotlib.pyplot as plt\n",
    "import numpy as np\n",
    "fig, ax2 = plt.subplots()\n",
    "df.filter(['weight','accuracy', 'recall', 'precision']).plot(x = 'weight', \n",
    "                                                             figsize = (20,4), \n",
    "                                                             ax = ax2,\n",
    "                                                             title = 'Métricas generales',\n",
    "                                                             fontsize = 14)\n",
    "ax2.grid(axis = 'y', alpha = 0.5)\n",
    "ax2.legend(fontsize = 14)\n",
    "#ax2.xaxis(label = 'Weight')\n",
    "plt.xlabel('Trust', fontsize = 14)\n",
    "plt.ylabel('Value', fontsize = 14)\n",
    "plt.xticks(np.arange(0, 1, .05))"
   ]
  },
  {
   "cell_type": "code",
   "execution_count": 16,
   "metadata": {},
   "outputs": [],
   "source": [
    "dfBig = pd.DataFrame(steps)\n",
    "dfBig.columns = ['weight']"
   ]
  },
  {
   "cell_type": "code",
   "execution_count": 17,
   "metadata": {},
   "outputs": [],
   "source": [
    "features = pd.read_csv('./data/features.csv')"
   ]
  },
  {
   "cell_type": "code",
   "execution_count": 18,
   "metadata": {},
   "outputs": [],
   "source": [
    "features_big = features[features['CLIENTE GRUPO_label']==0]"
   ]
  },
  {
   "cell_type": "code",
   "execution_count": 19,
   "metadata": {},
   "outputs": [
    {
     "data": {
      "text/html": [
       "<div>\n",
       "<style scoped>\n",
       "    .dataframe tbody tr th:only-of-type {\n",
       "        vertical-align: middle;\n",
       "    }\n",
       "\n",
       "    .dataframe tbody tr th {\n",
       "        vertical-align: top;\n",
       "    }\n",
       "\n",
       "    .dataframe thead th {\n",
       "        text-align: right;\n",
       "    }\n",
       "</style>\n",
       "<table border=\"1\" class=\"dataframe\">\n",
       "  <thead>\n",
       "    <tr style=\"text-align: right;\">\n",
       "      <th></th>\n",
       "      <th>idclientecrm</th>\n",
       "      <th>monto_total1</th>\n",
       "      <th>monto_total2</th>\n",
       "      <th>monto_total3</th>\n",
       "      <th>monto_total4</th>\n",
       "      <th>monto_total5</th>\n",
       "      <th>contratado Super Destacado1</th>\n",
       "      <th>contratado Super Destacado2</th>\n",
       "      <th>contratado Super Destacado3</th>\n",
       "      <th>contratado Super Destacado4</th>\n",
       "      <th>...</th>\n",
       "      <th>Lead Alquiler5</th>\n",
       "      <th>Lead Alquiler temporal1</th>\n",
       "      <th>Lead Alquiler temporal2</th>\n",
       "      <th>Lead Alquiler temporal3</th>\n",
       "      <th>Lead Alquiler temporal4</th>\n",
       "      <th>Lead Alquiler temporal5</th>\n",
       "      <th>CLIENTE GRUPO_label</th>\n",
       "      <th>Integrador_label</th>\n",
       "      <th>Cliente Ilimitado sin Destaque</th>\n",
       "      <th>provincia_label</th>\n",
       "    </tr>\n",
       "  </thead>\n",
       "  <tbody>\n",
       "    <tr>\n",
       "      <th>3</th>\n",
       "      <td>10400010</td>\n",
       "      <td>1359.0</td>\n",
       "      <td>1359.0</td>\n",
       "      <td>1359.0</td>\n",
       "      <td>1349.0</td>\n",
       "      <td>1349.0</td>\n",
       "      <td>5.0</td>\n",
       "      <td>5.0</td>\n",
       "      <td>1.0</td>\n",
       "      <td>1.0</td>\n",
       "      <td>...</td>\n",
       "      <td>124.0</td>\n",
       "      <td>0.0</td>\n",
       "      <td>0.0</td>\n",
       "      <td>0.0</td>\n",
       "      <td>0.0</td>\n",
       "      <td>0.0</td>\n",
       "      <td>0</td>\n",
       "      <td>1</td>\n",
       "      <td>1</td>\n",
       "      <td>5</td>\n",
       "    </tr>\n",
       "    <tr>\n",
       "      <th>5</th>\n",
       "      <td>10400014</td>\n",
       "      <td>1499.0</td>\n",
       "      <td>1499.0</td>\n",
       "      <td>1499.0</td>\n",
       "      <td>1499.0</td>\n",
       "      <td>1499.0</td>\n",
       "      <td>1.0</td>\n",
       "      <td>1.0</td>\n",
       "      <td>1.0</td>\n",
       "      <td>1.0</td>\n",
       "      <td>...</td>\n",
       "      <td>654.0</td>\n",
       "      <td>0.0</td>\n",
       "      <td>0.0</td>\n",
       "      <td>0.0</td>\n",
       "      <td>0.0</td>\n",
       "      <td>0.0</td>\n",
       "      <td>0</td>\n",
       "      <td>1</td>\n",
       "      <td>1</td>\n",
       "      <td>5</td>\n",
       "    </tr>\n",
       "    <tr>\n",
       "      <th>6</th>\n",
       "      <td>10400015</td>\n",
       "      <td>3958.0</td>\n",
       "      <td>3958.0</td>\n",
       "      <td>1359.0</td>\n",
       "      <td>1359.0</td>\n",
       "      <td>1359.0</td>\n",
       "      <td>55.0</td>\n",
       "      <td>5.0</td>\n",
       "      <td>5.0</td>\n",
       "      <td>5.0</td>\n",
       "      <td>...</td>\n",
       "      <td>136.0</td>\n",
       "      <td>0.0</td>\n",
       "      <td>0.0</td>\n",
       "      <td>0.0</td>\n",
       "      <td>0.0</td>\n",
       "      <td>0.0</td>\n",
       "      <td>0</td>\n",
       "      <td>1</td>\n",
       "      <td>1</td>\n",
       "      <td>5</td>\n",
       "    </tr>\n",
       "    <tr>\n",
       "      <th>8</th>\n",
       "      <td>10400024</td>\n",
       "      <td>5149.0</td>\n",
       "      <td>5149.0</td>\n",
       "      <td>2899.0</td>\n",
       "      <td>2899.0</td>\n",
       "      <td>2899.0</td>\n",
       "      <td>25.0</td>\n",
       "      <td>25.0</td>\n",
       "      <td>25.0</td>\n",
       "      <td>25.0</td>\n",
       "      <td>...</td>\n",
       "      <td>840.0</td>\n",
       "      <td>0.0</td>\n",
       "      <td>0.0</td>\n",
       "      <td>0.0</td>\n",
       "      <td>0.0</td>\n",
       "      <td>0.0</td>\n",
       "      <td>0</td>\n",
       "      <td>1</td>\n",
       "      <td>1</td>\n",
       "      <td>5</td>\n",
       "    </tr>\n",
       "    <tr>\n",
       "      <th>10</th>\n",
       "      <td>10400028</td>\n",
       "      <td>1190.0</td>\n",
       "      <td>1190.0</td>\n",
       "      <td>1190.0</td>\n",
       "      <td>1190.0</td>\n",
       "      <td>1190.0</td>\n",
       "      <td>12.0</td>\n",
       "      <td>12.0</td>\n",
       "      <td>12.0</td>\n",
       "      <td>12.0</td>\n",
       "      <td>...</td>\n",
       "      <td>12.0</td>\n",
       "      <td>0.0</td>\n",
       "      <td>0.0</td>\n",
       "      <td>0.0</td>\n",
       "      <td>0.0</td>\n",
       "      <td>0.0</td>\n",
       "      <td>0</td>\n",
       "      <td>1</td>\n",
       "      <td>0</td>\n",
       "      <td>5</td>\n",
       "    </tr>\n",
       "    <tr>\n",
       "      <th>...</th>\n",
       "      <td>...</td>\n",
       "      <td>...</td>\n",
       "      <td>...</td>\n",
       "      <td>...</td>\n",
       "      <td>...</td>\n",
       "      <td>...</td>\n",
       "      <td>...</td>\n",
       "      <td>...</td>\n",
       "      <td>...</td>\n",
       "      <td>...</td>\n",
       "      <td>...</td>\n",
       "      <td>...</td>\n",
       "      <td>...</td>\n",
       "      <td>...</td>\n",
       "      <td>...</td>\n",
       "      <td>...</td>\n",
       "      <td>...</td>\n",
       "      <td>...</td>\n",
       "      <td>...</td>\n",
       "      <td>...</td>\n",
       "      <td>...</td>\n",
       "    </tr>\n",
       "    <tr>\n",
       "      <th>11112</th>\n",
       "      <td>47285461</td>\n",
       "      <td>1000.0</td>\n",
       "      <td>-3000.0</td>\n",
       "      <td>1000.0</td>\n",
       "      <td>5000.0</td>\n",
       "      <td>5000.0</td>\n",
       "      <td>40.0</td>\n",
       "      <td>40.0</td>\n",
       "      <td>280.0</td>\n",
       "      <td>380.0</td>\n",
       "      <td>...</td>\n",
       "      <td>810.0</td>\n",
       "      <td>298.0</td>\n",
       "      <td>286.0</td>\n",
       "      <td>179.0</td>\n",
       "      <td>185.0</td>\n",
       "      <td>399.0</td>\n",
       "      <td>0</td>\n",
       "      <td>1</td>\n",
       "      <td>0</td>\n",
       "      <td>0</td>\n",
       "    </tr>\n",
       "    <tr>\n",
       "      <th>11153</th>\n",
       "      <td>47286611</td>\n",
       "      <td>599.0</td>\n",
       "      <td>1198.0</td>\n",
       "      <td>1797.0</td>\n",
       "      <td>1198.0</td>\n",
       "      <td>1198.0</td>\n",
       "      <td>203.0</td>\n",
       "      <td>203.0</td>\n",
       "      <td>153.0</td>\n",
       "      <td>51.0</td>\n",
       "      <td>...</td>\n",
       "      <td>0.0</td>\n",
       "      <td>0.0</td>\n",
       "      <td>0.0</td>\n",
       "      <td>0.0</td>\n",
       "      <td>0.0</td>\n",
       "      <td>0.0</td>\n",
       "      <td>0</td>\n",
       "      <td>0</td>\n",
       "      <td>0</td>\n",
       "      <td>25</td>\n",
       "    </tr>\n",
       "    <tr>\n",
       "      <th>11166</th>\n",
       "      <td>47287213</td>\n",
       "      <td>849.0</td>\n",
       "      <td>849.0</td>\n",
       "      <td>849.0</td>\n",
       "      <td>1448.0</td>\n",
       "      <td>1448.0</td>\n",
       "      <td>20.0</td>\n",
       "      <td>20.0</td>\n",
       "      <td>20.0</td>\n",
       "      <td>20.0</td>\n",
       "      <td>...</td>\n",
       "      <td>0.0</td>\n",
       "      <td>0.0</td>\n",
       "      <td>0.0</td>\n",
       "      <td>0.0</td>\n",
       "      <td>0.0</td>\n",
       "      <td>0.0</td>\n",
       "      <td>0</td>\n",
       "      <td>0</td>\n",
       "      <td>0</td>\n",
       "      <td>13</td>\n",
       "    </tr>\n",
       "    <tr>\n",
       "      <th>11221</th>\n",
       "      <td>47288738</td>\n",
       "      <td>799.0</td>\n",
       "      <td>2096.0</td>\n",
       "      <td>1097.0</td>\n",
       "      <td>1097.0</td>\n",
       "      <td>598.0</td>\n",
       "      <td>329.0</td>\n",
       "      <td>129.0</td>\n",
       "      <td>129.0</td>\n",
       "      <td>29.0</td>\n",
       "      <td>...</td>\n",
       "      <td>58.0</td>\n",
       "      <td>0.0</td>\n",
       "      <td>0.0</td>\n",
       "      <td>0.0</td>\n",
       "      <td>0.0</td>\n",
       "      <td>0.0</td>\n",
       "      <td>0</td>\n",
       "      <td>1</td>\n",
       "      <td>0</td>\n",
       "      <td>25</td>\n",
       "    </tr>\n",
       "    <tr>\n",
       "      <th>11288</th>\n",
       "      <td>47291054</td>\n",
       "      <td>1099.0</td>\n",
       "      <td>1099.0</td>\n",
       "      <td>1099.0</td>\n",
       "      <td>1099.0</td>\n",
       "      <td>1099.0</td>\n",
       "      <td>44.0</td>\n",
       "      <td>44.0</td>\n",
       "      <td>44.0</td>\n",
       "      <td>44.0</td>\n",
       "      <td>...</td>\n",
       "      <td>181.0</td>\n",
       "      <td>0.0</td>\n",
       "      <td>0.0</td>\n",
       "      <td>0.0</td>\n",
       "      <td>0.0</td>\n",
       "      <td>0.0</td>\n",
       "      <td>0</td>\n",
       "      <td>1</td>\n",
       "      <td>0</td>\n",
       "      <td>25</td>\n",
       "    </tr>\n",
       "  </tbody>\n",
       "</table>\n",
       "<p>760 rows × 60 columns</p>\n",
       "</div>"
      ],
      "text/plain": [
       "       idclientecrm  monto_total1  monto_total2  monto_total3  monto_total4  \\\n",
       "3          10400010        1359.0        1359.0        1359.0        1349.0   \n",
       "5          10400014        1499.0        1499.0        1499.0        1499.0   \n",
       "6          10400015        3958.0        3958.0        1359.0        1359.0   \n",
       "8          10400024        5149.0        5149.0        2899.0        2899.0   \n",
       "10         10400028        1190.0        1190.0        1190.0        1190.0   \n",
       "...             ...           ...           ...           ...           ...   \n",
       "11112      47285461        1000.0       -3000.0        1000.0        5000.0   \n",
       "11153      47286611         599.0        1198.0        1797.0        1198.0   \n",
       "11166      47287213         849.0         849.0         849.0        1448.0   \n",
       "11221      47288738         799.0        2096.0        1097.0        1097.0   \n",
       "11288      47291054        1099.0        1099.0        1099.0        1099.0   \n",
       "\n",
       "       monto_total5  contratado Super Destacado1  contratado Super Destacado2  \\\n",
       "3            1349.0                          5.0                          5.0   \n",
       "5            1499.0                          1.0                          1.0   \n",
       "6            1359.0                         55.0                          5.0   \n",
       "8            2899.0                         25.0                         25.0   \n",
       "10           1190.0                         12.0                         12.0   \n",
       "...             ...                          ...                          ...   \n",
       "11112        5000.0                         40.0                         40.0   \n",
       "11153        1198.0                        203.0                        203.0   \n",
       "11166        1448.0                         20.0                         20.0   \n",
       "11221         598.0                        329.0                        129.0   \n",
       "11288        1099.0                         44.0                         44.0   \n",
       "\n",
       "       contratado Super Destacado3  contratado Super Destacado4  ...  \\\n",
       "3                              1.0                          1.0  ...   \n",
       "5                              1.0                          1.0  ...   \n",
       "6                              5.0                          5.0  ...   \n",
       "8                             25.0                         25.0  ...   \n",
       "10                            12.0                         12.0  ...   \n",
       "...                            ...                          ...  ...   \n",
       "11112                        280.0                        380.0  ...   \n",
       "11153                        153.0                         51.0  ...   \n",
       "11166                         20.0                         20.0  ...   \n",
       "11221                        129.0                         29.0  ...   \n",
       "11288                         44.0                         44.0  ...   \n",
       "\n",
       "       Lead Alquiler5  Lead Alquiler temporal1  Lead Alquiler temporal2  \\\n",
       "3               124.0                      0.0                      0.0   \n",
       "5               654.0                      0.0                      0.0   \n",
       "6               136.0                      0.0                      0.0   \n",
       "8               840.0                      0.0                      0.0   \n",
       "10               12.0                      0.0                      0.0   \n",
       "...               ...                      ...                      ...   \n",
       "11112           810.0                    298.0                    286.0   \n",
       "11153             0.0                      0.0                      0.0   \n",
       "11166             0.0                      0.0                      0.0   \n",
       "11221            58.0                      0.0                      0.0   \n",
       "11288           181.0                      0.0                      0.0   \n",
       "\n",
       "       Lead Alquiler temporal3  Lead Alquiler temporal4  \\\n",
       "3                          0.0                      0.0   \n",
       "5                          0.0                      0.0   \n",
       "6                          0.0                      0.0   \n",
       "8                          0.0                      0.0   \n",
       "10                         0.0                      0.0   \n",
       "...                        ...                      ...   \n",
       "11112                    179.0                    185.0   \n",
       "11153                      0.0                      0.0   \n",
       "11166                      0.0                      0.0   \n",
       "11221                      0.0                      0.0   \n",
       "11288                      0.0                      0.0   \n",
       "\n",
       "       Lead Alquiler temporal5  CLIENTE GRUPO_label  Integrador_label  \\\n",
       "3                          0.0                    0                 1   \n",
       "5                          0.0                    0                 1   \n",
       "6                          0.0                    0                 1   \n",
       "8                          0.0                    0                 1   \n",
       "10                         0.0                    0                 1   \n",
       "...                        ...                  ...               ...   \n",
       "11112                    399.0                    0                 1   \n",
       "11153                      0.0                    0                 0   \n",
       "11166                      0.0                    0                 0   \n",
       "11221                      0.0                    0                 1   \n",
       "11288                      0.0                    0                 1   \n",
       "\n",
       "       Cliente Ilimitado sin Destaque  provincia_label  \n",
       "3                                   1                5  \n",
       "5                                   1                5  \n",
       "6                                   1                5  \n",
       "8                                   1                5  \n",
       "10                                  0                5  \n",
       "...                               ...              ...  \n",
       "11112                               0                0  \n",
       "11153                               0               25  \n",
       "11166                               0               13  \n",
       "11221                               0               25  \n",
       "11288                               0               25  \n",
       "\n",
       "[760 rows x 60 columns]"
      ]
     },
     "execution_count": 19,
     "metadata": {},
     "output_type": "execute_result"
    }
   ],
   "source": [
    "features_big"
   ]
  },
  {
   "cell_type": "code",
   "execution_count": 20,
   "metadata": {},
   "outputs": [],
   "source": [
    "results_big = results[results.index.isin(features_big.idclientecrm)]"
   ]
  },
  {
   "cell_type": "code",
   "execution_count": 21,
   "metadata": {},
   "outputs": [
    {
     "data": {
      "text/plain": [
       "0.8333333333333334"
      ]
     },
     "execution_count": 21,
     "metadata": {},
     "output_type": "execute_result"
    }
   ],
   "source": [
    "len(results_big[results_big['correct']==True]) / len(results_big)"
   ]
  },
  {
   "cell_type": "code",
   "execution_count": 22,
   "metadata": {},
   "outputs": [],
   "source": [
    "dfBig = pd.DataFrame(steps)\n",
    "dfBig.columns = ['weight']"
   ]
  },
  {
   "cell_type": "code",
   "execution_count": 23,
   "metadata": {},
   "outputs": [],
   "source": [
    "dfBig['accuracy'] = dfBig['weight'].apply(lambda x: mt.accuracy(results_big, filter = x))\n",
    "dfBig['recall'] = dfBig['weight'].apply(lambda x: mt.recall(results_big, filter = x))\n",
    "dfBig['precision'] = dfBig['weight'].apply(lambda x: mt.precision(results_big, filter = x))\n",
    "dfBig['subset relative size'] = dfBig['weight'].apply(lambda x: mt.subset_relative_size(results_big, filter = x))"
   ]
  },
  {
   "cell_type": "code",
   "execution_count": 24,
   "metadata": {},
   "outputs": [
    {
     "data": {
      "text/plain": [
       "([<matplotlib.axis.XTick at 0x7f8104a57f98>,\n",
       "  <matplotlib.axis.XTick at 0x7f8104a578d0>,\n",
       "  <matplotlib.axis.XTick at 0x7f8104bc3710>,\n",
       "  <matplotlib.axis.XTick at 0x7f8104bef7f0>,\n",
       "  <matplotlib.axis.XTick at 0x7f8104bfa2b0>,\n",
       "  <matplotlib.axis.XTick at 0x7f8104bfa780>,\n",
       "  <matplotlib.axis.XTick at 0x7f8104bfacf8>,\n",
       "  <matplotlib.axis.XTick at 0x7f8104a57518>,\n",
       "  <matplotlib.axis.XTick at 0x7f8104b92d30>,\n",
       "  <matplotlib.axis.XTick at 0x7f8104b9b240>,\n",
       "  <matplotlib.axis.XTick at 0x7f8104b9b710>,\n",
       "  <matplotlib.axis.XTick at 0x7f8104b927b8>,\n",
       "  <matplotlib.axis.XTick at 0x7f8104b830b8>,\n",
       "  <matplotlib.axis.XTick at 0x7f8104b9bc18>,\n",
       "  <matplotlib.axis.XTick at 0x7f8104ba11d0>,\n",
       "  <matplotlib.axis.XTick at 0x7f8104ba1748>,\n",
       "  <matplotlib.axis.XTick at 0x7f8104ba1cc0>,\n",
       "  <matplotlib.axis.XTick at 0x7f8104ba8278>,\n",
       "  <matplotlib.axis.XTick at 0x7f8104ba87f0>,\n",
       "  <matplotlib.axis.XTick at 0x7f8104ba8d68>],\n",
       " <a list of 20 Text xticklabel objects>)"
      ]
     },
     "execution_count": 24,
     "metadata": {},
     "output_type": "execute_result"
    },
    {
     "data": {
      "image/png": "[encoded data removed]",
      "text/plain": [
       "<Figure size 1440x360 with 1 Axes>"
      ]
     },
     "metadata": {
      "needs_background": "light"
     },
     "output_type": "display_data"
    }
   ],
   "source": [
    "import matplotlib.pyplot as plt\n",
    "import numpy as np\n",
    "fig, ax2 = plt.subplots()\n",
    "dfBig.filter(['weight','accuracy', 'recall', 'precision']).plot(x = 'weight', \n",
    "                                                             figsize = (20,5), \n",
    "                                                             ax = ax2,\n",
    "                                                             title = 'Métricas generales',\n",
    "                                                             fontsize = 14)\n",
    "ax2.grid(axis = 'y', alpha = 0.5)\n",
    "ax2.legend(fontsize = 14)\n",
    "#ax2.xaxis(label = 'Weight')\n",
    "plt.xlabel('Trust', fontsize = 14)\n",
    "plt.ylabel('Value', fontsize = 14)\n",
    "plt.xticks(np.arange(0, 1, .05))"
   ]
  },
  {
   "cell_type": "code",
   "execution_count": 25,
   "metadata": {},
   "outputs": [
    {
     "data": {
      "text/plain": [
       "1706"
      ]
     },
     "execution_count": 25,
     "metadata": {},
     "output_type": "execute_result"
    }
   ],
   "source": [
    "len(results)"
   ]
  },
  {
   "cell_type": "code",
   "execution_count": 26,
   "metadata": {},
   "outputs": [],
   "source": [
    "df['subset size'] = len(results)*df['subset relative size']"
   ]
  },
  {
   "cell_type": "code",
   "execution_count": 27,
   "metadata": {},
   "outputs": [
    {
     "data": {
      "text/plain": [
       "([<matplotlib.axis.XTick at 0x7f8104abc198>,\n",
       "  <matplotlib.axis.XTick at 0x7f8104b78a90>,\n",
       "  <matplotlib.axis.XTick at 0x7f8104ac3668>,\n",
       "  <matplotlib.axis.XTick at 0x7f8104aef240>,\n",
       "  <matplotlib.axis.XTick at 0x7f8104aef6d8>,\n",
       "  <matplotlib.axis.XTick at 0x7f8104aefbe0>,\n",
       "  <matplotlib.axis.XTick at 0x7f8104af4198>,\n",
       "  <matplotlib.axis.XTick at 0x7f8104b78780>,\n",
       "  <matplotlib.axis.XTick at 0x7f8104a81898>,\n",
       "  <matplotlib.axis.XTick at 0x7f8104a7a940>,\n",
       "  <matplotlib.axis.XTick at 0x7f8104a88a58>,\n",
       "  <matplotlib.axis.XTick at 0x7f8104a88ef0>,\n",
       "  <matplotlib.axis.XTick at 0x7f8104a914a8>,\n",
       "  <matplotlib.axis.XTick at 0x7f8104a91a20>,\n",
       "  <matplotlib.axis.XTick at 0x7f8104a91e80>,\n",
       "  <matplotlib.axis.XTick at 0x7f8104a98550>,\n",
       "  <matplotlib.axis.XTick at 0x7f8104a98ac8>,\n",
       "  <matplotlib.axis.XTick at 0x7f8104a9f0b8>,\n",
       "  <matplotlib.axis.XTick at 0x7f8104a983c8>,\n",
       "  <matplotlib.axis.XTick at 0x7f8104a91400>],\n",
       " <a list of 20 Text xticklabel objects>)"
      ]
     },
     "execution_count": 27,
     "metadata": {},
     "output_type": "execute_result"
    },
    {
     "data": {
      "image/png": "[encoded data removed]",
      "text/plain": [
       "<Figure size 1440x288 with 1 Axes>"
      ]
     },
     "metadata": {
      "needs_background": "light"
     },
     "output_type": "display_data"
    }
   ],
   "source": [
    "fig, ax2 = plt.subplots()\n",
    "df.filter(['weight', 'subset relative size']).plot(x = 'weight', \n",
    "                                                             figsize = (20,4), \n",
    "                                                             ax = ax2,\n",
    "                                                             title = 'Relative Set Size vs Trust',\n",
    "                                                             fontsize = 14)\n",
    "ax2.grid(axis = 'y', alpha = 0.5)\n",
    "ax2.legend(fontsize = 14)\n",
    "#ax2.xaxis(label = 'Weight')\n",
    "plt.xlabel('Trust', fontsize = 14)\n",
    "plt.ylabel('Set Size (%)', fontsize = 14)\n",
    "plt.xticks(np.arange(0, 1, .05))"
   ]
  },
  {
   "cell_type": "code",
   "execution_count": 28,
   "metadata": {},
   "outputs": [
    {
     "data": {
      "text/html": [
       "<div>\n",
       "<style scoped>\n",
       "    .dataframe tbody tr th:only-of-type {\n",
       "        vertical-align: middle;\n",
       "    }\n",
       "\n",
       "    .dataframe tbody tr th {\n",
       "        vertical-align: top;\n",
       "    }\n",
       "\n",
       "    .dataframe thead th {\n",
       "        text-align: right;\n",
       "    }\n",
       "</style>\n",
       "<table border=\"1\" class=\"dataframe\">\n",
       "  <thead>\n",
       "    <tr style=\"text-align: right;\">\n",
       "      <th></th>\n",
       "      <th>weight</th>\n",
       "      <th>accuracy</th>\n",
       "      <th>recall</th>\n",
       "      <th>precision</th>\n",
       "      <th>subset relative size</th>\n",
       "    </tr>\n",
       "  </thead>\n",
       "  <tbody>\n",
       "    <tr>\n",
       "      <th>0</th>\n",
       "      <td>0.00</td>\n",
       "      <td>0.833333</td>\n",
       "      <td>0.440000</td>\n",
       "      <td>0.647059</td>\n",
       "      <td>1.000000</td>\n",
       "    </tr>\n",
       "    <tr>\n",
       "      <th>1</th>\n",
       "      <td>0.05</td>\n",
       "      <td>0.833333</td>\n",
       "      <td>0.440000</td>\n",
       "      <td>0.647059</td>\n",
       "      <td>1.000000</td>\n",
       "    </tr>\n",
       "    <tr>\n",
       "      <th>2</th>\n",
       "      <td>0.10</td>\n",
       "      <td>0.833333</td>\n",
       "      <td>0.440000</td>\n",
       "      <td>0.647059</td>\n",
       "      <td>1.000000</td>\n",
       "    </tr>\n",
       "    <tr>\n",
       "      <th>3</th>\n",
       "      <td>0.15</td>\n",
       "      <td>0.833333</td>\n",
       "      <td>0.440000</td>\n",
       "      <td>0.647059</td>\n",
       "      <td>1.000000</td>\n",
       "    </tr>\n",
       "    <tr>\n",
       "      <th>4</th>\n",
       "      <td>0.20</td>\n",
       "      <td>0.833333</td>\n",
       "      <td>0.440000</td>\n",
       "      <td>0.647059</td>\n",
       "      <td>1.000000</td>\n",
       "    </tr>\n",
       "    <tr>\n",
       "      <th>5</th>\n",
       "      <td>0.25</td>\n",
       "      <td>0.833333</td>\n",
       "      <td>0.440000</td>\n",
       "      <td>0.647059</td>\n",
       "      <td>1.000000</td>\n",
       "    </tr>\n",
       "    <tr>\n",
       "      <th>6</th>\n",
       "      <td>0.30</td>\n",
       "      <td>0.833333</td>\n",
       "      <td>0.440000</td>\n",
       "      <td>0.647059</td>\n",
       "      <td>1.000000</td>\n",
       "    </tr>\n",
       "    <tr>\n",
       "      <th>7</th>\n",
       "      <td>0.35</td>\n",
       "      <td>0.833333</td>\n",
       "      <td>0.440000</td>\n",
       "      <td>0.647059</td>\n",
       "      <td>1.000000</td>\n",
       "    </tr>\n",
       "    <tr>\n",
       "      <th>8</th>\n",
       "      <td>0.40</td>\n",
       "      <td>0.833333</td>\n",
       "      <td>0.440000</td>\n",
       "      <td>0.647059</td>\n",
       "      <td>1.000000</td>\n",
       "    </tr>\n",
       "    <tr>\n",
       "      <th>9</th>\n",
       "      <td>0.45</td>\n",
       "      <td>0.833333</td>\n",
       "      <td>0.440000</td>\n",
       "      <td>0.647059</td>\n",
       "      <td>1.000000</td>\n",
       "    </tr>\n",
       "    <tr>\n",
       "      <th>10</th>\n",
       "      <td>0.50</td>\n",
       "      <td>0.833333</td>\n",
       "      <td>0.440000</td>\n",
       "      <td>0.647059</td>\n",
       "      <td>1.000000</td>\n",
       "    </tr>\n",
       "    <tr>\n",
       "      <th>11</th>\n",
       "      <td>0.55</td>\n",
       "      <td>0.846154</td>\n",
       "      <td>0.454545</td>\n",
       "      <td>0.625000</td>\n",
       "      <td>0.975000</td>\n",
       "    </tr>\n",
       "    <tr>\n",
       "      <th>12</th>\n",
       "      <td>0.60</td>\n",
       "      <td>0.850877</td>\n",
       "      <td>0.428571</td>\n",
       "      <td>0.642857</td>\n",
       "      <td>0.950000</td>\n",
       "    </tr>\n",
       "    <tr>\n",
       "      <th>13</th>\n",
       "      <td>0.65</td>\n",
       "      <td>0.863636</td>\n",
       "      <td>0.450000</td>\n",
       "      <td>0.692308</td>\n",
       "      <td>0.916667</td>\n",
       "    </tr>\n",
       "    <tr>\n",
       "      <th>14</th>\n",
       "      <td>0.70</td>\n",
       "      <td>0.865385</td>\n",
       "      <td>0.411765</td>\n",
       "      <td>0.636364</td>\n",
       "      <td>0.866667</td>\n",
       "    </tr>\n",
       "    <tr>\n",
       "      <th>15</th>\n",
       "      <td>0.75</td>\n",
       "      <td>0.860000</td>\n",
       "      <td>0.375000</td>\n",
       "      <td>0.600000</td>\n",
       "      <td>0.833333</td>\n",
       "    </tr>\n",
       "    <tr>\n",
       "      <th>16</th>\n",
       "      <td>0.80</td>\n",
       "      <td>0.882979</td>\n",
       "      <td>0.357143</td>\n",
       "      <td>0.714286</td>\n",
       "      <td>0.783333</td>\n",
       "    </tr>\n",
       "    <tr>\n",
       "      <th>17</th>\n",
       "      <td>0.85</td>\n",
       "      <td>0.897727</td>\n",
       "      <td>0.384615</td>\n",
       "      <td>0.833333</td>\n",
       "      <td>0.733333</td>\n",
       "    </tr>\n",
       "    <tr>\n",
       "      <th>18</th>\n",
       "      <td>0.90</td>\n",
       "      <td>0.910256</td>\n",
       "      <td>0.400000</td>\n",
       "      <td>0.800000</td>\n",
       "      <td>0.650000</td>\n",
       "    </tr>\n",
       "    <tr>\n",
       "      <th>19</th>\n",
       "      <td>0.95</td>\n",
       "      <td>0.923077</td>\n",
       "      <td>0.500000</td>\n",
       "      <td>0.750000</td>\n",
       "      <td>0.433333</td>\n",
       "    </tr>\n",
       "  </tbody>\n",
       "</table>\n",
       "</div>"
      ],
      "text/plain": [
       "    weight  accuracy    recall  precision  subset relative size\n",
       "0     0.00  0.833333  0.440000   0.647059              1.000000\n",
       "1     0.05  0.833333  0.440000   0.647059              1.000000\n",
       "2     0.10  0.833333  0.440000   0.647059              1.000000\n",
       "3     0.15  0.833333  0.440000   0.647059              1.000000\n",
       "4     0.20  0.833333  0.440000   0.647059              1.000000\n",
       "5     0.25  0.833333  0.440000   0.647059              1.000000\n",
       "6     0.30  0.833333  0.440000   0.647059              1.000000\n",
       "7     0.35  0.833333  0.440000   0.647059              1.000000\n",
       "8     0.40  0.833333  0.440000   0.647059              1.000000\n",
       "9     0.45  0.833333  0.440000   0.647059              1.000000\n",
       "10    0.50  0.833333  0.440000   0.647059              1.000000\n",
       "11    0.55  0.846154  0.454545   0.625000              0.975000\n",
       "12    0.60  0.850877  0.428571   0.642857              0.950000\n",
       "13    0.65  0.863636  0.450000   0.692308              0.916667\n",
       "14    0.70  0.865385  0.411765   0.636364              0.866667\n",
       "15    0.75  0.860000  0.375000   0.600000              0.833333\n",
       "16    0.80  0.882979  0.357143   0.714286              0.783333\n",
       "17    0.85  0.897727  0.384615   0.833333              0.733333\n",
       "18    0.90  0.910256  0.400000   0.800000              0.650000\n",
       "19    0.95  0.923077  0.500000   0.750000              0.433333"
      ]
     },
     "execution_count": 28,
     "metadata": {},
     "output_type": "execute_result"
    }
   ],
   "source": [
    "dfBig"
   ]
  },
  {
   "cell_type": "code",
   "execution_count": 29,
   "metadata": {},
   "outputs": [
    {
     "data": {
      "text/plain": [
       "0.44"
      ]
     },
     "execution_count": 29,
     "metadata": {},
     "output_type": "execute_result"
    }
   ],
   "source": [
    "# Recall\n",
    "# (tp/(tp+fn))\n",
    "mt.recall(results_big)\n",
    "#mt.recall(results_big)"
   ]
  },
  {
   "cell_type": "code",
   "execution_count": 30,
   "metadata": {},
   "outputs": [
    {
     "name": "stdout",
     "output_type": "stream",
     "text": [
      "Total: 120\n",
      "Cancelados: 25\n",
      "Cancelados no predichos (fn): 14\n",
      "Cancelados predichos (tp): 11\n",
      "Recall: 0.44\n",
      "Precision: 0.6470588235294118\n"
     ]
    }
   ],
   "source": [
    "print('Total: {}'.format(len(results_big)))\n",
    "print('Cancelados: {}'.format(len(results_big[results_big['Status Cliente']==1])))\n",
    "print('Cancelados no predichos (fn): {}'.format(mt.false_negatives(results_big)))\n",
    "print('Cancelados predichos (tp): {}'.format(mt.true_positives(results_big)))\n",
    "\n",
    "print('Recall: {}'.format(mt.recall(results_big)))\n",
    "print('Precision: {}'.format(mt.precision(results_big)))"
   ]
  },
  {
   "cell_type": "code",
   "execution_count": 96,
   "metadata": {},
   "outputs": [],
   "source": [
    "df = results[results['weight']>.9]"
   ]
  },
  {
   "cell_type": "code",
   "execution_count": 97,
   "metadata": {},
   "outputs": [],
   "source": [
    "from sklearn.metrics import confusion_matrix\n",
    "confusion = confusion_matrix(y_pred = df['pred'], y_true = df['Status Cliente'])"
   ]
  },
  {
   "cell_type": "code",
   "execution_count": 98,
   "metadata": {},
   "outputs": [],
   "source": [
    "import seaborn as sns\n",
    "def plot_confussion_matrix(confusion, strategy = 'Random Forest Classifier'):\n",
    "    plt.figure(figsize = (4,3))\n",
    "    classes = ['Vigente', 'Cancelado']\n",
    "    tick_marks = np.arange(len(classes))\n",
    "    plt.xticks(tick_marks, classes, rotation=45)\n",
    "    plt.yticks(tick_marks, classes)\n",
    "    ax = sns.heatmap(confusion, annot=True, annot_kws={\"size\": 15},fmt=\"d\")\n",
    "    plt.xlabel(\"Predicted Values\")\n",
    "    plt.ylabel(\"True Values\")\n",
    "    ax.set_yticklabels(classes, rotation=0)\n",
    "    ax.set_xticklabels(classes, rotation=0)\n",
    "    plt.title('Confusion Matrix for '+strategy, fontweight=\"bold\")"
   ]
  },
  {
   "cell_type": "code",
   "execution_count": 99,
   "metadata": {},
   "outputs": [
    {
     "data": {
      "image/png": "[encoded data removed]",
      "text/plain": [
       "<Figure size 288x216 with 2 Axes>"
      ]
     },
     "metadata": {
      "needs_background": "light"
     },
     "output_type": "display_data"
    }
   ],
   "source": [
    "plot_confussion_matrix(confusion, strategy = \"90% filter\")"
   ]
  },
  {
   "cell_type": "code",
   "execution_count": 52,
   "metadata": {},
   "outputs": [
    {
     "data": {
      "text/plain": [
       "159"
      ]
     },
     "execution_count": 52,
     "metadata": {},
     "output_type": "execute_result"
    }
   ],
   "source": [
    "mt.false_positives(results)"
   ]
  }
 ],
 "metadata": {
  "kernelspec": {
   "display_name": "fast",
   "language": "python",
   "name": "fast"
  },
  "language_info": {
   "codemirror_mode": {
    "name": "ipython",
    "version": 3
   },
   "file_extension": ".py",
   "mimetype": "text/x-python",
   "name": "python",
   "nbconvert_exporter": "python",
   "pygments_lexer": "ipython3",
   "version": "3.6.10"
  }
 },
 "nbformat": 4,
 "nbformat_minor": 4
}
