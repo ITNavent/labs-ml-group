{
 "cells": [
  {
   "cell_type": "markdown",
   "metadata": {},
   "source": [
    "# Pasos"
   ]
  },
  {
   "cell_type": "markdown",
   "metadata": {},
   "source": [
    "#### Input\n",
    "\n",
    "Esta notebook va a levantar el csv __clientes_input.csv__ y va a hacer las predicciones para esos usuarios.\n",
    "\n",
    "Las columnas deben ser como las del ejemplo __'./data/example_input.csv'__.\n",
    "\n",
    "Si se quiere hacer una prueba para ver cómo funciona se puede cambiar el nombre del example_input.csv a clientes_input.csv y correr la notebook\n",
    "\n",
    "#### Cómo Correr la notebook\n",
    "\n",
    "Desde una terminal hay que ejecutar:\n",
    "\n",
    "$ jupyter nbconvert --execute churn_prediction.ipynb\n"
   ]
  },
  {
   "cell_type": "code",
   "execution_count": 29,
   "metadata": {},
   "outputs": [],
   "source": [
    "import pandas as pd\n",
    "import xgboost as xgb\n",
    "from xgboost import XGBClassifier"
   ]
  },
  {
   "cell_type": "code",
   "execution_count": 14,
   "metadata": {},
   "outputs": [],
   "source": [
    "features = pd.read_csv('./data/clientes_input.csv', index_col='idclientecrm')"
   ]
  },
  {
   "cell_type": "markdown",
   "metadata": {},
   "source": [
    "### Modelo"
   ]
  },
  {
   "cell_type": "code",
   "execution_count": 15,
   "metadata": {},
   "outputs": [],
   "source": [
    "model = XGBClassifier(learning_rate=0.1,n_estimators=100)\n",
    "model.load_model(\"./data/models/xgb.model\")"
   ]
  },
  {
   "cell_type": "code",
   "execution_count": 20,
   "metadata": {},
   "outputs": [],
   "source": [
    "predicciones = pd.DataFrame(features.index).set_index('idclientecrm')"
   ]
  },
  {
   "cell_type": "code",
   "execution_count": 24,
   "metadata": {},
   "outputs": [],
   "source": [
    "predicciones['pred'] = model.predict(features)\n",
    "predicciones['weight'] = model.predict_proba(features).max(axis = 1)\n",
    "predicciones = predicciones.sort_values(['pred','weight'], ascending = [True, False])"
   ]
  },
  {
   "cell_type": "code",
   "execution_count": 26,
   "metadata": {},
   "outputs": [],
   "source": [
    "predicciones.to_csv('./data/preds.csv')"
   ]
  }
 ],
 "metadata": {
  "kernelspec": {
   "display_name": "fast",
   "language": "python",
   "name": "fast"
  },
  "language_info": {
   "codemirror_mode": {
    "name": "ipython",
    "version": 3
   },
   "file_extension": ".py",
   "mimetype": "text/x-python",
   "name": "python",
   "nbconvert_exporter": "python",
   "pygments_lexer": "ipython3",
   "version": "3.6.10"
  }
 },
 "nbformat": 4,
 "nbformat_minor": 4
}
