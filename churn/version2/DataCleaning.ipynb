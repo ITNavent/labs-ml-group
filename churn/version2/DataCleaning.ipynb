{
 "cells": [
  {
   "cell_type": "code",
   "execution_count": 1,
   "metadata": {},
   "outputs": [],
   "source": [
    "MIN_NUMBER_OF_ACTIVE_MONTHS = 6\n",
    "ALERT_TIME = 1 # Cantidad de meses esperado de anticipación antes de cancelar"
   ]
  },
  {
   "cell_type": "code",
   "execution_count": 2,
   "metadata": {},
   "outputs": [],
   "source": [
    "import pandas as pd\n",
    "import numpy as np\n",
    "from sklearn import preprocessing"
   ]
  },
  {
   "cell_type": "code",
   "execution_count": 3,
   "metadata": {},
   "outputs": [
    {
     "name": "stderr",
     "output_type": "stream",
     "text": [
      "/home/fvadell/.local/lib/python3.6/site-packages/IPython/core/interactiveshell.py:3063: DtypeWarning: Columns (12) have mixed types.Specify dtype option on import or set low_memory=False.\n",
      "  interactivity=interactivity, compiler=compiler, result=result)\n"
     ]
    }
   ],
   "source": [
    "data = pd.read_csv(\"../Churn Brasil_plana mensualizada.csv\", dtype={'monto_total': object})"
   ]
  },
  {
   "cell_type": "code",
   "execution_count": 4,
   "metadata": {},
   "outputs": [],
   "source": [
    "fede = pd.read_csv(\"../Churn Brasil_plana mensualizada.csv\", dtype={'monto_total': object})"
   ]
  },
  {
   "cell_type": "markdown",
   "metadata": {
    "extensions": {
     "jupyter_dashboards": {
      "version": 1,
      "views": {
       "grid_default": {},
       "report_default": {
        "hidden": false
       }
      }
     }
    }
   },
   "source": [
    "### Variables explicativas"
   ]
  },
  {
   "cell_type": "markdown",
   "metadata": {
    "extensions": {
     "jupyter_dashboards": {
      "version": 1,
      "views": {
       "grid_default": {},
       "report_default": {
        "hidden": false
       }
      }
     }
    }
   },
   "source": [
    "Iniciamos las variables explicativas como todas las columnas del dataset e iremos sacando las que no sirven"
   ]
  },
  {
   "cell_type": "markdown",
   "metadata": {},
   "source": [
    "#### Caso Monto_total"
   ]
  },
  {
   "cell_type": "markdown",
   "metadata": {
    "extensions": {
     "jupyter_dashboards": {
      "version": 1,
      "views": {
       "grid_default": {},
       "report_default": {
        "hidden": false
       }
      }
     }
    }
   },
   "source": [
    "Sacamos las ','"
   ]
  },
  {
   "cell_type": "code",
   "execution_count": 5,
   "metadata": {},
   "outputs": [],
   "source": [
    "data['monto_total'] = data['monto_total'].str.replace(',', '')"
   ]
  },
  {
   "cell_type": "code",
   "execution_count": 6,
   "metadata": {},
   "outputs": [],
   "source": [
    "data['monto_total']=data['monto_total'].astype(float)"
   ]
  },
  {
   "cell_type": "code",
   "execution_count": 7,
   "metadata": {},
   "outputs": [
    {
     "name": "stdout",
     "output_type": "stream",
     "text": [
      "**** monto_total\n",
      "Min:-39425.0\n",
      "Max:93000.0\n"
     ]
    }
   ],
   "source": [
    "print('**** monto_total')\n",
    "print('Min:{}'.format(data.monto_total.min()))\n",
    "print('Max:{}'.format(data.monto_total.max()))"
   ]
  },
  {
   "cell_type": "code",
   "execution_count": 8,
   "metadata": {
    "extensions": {
     "jupyter_dashboards": {
      "version": 1,
      "views": {
       "grid_default": {},
       "report_default": {
        "hidden": true
       }
      }
     }
    }
   },
   "outputs": [],
   "source": [
    "variables = list(data.columns)"
   ]
  },
  {
   "cell_type": "markdown",
   "metadata": {
    "extensions": {
     "jupyter_dashboards": {
      "version": 1,
      "views": {
       "grid_default": {},
       "report_default": {
        "hidden": false
       }
      }
     }
    }
   },
   "source": [
    "Le saco la variable __Status Cliente__ porque es el target."
   ]
  },
  {
   "cell_type": "code",
   "execution_count": 9,
   "metadata": {
    "extensions": {
     "jupyter_dashboards": {
      "version": 1,
      "views": {
       "grid_default": {},
       "report_default": {
        "hidden": true
       }
      }
     }
    }
   },
   "outputs": [],
   "source": [
    "variables.remove('Status Cliente')"
   ]
  },
  {
   "cell_type": "markdown",
   "metadata": {
    "extensions": {
     "jupyter_dashboards": {
      "version": 1,
      "views": {
       "grid_default": {},
       "report_default": {
        "hidden": false
       }
      }
     }
    }
   },
   "source": [
    "Saco las variables pais, ano_alta, idclientecrm, User vendedor"
   ]
  },
  {
   "cell_type": "code",
   "execution_count": 10,
   "metadata": {
    "extensions": {
     "jupyter_dashboards": {
      "version": 1,
      "views": {
       "grid_default": {},
       "report_default": {
        "hidden": true
       }
      }
     }
    }
   },
   "outputs": [],
   "source": [
    "for var in ['pais', 'ano_alta', 'idclientecrm', 'User vendedor'] : variables.remove(var)"
   ]
  },
  {
   "cell_type": "markdown",
   "metadata": {
    "extensions": {
     "jupyter_dashboards": {
      "version": 1,
      "views": {
       "grid_default": {},
       "report_default": {
        "hidden": false
       }
      }
     }
    }
   },
   "source": [
    "#### Caso de la columna tipo_cliente y CLIENTE GRUPO"
   ]
  },
  {
   "cell_type": "markdown",
   "metadata": {
    "extensions": {
     "jupyter_dashboards": {
      "version": 1,
      "views": {
       "grid_default": {},
       "report_default": {
        "hidden": false
       }
      }
     }
    }
   },
   "source": [
    "Estas dos columnas parecen tener la misma información. Lo revisos:"
   ]
  },
  {
   "cell_type": "code",
   "execution_count": 11,
   "metadata": {
    "extensions": {
     "jupyter_dashboards": {
      "version": 1,
      "views": {
       "grid_default": {},
       "report_default": {
        "hidden": false
       }
      }
     }
    }
   },
   "outputs": [
    {
     "data": {
      "text/plain": [
       "(array(['Small', 'Big', 'definir'], dtype=object),\n",
       " array(['Small', 'Big', 'Desarrollo'], dtype=object))"
      ]
     },
     "execution_count": 11,
     "metadata": {},
     "output_type": "execute_result"
    }
   ],
   "source": [
    "data['tipo_cliente'].unique(), data['CLIENTE GRUPO'].unique()"
   ]
  },
  {
   "cell_type": "markdown",
   "metadata": {
    "extensions": {
     "jupyter_dashboards": {
      "version": 1,
      "views": {
       "grid_default": {},
       "report_default": {
        "hidden": false
       }
      }
     }
    }
   },
   "source": [
    "Porcentaje de coincidencias"
   ]
  },
  {
   "cell_type": "code",
   "execution_count": 12,
   "metadata": {
    "extensions": {
     "jupyter_dashboards": {
      "version": 1,
      "views": {
       "grid_default": {},
       "report_default": {
        "hidden": false
       }
      }
     }
    }
   },
   "outputs": [
    {
     "data": {
      "text/plain": [
       "96.757159423812"
      ]
     },
     "execution_count": 12,
     "metadata": {},
     "output_type": "execute_result"
    }
   ],
   "source": [
    "np.where(data['tipo_cliente'] == data['CLIENTE GRUPO'], True, False).sum()*100/len(data)"
   ]
  },
  {
   "cell_type": "markdown",
   "metadata": {
    "extensions": {
     "jupyter_dashboards": {
      "version": 1,
      "views": {
       "grid_default": {},
       "report_default": {
        "hidden": false
       }
      }
     }
    }
   },
   "source": [
    "Por lo tanto, usaremos la columna __CLIENTE GRUPO__ porque tiene prácticamente la misma información que __tipo_cliente__"
   ]
  },
  {
   "cell_type": "code",
   "execution_count": 13,
   "metadata": {
    "extensions": {
     "jupyter_dashboards": {
      "version": 1,
      "views": {
       "grid_default": {},
       "report_default": {
        "hidden": true
       }
      }
     }
    }
   },
   "outputs": [],
   "source": [
    "variables.remove('tipo_cliente')"
   ]
  },
  {
   "cell_type": "code",
   "execution_count": 14,
   "metadata": {},
   "outputs": [],
   "source": [
    "label_references = pd.DataFrame(columns = ['class', 'label'])"
   ]
  },
  {
   "cell_type": "code",
   "execution_count": 15,
   "metadata": {},
   "outputs": [],
   "source": [
    "def generate_and_append_labels(class_list, label_reference_df):\n",
    "    assert(set(label_reference_df.columns)==set(['class', 'label']) )\n",
    "    l = pd.DataFrame(columns = ['class', 'label'])\n",
    "    labelencoder = preprocessing.LabelEncoder()\n",
    "    labelencoder.fit(class_list)\n",
    "    l['class'] = class_list\n",
    "    l['label'] = l['class'].apply(lambda x: labelencoder.transform([x])[0])\n",
    "    label_reference_df = pd.concat([label_reference_df, l])\n",
    "    assert(len(label_reference_df)==len(label_reference_df['class'].unique())) # Classes repetidad\n",
    "    return label_reference_df\n",
    "\n",
    "def apply_label(data:pd.DataFrame, column_name, label_df):\n",
    "    assert(set(label_df.columns)==set(['class', 'label']))\n",
    "    if column_name+'_label' in data.columns:\n",
    "        print(\"Column already labeled\")\n",
    "        return\n",
    "    data = pd.merge(data, label_references, left_on = column_name, right_on = 'class').drop('class', axis = 1)\n",
    "    data = data.rename(columns={'label': column_name +'_label'})\n",
    "    return data.drop(column_name, axis = 1)"
   ]
  },
  {
   "cell_type": "code",
   "execution_count": 16,
   "metadata": {},
   "outputs": [],
   "source": [
    "label_references = generate_and_append_labels(data['CLIENTE GRUPO'].unique(), label_references)"
   ]
  },
  {
   "cell_type": "code",
   "execution_count": 17,
   "metadata": {},
   "outputs": [],
   "source": [
    "data = apply_label(data, column_name = 'CLIENTE GRUPO', label_df = label_references)"
   ]
  },
  {
   "cell_type": "code",
   "execution_count": 18,
   "metadata": {},
   "outputs": [],
   "source": [
    "variables.append('CLIENTE GRUPO_label')"
   ]
  },
  {
   "cell_type": "code",
   "execution_count": 19,
   "metadata": {},
   "outputs": [],
   "source": [
    "variables.remove('CLIENTE GRUPO')"
   ]
  },
  {
   "cell_type": "markdown",
   "metadata": {
    "extensions": {
     "jupyter_dashboards": {
      "version": 1,
      "views": {
       "grid_default": {},
       "report_default": {
        "hidden": false
       }
      }
     }
    }
   },
   "source": [
    "#### Caso Lead Alquiler Formulario' 'Lead Alquiler Ver Dato' 'Lead Alquiler temporal Formulario' 'Lead Alquiler temporal Ver Dato"
   ]
  },
  {
   "cell_type": "markdown",
   "metadata": {
    "extensions": {
     "jupyter_dashboards": {
      "version": 1,
      "views": {
       "grid_default": {},
       "report_default": {
        "hidden": false
       }
      }
     }
    }
   },
   "source": [
    "Estas columnas tienen un '  -   ' en vez de 0. Vamos a reemplazarlos por 0."
   ]
  },
  {
   "cell_type": "code",
   "execution_count": 20,
   "metadata": {
    "extensions": {
     "jupyter_dashboards": {
      "version": 1,
      "views": {
       "grid_default": {},
       "report_default": {
        "hidden": true
       }
      }
     }
    }
   },
   "outputs": [
    {
     "name": "stdout",
     "output_type": "stream",
     "text": [
      "Lead Venta Formulario - OK!\n",
      "Lead Venta Ver Dato - OK!\n",
      "Lead Alquiler Formulario - OK!\n",
      "Lead Alquiler Ver Dato - OK!\n",
      "Lead Alquiler temporal Formulario - OK!\n",
      "Lead Alquiler temporal Ver Dato - OK!\n"
     ]
    }
   ],
   "source": [
    "for column in ['Lead Venta Formulario', 'Lead Venta Ver Dato','Lead Alquiler Formulario', 'Lead Alquiler Ver Dato','Lead Alquiler temporal Formulario', 'Lead Alquiler temporal Ver Dato']:\n",
    "    print(column, end = '\\r')\n",
    "    data[column] = data[column].astype(str)\n",
    "    data[column] = data[column].replace('  -   ' ,'0')\n",
    "    data[column] = data[column].str.replace(',', '')\n",
    "    data[column] = data[column].astype(float)\n",
    "    print(column + \" - OK!\")"
   ]
  },
  {
   "cell_type": "markdown",
   "metadata": {},
   "source": [
    "Además vamos a unir las de Formulario con las Ver Dato"
   ]
  },
  {
   "cell_type": "code",
   "execution_count": 21,
   "metadata": {},
   "outputs": [],
   "source": [
    "data['Lead Venta'] = data['Lead Venta Formulario'] + data['Lead Venta Ver Dato']\n",
    "variables.append('Lead Venta')\n",
    "data['Lead Alquiler'] = data['Lead Alquiler Formulario'] + data['Lead Alquiler Ver Dato']\n",
    "variables.append('Lead Alquiler')\n",
    "data['Lead Alquiler temporal'] = data['Lead Alquiler temporal Formulario'] + data['Lead Alquiler temporal Ver Dato']\n",
    "variables.append('Lead Alquiler temporal')"
   ]
  },
  {
   "cell_type": "code",
   "execution_count": 22,
   "metadata": {},
   "outputs": [
    {
     "name": "stdout",
     "output_type": "stream",
     "text": [
      "Lead Venta Formulario\r",
      "Lead Venta Formulario - Removed\n",
      "Lead Venta Ver Dato\r",
      "Lead Venta Ver Dato - Removed\n",
      "Lead Alquiler Formulario\r",
      "Lead Alquiler Formulario - Removed\n",
      "Lead Alquiler Ver Dato\r",
      "Lead Alquiler Ver Dato - Removed\n",
      "Lead Alquiler temporal Ver Dato\r",
      "Lead Alquiler temporal Ver Dato - Removed\n",
      "Lead Alquiler temporal Formulario\r",
      "Lead Alquiler temporal Formulario - Removed\n"
     ]
    }
   ],
   "source": [
    "for x in ['Lead Venta Formulario', 'Lead Venta Ver Dato', 'Lead Alquiler Formulario', 'Lead Alquiler Ver Dato', 'Lead Alquiler temporal Ver Dato', 'Lead Alquiler temporal Formulario']:\n",
    "    print(x, end = \"\\r\")\n",
    "    variables.remove(x)\n",
    "    print(x + \" - Removed\")"
   ]
  },
  {
   "cell_type": "markdown",
   "metadata": {
    "extensions": {
     "jupyter_dashboards": {
      "version": 1,
      "views": {
       "grid_default": {},
       "report_default": {
        "hidden": false
       }
      }
     }
    }
   },
   "source": [
    "#### Caso columna Integrador"
   ]
  },
  {
   "cell_type": "markdown",
   "metadata": {},
   "source": [
    "Toma valores 'SI' y 'NO' que cambio por '1' y '0' respectivamente"
   ]
  },
  {
   "cell_type": "code",
   "execution_count": 23,
   "metadata": {},
   "outputs": [],
   "source": [
    "label_references = generate_and_append_labels(data['Integrador'].unique(), label_references)"
   ]
  },
  {
   "cell_type": "code",
   "execution_count": 24,
   "metadata": {},
   "outputs": [],
   "source": [
    "data = apply_label(data, column_name = 'Integrador', label_df = label_references)"
   ]
  },
  {
   "cell_type": "code",
   "execution_count": 25,
   "metadata": {},
   "outputs": [],
   "source": [
    "variables.remove('Integrador')\n",
    "variables.append('Integrador_label')"
   ]
  },
  {
   "cell_type": "markdown",
   "metadata": {},
   "source": [
    "#### Caso Status Cliente"
   ]
  },
  {
   "cell_type": "code",
   "execution_count": 26,
   "metadata": {},
   "outputs": [
    {
     "data": {
      "text/plain": [
       "array(['Vigente', 'Cancelado', '-'], dtype=object)"
      ]
     },
     "execution_count": 26,
     "metadata": {},
     "output_type": "execute_result"
    }
   ],
   "source": [
    "data['Status Cliente'].unique()"
   ]
  },
  {
   "cell_type": "code",
   "execution_count": 27,
   "metadata": {},
   "outputs": [],
   "source": [
    "data = data[data['Status Cliente']!='-']"
   ]
  },
  {
   "cell_type": "code",
   "execution_count": 28,
   "metadata": {},
   "outputs": [
    {
     "data": {
      "text/plain": [
       "Vigente      178020\n",
       "Cancelado    158268\n",
       "Name: Status Cliente, dtype: int64"
      ]
     },
     "execution_count": 28,
     "metadata": {},
     "output_type": "execute_result"
    }
   ],
   "source": [
    "data['Status Cliente'].value_counts()"
   ]
  },
  {
   "cell_type": "code",
   "execution_count": 29,
   "metadata": {},
   "outputs": [
    {
     "data": {
      "text/plain": [
       "19748"
      ]
     },
     "execution_count": 29,
     "metadata": {},
     "output_type": "execute_result"
    }
   ],
   "source": [
    "len(data.idclientecrm.unique())"
   ]
  },
  {
   "cell_type": "markdown",
   "metadata": {
    "extensions": {
     "jupyter_dashboards": {
      "version": 1,
      "views": {
       "grid_default": {},
       "report_default": {
        "hidden": false
       }
      }
     }
    }
   },
   "source": [
    "#### Caso columnas contratado"
   ]
  },
  {
   "cell_type": "markdown",
   "metadata": {
    "extensions": {
     "jupyter_dashboards": {
      "version": 1,
      "views": {
       "grid_default": {},
       "report_default": {
        "hidden": false
       }
      }
     }
    }
   },
   "source": [
    "Hay algunos 'NaN' en las columnas de contratados. Las cambio por 0."
   ]
  },
  {
   "cell_type": "code",
   "execution_count": 30,
   "metadata": {},
   "outputs": [],
   "source": [
    "contratados = ['contratado Super Destacado','contratado Destacado',\n",
    " 'contratado Simple',\n",
    " 'contratado Desarrollo Super Destacado',\n",
    " 'contratado Desarrollo Destacado',\n",
    " 'contratado Desarrollo Simple',\n",
    " 'contratado freemium']"
   ]
  },
  {
   "cell_type": "code",
   "execution_count": 31,
   "metadata": {
    "extensions": {
     "jupyter_dashboards": {
      "version": 1,
      "views": {
       "grid_default": {},
       "report_default": {
        "hidden": true
       }
      }
     }
    }
   },
   "outputs": [
    {
     "name": "stdout",
     "output_type": "stream",
     "text": [
      "contratado Super Destacado con información relevante:  140439\n",
      "contratado Destacado con información relevante:  192742\n",
      "contratado Simple con información relevante:  221376\n",
      "contratado Desarrollo Super Destacado con información relevante:  652\n",
      "contratado Desarrollo Destacado con información relevante:  3886\n",
      "contratado Desarrollo Simple con información relevante:  54\n",
      "contratado freemium con información relevante:  0\n"
     ]
    },
    {
     "name": "stderr",
     "output_type": "stream",
     "text": [
      "/home/fvadell/anaconda3/envs/fast/lib/python3.6/site-packages/pandas/core/ops/array_ops.py:253: FutureWarning: elementwise comparison failed; returning scalar instead, but in the future will perform elementwise comparison\n",
      "  res_values = method(rvalues)\n"
     ]
    }
   ],
   "source": [
    "for c in contratados :\n",
    "    data[c] = data[c].fillna(0)\n",
    "    print(c+' con información relevante: ', len(data[(data[c]!='0') & (data[c]!=0)]))"
   ]
  },
  {
   "cell_type": "markdown",
   "metadata": {},
   "source": [
    "#### Caso columnas SD, S, D"
   ]
  },
  {
   "cell_type": "markdown",
   "metadata": {},
   "source": [
    "Las tres columnas son simplemente la suma de otras dos así que vamos a sacarlas."
   ]
  },
  {
   "cell_type": "code",
   "execution_count": 32,
   "metadata": {},
   "outputs": [],
   "source": [
    "variables.remove('SD')\n",
    "variables.remove('S')\n",
    "variables.remove('D')"
   ]
  },
  {
   "cell_type": "markdown",
   "metadata": {},
   "source": [
    "#### Agrego Columna Status Cliente pero numérica -> Esto lo tengo que ver después"
   ]
  },
  {
   "cell_type": "code",
   "execution_count": 33,
   "metadata": {},
   "outputs": [],
   "source": [
    "data = data.sort_values(by = ['idclientecrm', 'ano_mes'], ascending = [False, False])"
   ]
  },
  {
   "cell_type": "code",
   "execution_count": 34,
   "metadata": {},
   "outputs": [],
   "source": [
    "data['Status Cliente'] = np.where(data['Status Cliente']=='Cancelado', 1, 0)"
   ]
  },
  {
   "cell_type": "code",
   "execution_count": 35,
   "metadata": {},
   "outputs": [],
   "source": [
    "label_references.loc[len(label_references)] = ['Cancelado', 1]\n",
    "label_references.loc[len(label_references)] = ['Vigente', 0]"
   ]
  },
  {
   "cell_type": "markdown",
   "metadata": {},
   "source": [
    "### Data Wrangling"
   ]
  },
  {
   "cell_type": "code",
   "execution_count": 36,
   "metadata": {},
   "outputs": [],
   "source": [
    "# Estos casos particulares hay que corregirlos a mano\n",
    "# 10455282 año 2019: Vigente\n",
    "# 10726969 año 2019: Cancelado\n",
    "# 30016421 año 2019: Vigente \n",
    "data = data[(data['idclientecrm']!=10455282)|(data['Status Cliente']==0)]\n",
    "data = data[(data['idclientecrm']!=10726969)|(data['Status Cliente']==1)]\n",
    "data = data[(data['idclientecrm']!=30016421)|(data['Status Cliente']==0)]"
   ]
  },
  {
   "cell_type": "code",
   "execution_count": 37,
   "metadata": {},
   "outputs": [
    {
     "name": "stdout",
     "output_type": "stream",
     "text": [
      "-------- OK!\n"
     ]
    }
   ],
   "source": [
    "# Chequeamos si hay ids que aparezcan más de una vez por 'ano_mes'\n",
    "ids_raros = pd.DataFrame(data.groupby(['idclientecrm', 'ano_mes']).size()).reset_index(drop = False).sort_values(0, ascending = False)\n",
    "ids_raros = ids_raros[ids_raros[0]>1].idclientecrm.unique()\n",
    "if len(ids_raros)>0:\n",
    "    print('**** Revisar estos {} ids'.format(len(ids_raros)))\n",
    "    print(ids_raros)\n",
    "else:\n",
    "    print(\"-------- OK!\")"
   ]
  },
  {
   "cell_type": "code",
   "execution_count": 38,
   "metadata": {},
   "outputs": [],
   "source": [
    "variables.remove('mes_alta')\n",
    "variables.remove('ano_mes')"
   ]
  },
  {
   "cell_type": "code",
   "execution_count": 39,
   "metadata": {},
   "outputs": [],
   "source": [
    "label_references = generate_and_append_labels(data['provincia'].unique(), label_references)\n",
    "data = apply_label(data, column_name = 'provincia', label_df = label_references)\n",
    "variables.remove('provincia')\n",
    "variables.append('provincia_label')"
   ]
  },
  {
   "cell_type": "code",
   "execution_count": 40,
   "metadata": {},
   "outputs": [],
   "source": [
    "variables_temporales = variables.copy()\n",
    "\n",
    "variables_temporales.remove('CLIENTE GRUPO_label')\n",
    "variables_temporales.remove('Cliente Ilimitado sin Destaque')\n",
    "variables_temporales.remove('Integrador_label')\n",
    "variables_temporales.remove('Equipo')\n",
    "variables_temporales.remove('provincia_label')\n",
    "\n",
    "variables_fijas = list(set(variables).difference(set(variables_temporales)))"
   ]
  },
  {
   "cell_type": "markdown",
   "metadata": {},
   "source": [
    "### Detectar cese de actividad"
   ]
  },
  {
   "cell_type": "code",
   "execution_count": 41,
   "metadata": {},
   "outputs": [],
   "source": [
    "variables_actividad = ['monto_total', 'Lead Venta', 'Lead Alquiler', 'Lead Alquiler temporal']"
   ]
  },
  {
   "cell_type": "code",
   "execution_count": 42,
   "metadata": {},
   "outputs": [],
   "source": [
    "data_original = data.copy()"
   ]
  },
  {
   "cell_type": "code",
   "execution_count": 43,
   "metadata": {},
   "outputs": [],
   "source": [
    "data = data.reset_index(drop = True)"
   ]
  },
  {
   "cell_type": "code",
   "execution_count": 44,
   "metadata": {},
   "outputs": [],
   "source": [
    "# Detectar cese de actividad a lo bruto\n",
    "# TODO: MEJORAR ESTO\n",
    "_ = data[(data['monto_total']<=0)&(data['Lead Venta']<=0)&(data['Lead Alquiler']<=0)&(data['Lead Alquiler temporal']<=0)].index\n",
    "data = data.drop(_)"
   ]
  },
  {
   "cell_type": "code",
   "execution_count": 45,
   "metadata": {},
   "outputs": [],
   "source": [
    "data = data.sort_values(['ano_alta', 'idclientecrm', 'mes_alta']).reset_index(drop = True)"
   ]
  },
  {
   "cell_type": "code",
   "execution_count": 46,
   "metadata": {},
   "outputs": [],
   "source": [
    "clientes = data.sort_values(['idclientecrm', 'ano_mes'], ascending = [False, False]).filter(['idclientecrm', 'Status Cliente']).drop_duplicates('idclientecrm').sort_values('idclientecrm', ascending = True)"
   ]
  },
  {
   "cell_type": "code",
   "execution_count": 47,
   "metadata": {},
   "outputs": [],
   "source": [
    "user_count = pd.DataFrame(data.idclientecrm.value_counts())\n",
    "user_count = user_count.reset_index(drop = False)\n",
    "user_count.columns = ['idclientecrm', 'months']"
   ]
  },
  {
   "cell_type": "code",
   "execution_count": 48,
   "metadata": {},
   "outputs": [],
   "source": [
    "user_count = pd.merge(clientes, user_count)"
   ]
  },
  {
   "cell_type": "code",
   "execution_count": 49,
   "metadata": {},
   "outputs": [],
   "source": [
    "def get_last_activity(data, user, n_months, drop_last_months = 0):\n",
    "    res = data[data['idclientecrm']==user].sort_values(['ano_alta', 'mes_alta'], ascending = [False, False]).head(n_months+drop_last_months)\n",
    "    res = res.drop(['pais', 'mes_alta', 'ano_mes'], axis = 1)\n",
    "    res['month'] = [x for x in range(len(res))]\n",
    "    return res.iloc[drop_last_months:,:]"
   ]
  },
  {
   "cell_type": "markdown",
   "metadata": {},
   "source": [
    "### Aclaración\n",
    "#### Detectar cese de actividad\n",
    "Lo que se hace es sacar las columnas que tienen monto total 0 o negativo y sin Leads de ningún tipo. Esto nos ayuda a detectar el mes de cese de actividad y poder también calcular la cantidad de meses de actividad.\n",
    "#### Problema\n",
    "Como 'Status Cliente' se calcula a año cerrado tenemos un sesgo importante con mes_alta y ano_mes una vez que descartamos las filas sin actividad. Si calculamos la cantidad de meses de actividad, esta columna tendrá implícitamente información sobre el Status del Cliente. Por ejemplo, Si tenemos un usuario con un sólo mes de actividad y es de cualquier mes que no sea Diciembre entonces sabremos que el Status Cliente es Cancelado, es decir que esas dos columnas tienen información de Status Cliente. Esto es un ejemplo de __target leak__.\n",
    "#### Solución\n",
    "Si el modelo final va a tratar de predecir el Status del Cliente dados los últimos n meses de actividad entonces tendremos que entrenarlo con los últimos n meses de actividad de cada usuario (y descargar los usuarios que tengan menos de n meses de actividad)"
   ]
  },
  {
   "cell_type": "markdown",
   "metadata": {},
   "source": [
    "## Primer DataSet transformado"
   ]
  },
  {
   "cell_type": "code",
   "execution_count": 50,
   "metadata": {},
   "outputs": [],
   "source": [
    "valid_users = list(user_count[user_count['months']>=MIN_NUMBER_OF_ACTIVE_MONTHS].drop_duplicates('idclientecrm').idclientecrm)"
   ]
  },
  {
   "cell_type": "code",
   "execution_count": 51,
   "metadata": {},
   "outputs": [
    {
     "name": "stdout",
     "output_type": "stream",
     "text": [
      "-------- OK!\n"
     ]
    }
   ],
   "source": [
    "n_users = len(valid_users)\n",
    "df_v2 = pd.DataFrame()\n",
    "for k, user in enumerate(valid_users):\n",
    "    if (k % 100) == 0:\n",
    "        print(\"{}/{}\".format(k, n_users), end = \"\\r\")\n",
    "    _ = get_last_activity(data, user, n_months = MIN_NUMBER_OF_ACTIVE_MONTHS-ALERT_TIME, drop_last_months = ALERT_TIME)\n",
    "    df_v2 = pd.concat([df_v2, _])\n",
    "print(\"-------- OK!\")"
   ]
  },
  {
   "cell_type": "code",
   "execution_count": 52,
   "metadata": {},
   "outputs": [],
   "source": [
    "df_v2 = df_v2.pivot(index='idclientecrm',columns='month',values=variables_temporales)"
   ]
  },
  {
   "cell_type": "code",
   "execution_count": 53,
   "metadata": {},
   "outputs": [
    {
     "name": "stdout",
     "output_type": "stream",
     "text": [
      "-------- OK!\n"
     ]
    }
   ],
   "source": [
    "if len(clientes.idclientecrm.unique())== len(clientes):\n",
    "    print(\"-------- OK!\")\n",
    "else:\n",
    "    print(\"Hay algún cliente con más de un Status. Revisar !!\")"
   ]
  },
  {
   "cell_type": "code",
   "execution_count": 54,
   "metadata": {},
   "outputs": [],
   "source": [
    "df_v2.columns =list(df_v2.columns.get_level_values(0)+df_v2.columns.get_level_values(1).astype(str))"
   ]
  },
  {
   "cell_type": "markdown",
   "metadata": {},
   "source": [
    "## User info"
   ]
  },
  {
   "cell_type": "code",
   "execution_count": 55,
   "metadata": {},
   "outputs": [],
   "source": [
    "client_data = data[['idclientecrm']+variables_fijas].drop_duplicates('idclientecrm')"
   ]
  },
  {
   "cell_type": "code",
   "execution_count": 56,
   "metadata": {},
   "outputs": [],
   "source": [
    "client_data = client_data.sort_values('idclientecrm')"
   ]
  },
  {
   "cell_type": "code",
   "execution_count": 57,
   "metadata": {},
   "outputs": [],
   "source": [
    "client_data.to_csv('./data/client_data.csv')"
   ]
  },
  {
   "cell_type": "code",
   "execution_count": 58,
   "metadata": {},
   "outputs": [],
   "source": [
    "client_data = client_data.set_index('idclientecrm')"
   ]
  },
  {
   "cell_type": "code",
   "execution_count": 59,
   "metadata": {},
   "outputs": [],
   "source": [
    "client_data = client_data.drop('Equipo', axis = 1)"
   ]
  },
  {
   "cell_type": "code",
   "execution_count": 60,
   "metadata": {},
   "outputs": [],
   "source": [
    "df_v2 = pd.merge(df_v2, client_data, left_index = True, right_index = True)"
   ]
  },
  {
   "cell_type": "code",
   "execution_count": 61,
   "metadata": {},
   "outputs": [],
   "source": [
    "clientes = clientes.set_index('idclientecrm')"
   ]
  },
  {
   "cell_type": "code",
   "execution_count": 62,
   "metadata": {},
   "outputs": [],
   "source": [
    "clientes = clientes[clientes.index.isin(df_v2.index)]"
   ]
  },
  {
   "cell_type": "code",
   "execution_count": 63,
   "metadata": {},
   "outputs": [],
   "source": [
    "df_v2.to_csv('./data/features.csv')\n",
    "clientes.to_csv('./data/labels.csv')\n",
    "label_references.to_csv('./data/label_references.csv')"
   ]
  }
 ],
 "metadata": {
  "extensions": {
   "jupyter_dashboards": {
    "activeView": "report_default",
    "version": 1,
    "views": {
     "grid_default": {
      "name": "grid",
      "type": "grid"
     },
     "report_default": {
      "name": "report",
      "type": "report"
     }
    }
   }
  },
  "kernelspec": {
   "display_name": "fast",
   "language": "python",
   "name": "fast"
  },
  "language_info": {
   "codemirror_mode": {
    "name": "ipython",
    "version": 3
   },
   "file_extension": ".py",
   "mimetype": "text/x-python",
   "name": "python",
   "nbconvert_exporter": "python",
   "pygments_lexer": "ipython3",
   "version": "3.6.10"
  }
 },
 "nbformat": 4,
 "nbformat_minor": 2
}
