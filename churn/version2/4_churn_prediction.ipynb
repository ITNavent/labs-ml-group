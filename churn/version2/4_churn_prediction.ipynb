{
 "cells": [
  {
   "cell_type": "markdown",
   "metadata": {},
   "source": [
    "#### Input\n",
    "\n",
    "Esta notebook va a levantar el csv __clientes_input.csv__ y va a hacer las predicciones para esos usuarios.\n",
    "\n",
    "Las columnas deben ser como las del ejemplo __'./data/example_input.csv'__.\n",
    "\n",
    "Si se quiere hacer una prueba para ver cómo funciona se puede cambiar el nombre del example_input.csv a clientes_input.csv y correr la notebook\n",
    "\n",
    "#### Output\n",
    "\n",
    "Va a generar el csv __preds.csv__.\n"
   ]
  },
  {
   "cell_type": "code",
   "execution_count": 1,
   "metadata": {},
   "outputs": [],
   "source": [
    "import pandas as pd\n",
    "import xgboost as xgb\n",
    "from xgboost import XGBClassifier"
   ]
  },
  {
   "cell_type": "code",
   "execution_count": 2,
   "metadata": {},
   "outputs": [
    {
     "name": "stdout",
     "output_type": "stream",
     "text": [
      "client_data2.csv\t label_references.csv\t      test_metrics.csv\r\n",
      "client_data3.csv\t labels.csv\t\t      test_results_all.csv\r\n",
      "client_data.csv\t\t labels_validation.csv\t      test_results.csv\r\n",
      "clientes_input.csv\t models\t\t\t      test_results_num2.csv\r\n",
      "example_features.csv\t preds.csv\t\t      test_results_num3.csv\r\n",
      "example_input.csv\t test_metrics2.csv\t      test_results_num.csv\r\n",
      "example_labels.csv\t test_metrics3.csv\t      Untitled.ipynb\r\n",
      "features.csv\t\t test_metrics_all.csv\r\n",
      "features_validation.csv  test_metrics_comparison.csv\r\n"
     ]
    }
   ],
   "source": [
    "!ls data"
   ]
  },
  {
   "cell_type": "code",
   "execution_count": 3,
   "metadata": {},
   "outputs": [],
   "source": [
    "features = pd.read_csv('./data/features_validation.csv', index_col='idclientecrm')"
   ]
  },
  {
   "cell_type": "markdown",
   "metadata": {},
   "source": [
    "### Modelo"
   ]
  },
  {
   "cell_type": "code",
   "execution_count": 4,
   "metadata": {},
   "outputs": [],
   "source": [
    "model = XGBClassifier(learning_rate=0.1,n_estimators=100)\n",
    "model.load_model(\"./data/models/xgb.model\")"
   ]
  },
  {
   "cell_type": "code",
   "execution_count": 5,
   "metadata": {},
   "outputs": [],
   "source": [
    "predicciones = pd.DataFrame(features.index).set_index('idclientecrm')"
   ]
  },
  {
   "cell_type": "code",
   "execution_count": 6,
   "metadata": {},
   "outputs": [],
   "source": [
    "predicciones['pred'] = model.predict(features)\n",
    "predicciones['weight'] = model.predict_proba(features).max(axis = 1)\n",
    "predicciones = predicciones.sort_values(['pred','weight'], ascending = [True, False])"
   ]
  },
  {
   "cell_type": "code",
   "execution_count": 7,
   "metadata": {},
   "outputs": [],
   "source": [
    "labels = pd.read_csv('./data/labels_validation.csv', index_col = 'idclientecrm')"
   ]
  },
  {
   "cell_type": "code",
   "execution_count": 8,
   "metadata": {},
   "outputs": [],
   "source": [
    "df = pd.merge(predicciones, labels, left_index=True, right_index=True)"
   ]
  },
  {
   "cell_type": "code",
   "execution_count": 9,
   "metadata": {},
   "outputs": [],
   "source": [
    "df['correct'] = (df['pred']==df['Status Cliente'])"
   ]
  },
  {
   "cell_type": "code",
   "execution_count": 10,
   "metadata": {},
   "outputs": [
    {
     "data": {
      "text/plain": [
       "0.795"
      ]
     },
     "execution_count": 10,
     "metadata": {},
     "output_type": "execute_result"
    }
   ],
   "source": [
    "len(df[df['correct']==True]) / len(df)"
   ]
  },
  {
   "cell_type": "code",
   "execution_count": 11,
   "metadata": {},
   "outputs": [],
   "source": [
    "predicciones.to_csv('./data/preds.csv')"
   ]
  }
 ],
 "metadata": {
  "kernelspec": {
   "display_name": "fast",
   "language": "python",
   "name": "fast"
  },
  "language_info": {
   "codemirror_mode": {
    "name": "ipython",
    "version": 3
   },
   "file_extension": ".py",
   "mimetype": "text/x-python",
   "name": "python",
   "nbconvert_exporter": "python",
   "pygments_lexer": "ipython3",
   "version": "3.6.10"
  }
 },
 "nbformat": 4,
 "nbformat_minor": 4
}
