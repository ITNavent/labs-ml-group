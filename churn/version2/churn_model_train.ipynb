{
 "cells": [
  {
   "cell_type": "markdown",
   "metadata": {},
   "source": [
    "# Pasos"
   ]
  },
  {
   "cell_type": "markdown",
   "metadata": {},
   "source": [
    "#### Input\n",
    "\n",
    "El input son dos csvs __features.csv__ y __labels.csv__. Tienen que ser similar a los csvs __example_features.csv___ y __example_labels.csv__ que están en __./data__.\n",
    "\n",
    "Esta notebook va a levantar los csvs que tengan ese nombre y va a entrenar el modelo que luego se usará para predecir.\n",
    "\n",
    "Si se quiere hacer una prueba para ver cómo funciona se puede cambiar el nombre de los csvs example a features.csv y a labels.csv respectivamente.\n",
    "\n",
    "#### Cómo Correr la notebook\n",
    "\n",
    "Desde una terminal hay que ejecutar:\n",
    "\n",
    "$ jupyter nbconvert --execute churn_model_train.ipynb\n",
    "\n",
    "#### Output\n",
    "\n",
    "Esta notebook crea un csv __test_results.csv__ en la carpeta __./data__ que contiene los resultados del test set para calcular métricas."
   ]
  },
  {
   "cell_type": "code",
   "execution_count": 9,
   "metadata": {},
   "outputs": [],
   "source": [
    "import pandas as pd\n",
    "import xgboost as xgb\n",
    "from xgboost import XGBClassifier"
   ]
  },
  {
   "cell_type": "code",
   "execution_count": 2,
   "metadata": {},
   "outputs": [],
   "source": [
    "features = pd.read_csv('./data/features.csv')\n",
    "clientes = pd.read_csv('./data/labels.csv')"
   ]
  },
  {
   "cell_type": "code",
   "execution_count": 4,
   "metadata": {},
   "outputs": [],
   "source": [
    "test_ids = set(clientes.idclientecrm.sample(frac = 0.15))\n",
    "features = features.set_index('idclientecrm')\n",
    "clientes = clientes.set_index('idclientecrm')"
   ]
  },
  {
   "cell_type": "code",
   "execution_count": 5,
   "metadata": {},
   "outputs": [],
   "source": [
    "clientes_test = clientes[clientes.index.isin(test_ids)]"
   ]
  },
  {
   "cell_type": "code",
   "execution_count": 6,
   "metadata": {},
   "outputs": [],
   "source": [
    "# train set\n",
    "clientes_train = clientes[~clientes.index.isin(test_ids)]\n",
    "features_train = features[~features.index.isin(test_ids)]"
   ]
  },
  {
   "cell_type": "markdown",
   "metadata": {},
   "source": [
    "### Definición y entrenamiento"
   ]
  },
  {
   "cell_type": "code",
   "execution_count": 10,
   "metadata": {},
   "outputs": [],
   "source": [
    "model = XGBClassifier(learning_rate=0.1,n_estimators=100)\n",
    "model = model.fit(features_train, clientes_train.squeeze())\n",
    "model.save_model(\"./data/models/xgb.model\")"
   ]
  },
  {
   "cell_type": "code",
   "execution_count": 15,
   "metadata": {},
   "outputs": [],
   "source": [
    "clientes_test['pred'] = model.predict(features[features.index.isin(test_ids)])\n",
    "clientes_test['correct'] = (clientes_test['pred']==clientes_test['Status Cliente'])\n",
    "clientes_test['weight'] = model.predict_proba(features[features.index.isin(test_ids)]).max(axis = 1)\n",
    "clientes_test = clientes_test.sort_values('weight', ascending = False)"
   ]
  },
  {
   "cell_type": "code",
   "execution_count": 20,
   "metadata": {},
   "outputs": [],
   "source": [
    "clientes_test.to_csv('./data/test_results.csv')"
   ]
  }
 ],
 "metadata": {
  "kernelspec": {
   "display_name": "fast",
   "language": "python",
   "name": "fast"
  },
  "language_info": {
   "codemirror_mode": {
    "name": "ipython",
    "version": 3
   },
   "file_extension": ".py",
   "mimetype": "text/x-python",
   "name": "python",
   "nbconvert_exporter": "python",
   "pygments_lexer": "ipython3",
   "version": "3.6.10"
  }
 },
 "nbformat": 4,
 "nbformat_minor": 4
}
