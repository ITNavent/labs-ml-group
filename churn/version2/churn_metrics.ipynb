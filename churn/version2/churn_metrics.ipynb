{
 "cells": [
  {
   "cell_type": "markdown",
   "metadata": {},
   "source": [
    "# Pasos\n",
    "\n",
    "#### Input\n",
    "\n",
    "Esta notebook va a levantar el csv que se llame __test_results.csv__ que es la salida de la notebook __churn_model_train.ipynb__ y va a calcular algunas métricas a partir de esos resultados. \n",
    "\n",
    "Las columnas deben ser como las del ejemplo __'./data/example_test_results.csv'__.\n",
    "\n",
    "Si se quiere hacer una prueba para ver cómo funciona se puede cambiar el nombre del example_test_results.csv a test_results.csv y correr la notebook\n",
    "\n",
    "#### Cómo Correr la notebook\n",
    "\n",
    "Desde una terminal hay que ejecutar:\n",
    "\n",
    "$ jupyter nbconvert --execute churn_metrics.ipynb\n"
   ]
  },
  {
   "cell_type": "code",
   "execution_count": 1,
   "metadata": {},
   "outputs": [],
   "source": [
    "import pandas as pd"
   ]
  },
  {
   "cell_type": "code",
   "execution_count": 2,
   "metadata": {},
   "outputs": [],
   "source": [
    "import metrics_toolbox as mt"
   ]
  },
  {
   "cell_type": "code",
   "execution_count": 3,
   "metadata": {},
   "outputs": [],
   "source": [
    "results = pd.read_csv('./data/test_results.csv', index_col = 'idclientecrm')"
   ]
  },
  {
   "cell_type": "code",
   "execution_count": 4,
   "metadata": {},
   "outputs": [],
   "source": [
    "metrics = mt.create_metrics_df(results)"
   ]
  },
  {
   "cell_type": "code",
   "execution_count": 6,
   "metadata": {},
   "outputs": [],
   "source": [
    "metrics.to_csv('./data/test_metrics.csv')"
   ]
  }
 ],
 "metadata": {
  "kernelspec": {
   "display_name": "fast",
   "language": "python",
   "name": "fast"
  },
  "language_info": {
   "codemirror_mode": {
    "name": "ipython",
    "version": 3
   },
   "file_extension": ".py",
   "mimetype": "text/x-python",
   "name": "python",
   "nbconvert_exporter": "python",
   "pygments_lexer": "ipython3",
   "version": "3.6.10"
  }
 },
 "nbformat": 4,
 "nbformat_minor": 4
}
