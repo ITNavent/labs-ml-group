{
 "cells": [
  {
   "cell_type": "markdown",
   "metadata": {},
   "source": [
    "#### Input\n",
    "\n",
    "El input es el csv __Churn Brasil_plana mensualizada.csv__ que son los datos que nos pasan desde BI y tienen que estar ubicados en ./data/.\n",
    "\n",
    "Esta notebook va a correr los cinco scripts que limpian los datos, entrena el modelo, calcula métricas, predice y calcula métricas de SHAP.\n",
    "\n",
    "#### Output\n",
    "\n",
    "Va a generar varios csvs en ./data. El más importante es __preds.csv__ que va a contener las predicciones. Para más detalles se puede entrar a cada una de las notebooks:\n",
    "\n",
    "'1_churn_data_cleaning.ipynb'\n",
    "\n",
    "'2_churn_model_train.ipynb'\n",
    "\n",
    "'3_churn_metrics.ipynb'\n",
    "\n",
    "'4_churn_prediction.ipynb'\n",
    "\n",
    "'5_churn_SHAP_analysis.ipynb'"
   ]
  },
  {
   "cell_type": "code",
   "execution_count": 20,
   "metadata": {},
   "outputs": [],
   "source": [
    "import nbformat\n",
    "from nbconvert.preprocessors import ExecutePreprocessor\n",
    "\n",
    "notebooks_list = ['1_churn_data_cleaning.ipynb',\n",
    "                  '2_churn_model_train.ipynb',\n",
    "                  '3_churn_metrics.ipynb',\n",
    "                  '4_churn_prediction.ipynb',\n",
    "                  '5_churn_SHAP_analysis.ipynb']\n",
    "\n",
    "for notebook_filename in notebooks_list:\n",
    "    with open(notebook_filename) as f:\n",
    "        nb = nbformat.read(f, as_version=4)\n",
    "        ep = ExecutePreprocessor(timeout=600, kernel_name='fast')\n",
    "        _ = ep.preprocess(nb, {'metadata': {'path': './'}})\n",
    "        print(notebook_filename + ' --- OK!')"
   ]
  }
 ],
 "metadata": {
  "kernelspec": {
   "display_name": "fast",
   "language": "python",
   "name": "fast"
  },
  "language_info": {
   "codemirror_mode": {
    "name": "ipython",
    "version": 3
   },
   "file_extension": ".py",
   "mimetype": "text/x-python",
   "name": "python",
   "nbconvert_exporter": "python",
   "pygments_lexer": "ipython3",
   "version": "3.6.10"
  }
 },
 "nbformat": 4,
 "nbformat_minor": 4
}
