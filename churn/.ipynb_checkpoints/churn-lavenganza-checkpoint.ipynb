{
 "cells": [
  {
   "cell_type": "code",
   "execution_count": 1,
   "metadata": {
    "extensions": {
     "jupyter_dashboards": {
      "version": 1,
      "views": {
       "grid_default": {},
       "report_default": {
        "hidden": true
       }
      }
     }
    }
   },
   "outputs": [],
   "source": [
    "import numpy as np\n",
    "import pandas as pd\n",
    "import seaborn as sns\n",
    "import matplotlib.pyplot as plt\n",
    "from sklearn.metrics import confusion_matrix"
   ]
  },
  {
   "cell_type": "code",
   "execution_count": 2,
   "metadata": {
    "extensions": {
     "jupyter_dashboards": {
      "version": 1,
      "views": {
       "grid_default": {},
       "report_default": {
        "hidden": true
       }
      }
     }
    }
   },
   "outputs": [],
   "source": [
    "data = pd.read_csv(\"/home/fvadell/ml-tests/labs-ml-group/churn/Brasil deep dive - Plana.csv\")"
   ]
  },
  {
   "cell_type": "code",
   "execution_count": 3,
   "metadata": {},
   "outputs": [
    {
     "data": {
      "text/plain": [
       "Index(['pais', 'ano_alta', 'idclientecrm', 'tipo_cliente', 'CLIENTE GRUPO',\n",
       "       'Status Cliente', 'Monto_total 2018', 'ARPA (rev prom)',\n",
       "       'Lead Venta Formulario', 'Lead Venta Ver Dato',\n",
       "       'Lead Alquiler Formulario', 'Lead Alquiler Ver Dato',\n",
       "       'Lead Alquiler temporal Formulario', 'Lead Alquiler temporal Ver Dato',\n",
       "       'CP Lead Venta Formulario', 'CP Lead Venta Ver Dato',\n",
       "       'CP Lead Alquiler Formulario', 'CP Lead Alquiler Ver Dato',\n",
       "       'CP Lead Alquiler temporal Formulario',\n",
       "       'CP Lead Alquiler temporal Ver Dato', 'LEADS',\n",
       "       'contratado Super Destacado', 'contratado Destacado',\n",
       "       'contratado Simple', 'contratado Desarrollo Super Destacado',\n",
       "       'contratado Desarrollo Destacado', 'contratado Desarrollo Simple',\n",
       "       'contratado freemium', 'Fecha Alta', 'Fecha Vto',\n",
       "       'Cliente Ilimitado sin Destaque', 'Cliente Limitado', 'SD', 'D', 'S',\n",
       "       'Mix SD', 'Mix D', 'Mix S', 'Mix Premium', 'Stock', 'Integrador',\n",
       "       'Antigüedad', 'AO Venta', 'AO Alquiler', 'AO Alquiler temporal',\n",
       "       '% Uso', 'User vendedor', 'Equipo', 'Provincia'],\n",
       "      dtype='object')"
      ]
     },
     "execution_count": 3,
     "metadata": {},
     "output_type": "execute_result"
    }
   ],
   "source": [
    "data.columns"
   ]
  },
  {
   "cell_type": "code",
   "execution_count": 4,
   "metadata": {},
   "outputs": [
    {
     "data": {
      "text/html": [
       "<div>\n",
       "<style scoped>\n",
       "    .dataframe tbody tr th:only-of-type {\n",
       "        vertical-align: middle;\n",
       "    }\n",
       "\n",
       "    .dataframe tbody tr th {\n",
       "        vertical-align: top;\n",
       "    }\n",
       "\n",
       "    .dataframe thead th {\n",
       "        text-align: right;\n",
       "    }\n",
       "</style>\n",
       "<table border=\"1\" class=\"dataframe\">\n",
       "  <thead>\n",
       "    <tr style=\"text-align: right;\">\n",
       "      <th></th>\n",
       "      <th>pais</th>\n",
       "      <th>ano_alta</th>\n",
       "      <th>idclientecrm</th>\n",
       "      <th>tipo_cliente</th>\n",
       "      <th>CLIENTE GRUPO</th>\n",
       "      <th>Status Cliente</th>\n",
       "      <th>Monto_total 2018</th>\n",
       "      <th>ARPA (rev prom)</th>\n",
       "      <th>Lead Venta Formulario</th>\n",
       "      <th>Lead Venta Ver Dato</th>\n",
       "      <th>...</th>\n",
       "      <th>Stock</th>\n",
       "      <th>Integrador</th>\n",
       "      <th>Antigüedad</th>\n",
       "      <th>AO Venta</th>\n",
       "      <th>AO Alquiler</th>\n",
       "      <th>AO Alquiler temporal</th>\n",
       "      <th>% Uso</th>\n",
       "      <th>User vendedor</th>\n",
       "      <th>Equipo</th>\n",
       "      <th>Provincia</th>\n",
       "    </tr>\n",
       "  </thead>\n",
       "  <tbody>\n",
       "    <tr>\n",
       "      <th>0</th>\n",
       "      <td>Brasil</td>\n",
       "      <td>2018</td>\n",
       "      <td>10400002</td>\n",
       "      <td>small</td>\n",
       "      <td>Small</td>\n",
       "      <td>Vigente</td>\n",
       "      <td>8.441</td>\n",
       "      <td>703.000</td>\n",
       "      <td>187</td>\n",
       "      <td>111</td>\n",
       "      <td>...</td>\n",
       "      <td>NaN</td>\n",
       "      <td>NO</td>\n",
       "      <td>2016-11-05</td>\n",
       "      <td>#ERROR!</td>\n",
       "      <td>#ERROR!</td>\n",
       "      <td>#ERROR!</td>\n",
       "      <td>NaN</td>\n",
       "      <td>#ERROR!</td>\n",
       "      <td>#ERROR!</td>\n",
       "      <td>#ERROR!</td>\n",
       "    </tr>\n",
       "    <tr>\n",
       "      <th>1</th>\n",
       "      <td>Brasil</td>\n",
       "      <td>2018</td>\n",
       "      <td>10400005</td>\n",
       "      <td>small</td>\n",
       "      <td>Small</td>\n",
       "      <td>Vigente</td>\n",
       "      <td>3.982</td>\n",
       "      <td>332.000</td>\n",
       "      <td>20</td>\n",
       "      <td>18</td>\n",
       "      <td>...</td>\n",
       "      <td>NaN</td>\n",
       "      <td>SI</td>\n",
       "      <td>2016-11-05</td>\n",
       "      <td>3</td>\n",
       "      <td>25</td>\n",
       "      <td>0</td>\n",
       "      <td>56%</td>\n",
       "      <td>rodrigo.serpa</td>\n",
       "      <td>Distrito Federal - Farmers</td>\n",
       "      <td>Distrito Federal</td>\n",
       "    </tr>\n",
       "    <tr>\n",
       "      <th>2</th>\n",
       "      <td>Brasil</td>\n",
       "      <td>2018</td>\n",
       "      <td>10400007</td>\n",
       "      <td>small</td>\n",
       "      <td>Small</td>\n",
       "      <td>Vigente</td>\n",
       "      <td>2.871</td>\n",
       "      <td>239.000</td>\n",
       "      <td>93</td>\n",
       "      <td>110</td>\n",
       "      <td>...</td>\n",
       "      <td>NaN</td>\n",
       "      <td>NO</td>\n",
       "      <td>2016-11-05</td>\n",
       "      <td>16</td>\n",
       "      <td>30</td>\n",
       "      <td>0</td>\n",
       "      <td>100%</td>\n",
       "      <td>jaqueline.lopes@wimoveis.com</td>\n",
       "      <td>Distrito Federal - Farmers</td>\n",
       "      <td>Distrito Federal</td>\n",
       "    </tr>\n",
       "    <tr>\n",
       "      <th>3</th>\n",
       "      <td>Brasil</td>\n",
       "      <td>2018</td>\n",
       "      <td>10400010</td>\n",
       "      <td>Big</td>\n",
       "      <td>Big</td>\n",
       "      <td>Cancelado</td>\n",
       "      <td>13.530</td>\n",
       "      <td>1.353</td>\n",
       "      <td>184</td>\n",
       "      <td>123</td>\n",
       "      <td>...</td>\n",
       "      <td>NaN</td>\n",
       "      <td>SI</td>\n",
       "      <td>2016-11-05</td>\n",
       "      <td>165</td>\n",
       "      <td>110</td>\n",
       "      <td>0</td>\n",
       "      <td>3%</td>\n",
       "      <td>juliana@wimoveis.com</td>\n",
       "      <td>Distrito Federal - Farmers</td>\n",
       "      <td>Distrito Federal</td>\n",
       "    </tr>\n",
       "    <tr>\n",
       "      <th>4</th>\n",
       "      <td>Brasil</td>\n",
       "      <td>2018</td>\n",
       "      <td>10400013</td>\n",
       "      <td>small</td>\n",
       "      <td>Small</td>\n",
       "      <td>Vigente</td>\n",
       "      <td>1.790</td>\n",
       "      <td>179.000</td>\n",
       "      <td>1</td>\n",
       "      <td>-</td>\n",
       "      <td>...</td>\n",
       "      <td>NaN</td>\n",
       "      <td>NO</td>\n",
       "      <td>2016-11-05</td>\n",
       "      <td>2</td>\n",
       "      <td>3</td>\n",
       "      <td>0</td>\n",
       "      <td>83%</td>\n",
       "      <td>patricia@wimoveis.com</td>\n",
       "      <td>Distrito Federal - Farmers</td>\n",
       "      <td>Distrito Federal</td>\n",
       "    </tr>\n",
       "  </tbody>\n",
       "</table>\n",
       "<p>5 rows × 49 columns</p>\n",
       "</div>"
      ],
      "text/plain": [
       "     pais  ano_alta  idclientecrm tipo_cliente CLIENTE GRUPO Status Cliente  \\\n",
       "0  Brasil      2018      10400002        small         Small        Vigente   \n",
       "1  Brasil      2018      10400005        small         Small        Vigente   \n",
       "2  Brasil      2018      10400007        small         Small        Vigente   \n",
       "3  Brasil      2018      10400010          Big           Big      Cancelado   \n",
       "4  Brasil      2018      10400013        small         Small        Vigente   \n",
       "\n",
       "   Monto_total 2018  ARPA (rev prom) Lead Venta Formulario  \\\n",
       "0             8.441          703.000                  187    \n",
       "1             3.982          332.000                   20    \n",
       "2             2.871          239.000                   93    \n",
       "3            13.530            1.353                  184    \n",
       "4             1.790          179.000                    1    \n",
       "\n",
       "  Lead Venta Ver Dato  ... Stock Integrador  Antigüedad AO Venta AO Alquiler  \\\n",
       "0                111   ...   NaN         NO  2016-11-05  #ERROR!     #ERROR!   \n",
       "1                 18   ...   NaN         SI  2016-11-05        3          25   \n",
       "2                110   ...   NaN         NO  2016-11-05       16          30   \n",
       "3                123   ...   NaN         SI  2016-11-05      165         110   \n",
       "4                -     ...   NaN         NO  2016-11-05        2           3   \n",
       "\n",
       "  AO Alquiler temporal % Uso                 User vendedor  \\\n",
       "0              #ERROR!   NaN                       #ERROR!   \n",
       "1                    0   56%                 rodrigo.serpa   \n",
       "2                    0  100%  jaqueline.lopes@wimoveis.com   \n",
       "3                    0    3%          juliana@wimoveis.com   \n",
       "4                    0   83%         patricia@wimoveis.com   \n",
       "\n",
       "                       Equipo         Provincia  \n",
       "0                     #ERROR!           #ERROR!  \n",
       "1  Distrito Federal - Farmers  Distrito Federal  \n",
       "2  Distrito Federal - Farmers  Distrito Federal  \n",
       "3  Distrito Federal - Farmers  Distrito Federal  \n",
       "4  Distrito Federal - Farmers  Distrito Federal  \n",
       "\n",
       "[5 rows x 49 columns]"
      ]
     },
     "execution_count": 4,
     "metadata": {},
     "output_type": "execute_result"
    }
   ],
   "source": [
    "data.head()"
   ]
  },
  {
   "cell_type": "markdown",
   "metadata": {
    "extensions": {
     "jupyter_dashboards": {
      "version": 1,
      "views": {
       "grid_default": {},
       "report_default": {
        "hidden": false
       }
      }
     }
    }
   },
   "source": [
    "Cambiamos las ',' por '.' y removemos los '.'."
   ]
  },
  {
   "cell_type": "code",
   "execution_count": 5,
   "metadata": {
    "extensions": {
     "jupyter_dashboards": {
      "version": 1,
      "views": {
       "grid_default": {},
       "report_default": {
        "hidden": false
       }
      }
     }
    }
   },
   "outputs": [
    {
     "name": "stdout",
     "output_type": "stream",
     "text": [
      "ano_alta\n",
      "idclientecrm\n",
      "Monto_total 2018\n",
      "ARPA (rev prom)\n",
      "LEADS\n",
      "Mix D\n",
      "Stock\n"
     ]
    }
   ],
   "source": [
    "for c in list(data.columns):\n",
    "    try:\n",
    "        data[c] = data[c].str.replace('.', '')\n",
    "        data[c] = data[c].str.replace(',', '.')\n",
    "    except:\n",
    "        print(c)"
   ]
  },
  {
   "cell_type": "code",
   "execution_count": 6,
   "metadata": {
    "extensions": {
     "jupyter_dashboards": {
      "version": 1,
      "views": {
       "grid_default": {},
       "report_default": {
        "hidden": false
       }
      }
     }
    }
   },
   "outputs": [
    {
     "data": {
      "text/html": [
       "<div>\n",
       "<style scoped>\n",
       "    .dataframe tbody tr th:only-of-type {\n",
       "        vertical-align: middle;\n",
       "    }\n",
       "\n",
       "    .dataframe tbody tr th {\n",
       "        vertical-align: top;\n",
       "    }\n",
       "\n",
       "    .dataframe thead th {\n",
       "        text-align: right;\n",
       "    }\n",
       "</style>\n",
       "<table border=\"1\" class=\"dataframe\">\n",
       "  <thead>\n",
       "    <tr style=\"text-align: right;\">\n",
       "      <th></th>\n",
       "      <th>pais</th>\n",
       "      <th>ano_alta</th>\n",
       "      <th>idclientecrm</th>\n",
       "      <th>tipo_cliente</th>\n",
       "      <th>CLIENTE GRUPO</th>\n",
       "      <th>Status Cliente</th>\n",
       "      <th>Monto_total 2018</th>\n",
       "      <th>ARPA (rev prom)</th>\n",
       "      <th>Lead Venta Formulario</th>\n",
       "      <th>Lead Venta Ver Dato</th>\n",
       "      <th>...</th>\n",
       "      <th>Stock</th>\n",
       "      <th>Integrador</th>\n",
       "      <th>Antigüedad</th>\n",
       "      <th>AO Venta</th>\n",
       "      <th>AO Alquiler</th>\n",
       "      <th>AO Alquiler temporal</th>\n",
       "      <th>% Uso</th>\n",
       "      <th>User vendedor</th>\n",
       "      <th>Equipo</th>\n",
       "      <th>Provincia</th>\n",
       "    </tr>\n",
       "  </thead>\n",
       "  <tbody>\n",
       "    <tr>\n",
       "      <th>0</th>\n",
       "      <td>Brasil</td>\n",
       "      <td>2018</td>\n",
       "      <td>10400002</td>\n",
       "      <td>small</td>\n",
       "      <td>Small</td>\n",
       "      <td>Vigente</td>\n",
       "      <td>8.441</td>\n",
       "      <td>703.000</td>\n",
       "      <td>187</td>\n",
       "      <td>111</td>\n",
       "      <td>...</td>\n",
       "      <td>NaN</td>\n",
       "      <td>NO</td>\n",
       "      <td>2016-11-05</td>\n",
       "      <td>#ERROR!</td>\n",
       "      <td>#ERROR!</td>\n",
       "      <td>#ERROR!</td>\n",
       "      <td>NaN</td>\n",
       "      <td>#ERROR!</td>\n",
       "      <td>#ERROR!</td>\n",
       "      <td>#ERROR!</td>\n",
       "    </tr>\n",
       "    <tr>\n",
       "      <th>1</th>\n",
       "      <td>Brasil</td>\n",
       "      <td>2018</td>\n",
       "      <td>10400005</td>\n",
       "      <td>small</td>\n",
       "      <td>Small</td>\n",
       "      <td>Vigente</td>\n",
       "      <td>3.982</td>\n",
       "      <td>332.000</td>\n",
       "      <td>20</td>\n",
       "      <td>18</td>\n",
       "      <td>...</td>\n",
       "      <td>NaN</td>\n",
       "      <td>SI</td>\n",
       "      <td>2016-11-05</td>\n",
       "      <td>3</td>\n",
       "      <td>25</td>\n",
       "      <td>0</td>\n",
       "      <td>56%</td>\n",
       "      <td>rodrigoserpa</td>\n",
       "      <td>Distrito Federal - Farmers</td>\n",
       "      <td>Distrito Federal</td>\n",
       "    </tr>\n",
       "    <tr>\n",
       "      <th>2</th>\n",
       "      <td>Brasil</td>\n",
       "      <td>2018</td>\n",
       "      <td>10400007</td>\n",
       "      <td>small</td>\n",
       "      <td>Small</td>\n",
       "      <td>Vigente</td>\n",
       "      <td>2.871</td>\n",
       "      <td>239.000</td>\n",
       "      <td>93</td>\n",
       "      <td>110</td>\n",
       "      <td>...</td>\n",
       "      <td>NaN</td>\n",
       "      <td>NO</td>\n",
       "      <td>2016-11-05</td>\n",
       "      <td>16</td>\n",
       "      <td>30</td>\n",
       "      <td>0</td>\n",
       "      <td>100%</td>\n",
       "      <td>jaquelinelopes@wimoveiscom</td>\n",
       "      <td>Distrito Federal - Farmers</td>\n",
       "      <td>Distrito Federal</td>\n",
       "    </tr>\n",
       "    <tr>\n",
       "      <th>3</th>\n",
       "      <td>Brasil</td>\n",
       "      <td>2018</td>\n",
       "      <td>10400010</td>\n",
       "      <td>Big</td>\n",
       "      <td>Big</td>\n",
       "      <td>Cancelado</td>\n",
       "      <td>13.530</td>\n",
       "      <td>1.353</td>\n",
       "      <td>184</td>\n",
       "      <td>123</td>\n",
       "      <td>...</td>\n",
       "      <td>NaN</td>\n",
       "      <td>SI</td>\n",
       "      <td>2016-11-05</td>\n",
       "      <td>165</td>\n",
       "      <td>110</td>\n",
       "      <td>0</td>\n",
       "      <td>3%</td>\n",
       "      <td>juliana@wimoveiscom</td>\n",
       "      <td>Distrito Federal - Farmers</td>\n",
       "      <td>Distrito Federal</td>\n",
       "    </tr>\n",
       "    <tr>\n",
       "      <th>4</th>\n",
       "      <td>Brasil</td>\n",
       "      <td>2018</td>\n",
       "      <td>10400013</td>\n",
       "      <td>small</td>\n",
       "      <td>Small</td>\n",
       "      <td>Vigente</td>\n",
       "      <td>1.790</td>\n",
       "      <td>179.000</td>\n",
       "      <td>1</td>\n",
       "      <td>-</td>\n",
       "      <td>...</td>\n",
       "      <td>NaN</td>\n",
       "      <td>NO</td>\n",
       "      <td>2016-11-05</td>\n",
       "      <td>2</td>\n",
       "      <td>3</td>\n",
       "      <td>0</td>\n",
       "      <td>83%</td>\n",
       "      <td>patricia@wimoveiscom</td>\n",
       "      <td>Distrito Federal - Farmers</td>\n",
       "      <td>Distrito Federal</td>\n",
       "    </tr>\n",
       "    <tr>\n",
       "      <th>5</th>\n",
       "      <td>Brasil</td>\n",
       "      <td>2018</td>\n",
       "      <td>10400014</td>\n",
       "      <td>Big</td>\n",
       "      <td>Big</td>\n",
       "      <td>Vigente</td>\n",
       "      <td>16.188</td>\n",
       "      <td>1.349</td>\n",
       "      <td>181</td>\n",
       "      <td>107</td>\n",
       "      <td>...</td>\n",
       "      <td>NaN</td>\n",
       "      <td>SI</td>\n",
       "      <td>2016-11-05</td>\n",
       "      <td>138</td>\n",
       "      <td>142</td>\n",
       "      <td>0</td>\n",
       "      <td>3%</td>\n",
       "      <td>rodrigoserpa</td>\n",
       "      <td>Distrito Federal - Farmers</td>\n",
       "      <td>Distrito Federal</td>\n",
       "    </tr>\n",
       "    <tr>\n",
       "      <th>6</th>\n",
       "      <td>Brasil</td>\n",
       "      <td>2018</td>\n",
       "      <td>10400015</td>\n",
       "      <td>Big</td>\n",
       "      <td>Big</td>\n",
       "      <td>Vigente</td>\n",
       "      <td>46.118</td>\n",
       "      <td>3.843</td>\n",
       "      <td>433</td>\n",
       "      <td>217</td>\n",
       "      <td>...</td>\n",
       "      <td>NaN</td>\n",
       "      <td>SI</td>\n",
       "      <td>2014-09-19</td>\n",
       "      <td>178</td>\n",
       "      <td>151</td>\n",
       "      <td>0</td>\n",
       "      <td>3%</td>\n",
       "      <td>kfeitosa</td>\n",
       "      <td>Distrito Federal - Farmers</td>\n",
       "      <td>Distrito Federal</td>\n",
       "    </tr>\n",
       "    <tr>\n",
       "      <th>7</th>\n",
       "      <td>Brasil</td>\n",
       "      <td>2018</td>\n",
       "      <td>10400022</td>\n",
       "      <td>small</td>\n",
       "      <td>Small</td>\n",
       "      <td>Vigente</td>\n",
       "      <td>6.230</td>\n",
       "      <td>519.000</td>\n",
       "      <td>23</td>\n",
       "      <td>9</td>\n",
       "      <td>...</td>\n",
       "      <td>NaN</td>\n",
       "      <td>SI</td>\n",
       "      <td>2016-11-05</td>\n",
       "      <td>16</td>\n",
       "      <td>7</td>\n",
       "      <td>0</td>\n",
       "      <td>12%</td>\n",
       "      <td>rodrigoserpa</td>\n",
       "      <td>Distrito Federal - Farmers</td>\n",
       "      <td>Distrito Federal</td>\n",
       "    </tr>\n",
       "    <tr>\n",
       "      <th>8</th>\n",
       "      <td>Brasil</td>\n",
       "      <td>2018</td>\n",
       "      <td>10400024</td>\n",
       "      <td>Big</td>\n",
       "      <td>Big</td>\n",
       "      <td>Vigente</td>\n",
       "      <td>27.156</td>\n",
       "      <td>2.263</td>\n",
       "      <td>167</td>\n",
       "      <td>108</td>\n",
       "      <td>...</td>\n",
       "      <td>NaN</td>\n",
       "      <td>SI</td>\n",
       "      <td>2016-11-05</td>\n",
       "      <td>106</td>\n",
       "      <td>546</td>\n",
       "      <td>0</td>\n",
       "      <td>6%</td>\n",
       "      <td>kfeitosa</td>\n",
       "      <td>Distrito Federal - Farmers</td>\n",
       "      <td>Distrito Federal</td>\n",
       "    </tr>\n",
       "    <tr>\n",
       "      <th>9</th>\n",
       "      <td>Brasil</td>\n",
       "      <td>2018</td>\n",
       "      <td>10400025</td>\n",
       "      <td>small</td>\n",
       "      <td>Small</td>\n",
       "      <td>Vigente</td>\n",
       "      <td>5.839</td>\n",
       "      <td>487.000</td>\n",
       "      <td>9</td>\n",
       "      <td>4</td>\n",
       "      <td>...</td>\n",
       "      <td>NaN</td>\n",
       "      <td>NO</td>\n",
       "      <td>2016-11-05</td>\n",
       "      <td>4</td>\n",
       "      <td>21</td>\n",
       "      <td>0</td>\n",
       "      <td>13%</td>\n",
       "      <td>kfeitosa</td>\n",
       "      <td>Distrito Federal - Farmers</td>\n",
       "      <td>Distrito Federal</td>\n",
       "    </tr>\n",
       "    <tr>\n",
       "      <th>10</th>\n",
       "      <td>Brasil</td>\n",
       "      <td>2018</td>\n",
       "      <td>10400028</td>\n",
       "      <td>Big</td>\n",
       "      <td>Big</td>\n",
       "      <td>Vigente</td>\n",
       "      <td>13.577</td>\n",
       "      <td>1.131</td>\n",
       "      <td>126</td>\n",
       "      <td>73</td>\n",
       "      <td>...</td>\n",
       "      <td>NaN</td>\n",
       "      <td>SI</td>\n",
       "      <td>2016-11-05</td>\n",
       "      <td>95</td>\n",
       "      <td>44</td>\n",
       "      <td>0</td>\n",
       "      <td>100%</td>\n",
       "      <td>patricia@wimoveiscom</td>\n",
       "      <td>Distrito Federal - Farmers</td>\n",
       "      <td>Distrito Federal</td>\n",
       "    </tr>\n",
       "    <tr>\n",
       "      <th>11</th>\n",
       "      <td>Brasil</td>\n",
       "      <td>2018</td>\n",
       "      <td>10400030</td>\n",
       "      <td>Big</td>\n",
       "      <td>Big</td>\n",
       "      <td>Vigente</td>\n",
       "      <td>16.188</td>\n",
       "      <td>1.349</td>\n",
       "      <td>211</td>\n",
       "      <td>169</td>\n",
       "      <td>...</td>\n",
       "      <td>NaN</td>\n",
       "      <td>NO</td>\n",
       "      <td>2016-11-05</td>\n",
       "      <td>85</td>\n",
       "      <td>82</td>\n",
       "      <td>0</td>\n",
       "      <td>2%</td>\n",
       "      <td>rodrigoserpa</td>\n",
       "      <td>Distrito Federal - Farmers</td>\n",
       "      <td>Distrito Federal</td>\n",
       "    </tr>\n",
       "    <tr>\n",
       "      <th>12</th>\n",
       "      <td>Brasil</td>\n",
       "      <td>2018</td>\n",
       "      <td>10400034</td>\n",
       "      <td>small</td>\n",
       "      <td>Small</td>\n",
       "      <td>Vigente</td>\n",
       "      <td>6.334</td>\n",
       "      <td>528.000</td>\n",
       "      <td>90</td>\n",
       "      <td>59</td>\n",
       "      <td>...</td>\n",
       "      <td>NaN</td>\n",
       "      <td>SI</td>\n",
       "      <td>2016-11-05</td>\n",
       "      <td>60</td>\n",
       "      <td>64</td>\n",
       "      <td>1</td>\n",
       "      <td>76%</td>\n",
       "      <td>patricia@wimoveiscom</td>\n",
       "      <td>Distrito Federal - Farmers</td>\n",
       "      <td>Distrito Federal</td>\n",
       "    </tr>\n",
       "    <tr>\n",
       "      <th>13</th>\n",
       "      <td>Brasil</td>\n",
       "      <td>2018</td>\n",
       "      <td>10400040</td>\n",
       "      <td>small</td>\n",
       "      <td>Small</td>\n",
       "      <td>Vigente</td>\n",
       "      <td>6.230</td>\n",
       "      <td>519.000</td>\n",
       "      <td>28</td>\n",
       "      <td>11</td>\n",
       "      <td>...</td>\n",
       "      <td>NaN</td>\n",
       "      <td>SI</td>\n",
       "      <td>2016-11-05</td>\n",
       "      <td>16</td>\n",
       "      <td>66</td>\n",
       "      <td>0</td>\n",
       "      <td>1%</td>\n",
       "      <td>kfeitosa</td>\n",
       "      <td>Distrito Federal - Farmers</td>\n",
       "      <td>Distrito Federal</td>\n",
       "    </tr>\n",
       "    <tr>\n",
       "      <th>14</th>\n",
       "      <td>Brasil</td>\n",
       "      <td>2018</td>\n",
       "      <td>10400041</td>\n",
       "      <td>small</td>\n",
       "      <td>Small</td>\n",
       "      <td>Vigente</td>\n",
       "      <td>8.380</td>\n",
       "      <td>698.000</td>\n",
       "      <td>-</td>\n",
       "      <td>-</td>\n",
       "      <td>...</td>\n",
       "      <td>NaN</td>\n",
       "      <td>SI</td>\n",
       "      <td>2016-11-05</td>\n",
       "      <td>0</td>\n",
       "      <td>68</td>\n",
       "      <td>0</td>\n",
       "      <td>1%</td>\n",
       "      <td>dyego@wimoveiscom</td>\n",
       "      <td>Distrito Federal - Farmers</td>\n",
       "      <td>Distrito Federal</td>\n",
       "    </tr>\n",
       "    <tr>\n",
       "      <th>15</th>\n",
       "      <td>Brasil</td>\n",
       "      <td>2018</td>\n",
       "      <td>10400044</td>\n",
       "      <td>small</td>\n",
       "      <td>Small</td>\n",
       "      <td>Vigente</td>\n",
       "      <td>4.569</td>\n",
       "      <td>381.000</td>\n",
       "      <td>44</td>\n",
       "      <td>39</td>\n",
       "      <td>...</td>\n",
       "      <td>NaN</td>\n",
       "      <td>SI</td>\n",
       "      <td>2016-11-05</td>\n",
       "      <td>11</td>\n",
       "      <td>10</td>\n",
       "      <td>0</td>\n",
       "      <td>21%</td>\n",
       "      <td>dyego@wimoveiscom</td>\n",
       "      <td>Distrito Federal - Farmers</td>\n",
       "      <td>Distrito Federal</td>\n",
       "    </tr>\n",
       "    <tr>\n",
       "      <th>16</th>\n",
       "      <td>Brasil</td>\n",
       "      <td>2018</td>\n",
       "      <td>10400048</td>\n",
       "      <td>small</td>\n",
       "      <td>Small</td>\n",
       "      <td>Vigente</td>\n",
       "      <td>5.742</td>\n",
       "      <td>478.000</td>\n",
       "      <td>8</td>\n",
       "      <td>7</td>\n",
       "      <td>...</td>\n",
       "      <td>NaN</td>\n",
       "      <td>NO</td>\n",
       "      <td>2016-11-05</td>\n",
       "      <td>6</td>\n",
       "      <td>29</td>\n",
       "      <td>0</td>\n",
       "      <td>18%</td>\n",
       "      <td>dyego@wimoveiscom</td>\n",
       "      <td>Distrito Federal - Farmers</td>\n",
       "      <td>Distrito Federal</td>\n",
       "    </tr>\n",
       "    <tr>\n",
       "      <th>17</th>\n",
       "      <td>Brasil</td>\n",
       "      <td>2018</td>\n",
       "      <td>10400052</td>\n",
       "      <td>Big</td>\n",
       "      <td>Big</td>\n",
       "      <td>Cancelado</td>\n",
       "      <td>8.925</td>\n",
       "      <td>1.275</td>\n",
       "      <td>710</td>\n",
       "      <td>635</td>\n",
       "      <td>...</td>\n",
       "      <td>NaN</td>\n",
       "      <td>SI</td>\n",
       "      <td>2016-11-05</td>\n",
       "      <td>644</td>\n",
       "      <td>321</td>\n",
       "      <td>0</td>\n",
       "      <td>10%</td>\n",
       "      <td>kfeitosa</td>\n",
       "      <td>Distrito Federal - Farmers</td>\n",
       "      <td>Distrito Federal</td>\n",
       "    </tr>\n",
       "    <tr>\n",
       "      <th>18</th>\n",
       "      <td>Brasil</td>\n",
       "      <td>2018</td>\n",
       "      <td>10400056</td>\n",
       "      <td>Big</td>\n",
       "      <td>Big</td>\n",
       "      <td>Vigente</td>\n",
       "      <td>14.908</td>\n",
       "      <td>1.242</td>\n",
       "      <td>308</td>\n",
       "      <td>219</td>\n",
       "      <td>...</td>\n",
       "      <td>NaN</td>\n",
       "      <td>SI</td>\n",
       "      <td>2016-11-05</td>\n",
       "      <td>113</td>\n",
       "      <td>23</td>\n",
       "      <td>0</td>\n",
       "      <td>58%</td>\n",
       "      <td>dyego@wimoveiscom</td>\n",
       "      <td>Distrito Federal - Farmers</td>\n",
       "      <td>Distrito Federal</td>\n",
       "    </tr>\n",
       "    <tr>\n",
       "      <th>19</th>\n",
       "      <td>Brasil</td>\n",
       "      <td>2018</td>\n",
       "      <td>10400057</td>\n",
       "      <td>small</td>\n",
       "      <td>Small</td>\n",
       "      <td>Vigente</td>\n",
       "      <td>5.568</td>\n",
       "      <td>464.000</td>\n",
       "      <td>116</td>\n",
       "      <td>90</td>\n",
       "      <td>...</td>\n",
       "      <td>NaN</td>\n",
       "      <td>SI</td>\n",
       "      <td>2016-11-05</td>\n",
       "      <td>46</td>\n",
       "      <td>62</td>\n",
       "      <td>0</td>\n",
       "      <td>54%</td>\n",
       "      <td>dyego@wimoveiscom</td>\n",
       "      <td>Distrito Federal - Farmers</td>\n",
       "      <td>Distrito Federal</td>\n",
       "    </tr>\n",
       "    <tr>\n",
       "      <th>20</th>\n",
       "      <td>Brasil</td>\n",
       "      <td>2018</td>\n",
       "      <td>10400058</td>\n",
       "      <td>small</td>\n",
       "      <td>Small</td>\n",
       "      <td>Vigente</td>\n",
       "      <td>6.105</td>\n",
       "      <td>555.000</td>\n",
       "      <td>127</td>\n",
       "      <td>91</td>\n",
       "      <td>...</td>\n",
       "      <td>NaN</td>\n",
       "      <td>SI</td>\n",
       "      <td>2016-11-05</td>\n",
       "      <td>60</td>\n",
       "      <td>45</td>\n",
       "      <td>0</td>\n",
       "      <td>51%</td>\n",
       "      <td>dyego@wimoveiscom</td>\n",
       "      <td>Distrito Federal - Farmers</td>\n",
       "      <td>Distrito Federal</td>\n",
       "    </tr>\n",
       "    <tr>\n",
       "      <th>21</th>\n",
       "      <td>Brasil</td>\n",
       "      <td>2018</td>\n",
       "      <td>10400067</td>\n",
       "      <td>small</td>\n",
       "      <td>Small</td>\n",
       "      <td>Vigente</td>\n",
       "      <td>1.990</td>\n",
       "      <td>199.000</td>\n",
       "      <td>12</td>\n",
       "      <td>16</td>\n",
       "      <td>...</td>\n",
       "      <td>NaN</td>\n",
       "      <td>NO</td>\n",
       "      <td>2016-11-05</td>\n",
       "      <td>30</td>\n",
       "      <td>1</td>\n",
       "      <td>0</td>\n",
       "      <td>100%</td>\n",
       "      <td>jaquelinelopes@wimoveiscom</td>\n",
       "      <td>Distrito Federal - Farmers</td>\n",
       "      <td>Distrito Federal</td>\n",
       "    </tr>\n",
       "    <tr>\n",
       "      <th>22</th>\n",
       "      <td>Brasil</td>\n",
       "      <td>2018</td>\n",
       "      <td>10400072</td>\n",
       "      <td>Big</td>\n",
       "      <td>Desarrollo</td>\n",
       "      <td>Vigente</td>\n",
       "      <td>16.577</td>\n",
       "      <td>2.368</td>\n",
       "      <td>423</td>\n",
       "      <td>349</td>\n",
       "      <td>...</td>\n",
       "      <td>NaN</td>\n",
       "      <td>NO</td>\n",
       "      <td>2016-11-05</td>\n",
       "      <td>96</td>\n",
       "      <td>11</td>\n",
       "      <td>0</td>\n",
       "      <td>2%</td>\n",
       "      <td>patricia@wimoveiscom</td>\n",
       "      <td>Distrito Federal - Farmers</td>\n",
       "      <td>Distrito Federal</td>\n",
       "    </tr>\n",
       "    <tr>\n",
       "      <th>23</th>\n",
       "      <td>Brasil</td>\n",
       "      <td>2018</td>\n",
       "      <td>10400080</td>\n",
       "      <td>small</td>\n",
       "      <td>Small</td>\n",
       "      <td>Vigente</td>\n",
       "      <td>11.160</td>\n",
       "      <td>930.000</td>\n",
       "      <td>58</td>\n",
       "      <td>29</td>\n",
       "      <td>...</td>\n",
       "      <td>NaN</td>\n",
       "      <td>SI</td>\n",
       "      <td>2016-11-05</td>\n",
       "      <td>38</td>\n",
       "      <td>48</td>\n",
       "      <td>0</td>\n",
       "      <td>41%</td>\n",
       "      <td>alessandrofreires@wimoveiscom</td>\n",
       "      <td>Distrito Federal - Farmers</td>\n",
       "      <td>Distrito Federal</td>\n",
       "    </tr>\n",
       "    <tr>\n",
       "      <th>24</th>\n",
       "      <td>Brasil</td>\n",
       "      <td>2018</td>\n",
       "      <td>10400083</td>\n",
       "      <td>Big</td>\n",
       "      <td>Big</td>\n",
       "      <td>Vigente</td>\n",
       "      <td>27.829</td>\n",
       "      <td>2.334</td>\n",
       "      <td>624</td>\n",
       "      <td>395</td>\n",
       "      <td>...</td>\n",
       "      <td>NaN</td>\n",
       "      <td>SI</td>\n",
       "      <td>2016-11-05</td>\n",
       "      <td>162</td>\n",
       "      <td>75</td>\n",
       "      <td>0</td>\n",
       "      <td>2%</td>\n",
       "      <td>kfeitosa</td>\n",
       "      <td>Distrito Federal - Farmers</td>\n",
       "      <td>Distrito Federal</td>\n",
       "    </tr>\n",
       "    <tr>\n",
       "      <th>25</th>\n",
       "      <td>Brasil</td>\n",
       "      <td>2018</td>\n",
       "      <td>10400085</td>\n",
       "      <td>Big</td>\n",
       "      <td>Big</td>\n",
       "      <td>Vigente</td>\n",
       "      <td>12.240</td>\n",
       "      <td>1.020</td>\n",
       "      <td>60</td>\n",
       "      <td>93</td>\n",
       "      <td>...</td>\n",
       "      <td>NaN</td>\n",
       "      <td>SI</td>\n",
       "      <td>2016-11-05</td>\n",
       "      <td>101</td>\n",
       "      <td>206</td>\n",
       "      <td>1</td>\n",
       "      <td>3%</td>\n",
       "      <td>rodrigoserpa</td>\n",
       "      <td>Distrito Federal - Farmers</td>\n",
       "      <td>Distrito Federal</td>\n",
       "    </tr>\n",
       "    <tr>\n",
       "      <th>26</th>\n",
       "      <td>Brasil</td>\n",
       "      <td>2018</td>\n",
       "      <td>10400086</td>\n",
       "      <td>small</td>\n",
       "      <td>Small</td>\n",
       "      <td>Vigente</td>\n",
       "      <td>5.705</td>\n",
       "      <td>475.000</td>\n",
       "      <td>170</td>\n",
       "      <td>126</td>\n",
       "      <td>...</td>\n",
       "      <td>NaN</td>\n",
       "      <td>SI</td>\n",
       "      <td>2016-11-05</td>\n",
       "      <td>56</td>\n",
       "      <td>95</td>\n",
       "      <td>0</td>\n",
       "      <td>76%</td>\n",
       "      <td>dyego@wimoveiscom</td>\n",
       "      <td>Distrito Federal - Farmers</td>\n",
       "      <td>Distrito Federal</td>\n",
       "    </tr>\n",
       "    <tr>\n",
       "      <th>27</th>\n",
       "      <td>Brasil</td>\n",
       "      <td>2018</td>\n",
       "      <td>10400088</td>\n",
       "      <td>small</td>\n",
       "      <td>Small</td>\n",
       "      <td>Vigente</td>\n",
       "      <td>7.379</td>\n",
       "      <td>615.000</td>\n",
       "      <td>208</td>\n",
       "      <td>160</td>\n",
       "      <td>...</td>\n",
       "      <td>NaN</td>\n",
       "      <td>SI</td>\n",
       "      <td>2016-11-05</td>\n",
       "      <td>199</td>\n",
       "      <td>145</td>\n",
       "      <td>1</td>\n",
       "      <td>3%</td>\n",
       "      <td>kfeitosa</td>\n",
       "      <td>Distrito Federal - Farmers</td>\n",
       "      <td>Distrito Federal</td>\n",
       "    </tr>\n",
       "    <tr>\n",
       "      <th>28</th>\n",
       "      <td>Brasil</td>\n",
       "      <td>2018</td>\n",
       "      <td>10400089</td>\n",
       "      <td>small</td>\n",
       "      <td>Small</td>\n",
       "      <td>Vigente</td>\n",
       "      <td>3.794</td>\n",
       "      <td>316.000</td>\n",
       "      <td>24</td>\n",
       "      <td>21</td>\n",
       "      <td>...</td>\n",
       "      <td>NaN</td>\n",
       "      <td>SI</td>\n",
       "      <td>2016-11-05</td>\n",
       "      <td>7</td>\n",
       "      <td>30</td>\n",
       "      <td>0</td>\n",
       "      <td>100%</td>\n",
       "      <td>jaquelinelopes@wimoveiscom</td>\n",
       "      <td>Distrito Federal - Farmers</td>\n",
       "      <td>Distrito Federal</td>\n",
       "    </tr>\n",
       "    <tr>\n",
       "      <th>29</th>\n",
       "      <td>Brasil</td>\n",
       "      <td>2018</td>\n",
       "      <td>10400090</td>\n",
       "      <td>Big</td>\n",
       "      <td>Big</td>\n",
       "      <td>Vigente</td>\n",
       "      <td>104.508</td>\n",
       "      <td>8.709</td>\n",
       "      <td>1513</td>\n",
       "      <td>1110</td>\n",
       "      <td>...</td>\n",
       "      <td>NaN</td>\n",
       "      <td>SI</td>\n",
       "      <td>2014-09-19</td>\n",
       "      <td>759</td>\n",
       "      <td>668</td>\n",
       "      <td>0</td>\n",
       "      <td>13%</td>\n",
       "      <td>juliana@wimoveiscom</td>\n",
       "      <td>Distrito Federal - Farmers</td>\n",
       "      <td>Distrito Federal</td>\n",
       "    </tr>\n",
       "    <tr>\n",
       "      <th>...</th>\n",
       "      <td>...</td>\n",
       "      <td>...</td>\n",
       "      <td>...</td>\n",
       "      <td>...</td>\n",
       "      <td>...</td>\n",
       "      <td>...</td>\n",
       "      <td>...</td>\n",
       "      <td>...</td>\n",
       "      <td>...</td>\n",
       "      <td>...</td>\n",
       "      <td>...</td>\n",
       "      <td>...</td>\n",
       "      <td>...</td>\n",
       "      <td>...</td>\n",
       "      <td>...</td>\n",
       "      <td>...</td>\n",
       "      <td>...</td>\n",
       "      <td>...</td>\n",
       "      <td>...</td>\n",
       "      <td>...</td>\n",
       "      <td>...</td>\n",
       "    </tr>\n",
       "    <tr>\n",
       "      <th>14053</th>\n",
       "      <td>Brasil</td>\n",
       "      <td>2018</td>\n",
       "      <td>47262567</td>\n",
       "      <td>small</td>\n",
       "      <td>Small</td>\n",
       "      <td>Vigente</td>\n",
       "      <td>199.000</td>\n",
       "      <td>199.000</td>\n",
       "      <td>1</td>\n",
       "      <td>-</td>\n",
       "      <td>...</td>\n",
       "      <td>NaN</td>\n",
       "      <td>NO</td>\n",
       "      <td>2018-12-21</td>\n",
       "      <td>11</td>\n",
       "      <td>0</td>\n",
       "      <td>0</td>\n",
       "      <td>NaN</td>\n",
       "      <td>Relacionamento - White Account</td>\n",
       "      <td>TV - Relacionamento</td>\n",
       "      <td>São Paulo</td>\n",
       "    </tr>\n",
       "    <tr>\n",
       "      <th>14054</th>\n",
       "      <td>Brasil</td>\n",
       "      <td>2018</td>\n",
       "      <td>47262588</td>\n",
       "      <td>small</td>\n",
       "      <td>Small</td>\n",
       "      <td>Vigente</td>\n",
       "      <td>299.000</td>\n",
       "      <td>299.000</td>\n",
       "      <td>12</td>\n",
       "      <td>3</td>\n",
       "      <td>...</td>\n",
       "      <td>NaN</td>\n",
       "      <td>NO</td>\n",
       "      <td>2018-12-18</td>\n",
       "      <td>10</td>\n",
       "      <td>0</td>\n",
       "      <td>0</td>\n",
       "      <td>NaN</td>\n",
       "      <td>kfeitosa</td>\n",
       "      <td>Distrito Federal - Farmers</td>\n",
       "      <td>Distrito Federal</td>\n",
       "    </tr>\n",
       "    <tr>\n",
       "      <th>14055</th>\n",
       "      <td>Brasil</td>\n",
       "      <td>2018</td>\n",
       "      <td>47262610</td>\n",
       "      <td>small</td>\n",
       "      <td>Small</td>\n",
       "      <td>Vigente</td>\n",
       "      <td>219.000</td>\n",
       "      <td>219.000</td>\n",
       "      <td>-</td>\n",
       "      <td>-</td>\n",
       "      <td>...</td>\n",
       "      <td>NaN</td>\n",
       "      <td>NO</td>\n",
       "      <td>2018-12-21</td>\n",
       "      <td>NaN</td>\n",
       "      <td>NaN</td>\n",
       "      <td>NaN</td>\n",
       "      <td>NaN</td>\n",
       "      <td>Relacionamento - Purple Account</td>\n",
       "      <td>TV - Relacionamento</td>\n",
       "      <td>São Paulo</td>\n",
       "    </tr>\n",
       "    <tr>\n",
       "      <th>14056</th>\n",
       "      <td>Brasil</td>\n",
       "      <td>2018</td>\n",
       "      <td>47262616</td>\n",
       "      <td>small</td>\n",
       "      <td>Small</td>\n",
       "      <td>Vigente</td>\n",
       "      <td>139.000</td>\n",
       "      <td>139.000</td>\n",
       "      <td>-</td>\n",
       "      <td>-</td>\n",
       "      <td>...</td>\n",
       "      <td>NaN</td>\n",
       "      <td>NO</td>\n",
       "      <td>2018-12-20</td>\n",
       "      <td>NaN</td>\n",
       "      <td>NaN</td>\n",
       "      <td>NaN</td>\n",
       "      <td>NaN</td>\n",
       "      <td>Relacionamento - White Account</td>\n",
       "      <td>TV - Relacionamento</td>\n",
       "      <td>Bahia</td>\n",
       "    </tr>\n",
       "    <tr>\n",
       "      <th>14057</th>\n",
       "      <td>Brasil</td>\n",
       "      <td>2018</td>\n",
       "      <td>47262666</td>\n",
       "      <td>small</td>\n",
       "      <td>Small</td>\n",
       "      <td>Vigente</td>\n",
       "      <td>399.000</td>\n",
       "      <td>399.000</td>\n",
       "      <td>-</td>\n",
       "      <td>2</td>\n",
       "      <td>...</td>\n",
       "      <td>NaN</td>\n",
       "      <td>SI</td>\n",
       "      <td>2018-12-18</td>\n",
       "      <td>89</td>\n",
       "      <td>61</td>\n",
       "      <td>0</td>\n",
       "      <td>NaN</td>\n",
       "      <td>Relacionamento - Orange Account</td>\n",
       "      <td>TV - Farmers Inbound</td>\n",
       "      <td>NaN</td>\n",
       "    </tr>\n",
       "    <tr>\n",
       "      <th>14058</th>\n",
       "      <td>Brasil</td>\n",
       "      <td>2018</td>\n",
       "      <td>47262667</td>\n",
       "      <td>Big</td>\n",
       "      <td>Big</td>\n",
       "      <td>Vigente</td>\n",
       "      <td>1.349</td>\n",
       "      <td>1.349</td>\n",
       "      <td>2</td>\n",
       "      <td>5</td>\n",
       "      <td>...</td>\n",
       "      <td>NaN</td>\n",
       "      <td>NO</td>\n",
       "      <td>2018-12-18</td>\n",
       "      <td>19</td>\n",
       "      <td>0</td>\n",
       "      <td>0</td>\n",
       "      <td>NaN</td>\n",
       "      <td>juliana@wimoveiscom</td>\n",
       "      <td>Distrito Federal - Farmers</td>\n",
       "      <td>Distrito Federal</td>\n",
       "    </tr>\n",
       "    <tr>\n",
       "      <th>14059</th>\n",
       "      <td>Brasil</td>\n",
       "      <td>2018</td>\n",
       "      <td>47262674</td>\n",
       "      <td>small</td>\n",
       "      <td>Small</td>\n",
       "      <td>Vigente</td>\n",
       "      <td>299.000</td>\n",
       "      <td>299.000</td>\n",
       "      <td>-</td>\n",
       "      <td>-</td>\n",
       "      <td>...</td>\n",
       "      <td>NaN</td>\n",
       "      <td>SI</td>\n",
       "      <td>2018-12-22</td>\n",
       "      <td>78</td>\n",
       "      <td>66</td>\n",
       "      <td>0</td>\n",
       "      <td>NaN</td>\n",
       "      <td>Relacionamento</td>\n",
       "      <td>TV - Farmers Inbound</td>\n",
       "      <td>São Paulo</td>\n",
       "    </tr>\n",
       "    <tr>\n",
       "      <th>14060</th>\n",
       "      <td>Brasil</td>\n",
       "      <td>2018</td>\n",
       "      <td>47262676</td>\n",
       "      <td>Big</td>\n",
       "      <td>Big</td>\n",
       "      <td>Vigente</td>\n",
       "      <td>2.359</td>\n",
       "      <td>2.359</td>\n",
       "      <td>-</td>\n",
       "      <td>-</td>\n",
       "      <td>...</td>\n",
       "      <td>NaN</td>\n",
       "      <td>NO</td>\n",
       "      <td>2018-12-20</td>\n",
       "      <td>NaN</td>\n",
       "      <td>NaN</td>\n",
       "      <td>NaN</td>\n",
       "      <td>NaN</td>\n",
       "      <td>kfeitosa</td>\n",
       "      <td>Distrito Federal - Farmers</td>\n",
       "      <td>Distrito Federal</td>\n",
       "    </tr>\n",
       "    <tr>\n",
       "      <th>14061</th>\n",
       "      <td>Brasil</td>\n",
       "      <td>2018</td>\n",
       "      <td>47262692</td>\n",
       "      <td>small</td>\n",
       "      <td>Small</td>\n",
       "      <td>Vigente</td>\n",
       "      <td>149.000</td>\n",
       "      <td>149.000</td>\n",
       "      <td>-</td>\n",
       "      <td>-</td>\n",
       "      <td>...</td>\n",
       "      <td>NaN</td>\n",
       "      <td>SI</td>\n",
       "      <td>2018-12-18</td>\n",
       "      <td>31</td>\n",
       "      <td>0</td>\n",
       "      <td>0</td>\n",
       "      <td>NaN</td>\n",
       "      <td>Relacionamento</td>\n",
       "      <td>TV - Farmers Inbound</td>\n",
       "      <td>São Paulo</td>\n",
       "    </tr>\n",
       "    <tr>\n",
       "      <th>14062</th>\n",
       "      <td>Brasil</td>\n",
       "      <td>2018</td>\n",
       "      <td>47262693</td>\n",
       "      <td>small</td>\n",
       "      <td>Small</td>\n",
       "      <td>Cancelado</td>\n",
       "      <td>139.000</td>\n",
       "      <td>139.000</td>\n",
       "      <td>-</td>\n",
       "      <td>-</td>\n",
       "      <td>...</td>\n",
       "      <td>NaN</td>\n",
       "      <td>NO</td>\n",
       "      <td>2018-12-19</td>\n",
       "      <td>9</td>\n",
       "      <td>1</td>\n",
       "      <td>0</td>\n",
       "      <td>NaN</td>\n",
       "      <td>Relacionamento - White Account</td>\n",
       "      <td>TV - Relacionamento</td>\n",
       "      <td>São Paulo</td>\n",
       "    </tr>\n",
       "    <tr>\n",
       "      <th>14063</th>\n",
       "      <td>Brasil</td>\n",
       "      <td>2018</td>\n",
       "      <td>47262694</td>\n",
       "      <td>small</td>\n",
       "      <td>Small</td>\n",
       "      <td>Vigente</td>\n",
       "      <td>349.000</td>\n",
       "      <td>349.000</td>\n",
       "      <td>-</td>\n",
       "      <td>-</td>\n",
       "      <td>...</td>\n",
       "      <td>NaN</td>\n",
       "      <td>NO</td>\n",
       "      <td>2018-12-18</td>\n",
       "      <td>NaN</td>\n",
       "      <td>NaN</td>\n",
       "      <td>NaN</td>\n",
       "      <td>NaN</td>\n",
       "      <td>Relacionamento - Purple Account</td>\n",
       "      <td>TV - Relacionamento</td>\n",
       "      <td>São Paulo</td>\n",
       "    </tr>\n",
       "    <tr>\n",
       "      <th>14064</th>\n",
       "      <td>Brasil</td>\n",
       "      <td>2018</td>\n",
       "      <td>47262741</td>\n",
       "      <td>small</td>\n",
       "      <td>Small</td>\n",
       "      <td>Vigente</td>\n",
       "      <td>299.000</td>\n",
       "      <td>299.000</td>\n",
       "      <td>-</td>\n",
       "      <td>1</td>\n",
       "      <td>...</td>\n",
       "      <td>NaN</td>\n",
       "      <td>SI</td>\n",
       "      <td>2018-12-20</td>\n",
       "      <td>17</td>\n",
       "      <td>7</td>\n",
       "      <td>3</td>\n",
       "      <td>NaN</td>\n",
       "      <td>Relacionamento</td>\n",
       "      <td>TV - Farmers Inbound</td>\n",
       "      <td>Bahia</td>\n",
       "    </tr>\n",
       "    <tr>\n",
       "      <th>14065</th>\n",
       "      <td>Brasil</td>\n",
       "      <td>2018</td>\n",
       "      <td>47262752</td>\n",
       "      <td>small</td>\n",
       "      <td>Small</td>\n",
       "      <td>Vigente</td>\n",
       "      <td>129.000</td>\n",
       "      <td>129.000</td>\n",
       "      <td>-</td>\n",
       "      <td>-</td>\n",
       "      <td>...</td>\n",
       "      <td>NaN</td>\n",
       "      <td>NO</td>\n",
       "      <td>2018-12-19</td>\n",
       "      <td>1</td>\n",
       "      <td>0</td>\n",
       "      <td>0</td>\n",
       "      <td>NaN</td>\n",
       "      <td>Relacionamento</td>\n",
       "      <td>TV - Farmers Inbound</td>\n",
       "      <td>São Paulo</td>\n",
       "    </tr>\n",
       "    <tr>\n",
       "      <th>14066</th>\n",
       "      <td>Brasil</td>\n",
       "      <td>2018</td>\n",
       "      <td>47262761</td>\n",
       "      <td>small</td>\n",
       "      <td>Small</td>\n",
       "      <td>Vigente</td>\n",
       "      <td>179.000</td>\n",
       "      <td>179.000</td>\n",
       "      <td>-</td>\n",
       "      <td>-</td>\n",
       "      <td>...</td>\n",
       "      <td>NaN</td>\n",
       "      <td>SI</td>\n",
       "      <td>2018-12-20</td>\n",
       "      <td>42</td>\n",
       "      <td>0</td>\n",
       "      <td>0</td>\n",
       "      <td>NaN</td>\n",
       "      <td>Relacionamento - White Account</td>\n",
       "      <td>TV - Relacionamento</td>\n",
       "      <td>Santa Catarina</td>\n",
       "    </tr>\n",
       "    <tr>\n",
       "      <th>14067</th>\n",
       "      <td>Brasil</td>\n",
       "      <td>2018</td>\n",
       "      <td>47262767</td>\n",
       "      <td>small</td>\n",
       "      <td>Small</td>\n",
       "      <td>Vigente</td>\n",
       "      <td>349.000</td>\n",
       "      <td>349.000</td>\n",
       "      <td>-</td>\n",
       "      <td>1</td>\n",
       "      <td>...</td>\n",
       "      <td>NaN</td>\n",
       "      <td>SI</td>\n",
       "      <td>2018-12-21</td>\n",
       "      <td>28</td>\n",
       "      <td>7</td>\n",
       "      <td>0</td>\n",
       "      <td>NaN</td>\n",
       "      <td>denischristian</td>\n",
       "      <td>San Pablo - Farmers</td>\n",
       "      <td>São Paulo</td>\n",
       "    </tr>\n",
       "    <tr>\n",
       "      <th>14068</th>\n",
       "      <td>Brasil</td>\n",
       "      <td>2018</td>\n",
       "      <td>47262773</td>\n",
       "      <td>Big</td>\n",
       "      <td>Big</td>\n",
       "      <td>Vigente</td>\n",
       "      <td>900.000</td>\n",
       "      <td>900.000</td>\n",
       "      <td>-</td>\n",
       "      <td>1</td>\n",
       "      <td>...</td>\n",
       "      <td>NaN</td>\n",
       "      <td>NO</td>\n",
       "      <td>2018-12-20</td>\n",
       "      <td>4</td>\n",
       "      <td>0</td>\n",
       "      <td>0</td>\n",
       "      <td>NaN</td>\n",
       "      <td>kfeitosa</td>\n",
       "      <td>Distrito Federal - Farmers</td>\n",
       "      <td>Distrito Federal</td>\n",
       "    </tr>\n",
       "    <tr>\n",
       "      <th>14069</th>\n",
       "      <td>Brasil</td>\n",
       "      <td>2018</td>\n",
       "      <td>47262813</td>\n",
       "      <td>small</td>\n",
       "      <td>Small</td>\n",
       "      <td>Vigente</td>\n",
       "      <td>199.000</td>\n",
       "      <td>199.000</td>\n",
       "      <td>-</td>\n",
       "      <td>-</td>\n",
       "      <td>...</td>\n",
       "      <td>NaN</td>\n",
       "      <td>NO</td>\n",
       "      <td>2018-12-21</td>\n",
       "      <td>2</td>\n",
       "      <td>0</td>\n",
       "      <td>0</td>\n",
       "      <td>NaN</td>\n",
       "      <td>Relacionamento - Orange Account</td>\n",
       "      <td>TV - Farmers Inbound</td>\n",
       "      <td>Goiás</td>\n",
       "    </tr>\n",
       "    <tr>\n",
       "      <th>14070</th>\n",
       "      <td>Brasil</td>\n",
       "      <td>2018</td>\n",
       "      <td>47262814</td>\n",
       "      <td>small</td>\n",
       "      <td>Small</td>\n",
       "      <td>Vigente</td>\n",
       "      <td>139.000</td>\n",
       "      <td>139.000</td>\n",
       "      <td>2</td>\n",
       "      <td>-</td>\n",
       "      <td>...</td>\n",
       "      <td>NaN</td>\n",
       "      <td>SI</td>\n",
       "      <td>2018-12-21</td>\n",
       "      <td>14</td>\n",
       "      <td>0</td>\n",
       "      <td>0</td>\n",
       "      <td>NaN</td>\n",
       "      <td>Relacionamento - White Account</td>\n",
       "      <td>TV - Relacionamento</td>\n",
       "      <td>São Paulo</td>\n",
       "    </tr>\n",
       "    <tr>\n",
       "      <th>14071</th>\n",
       "      <td>Brasil</td>\n",
       "      <td>2018</td>\n",
       "      <td>47262833</td>\n",
       "      <td>small</td>\n",
       "      <td>Small</td>\n",
       "      <td>Vigente</td>\n",
       "      <td>299.000</td>\n",
       "      <td>299.000</td>\n",
       "      <td>-</td>\n",
       "      <td>-</td>\n",
       "      <td>...</td>\n",
       "      <td>NaN</td>\n",
       "      <td>NO</td>\n",
       "      <td>2018-12-21</td>\n",
       "      <td>10</td>\n",
       "      <td>0</td>\n",
       "      <td>0</td>\n",
       "      <td>NaN</td>\n",
       "      <td>Relacionamento</td>\n",
       "      <td>TV - Farmers Inbound</td>\n",
       "      <td>Rio De Janeiro</td>\n",
       "    </tr>\n",
       "    <tr>\n",
       "      <th>14072</th>\n",
       "      <td>Brasil</td>\n",
       "      <td>2018</td>\n",
       "      <td>47262839</td>\n",
       "      <td>small</td>\n",
       "      <td>Small</td>\n",
       "      <td>Vigente</td>\n",
       "      <td>119.000</td>\n",
       "      <td>119.000</td>\n",
       "      <td>-</td>\n",
       "      <td>-</td>\n",
       "      <td>...</td>\n",
       "      <td>NaN</td>\n",
       "      <td>SI</td>\n",
       "      <td>2018-12-21</td>\n",
       "      <td>38</td>\n",
       "      <td>0</td>\n",
       "      <td>0</td>\n",
       "      <td>NaN</td>\n",
       "      <td>Relacionamento</td>\n",
       "      <td>TV - Farmers Inbound</td>\n",
       "      <td>Ceará</td>\n",
       "    </tr>\n",
       "    <tr>\n",
       "      <th>14073</th>\n",
       "      <td>Brasil</td>\n",
       "      <td>2018</td>\n",
       "      <td>47262846</td>\n",
       "      <td>small</td>\n",
       "      <td>Desarrollo</td>\n",
       "      <td>Cancelado</td>\n",
       "      <td>1.400</td>\n",
       "      <td>1.400</td>\n",
       "      <td>-</td>\n",
       "      <td>-</td>\n",
       "      <td>...</td>\n",
       "      <td>NaN</td>\n",
       "      <td>NO</td>\n",
       "      <td>2018-12-21</td>\n",
       "      <td>NaN</td>\n",
       "      <td>NaN</td>\n",
       "      <td>NaN</td>\n",
       "      <td>NaN</td>\n",
       "      <td>danieligois</td>\n",
       "      <td>San Pablo - Lanzamientos</td>\n",
       "      <td>São Paulo</td>\n",
       "    </tr>\n",
       "    <tr>\n",
       "      <th>14074</th>\n",
       "      <td>Brasil</td>\n",
       "      <td>2018</td>\n",
       "      <td>47262856</td>\n",
       "      <td>small</td>\n",
       "      <td>Small</td>\n",
       "      <td>Vigente</td>\n",
       "      <td>349.000</td>\n",
       "      <td>349.000</td>\n",
       "      <td>-</td>\n",
       "      <td>-</td>\n",
       "      <td>...</td>\n",
       "      <td>NaN</td>\n",
       "      <td>SI</td>\n",
       "      <td>2018-12-21</td>\n",
       "      <td>342</td>\n",
       "      <td>91</td>\n",
       "      <td>0</td>\n",
       "      <td>NaN</td>\n",
       "      <td>Relacionamento - Purple Account</td>\n",
       "      <td>TV - Relacionamento</td>\n",
       "      <td>São Paulo</td>\n",
       "    </tr>\n",
       "    <tr>\n",
       "      <th>14075</th>\n",
       "      <td>Brasil</td>\n",
       "      <td>2018</td>\n",
       "      <td>47262866</td>\n",
       "      <td>small</td>\n",
       "      <td>Small</td>\n",
       "      <td>Vigente</td>\n",
       "      <td>299.000</td>\n",
       "      <td>299.000</td>\n",
       "      <td>-</td>\n",
       "      <td>-</td>\n",
       "      <td>...</td>\n",
       "      <td>NaN</td>\n",
       "      <td>NO</td>\n",
       "      <td>2018-12-21</td>\n",
       "      <td>NaN</td>\n",
       "      <td>NaN</td>\n",
       "      <td>NaN</td>\n",
       "      <td>NaN</td>\n",
       "      <td>alessandrofreires@wimoveiscom</td>\n",
       "      <td>Distrito Federal - Farmers</td>\n",
       "      <td>Distrito Federal</td>\n",
       "    </tr>\n",
       "    <tr>\n",
       "      <th>14076</th>\n",
       "      <td>Brasil</td>\n",
       "      <td>2018</td>\n",
       "      <td>47262881</td>\n",
       "      <td>small</td>\n",
       "      <td>Small</td>\n",
       "      <td>Vigente</td>\n",
       "      <td>179.000</td>\n",
       "      <td>179.000</td>\n",
       "      <td>-</td>\n",
       "      <td>-</td>\n",
       "      <td>...</td>\n",
       "      <td>NaN</td>\n",
       "      <td>NO</td>\n",
       "      <td>2018-12-21</td>\n",
       "      <td>NaN</td>\n",
       "      <td>NaN</td>\n",
       "      <td>NaN</td>\n",
       "      <td>NaN</td>\n",
       "      <td>Relacionamento - White Account</td>\n",
       "      <td>TV - Relacionamento</td>\n",
       "      <td>Paraná</td>\n",
       "    </tr>\n",
       "    <tr>\n",
       "      <th>14077</th>\n",
       "      <td>Brasil</td>\n",
       "      <td>2018</td>\n",
       "      <td>47262882</td>\n",
       "      <td>small</td>\n",
       "      <td>Small</td>\n",
       "      <td>Vigente</td>\n",
       "      <td>199.000</td>\n",
       "      <td>199.000</td>\n",
       "      <td>-</td>\n",
       "      <td>-</td>\n",
       "      <td>...</td>\n",
       "      <td>NaN</td>\n",
       "      <td>NO</td>\n",
       "      <td>2018-12-21</td>\n",
       "      <td>5</td>\n",
       "      <td>9</td>\n",
       "      <td>0</td>\n",
       "      <td>NaN</td>\n",
       "      <td>Relacionamento</td>\n",
       "      <td>TV - Farmers Inbound</td>\n",
       "      <td>São Paulo</td>\n",
       "    </tr>\n",
       "    <tr>\n",
       "      <th>14078</th>\n",
       "      <td>Brasil</td>\n",
       "      <td>2018</td>\n",
       "      <td>47262898</td>\n",
       "      <td>small</td>\n",
       "      <td>Small</td>\n",
       "      <td>Vigente</td>\n",
       "      <td>119.000</td>\n",
       "      <td>119.000</td>\n",
       "      <td>-</td>\n",
       "      <td>-</td>\n",
       "      <td>...</td>\n",
       "      <td>NaN</td>\n",
       "      <td>NO</td>\n",
       "      <td>2018-12-22</td>\n",
       "      <td>19</td>\n",
       "      <td>0</td>\n",
       "      <td>0</td>\n",
       "      <td>NaN</td>\n",
       "      <td>Relacionamento</td>\n",
       "      <td>TV - Farmers Inbound</td>\n",
       "      <td>NaN</td>\n",
       "    </tr>\n",
       "    <tr>\n",
       "      <th>14079</th>\n",
       "      <td>Brasil</td>\n",
       "      <td>2018</td>\n",
       "      <td>47262899</td>\n",
       "      <td>small</td>\n",
       "      <td>Small</td>\n",
       "      <td>Vigente</td>\n",
       "      <td>139.000</td>\n",
       "      <td>139.000</td>\n",
       "      <td>-</td>\n",
       "      <td>-</td>\n",
       "      <td>...</td>\n",
       "      <td>NaN</td>\n",
       "      <td>NO</td>\n",
       "      <td>2018-12-22</td>\n",
       "      <td>NaN</td>\n",
       "      <td>NaN</td>\n",
       "      <td>NaN</td>\n",
       "      <td>NaN</td>\n",
       "      <td>Relacionamento</td>\n",
       "      <td>TV - Farmers Inbound</td>\n",
       "      <td>São Paulo</td>\n",
       "    </tr>\n",
       "    <tr>\n",
       "      <th>14080</th>\n",
       "      <td>Brasil</td>\n",
       "      <td>2018</td>\n",
       "      <td>47262900</td>\n",
       "      <td>small</td>\n",
       "      <td>Small</td>\n",
       "      <td>Vigente</td>\n",
       "      <td>195.000</td>\n",
       "      <td>195.000</td>\n",
       "      <td>-</td>\n",
       "      <td>-</td>\n",
       "      <td>...</td>\n",
       "      <td>NaN</td>\n",
       "      <td>NO</td>\n",
       "      <td>2018-12-22</td>\n",
       "      <td>0</td>\n",
       "      <td>3</td>\n",
       "      <td>0</td>\n",
       "      <td>NaN</td>\n",
       "      <td>Relacionamento - White Account</td>\n",
       "      <td>TV - Relacionamento</td>\n",
       "      <td>São Paulo</td>\n",
       "    </tr>\n",
       "    <tr>\n",
       "      <th>14081</th>\n",
       "      <td>Brasil</td>\n",
       "      <td>2018</td>\n",
       "      <td>47262918</td>\n",
       "      <td>small</td>\n",
       "      <td>Small</td>\n",
       "      <td>Vigente</td>\n",
       "      <td>219.000</td>\n",
       "      <td>219.000</td>\n",
       "      <td>-</td>\n",
       "      <td>1</td>\n",
       "      <td>...</td>\n",
       "      <td>NaN</td>\n",
       "      <td>NO</td>\n",
       "      <td>2018-12-21</td>\n",
       "      <td>1</td>\n",
       "      <td>10</td>\n",
       "      <td>0</td>\n",
       "      <td>NaN</td>\n",
       "      <td>Relacionamento</td>\n",
       "      <td>TV - Farmers Inbound</td>\n",
       "      <td>São Paulo</td>\n",
       "    </tr>\n",
       "    <tr>\n",
       "      <th>14082</th>\n",
       "      <td>Brasil</td>\n",
       "      <td>2018</td>\n",
       "      <td>47262919</td>\n",
       "      <td>small</td>\n",
       "      <td>Small</td>\n",
       "      <td>Vigente</td>\n",
       "      <td>249.000</td>\n",
       "      <td>249.000</td>\n",
       "      <td>-</td>\n",
       "      <td>1</td>\n",
       "      <td>...</td>\n",
       "      <td>NaN</td>\n",
       "      <td>NO</td>\n",
       "      <td>2018-12-22</td>\n",
       "      <td>2</td>\n",
       "      <td>0</td>\n",
       "      <td>0</td>\n",
       "      <td>NaN</td>\n",
       "      <td>Relacionamento - Purple Account</td>\n",
       "      <td>TV - Relacionamento</td>\n",
       "      <td>São Paulo</td>\n",
       "    </tr>\n",
       "  </tbody>\n",
       "</table>\n",
       "<p>14083 rows × 49 columns</p>\n",
       "</div>"
      ],
      "text/plain": [
       "         pais  ano_alta  idclientecrm tipo_cliente CLIENTE GRUPO  \\\n",
       "0      Brasil      2018      10400002        small         Small   \n",
       "1      Brasil      2018      10400005        small         Small   \n",
       "2      Brasil      2018      10400007        small         Small   \n",
       "3      Brasil      2018      10400010          Big           Big   \n",
       "4      Brasil      2018      10400013        small         Small   \n",
       "5      Brasil      2018      10400014          Big           Big   \n",
       "6      Brasil      2018      10400015          Big           Big   \n",
       "7      Brasil      2018      10400022        small         Small   \n",
       "8      Brasil      2018      10400024          Big           Big   \n",
       "9      Brasil      2018      10400025        small         Small   \n",
       "10     Brasil      2018      10400028          Big           Big   \n",
       "11     Brasil      2018      10400030          Big           Big   \n",
       "12     Brasil      2018      10400034        small         Small   \n",
       "13     Brasil      2018      10400040        small         Small   \n",
       "14     Brasil      2018      10400041        small         Small   \n",
       "15     Brasil      2018      10400044        small         Small   \n",
       "16     Brasil      2018      10400048        small         Small   \n",
       "17     Brasil      2018      10400052          Big           Big   \n",
       "18     Brasil      2018      10400056          Big           Big   \n",
       "19     Brasil      2018      10400057        small         Small   \n",
       "20     Brasil      2018      10400058        small         Small   \n",
       "21     Brasil      2018      10400067        small         Small   \n",
       "22     Brasil      2018      10400072          Big    Desarrollo   \n",
       "23     Brasil      2018      10400080        small         Small   \n",
       "24     Brasil      2018      10400083          Big           Big   \n",
       "25     Brasil      2018      10400085          Big           Big   \n",
       "26     Brasil      2018      10400086        small         Small   \n",
       "27     Brasil      2018      10400088        small         Small   \n",
       "28     Brasil      2018      10400089        small         Small   \n",
       "29     Brasil      2018      10400090          Big           Big   \n",
       "...       ...       ...           ...          ...           ...   \n",
       "14053  Brasil      2018      47262567        small         Small   \n",
       "14054  Brasil      2018      47262588        small         Small   \n",
       "14055  Brasil      2018      47262610        small         Small   \n",
       "14056  Brasil      2018      47262616        small         Small   \n",
       "14057  Brasil      2018      47262666        small         Small   \n",
       "14058  Brasil      2018      47262667          Big           Big   \n",
       "14059  Brasil      2018      47262674        small         Small   \n",
       "14060  Brasil      2018      47262676          Big           Big   \n",
       "14061  Brasil      2018      47262692        small         Small   \n",
       "14062  Brasil      2018      47262693        small         Small   \n",
       "14063  Brasil      2018      47262694        small         Small   \n",
       "14064  Brasil      2018      47262741        small         Small   \n",
       "14065  Brasil      2018      47262752        small         Small   \n",
       "14066  Brasil      2018      47262761        small         Small   \n",
       "14067  Brasil      2018      47262767        small         Small   \n",
       "14068  Brasil      2018      47262773          Big           Big   \n",
       "14069  Brasil      2018      47262813        small         Small   \n",
       "14070  Brasil      2018      47262814        small         Small   \n",
       "14071  Brasil      2018      47262833        small         Small   \n",
       "14072  Brasil      2018      47262839        small         Small   \n",
       "14073  Brasil      2018      47262846        small    Desarrollo   \n",
       "14074  Brasil      2018      47262856        small         Small   \n",
       "14075  Brasil      2018      47262866        small         Small   \n",
       "14076  Brasil      2018      47262881        small         Small   \n",
       "14077  Brasil      2018      47262882        small         Small   \n",
       "14078  Brasil      2018      47262898        small         Small   \n",
       "14079  Brasil      2018      47262899        small         Small   \n",
       "14080  Brasil      2018      47262900        small         Small   \n",
       "14081  Brasil      2018      47262918        small         Small   \n",
       "14082  Brasil      2018      47262919        small         Small   \n",
       "\n",
       "      Status Cliente  Monto_total 2018  ARPA (rev prom) Lead Venta Formulario  \\\n",
       "0            Vigente             8.441          703.000                  187    \n",
       "1            Vigente             3.982          332.000                   20    \n",
       "2            Vigente             2.871          239.000                   93    \n",
       "3          Cancelado            13.530            1.353                  184    \n",
       "4            Vigente             1.790          179.000                    1    \n",
       "5            Vigente            16.188            1.349                  181    \n",
       "6            Vigente            46.118            3.843                  433    \n",
       "7            Vigente             6.230          519.000                   23    \n",
       "8            Vigente            27.156            2.263                  167    \n",
       "9            Vigente             5.839          487.000                    9    \n",
       "10           Vigente            13.577            1.131                  126    \n",
       "11           Vigente            16.188            1.349                  211    \n",
       "12           Vigente             6.334          528.000                   90    \n",
       "13           Vigente             6.230          519.000                   28    \n",
       "14           Vigente             8.380          698.000                  -      \n",
       "15           Vigente             4.569          381.000                   44    \n",
       "16           Vigente             5.742          478.000                    8    \n",
       "17         Cancelado             8.925            1.275                  710    \n",
       "18           Vigente            14.908            1.242                  308    \n",
       "19           Vigente             5.568          464.000                  116    \n",
       "20           Vigente             6.105          555.000                  127    \n",
       "21           Vigente             1.990          199.000                   12    \n",
       "22           Vigente            16.577            2.368                  423    \n",
       "23           Vigente            11.160          930.000                   58    \n",
       "24           Vigente            27.829            2.334                  624    \n",
       "25           Vigente            12.240            1.020                   60    \n",
       "26           Vigente             5.705          475.000                  170    \n",
       "27           Vigente             7.379          615.000                  208    \n",
       "28           Vigente             3.794          316.000                   24    \n",
       "29           Vigente           104.508            8.709                 1513    \n",
       "...              ...               ...              ...                   ...   \n",
       "14053        Vigente           199.000          199.000                    1    \n",
       "14054        Vigente           299.000          299.000                   12    \n",
       "14055        Vigente           219.000          219.000                  -      \n",
       "14056        Vigente           139.000          139.000                  -      \n",
       "14057        Vigente           399.000          399.000                  -      \n",
       "14058        Vigente             1.349            1.349                    2    \n",
       "14059        Vigente           299.000          299.000                  -      \n",
       "14060        Vigente             2.359            2.359                  -      \n",
       "14061        Vigente           149.000          149.000                  -      \n",
       "14062      Cancelado           139.000          139.000                  -      \n",
       "14063        Vigente           349.000          349.000                  -      \n",
       "14064        Vigente           299.000          299.000                  -      \n",
       "14065        Vigente           129.000          129.000                  -      \n",
       "14066        Vigente           179.000          179.000                  -      \n",
       "14067        Vigente           349.000          349.000                  -      \n",
       "14068        Vigente           900.000          900.000                  -      \n",
       "14069        Vigente           199.000          199.000                  -      \n",
       "14070        Vigente           139.000          139.000                    2    \n",
       "14071        Vigente           299.000          299.000                  -      \n",
       "14072        Vigente           119.000          119.000                  -      \n",
       "14073      Cancelado             1.400            1.400                  -      \n",
       "14074        Vigente           349.000          349.000                  -      \n",
       "14075        Vigente           299.000          299.000                  -      \n",
       "14076        Vigente           179.000          179.000                  -      \n",
       "14077        Vigente           199.000          199.000                  -      \n",
       "14078        Vigente           119.000          119.000                  -      \n",
       "14079        Vigente           139.000          139.000                  -      \n",
       "14080        Vigente           195.000          195.000                  -      \n",
       "14081        Vigente           219.000          219.000                  -      \n",
       "14082        Vigente           249.000          249.000                  -      \n",
       "\n",
       "      Lead Venta Ver Dato  ... Stock Integrador  Antigüedad AO Venta  \\\n",
       "0                    111   ...   NaN         NO  2016-11-05  #ERROR!   \n",
       "1                     18   ...   NaN         SI  2016-11-05        3   \n",
       "2                    110   ...   NaN         NO  2016-11-05       16   \n",
       "3                    123   ...   NaN         SI  2016-11-05      165   \n",
       "4                    -     ...   NaN         NO  2016-11-05        2   \n",
       "5                    107   ...   NaN         SI  2016-11-05      138   \n",
       "6                    217   ...   NaN         SI  2014-09-19      178   \n",
       "7                      9   ...   NaN         SI  2016-11-05       16   \n",
       "8                    108   ...   NaN         SI  2016-11-05      106   \n",
       "9                      4   ...   NaN         NO  2016-11-05        4   \n",
       "10                    73   ...   NaN         SI  2016-11-05       95   \n",
       "11                   169   ...   NaN         NO  2016-11-05       85   \n",
       "12                    59   ...   NaN         SI  2016-11-05       60   \n",
       "13                    11   ...   NaN         SI  2016-11-05       16   \n",
       "14                   -     ...   NaN         SI  2016-11-05        0   \n",
       "15                    39   ...   NaN         SI  2016-11-05       11   \n",
       "16                     7   ...   NaN         NO  2016-11-05        6   \n",
       "17                   635   ...   NaN         SI  2016-11-05      644   \n",
       "18                   219   ...   NaN         SI  2016-11-05      113   \n",
       "19                    90   ...   NaN         SI  2016-11-05       46   \n",
       "20                    91   ...   NaN         SI  2016-11-05       60   \n",
       "21                    16   ...   NaN         NO  2016-11-05       30   \n",
       "22                   349   ...   NaN         NO  2016-11-05       96   \n",
       "23                    29   ...   NaN         SI  2016-11-05       38   \n",
       "24                   395   ...   NaN         SI  2016-11-05      162   \n",
       "25                    93   ...   NaN         SI  2016-11-05      101   \n",
       "26                   126   ...   NaN         SI  2016-11-05       56   \n",
       "27                   160   ...   NaN         SI  2016-11-05      199   \n",
       "28                    21   ...   NaN         SI  2016-11-05        7   \n",
       "29                  1110   ...   NaN         SI  2014-09-19      759   \n",
       "...                   ...  ...   ...        ...         ...      ...   \n",
       "14053                -     ...   NaN         NO  2018-12-21       11   \n",
       "14054                  3   ...   NaN         NO  2018-12-18       10   \n",
       "14055                -     ...   NaN         NO  2018-12-21      NaN   \n",
       "14056                -     ...   NaN         NO  2018-12-20      NaN   \n",
       "14057                  2   ...   NaN         SI  2018-12-18       89   \n",
       "14058                  5   ...   NaN         NO  2018-12-18       19   \n",
       "14059                -     ...   NaN         SI  2018-12-22       78   \n",
       "14060                -     ...   NaN         NO  2018-12-20      NaN   \n",
       "14061                -     ...   NaN         SI  2018-12-18       31   \n",
       "14062                -     ...   NaN         NO  2018-12-19        9   \n",
       "14063                -     ...   NaN         NO  2018-12-18      NaN   \n",
       "14064                  1   ...   NaN         SI  2018-12-20       17   \n",
       "14065                -     ...   NaN         NO  2018-12-19        1   \n",
       "14066                -     ...   NaN         SI  2018-12-20       42   \n",
       "14067                  1   ...   NaN         SI  2018-12-21       28   \n",
       "14068                  1   ...   NaN         NO  2018-12-20        4   \n",
       "14069                -     ...   NaN         NO  2018-12-21        2   \n",
       "14070                -     ...   NaN         SI  2018-12-21       14   \n",
       "14071                -     ...   NaN         NO  2018-12-21       10   \n",
       "14072                -     ...   NaN         SI  2018-12-21       38   \n",
       "14073                -     ...   NaN         NO  2018-12-21      NaN   \n",
       "14074                -     ...   NaN         SI  2018-12-21      342   \n",
       "14075                -     ...   NaN         NO  2018-12-21      NaN   \n",
       "14076                -     ...   NaN         NO  2018-12-21      NaN   \n",
       "14077                -     ...   NaN         NO  2018-12-21        5   \n",
       "14078                -     ...   NaN         NO  2018-12-22       19   \n",
       "14079                -     ...   NaN         NO  2018-12-22      NaN   \n",
       "14080                -     ...   NaN         NO  2018-12-22        0   \n",
       "14081                  1   ...   NaN         NO  2018-12-21        1   \n",
       "14082                  1   ...   NaN         NO  2018-12-22        2   \n",
       "\n",
       "      AO Alquiler AO Alquiler temporal % Uso                    User vendedor  \\\n",
       "0         #ERROR!              #ERROR!   NaN                          #ERROR!   \n",
       "1              25                    0   56%                     rodrigoserpa   \n",
       "2              30                    0  100%       jaquelinelopes@wimoveiscom   \n",
       "3             110                    0    3%              juliana@wimoveiscom   \n",
       "4               3                    0   83%             patricia@wimoveiscom   \n",
       "5             142                    0    3%                     rodrigoserpa   \n",
       "6             151                    0    3%                         kfeitosa   \n",
       "7               7                    0   12%                     rodrigoserpa   \n",
       "8             546                    0    6%                         kfeitosa   \n",
       "9              21                    0   13%                         kfeitosa   \n",
       "10             44                    0  100%             patricia@wimoveiscom   \n",
       "11             82                    0    2%                     rodrigoserpa   \n",
       "12             64                    1   76%             patricia@wimoveiscom   \n",
       "13             66                    0    1%                         kfeitosa   \n",
       "14             68                    0    1%                dyego@wimoveiscom   \n",
       "15             10                    0   21%                dyego@wimoveiscom   \n",
       "16             29                    0   18%                dyego@wimoveiscom   \n",
       "17            321                    0   10%                         kfeitosa   \n",
       "18             23                    0   58%                dyego@wimoveiscom   \n",
       "19             62                    0   54%                dyego@wimoveiscom   \n",
       "20             45                    0   51%                dyego@wimoveiscom   \n",
       "21              1                    0  100%       jaquelinelopes@wimoveiscom   \n",
       "22             11                    0    2%             patricia@wimoveiscom   \n",
       "23             48                    0   41%    alessandrofreires@wimoveiscom   \n",
       "24             75                    0    2%                         kfeitosa   \n",
       "25            206                    1    3%                     rodrigoserpa   \n",
       "26             95                    0   76%                dyego@wimoveiscom   \n",
       "27            145                    1    3%                         kfeitosa   \n",
       "28             30                    0  100%       jaquelinelopes@wimoveiscom   \n",
       "29            668                    0   13%              juliana@wimoveiscom   \n",
       "...           ...                  ...   ...                              ...   \n",
       "14053           0                    0   NaN   Relacionamento - White Account   \n",
       "14054           0                    0   NaN                         kfeitosa   \n",
       "14055         NaN                  NaN   NaN  Relacionamento - Purple Account   \n",
       "14056         NaN                  NaN   NaN   Relacionamento - White Account   \n",
       "14057          61                    0   NaN  Relacionamento - Orange Account   \n",
       "14058           0                    0   NaN              juliana@wimoveiscom   \n",
       "14059          66                    0   NaN                   Relacionamento   \n",
       "14060         NaN                  NaN   NaN                         kfeitosa   \n",
       "14061           0                    0   NaN                   Relacionamento   \n",
       "14062           1                    0   NaN   Relacionamento - White Account   \n",
       "14063         NaN                  NaN   NaN  Relacionamento - Purple Account   \n",
       "14064           7                    3   NaN                   Relacionamento   \n",
       "14065           0                    0   NaN                   Relacionamento   \n",
       "14066           0                    0   NaN   Relacionamento - White Account   \n",
       "14067           7                    0   NaN                   denischristian   \n",
       "14068           0                    0   NaN                         kfeitosa   \n",
       "14069           0                    0   NaN  Relacionamento - Orange Account   \n",
       "14070           0                    0   NaN   Relacionamento - White Account   \n",
       "14071           0                    0   NaN                   Relacionamento   \n",
       "14072           0                    0   NaN                   Relacionamento   \n",
       "14073         NaN                  NaN   NaN                      danieligois   \n",
       "14074          91                    0   NaN  Relacionamento - Purple Account   \n",
       "14075         NaN                  NaN   NaN    alessandrofreires@wimoveiscom   \n",
       "14076         NaN                  NaN   NaN   Relacionamento - White Account   \n",
       "14077           9                    0   NaN                   Relacionamento   \n",
       "14078           0                    0   NaN                   Relacionamento   \n",
       "14079         NaN                  NaN   NaN                   Relacionamento   \n",
       "14080           3                    0   NaN   Relacionamento - White Account   \n",
       "14081          10                    0   NaN                   Relacionamento   \n",
       "14082           0                    0   NaN  Relacionamento - Purple Account   \n",
       "\n",
       "                           Equipo         Provincia  \n",
       "0                         #ERROR!           #ERROR!  \n",
       "1      Distrito Federal - Farmers  Distrito Federal  \n",
       "2      Distrito Federal - Farmers  Distrito Federal  \n",
       "3      Distrito Federal - Farmers  Distrito Federal  \n",
       "4      Distrito Federal - Farmers  Distrito Federal  \n",
       "5      Distrito Federal - Farmers  Distrito Federal  \n",
       "6      Distrito Federal - Farmers  Distrito Federal  \n",
       "7      Distrito Federal - Farmers  Distrito Federal  \n",
       "8      Distrito Federal - Farmers  Distrito Federal  \n",
       "9      Distrito Federal - Farmers  Distrito Federal  \n",
       "10     Distrito Federal - Farmers  Distrito Federal  \n",
       "11     Distrito Federal - Farmers  Distrito Federal  \n",
       "12     Distrito Federal - Farmers  Distrito Federal  \n",
       "13     Distrito Federal - Farmers  Distrito Federal  \n",
       "14     Distrito Federal - Farmers  Distrito Federal  \n",
       "15     Distrito Federal - Farmers  Distrito Federal  \n",
       "16     Distrito Federal - Farmers  Distrito Federal  \n",
       "17     Distrito Federal - Farmers  Distrito Federal  \n",
       "18     Distrito Federal - Farmers  Distrito Federal  \n",
       "19     Distrito Federal - Farmers  Distrito Federal  \n",
       "20     Distrito Federal - Farmers  Distrito Federal  \n",
       "21     Distrito Federal - Farmers  Distrito Federal  \n",
       "22     Distrito Federal - Farmers  Distrito Federal  \n",
       "23     Distrito Federal - Farmers  Distrito Federal  \n",
       "24     Distrito Federal - Farmers  Distrito Federal  \n",
       "25     Distrito Federal - Farmers  Distrito Federal  \n",
       "26     Distrito Federal - Farmers  Distrito Federal  \n",
       "27     Distrito Federal - Farmers  Distrito Federal  \n",
       "28     Distrito Federal - Farmers  Distrito Federal  \n",
       "29     Distrito Federal - Farmers  Distrito Federal  \n",
       "...                           ...               ...  \n",
       "14053         TV - Relacionamento         São Paulo  \n",
       "14054  Distrito Federal - Farmers  Distrito Federal  \n",
       "14055         TV - Relacionamento         São Paulo  \n",
       "14056         TV - Relacionamento             Bahia  \n",
       "14057        TV - Farmers Inbound               NaN  \n",
       "14058  Distrito Federal - Farmers  Distrito Federal  \n",
       "14059        TV - Farmers Inbound         São Paulo  \n",
       "14060  Distrito Federal - Farmers  Distrito Federal  \n",
       "14061        TV - Farmers Inbound         São Paulo  \n",
       "14062         TV - Relacionamento         São Paulo  \n",
       "14063         TV - Relacionamento         São Paulo  \n",
       "14064        TV - Farmers Inbound             Bahia  \n",
       "14065        TV - Farmers Inbound         São Paulo  \n",
       "14066         TV - Relacionamento    Santa Catarina  \n",
       "14067         San Pablo - Farmers         São Paulo  \n",
       "14068  Distrito Federal - Farmers  Distrito Federal  \n",
       "14069        TV - Farmers Inbound             Goiás  \n",
       "14070         TV - Relacionamento         São Paulo  \n",
       "14071        TV - Farmers Inbound    Rio De Janeiro  \n",
       "14072        TV - Farmers Inbound             Ceará  \n",
       "14073    San Pablo - Lanzamientos         São Paulo  \n",
       "14074         TV - Relacionamento         São Paulo  \n",
       "14075  Distrito Federal - Farmers  Distrito Federal  \n",
       "14076         TV - Relacionamento            Paraná  \n",
       "14077        TV - Farmers Inbound         São Paulo  \n",
       "14078        TV - Farmers Inbound               NaN  \n",
       "14079        TV - Farmers Inbound         São Paulo  \n",
       "14080         TV - Relacionamento         São Paulo  \n",
       "14081        TV - Farmers Inbound         São Paulo  \n",
       "14082         TV - Relacionamento         São Paulo  \n",
       "\n",
       "[14083 rows x 49 columns]"
      ]
     },
     "execution_count": 6,
     "metadata": {},
     "output_type": "execute_result"
    }
   ],
   "source": [
    "data"
   ]
  },
  {
   "cell_type": "markdown",
   "metadata": {
    "extensions": {
     "jupyter_dashboards": {
      "version": 1,
      "views": {
       "grid_default": {},
       "report_default": {
        "hidden": false
       }
      }
     }
    }
   },
   "source": [
    "### Variables explicativas"
   ]
  },
  {
   "cell_type": "markdown",
   "metadata": {
    "extensions": {
     "jupyter_dashboards": {
      "version": 1,
      "views": {
       "grid_default": {},
       "report_default": {
        "hidden": false
       }
      }
     }
    }
   },
   "source": [
    "Iniciamos las variables explicativas como todas las columnas del dataset e iremos sacando las que no sirven"
   ]
  },
  {
   "cell_type": "code",
   "execution_count": 7,
   "metadata": {
    "extensions": {
     "jupyter_dashboards": {
      "version": 1,
      "views": {
       "grid_default": {},
       "report_default": {
        "hidden": false
       }
      }
     }
    }
   },
   "outputs": [
    {
     "data": {
      "text/plain": [
       "Index(['pais', 'ano_alta', 'idclientecrm', 'tipo_cliente', 'CLIENTE GRUPO',\n",
       "       'Status Cliente', 'Monto_total 2018', 'ARPA (rev prom)',\n",
       "       'Lead Venta Formulario', 'Lead Venta Ver Dato',\n",
       "       'Lead Alquiler Formulario', 'Lead Alquiler Ver Dato',\n",
       "       'Lead Alquiler temporal Formulario', 'Lead Alquiler temporal Ver Dato',\n",
       "       'CP Lead Venta Formulario', 'CP Lead Venta Ver Dato',\n",
       "       'CP Lead Alquiler Formulario', 'CP Lead Alquiler Ver Dato',\n",
       "       'CP Lead Alquiler temporal Formulario',\n",
       "       'CP Lead Alquiler temporal Ver Dato', 'LEADS',\n",
       "       'contratado Super Destacado', 'contratado Destacado',\n",
       "       'contratado Simple', 'contratado Desarrollo Super Destacado',\n",
       "       'contratado Desarrollo Destacado', 'contratado Desarrollo Simple',\n",
       "       'contratado freemium', 'Fecha Alta', 'Fecha Vto',\n",
       "       'Cliente Ilimitado sin Destaque', 'Cliente Limitado', 'SD', 'D', 'S',\n",
       "       'Mix SD', 'Mix D', 'Mix S', 'Mix Premium', 'Stock', 'Integrador',\n",
       "       'Antigüedad', 'AO Venta', 'AO Alquiler', 'AO Alquiler temporal',\n",
       "       '% Uso', 'User vendedor', 'Equipo', 'Provincia'],\n",
       "      dtype='object')"
      ]
     },
     "execution_count": 7,
     "metadata": {},
     "output_type": "execute_result"
    }
   ],
   "source": [
    "data.columns"
   ]
  },
  {
   "cell_type": "code",
   "execution_count": 8,
   "metadata": {
    "extensions": {
     "jupyter_dashboards": {
      "version": 1,
      "views": {
       "grid_default": {},
       "report_default": {
        "hidden": true
       }
      }
     }
    }
   },
   "outputs": [],
   "source": [
    "variables = list(data.columns)"
   ]
  },
  {
   "cell_type": "markdown",
   "metadata": {
    "extensions": {
     "jupyter_dashboards": {
      "version": 1,
      "views": {
       "grid_default": {},
       "report_default": {
        "hidden": false
       }
      }
     }
    }
   },
   "source": [
    "Le saco la variable __Status Cliente__ porque es el target."
   ]
  },
  {
   "cell_type": "code",
   "execution_count": 9,
   "metadata": {
    "extensions": {
     "jupyter_dashboards": {
      "version": 1,
      "views": {
       "grid_default": {},
       "report_default": {
        "hidden": true
       }
      }
     }
    }
   },
   "outputs": [],
   "source": [
    "variables.remove('Status Cliente')"
   ]
  },
  {
   "cell_type": "markdown",
   "metadata": {
    "extensions": {
     "jupyter_dashboards": {
      "version": 1,
      "views": {
       "grid_default": {},
       "report_default": {
        "hidden": false
       }
      }
     }
    }
   },
   "source": [
    "Saco las variables pais, ano_alta, idclientecrm, User vendedor"
   ]
  },
  {
   "cell_type": "code",
   "execution_count": 10,
   "metadata": {
    "extensions": {
     "jupyter_dashboards": {
      "version": 1,
      "views": {
       "grid_default": {},
       "report_default": {
        "hidden": true
       }
      }
     }
    }
   },
   "outputs": [],
   "source": [
    "for var in ['pais', 'ano_alta', 'idclientecrm', 'User vendedor'] : variables.remove(var)"
   ]
  },
  {
   "cell_type": "markdown",
   "metadata": {
    "extensions": {
     "jupyter_dashboards": {
      "version": 1,
      "views": {
       "grid_default": {},
       "report_default": {
        "hidden": false
       }
      }
     }
    }
   },
   "source": [
    "#### Caso de la columna tipo_cliente y CLIENTE GRUPO"
   ]
  },
  {
   "cell_type": "markdown",
   "metadata": {
    "extensions": {
     "jupyter_dashboards": {
      "version": 1,
      "views": {
       "grid_default": {},
       "report_default": {
        "hidden": false
       }
      }
     }
    }
   },
   "source": [
    "Estas dos columnas parecen tener la misma información. Lo revisos:"
   ]
  },
  {
   "cell_type": "code",
   "execution_count": 11,
   "metadata": {
    "extensions": {
     "jupyter_dashboards": {
      "version": 1,
      "views": {
       "grid_default": {},
       "report_default": {
        "hidden": false
       }
      }
     }
    }
   },
   "outputs": [
    {
     "data": {
      "text/plain": [
       "(array(['small', 'Big'], dtype=object),\n",
       " array(['Small', 'Big', 'Desarrollo'], dtype=object))"
      ]
     },
     "execution_count": 11,
     "metadata": {},
     "output_type": "execute_result"
    }
   ],
   "source": [
    "data['tipo_cliente'].unique(), data['CLIENTE GRUPO'].unique()"
   ]
  },
  {
   "cell_type": "code",
   "execution_count": 12,
   "metadata": {
    "extensions": {
     "jupyter_dashboards": {
      "version": 1,
      "views": {
       "grid_default": {},
       "report_default": {
        "hidden": true
       }
      }
     }
    }
   },
   "outputs": [],
   "source": [
    "data['tipo_cliente'] = ['Small' if x=='small' else x for x in data['tipo_cliente']]"
   ]
  },
  {
   "cell_type": "markdown",
   "metadata": {
    "extensions": {
     "jupyter_dashboards": {
      "version": 1,
      "views": {
       "grid_default": {},
       "report_default": {
        "hidden": false
       }
      }
     }
    }
   },
   "source": [
    "Cantidad de coincidencias entre la columna tipo_cliente y CLIENTE GRUPO"
   ]
  },
  {
   "cell_type": "code",
   "execution_count": 13,
   "metadata": {
    "extensions": {
     "jupyter_dashboards": {
      "version": 1,
      "views": {
       "grid_default": {},
       "report_default": {
        "hidden": false
       }
      }
     }
    }
   },
   "outputs": [
    {
     "data": {
      "text/plain": [
       "13544"
      ]
     },
     "execution_count": 13,
     "metadata": {},
     "output_type": "execute_result"
    }
   ],
   "source": [
    "np.where(data['tipo_cliente'] == data['CLIENTE GRUPO'], True, False).sum()"
   ]
  },
  {
   "cell_type": "markdown",
   "metadata": {
    "extensions": {
     "jupyter_dashboards": {
      "version": 1,
      "views": {
       "grid_default": {},
       "report_default": {
        "hidden": false
       }
      }
     }
    }
   },
   "source": [
    "Porcentaje de coincidencias"
   ]
  },
  {
   "cell_type": "code",
   "execution_count": 14,
   "metadata": {
    "extensions": {
     "jupyter_dashboards": {
      "version": 1,
      "views": {
       "grid_default": {},
       "report_default": {
        "hidden": false
       }
      }
     }
    }
   },
   "outputs": [
    {
     "data": {
      "text/plain": [
       "96.17269047788113"
      ]
     },
     "execution_count": 14,
     "metadata": {},
     "output_type": "execute_result"
    }
   ],
   "source": [
    "np.where(data['tipo_cliente'] == data['CLIENTE GRUPO'], True, False).sum()*100/len(data)"
   ]
  },
  {
   "cell_type": "markdown",
   "metadata": {
    "extensions": {
     "jupyter_dashboards": {
      "version": 1,
      "views": {
       "grid_default": {},
       "report_default": {
        "hidden": false
       }
      }
     }
    }
   },
   "source": [
    "Por lo tanto, no usaremos la columna __tipo_cliente__ porque tiene prácticamente la misma información que __CLIENTE GRUPO__"
   ]
  },
  {
   "cell_type": "code",
   "execution_count": 15,
   "metadata": {
    "extensions": {
     "jupyter_dashboards": {
      "version": 1,
      "views": {
       "grid_default": {},
       "report_default": {
        "hidden": true
       }
      }
     }
    }
   },
   "outputs": [],
   "source": [
    "variables.remove('tipo_cliente')"
   ]
  },
  {
   "cell_type": "markdown",
   "metadata": {
    "extensions": {
     "jupyter_dashboards": {
      "version": 1,
      "views": {
       "grid_default": {},
       "report_default": {
        "hidden": false
       }
      }
     }
    }
   },
   "source": [
    "Por último vamos a cambiar el valor de 'Small' por 0 y 'Big' por 1"
   ]
  },
  {
   "cell_type": "code",
   "execution_count": 16,
   "metadata": {
    "extensions": {
     "jupyter_dashboards": {
      "version": 1,
      "views": {
       "grid_default": {},
       "report_default": {
        "hidden": true
       }
      }
     }
    }
   },
   "outputs": [],
   "source": [
    "data['CLIENTE GRUPO'] = ['0' if x == 'Small' else '1' for x in data['CLIENTE GRUPO']]"
   ]
  },
  {
   "cell_type": "markdown",
   "metadata": {
    "extensions": {
     "jupyter_dashboards": {
      "version": 1,
      "views": {
       "grid_default": {},
       "report_default": {
        "hidden": false
       }
      }
     }
    }
   },
   "source": [
    "#### Caso columna Stock"
   ]
  },
  {
   "cell_type": "markdown",
   "metadata": {
    "extensions": {
     "jupyter_dashboards": {
      "version": 1,
      "views": {
       "grid_default": {},
       "report_default": {
        "hidden": false
       }
      }
     }
    }
   },
   "source": [
    "Parece no tener datos: Nos fijamos:"
   ]
  },
  {
   "cell_type": "code",
   "execution_count": 17,
   "metadata": {
    "extensions": {
     "jupyter_dashboards": {
      "version": 1,
      "views": {
       "grid_default": {},
       "report_default": {
        "hidden": false
       }
      }
     }
    }
   },
   "outputs": [
    {
     "data": {
      "text/plain": [
       "0"
      ]
     },
     "execution_count": 17,
     "metadata": {},
     "output_type": "execute_result"
    }
   ],
   "source": [
    "len(data[data['Stock'].notna()])"
   ]
  },
  {
   "cell_type": "markdown",
   "metadata": {
    "extensions": {
     "jupyter_dashboards": {
      "version": 1,
      "views": {
       "grid_default": {},
       "report_default": {
        "hidden": false
       }
      }
     }
    }
   },
   "source": [
    "La columna __Stock__ no tiene datos así que (por ahora) la dropeo"
   ]
  },
  {
   "cell_type": "code",
   "execution_count": 18,
   "metadata": {
    "extensions": {
     "jupyter_dashboards": {
      "version": 1,
      "views": {
       "grid_default": {},
       "report_default": {
        "hidden": true
       }
      }
     }
    }
   },
   "outputs": [],
   "source": [
    "variables.remove('Stock')"
   ]
  },
  {
   "cell_type": "markdown",
   "metadata": {
    "extensions": {
     "jupyter_dashboards": {
      "version": 1,
      "views": {
       "grid_default": {},
       "report_default": {
        "hidden": false
       }
      }
     }
    }
   },
   "source": [
    "#### Caso columnas Mix"
   ]
  },
  {
   "cell_type": "markdown",
   "metadata": {
    "extensions": {
     "jupyter_dashboards": {
      "version": 1,
      "views": {
       "grid_default": {},
       "report_default": {
        "hidden": false
       }
      }
     }
    }
   },
   "source": [
    "Las columnas mix son complejas y sólo se aplican si la columna _Ilimtado Sin Destaque_ es 0. Por ahora las sacamos:"
   ]
  },
  {
   "cell_type": "code",
   "execution_count": 19,
   "metadata": {
    "extensions": {
     "jupyter_dashboards": {
      "version": 1,
      "views": {
       "grid_default": {},
       "report_default": {
        "hidden": true
       }
      }
     }
    }
   },
   "outputs": [],
   "source": [
    "for var in ['Mix SD', 'Mix D', 'Mix S', 'Mix Premium'] : variables.remove(var)"
   ]
  },
  {
   "cell_type": "markdown",
   "metadata": {
    "extensions": {
     "jupyter_dashboards": {
      "version": 1,
      "views": {
       "grid_default": {},
       "report_default": {
        "hidden": false
       }
      }
     }
    }
   },
   "source": [
    "#### Caso columna % Uso"
   ]
  },
  {
   "cell_type": "markdown",
   "metadata": {
    "extensions": {
     "jupyter_dashboards": {
      "version": 1,
      "views": {
       "grid_default": {},
       "report_default": {
        "hidden": false
       }
      }
     }
    }
   },
   "source": [
    "Tiene un %98 de datos no nulos, pero no sabemos muy bien qué lógica encierra así que por ahora lo dejamos afuera de las variables explicativas."
   ]
  },
  {
   "cell_type": "code",
   "execution_count": 20,
   "metadata": {
    "extensions": {
     "jupyter_dashboards": {
      "version": 1,
      "views": {
       "grid_default": {},
       "report_default": {
        "hidden": false
       }
      }
     }
    }
   },
   "outputs": [
    {
     "data": {
      "text/plain": [
       "0.981253994177377"
      ]
     },
     "execution_count": 20,
     "metadata": {},
     "output_type": "execute_result"
    }
   ],
   "source": [
    "len(data[data['% Uso'].notna()])/len(data)"
   ]
  },
  {
   "cell_type": "code",
   "execution_count": 21,
   "metadata": {
    "extensions": {
     "jupyter_dashboards": {
      "version": 1,
      "views": {
       "grid_default": {},
       "report_default": {
        "hidden": true
       }
      }
     }
    }
   },
   "outputs": [],
   "source": [
    "variables.remove('% Uso')"
   ]
  },
  {
   "cell_type": "markdown",
   "metadata": {
    "extensions": {
     "jupyter_dashboards": {
      "version": 1,
      "views": {
       "grid_default": {},
       "report_default": {
        "hidden": false
       }
      }
     }
    }
   },
   "source": [
    "#### Caso Cliente Ilimitado sin Destaque vs Cliente Limitado"
   ]
  },
  {
   "cell_type": "markdown",
   "metadata": {
    "extensions": {
     "jupyter_dashboards": {
      "version": 1,
      "views": {
       "grid_default": {},
       "report_default": {
        "hidden": false
       }
      }
     }
    }
   },
   "source": [
    "Solo la primer fila tiene error en estas columnas.\n",
    "\n",
    "Lo que haremos es ver en cuántas veces son distintas. Si siempre son distintas significa que son opuestas."
   ]
  },
  {
   "cell_type": "code",
   "execution_count": 22,
   "metadata": {
    "extensions": {
     "jupyter_dashboards": {
      "version": 1,
      "views": {
       "grid_default": {},
       "report_default": {
        "hidden": false
       }
      }
     }
    }
   },
   "outputs": [
    {
     "data": {
      "text/html": [
       "<div>\n",
       "<style scoped>\n",
       "    .dataframe tbody tr th:only-of-type {\n",
       "        vertical-align: middle;\n",
       "    }\n",
       "\n",
       "    .dataframe tbody tr th {\n",
       "        vertical-align: top;\n",
       "    }\n",
       "\n",
       "    .dataframe thead th {\n",
       "        text-align: right;\n",
       "    }\n",
       "</style>\n",
       "<table border=\"1\" class=\"dataframe\">\n",
       "  <thead>\n",
       "    <tr style=\"text-align: right;\">\n",
       "      <th></th>\n",
       "      <th>Cliente Ilimitado sin Destaque</th>\n",
       "      <th>Cliente Limitado</th>\n",
       "    </tr>\n",
       "  </thead>\n",
       "  <tbody>\n",
       "    <tr>\n",
       "      <th>0</th>\n",
       "      <td>#ERROR!</td>\n",
       "      <td>#ERROR!</td>\n",
       "    </tr>\n",
       "  </tbody>\n",
       "</table>\n",
       "</div>"
      ],
      "text/plain": [
       "  Cliente Ilimitado sin Destaque Cliente Limitado\n",
       "0                        #ERROR!          #ERROR!"
      ]
     },
     "execution_count": 22,
     "metadata": {},
     "output_type": "execute_result"
    }
   ],
   "source": [
    "data[(data['Cliente Limitado']!='1')&(data['Cliente Limitado']!='0')].filter(['Cliente Ilimitado sin Destaque', 'Cliente Limitado'])"
   ]
  },
  {
   "cell_type": "code",
   "execution_count": 23,
   "metadata": {
    "extensions": {
     "jupyter_dashboards": {
      "version": 1,
      "views": {
       "grid_default": {},
       "report_default": {
        "hidden": false
       }
      }
     }
    }
   },
   "outputs": [
    {
     "data": {
      "text/html": [
       "<div>\n",
       "<style scoped>\n",
       "    .dataframe tbody tr th:only-of-type {\n",
       "        vertical-align: middle;\n",
       "    }\n",
       "\n",
       "    .dataframe tbody tr th {\n",
       "        vertical-align: top;\n",
       "    }\n",
       "\n",
       "    .dataframe thead th {\n",
       "        text-align: right;\n",
       "    }\n",
       "</style>\n",
       "<table border=\"1\" class=\"dataframe\">\n",
       "  <thead>\n",
       "    <tr style=\"text-align: right;\">\n",
       "      <th></th>\n",
       "      <th>Cliente Ilimitado sin Destaque</th>\n",
       "      <th>Cliente Limitado</th>\n",
       "    </tr>\n",
       "  </thead>\n",
       "  <tbody>\n",
       "    <tr>\n",
       "      <th>0</th>\n",
       "      <td>#ERROR!</td>\n",
       "      <td>#ERROR!</td>\n",
       "    </tr>\n",
       "  </tbody>\n",
       "</table>\n",
       "</div>"
      ],
      "text/plain": [
       "  Cliente Ilimitado sin Destaque Cliente Limitado\n",
       "0                        #ERROR!          #ERROR!"
      ]
     },
     "execution_count": 23,
     "metadata": {},
     "output_type": "execute_result"
    }
   ],
   "source": [
    "data[(data['Cliente Ilimitado sin Destaque']!='1')&(data['Cliente Ilimitado sin Destaque']!='0')].filter(['Cliente Ilimitado sin Destaque', 'Cliente Limitado'])"
   ]
  },
  {
   "cell_type": "code",
   "execution_count": 24,
   "metadata": {
    "extensions": {
     "jupyter_dashboards": {
      "version": 1,
      "views": {
       "grid_default": {},
       "report_default": {
        "hidden": false
       }
      }
     }
    }
   },
   "outputs": [
    {
     "data": {
      "text/plain": [
       "(array(['#ERROR!', '0', '1'], dtype=object),\n",
       " array(['#ERROR!', '1', '0'], dtype=object))"
      ]
     },
     "execution_count": 24,
     "metadata": {},
     "output_type": "execute_result"
    }
   ],
   "source": [
    "data['Cliente Ilimitado sin Destaque'].unique(), data['Cliente Limitado'].unique()"
   ]
  },
  {
   "cell_type": "code",
   "execution_count": 25,
   "metadata": {
    "extensions": {
     "jupyter_dashboards": {
      "version": 1,
      "views": {
       "grid_default": {},
       "report_default": {
        "hidden": false
       }
      }
     }
    }
   },
   "outputs": [
    {
     "data": {
      "text/plain": [
       "99.9928992402187"
      ]
     },
     "execution_count": 25,
     "metadata": {},
     "output_type": "execute_result"
    }
   ],
   "source": [
    "np.where(data['Cliente Ilimitado sin Destaque'] != data['Cliente Limitado'], True, False).sum()*100/len(data)"
   ]
  },
  {
   "cell_type": "markdown",
   "metadata": {
    "extensions": {
     "jupyter_dashboards": {
      "version": 1,
      "views": {
       "grid_default": {},
       "report_default": {
        "hidden": false
       }
      }
     }
    }
   },
   "source": [
    "Casi en el 100% de los datos estas columnas son opuestas, así que sacaremos _Cliente Ilimtado sin Destaque_."
   ]
  },
  {
   "cell_type": "code",
   "execution_count": 26,
   "metadata": {
    "extensions": {
     "jupyter_dashboards": {
      "version": 1,
      "views": {
       "grid_default": {},
       "report_default": {
        "hidden": true
       }
      }
     }
    }
   },
   "outputs": [],
   "source": [
    "variables.remove('Cliente Ilimitado sin Destaque')"
   ]
  },
  {
   "cell_type": "markdown",
   "metadata": {
    "extensions": {
     "jupyter_dashboards": {
      "version": 1,
      "views": {
       "grid_default": {},
       "report_default": {
        "hidden": false
       }
      }
     }
    }
   },
   "source": [
    "#### Caso Lead Alquiler Formulario' 'Lead Alquiler Ver Dato' 'Lead Alquiler temporal Formulario' 'Lead Alquiler temporal Ver Dato"
   ]
  },
  {
   "cell_type": "markdown",
   "metadata": {
    "extensions": {
     "jupyter_dashboards": {
      "version": 1,
      "views": {
       "grid_default": {},
       "report_default": {
        "hidden": false
       }
      }
     }
    }
   },
   "source": [
    "Estas columnas tienen un '  -   ' en vez de 0. Vamos a reemplazarlos por 0."
   ]
  },
  {
   "cell_type": "code",
   "execution_count": 27,
   "metadata": {
    "extensions": {
     "jupyter_dashboards": {
      "version": 1,
      "views": {
       "grid_default": {},
       "report_default": {
        "hidden": true
       }
      }
     }
    }
   },
   "outputs": [],
   "source": [
    "for column in ['Lead Venta Formulario', 'Lead Venta Ver Dato','Lead Alquiler Formulario', 'Lead Alquiler Ver Dato','Lead Alquiler temporal Formulario', 'Lead Alquiler temporal Ver Dato']:\n",
    "    data[column] = data[column].replace('  -   ' ,'0')"
   ]
  },
  {
   "cell_type": "markdown",
   "metadata": {
    "extensions": {
     "jupyter_dashboards": {
      "version": 1,
      "views": {
       "grid_default": {},
       "report_default": {
        "hidden": false
       }
      }
     }
    }
   },
   "source": [
    "#### Caso columna Integrador"
   ]
  },
  {
   "cell_type": "markdown",
   "metadata": {},
   "source": [
    "Toma valores 'SI' y 'NO' que cambio por '1' y '0' respectivamente"
   ]
  },
  {
   "cell_type": "code",
   "execution_count": 28,
   "metadata": {
    "extensions": {
     "jupyter_dashboards": {
      "version": 1,
      "views": {
       "grid_default": {},
       "report_default": {
        "hidden": false
       }
      }
     }
    }
   },
   "outputs": [
    {
     "data": {
      "text/plain": [
       "array(['NO', 'SI'], dtype=object)"
      ]
     },
     "execution_count": 28,
     "metadata": {},
     "output_type": "execute_result"
    }
   ],
   "source": [
    "data['Integrador'].unique()"
   ]
  },
  {
   "cell_type": "code",
   "execution_count": 29,
   "metadata": {
    "extensions": {
     "jupyter_dashboards": {
      "version": 1,
      "views": {
       "grid_default": {},
       "report_default": {
        "hidden": true
       }
      }
     }
    }
   },
   "outputs": [],
   "source": [
    "data['Integrador'] = ['1' if x=='SI' else '0' for x in data['Integrador']]"
   ]
  },
  {
   "cell_type": "markdown",
   "metadata": {
    "extensions": {
     "jupyter_dashboards": {
      "version": 1,
      "views": {
       "grid_default": {},
       "report_default": {
        "hidden": false
       }
      }
     }
    }
   },
   "source": [
    "#### Caso columnas CP"
   ]
  },
  {
   "cell_type": "markdown",
   "metadata": {
    "extensions": {
     "jupyter_dashboards": {
      "version": 1,
      "views": {
       "grid_default": {},
       "report_default": {
        "hidden": false
       }
      }
     }
    }
   },
   "source": [
    "Las columnas CP Lead Venta Formulario', 'CP Lead Venta Ver Dato',\n",
    "       'CP Lead Alquiler Formulario', 'CP Lead Alquiler Ver Dato',\n",
    "       'CP Lead Alquiler temporal Formulario',\n",
    "       'CP Lead Alquiler temporal Ver Dato'\n",
    "Se forman haciendo el monto total dividdo los Leads correspondientes, pero trae problemas cuando no hay leads. Por ahora las sacamos."
   ]
  },
  {
   "cell_type": "code",
   "execution_count": 30,
   "metadata": {
    "extensions": {
     "jupyter_dashboards": {
      "version": 1,
      "views": {
       "grid_default": {},
       "report_default": {
        "hidden": true
       }
      }
     }
    }
   },
   "outputs": [],
   "source": [
    "for column in ['CP Lead Venta Formulario', 'CP Lead Venta Ver Dato',\n",
    "       'CP Lead Alquiler Formulario', 'CP Lead Alquiler Ver Dato',\n",
    "       'CP Lead Alquiler temporal Formulario',\n",
    "       'CP Lead Alquiler temporal Ver Dato']:\n",
    "    variables.remove(column)"
   ]
  },
  {
   "cell_type": "markdown",
   "metadata": {
    "extensions": {
     "jupyter_dashboards": {
      "version": 1,
      "views": {
       "grid_default": {},
       "report_default": {
        "hidden": false
       }
      }
     }
    }
   },
   "source": [
    "#### Caso Fechas"
   ]
  },
  {
   "cell_type": "markdown",
   "metadata": {
    "extensions": {
     "jupyter_dashboards": {
      "version": 1,
      "views": {
       "grid_default": {},
       "report_default": {
        "hidden": false
       }
      }
     }
    }
   },
   "source": [
    "Para el modelo base voy a desestimar las fechas, que son:\n",
    "\n",
    "'Fecha Alta', 'Fecha Vto' y 'Antigüedad'"
   ]
  },
  {
   "cell_type": "code",
   "execution_count": 31,
   "metadata": {
    "extensions": {
     "jupyter_dashboards": {
      "version": 1,
      "views": {
       "grid_default": {},
       "report_default": {
        "hidden": true
       }
      }
     }
    }
   },
   "outputs": [],
   "source": [
    "for f in ['Fecha Alta', 'Fecha Vto', 'Antigüedad'] : variables.remove(f)"
   ]
  },
  {
   "cell_type": "code",
   "execution_count": 32,
   "metadata": {
    "extensions": {
     "jupyter_dashboards": {
      "version": 1,
      "views": {
       "grid_default": {},
       "report_default": {
        "hidden": false
       }
      }
     }
    }
   },
   "outputs": [
    {
     "data": {
      "text/plain": [
       "['CLIENTE GRUPO',\n",
       " 'Monto_total 2018',\n",
       " 'ARPA (rev prom)',\n",
       " 'Lead Venta Formulario',\n",
       " 'Lead Venta Ver Dato',\n",
       " 'Lead Alquiler Formulario',\n",
       " 'Lead Alquiler Ver Dato',\n",
       " 'Lead Alquiler temporal Formulario',\n",
       " 'Lead Alquiler temporal Ver Dato',\n",
       " 'LEADS',\n",
       " 'contratado Super Destacado',\n",
       " 'contratado Destacado',\n",
       " 'contratado Simple',\n",
       " 'contratado Desarrollo Super Destacado',\n",
       " 'contratado Desarrollo Destacado',\n",
       " 'contratado Desarrollo Simple',\n",
       " 'contratado freemium',\n",
       " 'Cliente Limitado',\n",
       " 'SD',\n",
       " 'D',\n",
       " 'S',\n",
       " 'Integrador',\n",
       " 'AO Venta',\n",
       " 'AO Alquiler',\n",
       " 'AO Alquiler temporal',\n",
       " 'Equipo',\n",
       " 'Provincia']"
      ]
     },
     "execution_count": 32,
     "metadata": {},
     "output_type": "execute_result"
    }
   ],
   "source": [
    "variables"
   ]
  },
  {
   "cell_type": "markdown",
   "metadata": {
    "extensions": {
     "jupyter_dashboards": {
      "version": 1,
      "views": {
       "grid_default": {},
       "report_default": {
        "hidden": false
       }
      }
     }
    }
   },
   "source": [
    "#### Caso Columna LEADS"
   ]
  },
  {
   "cell_type": "markdown",
   "metadata": {
    "extensions": {
     "jupyter_dashboards": {
      "version": 1,
      "views": {
       "grid_default": {},
       "report_default": {
        "hidden": false
       }
      }
     }
    }
   },
   "source": [
    "La columna 'LEADS' no tiene datos asi que la sacamos:"
   ]
  },
  {
   "cell_type": "code",
   "execution_count": 33,
   "metadata": {
    "extensions": {
     "jupyter_dashboards": {
      "version": 1,
      "views": {
       "grid_default": {},
       "report_default": {
        "hidden": false
       }
      }
     }
    }
   },
   "outputs": [
    {
     "data": {
      "text/plain": [
       "1.0"
      ]
     },
     "execution_count": 33,
     "metadata": {},
     "output_type": "execute_result"
    }
   ],
   "source": [
    "data['LEADS'].isna().sum()/len(data)"
   ]
  },
  {
   "cell_type": "code",
   "execution_count": 34,
   "metadata": {
    "extensions": {
     "jupyter_dashboards": {
      "version": 1,
      "views": {
       "grid_default": {},
       "report_default": {
        "hidden": true
       }
      }
     }
    }
   },
   "outputs": [],
   "source": [
    "variables.remove('LEADS')"
   ]
  },
  {
   "cell_type": "markdown",
   "metadata": {
    "extensions": {
     "jupyter_dashboards": {
      "version": 1,
      "views": {
       "grid_default": {},
       "report_default": {
        "hidden": false
       }
      }
     }
    }
   },
   "source": [
    "#### Caso Equipo"
   ]
  },
  {
   "cell_type": "markdown",
   "metadata": {
    "extensions": {
     "jupyter_dashboards": {
      "version": 1,
      "views": {
       "grid_default": {},
       "report_default": {
        "hidden": false
       }
      }
     }
    }
   },
   "source": [
    "En una primera instancia vamos a sacar la columna 'Equipo' de las variables explicativas porque no sabemos qué refleja."
   ]
  },
  {
   "cell_type": "code",
   "execution_count": 35,
   "metadata": {
    "extensions": {
     "jupyter_dashboards": {
      "version": 1,
      "views": {
       "grid_default": {},
       "report_default": {
        "hidden": true
       }
      }
     }
    }
   },
   "outputs": [],
   "source": [
    "variables.remove('Equipo')"
   ]
  },
  {
   "cell_type": "markdown",
   "metadata": {
    "extensions": {
     "jupyter_dashboards": {
      "version": 1,
      "views": {
       "grid_default": {},
       "report_default": {
        "hidden": false
       }
      }
     }
    }
   },
   "source": [
    "#### Caso Columnas AO"
   ]
  },
  {
   "cell_type": "markdown",
   "metadata": {
    "extensions": {
     "jupyter_dashboards": {
      "version": 1,
      "views": {
       "grid_default": {},
       "report_default": {
        "hidden": false
       }
      }
     }
    }
   },
   "source": [
    "Sacamos del análisis las columnas 'AO Venta', 'AO Alquiler' y 'AO Alquiler temporal' ya que no sabemos qué significa y tiene valores NaN."
   ]
  },
  {
   "cell_type": "code",
   "execution_count": 36,
   "metadata": {
    "extensions": {
     "jupyter_dashboards": {
      "version": 1,
      "views": {
       "grid_default": {},
       "report_default": {
        "hidden": true
       }
      }
     }
    }
   },
   "outputs": [],
   "source": [
    "for ao in ['AO Venta', 'AO Alquiler', 'AO Alquiler temporal'] : variables.remove(ao)"
   ]
  },
  {
   "cell_type": "markdown",
   "metadata": {
    "extensions": {
     "jupyter_dashboards": {
      "version": 1,
      "views": {
       "grid_default": {},
       "report_default": {
        "hidden": false
       }
      }
     }
    }
   },
   "source": [
    "#### Caso columnas contratado"
   ]
  },
  {
   "cell_type": "markdown",
   "metadata": {
    "extensions": {
     "jupyter_dashboards": {
      "version": 1,
      "views": {
       "grid_default": {},
       "report_default": {
        "hidden": false
       }
      }
     }
    }
   },
   "source": [
    "Hay algunos 'NaN' en las columnas de contratados. Las cambio por 0."
   ]
  },
  {
   "cell_type": "code",
   "execution_count": 37,
   "metadata": {
    "extensions": {
     "jupyter_dashboards": {
      "version": 1,
      "views": {
       "grid_default": {},
       "report_default": {
        "hidden": true
       }
      }
     }
    }
   },
   "outputs": [],
   "source": [
    "for c in ['contratado Super Destacado','contratado Destacado',\n",
    " 'contratado Simple',\n",
    " 'contratado Desarrollo Super Destacado',\n",
    " 'contratado Desarrollo Destacado',\n",
    " 'contratado Desarrollo Simple',\n",
    " 'contratado freemium',] :\n",
    "    data[c] = data[c].fillna(0)"
   ]
  },
  {
   "cell_type": "markdown",
   "metadata": {},
   "source": [
    "#### Caso columnas ARPA"
   ]
  },
  {
   "cell_type": "markdown",
   "metadata": {},
   "source": [
    "ARPA es exactamente Monto / 12, por lo tanto es redundante."
   ]
  },
  {
   "cell_type": "code",
   "execution_count": 38,
   "metadata": {},
   "outputs": [],
   "source": [
    "variables.remove('ARPA (rev prom)')"
   ]
  },
  {
   "cell_type": "markdown",
   "metadata": {},
   "source": [
    "#### Caso columnas SD, S, D"
   ]
  },
  {
   "cell_type": "markdown",
   "metadata": {},
   "source": [
    "Las tres columnas son simplemente la suma de otras dos así que vamos a sacarlas."
   ]
  },
  {
   "cell_type": "code",
   "execution_count": 39,
   "metadata": {},
   "outputs": [],
   "source": [
    "variables.remove('SD')\n",
    "variables.remove('S')\n",
    "variables.remove('D')"
   ]
  },
  {
   "cell_type": "markdown",
   "metadata": {
    "extensions": {
     "jupyter_dashboards": {
      "version": 1,
      "views": {
       "grid_default": {},
       "report_default": {
        "hidden": false
       }
      }
     }
    }
   },
   "source": []
  },
  {
   "cell_type": "markdown",
   "metadata": {
    "extensions": {
     "jupyter_dashboards": {
      "version": 1,
      "views": {
       "grid_default": {},
       "report_default": {
        "hidden": false
       }
      }
     }
    }
   },
   "source": [
    "## Variables"
   ]
  },
  {
   "cell_type": "markdown",
   "metadata": {},
   "source": [
    "#### Todas las variables"
   ]
  },
  {
   "cell_type": "code",
   "execution_count": 40,
   "metadata": {},
   "outputs": [
    {
     "data": {
      "text/plain": [
       "Index(['pais', 'ano_alta', 'idclientecrm', 'tipo_cliente', 'CLIENTE GRUPO',\n",
       "       'Status Cliente', 'Monto_total 2018', 'ARPA (rev prom)',\n",
       "       'Lead Venta Formulario', 'Lead Venta Ver Dato',\n",
       "       'Lead Alquiler Formulario', 'Lead Alquiler Ver Dato',\n",
       "       'Lead Alquiler temporal Formulario', 'Lead Alquiler temporal Ver Dato',\n",
       "       'CP Lead Venta Formulario', 'CP Lead Venta Ver Dato',\n",
       "       'CP Lead Alquiler Formulario', 'CP Lead Alquiler Ver Dato',\n",
       "       'CP Lead Alquiler temporal Formulario',\n",
       "       'CP Lead Alquiler temporal Ver Dato', 'LEADS',\n",
       "       'contratado Super Destacado', 'contratado Destacado',\n",
       "       'contratado Simple', 'contratado Desarrollo Super Destacado',\n",
       "       'contratado Desarrollo Destacado', 'contratado Desarrollo Simple',\n",
       "       'contratado freemium', 'Fecha Alta', 'Fecha Vto',\n",
       "       'Cliente Ilimitado sin Destaque', 'Cliente Limitado', 'SD', 'D', 'S',\n",
       "       'Mix SD', 'Mix D', 'Mix S', 'Mix Premium', 'Stock', 'Integrador',\n",
       "       'Antigüedad', 'AO Venta', 'AO Alquiler', 'AO Alquiler temporal',\n",
       "       '% Uso', 'User vendedor', 'Equipo', 'Provincia'],\n",
       "      dtype='object')"
      ]
     },
     "execution_count": 40,
     "metadata": {},
     "output_type": "execute_result"
    }
   ],
   "source": [
    "data.columns"
   ]
  },
  {
   "cell_type": "markdown",
   "metadata": {
    "extensions": {
     "jupyter_dashboards": {
      "version": 1,
      "views": {
       "grid_default": {},
       "report_default": {
        "hidden": false
       }
      }
     }
    }
   },
   "source": [
    "#### Variables que no necesitan explicación:\n",
    "\n",
    "pais, ano_alta, idclentecrm, tipo_cliente, Status Cliente, Monto_total 2018, contratado Super Destacado, contratado Desarrollo Super Destacado, CP Lead Venta Formulario, CP Lead Venta Ver Dato, CP Lead Alquiler Formulario, CP Lead Alquiler Ver Dato, CP Lead Alquiler temporal Formulario, CP Lead Alquiler temporal Ver Dato, contratado Simple, contratado Desarrollo Super Destacado, contratado Desarrollo Destacado, contratado Desarrollo Simple, contratado freemium, SD, D, S, User vendedor, Provincia."
   ]
  },
  {
   "cell_type": "markdown",
   "metadata": {
    "extensions": {
     "jupyter_dashboards": {
      "version": 1,
      "views": {
       "grid_default": {},
       "report_default": {
        "hidden": false
       }
      }
     }
    }
   },
   "source": [
    "#### Variables que necesitan explicación\n",
    "\n",
    "__Lead Venta Formulario, Lead Venta Ver Dato, Lead Alquiler Formulario, Lead Alquiler Ver Dato, Lead Alquiler temporal Formulario, Lead Alquiler temporal Ver Dato__: ¿Cuál es la diferencia entre Formulario y Ver Dato?\n",
    "\n",
    "__LEADS__: Esta variable no tiene datos pero ¿debería ser la suma de los anteriores?\n",
    "\n",
    "__Fecha Vto__: ¿Qué se vence en esta fecha?\n",
    "\n",
    "__Cliente ilimitado sin Destaque y Cliente Limitado__: Parecen ser opuestas, ¿qué significa cada una?\n",
    "\n",
    "__Mix Premium, Mix SD, Mix, D, Mix S__: Todas se calculan sólo si es Cliente Ilimitado sin Destaque y es un cociente pero no se entiende la elección del numerador y el denominador.\n",
    "\n",
    "__AO Venta, AO Alquiler, AO Alquiler temporal__: ¿Que significan estas columnas?\n",
    "\n",
    "__% Uso__: ¿Qué representa? Según la fórmula de Excel utiliza algunas columnas AO. También tiene el 'problema' de que podría dar más de %100 si no fuera que tiene una cota forzada.\n",
    "\n",
    "__Antigüedad y Fecha Alta__: Los datos en estas dos columnas no coinciden, ¿deberían? ¿qué nos dice cada una?"
   ]
  },
  {
   "cell_type": "markdown",
   "metadata": {
    "extensions": {
     "jupyter_dashboards": {
      "version": 1,
      "views": {
       "grid_default": {},
       "report_default": {
        "hidden": false
       }
      }
     }
    }
   },
   "source": [
    "#### Comentarios y Referencias\n",
    "\n",
    "__CLIENTE GRUPO__: Toma los valores 'Small', 'Big' y 'Desarrollo' pero ¿se clasifica en base a qué?. Es importante saber esto porque si se usan los mismos datos del dataset para hacer esta clasificación va a ser mejor sacar esta variable del modelo.\n",
    "\n",
    "__ARPA__: Se entiende que es el promedio por mes del monto total del año.\n",
    "\n",
    "__SD__: Suma de 'contratado Super Destacado' y 'contratado Desarrollo Super Destacado'.\n",
    "\n",
    "__D__: Suma de 'contratado Destacado' y 'contratado Desarrollo Destacado'.\n",
    "\n",
    "__S__: Suma de 'contratado Simple y 'contratado Desarrollo Simple'.\n",
    "\n",
    "__ano_alta__: Entiendo que se refiere al año de donde se extraen los datos y no al año donde se dió de alta el usuario. Esa información asumimos que la tiene el campo 'Fecha alta'."
   ]
  },
  {
   "cell_type": "markdown",
   "metadata": {
    "extensions": {
     "jupyter_dashboards": {
      "version": 1,
      "views": {
       "grid_default": {},
       "report_default": {
        "hidden": false
       }
      }
     }
    }
   },
   "source": [
    "#### Mix Premium"
   ]
  },
  {
   "cell_type": "markdown",
   "metadata": {
    "extensions": {
     "jupyter_dashboards": {
      "version": 1,
      "views": {
       "grid_default": {},
       "report_default": {
        "hidden": false
       }
      }
     }
    }
   },
   "source": [
    "Se calcula con la siguiente fórmula de excel"
   ]
  },
  {
   "attachments": {
    "image.png": {
     "image/png": "[encoded data removed]"
    }
   },
   "cell_type": "markdown",
   "metadata": {
    "extensions": {
     "jupyter_dashboards": {
      "version": 1,
      "views": {
       "grid_default": {},
       "report_default": {
        "hidden": false
       }
      }
     }
    }
   },
   "source": [
    "![image.png](attachment:image.png)"
   ]
  },
  {
   "cell_type": "markdown",
   "metadata": {
    "extensions": {
     "jupyter_dashboards": {
      "version": 1,
      "views": {
       "grid_default": {},
       "report_default": {
        "hidden": false
       }
      }
     }
    }
   },
   "source": [
    "Donde:\n",
    "\n",
    "__AE__: Cliente Ilimitado sin Destaque (Toma valores 0 y 1)\n",
    "\n",
    "__AH__: D (Cantidad de Destacados?)\n",
    "\n",
    "__AG__: SD (Cantdad de Super Destacados?)\n",
    "\n",
    "__AI__: S (Cantidad de Simples?)"
   ]
  },
  {
   "cell_type": "markdown",
   "metadata": {
    "extensions": {
     "jupyter_dashboards": {
      "version": 1,
      "views": {
       "grid_default": {},
       "report_default": {
        "hidden": false
       }
      }
     }
    }
   },
   "source": [
    "junto small y Small en la misma categoría"
   ]
  },
  {
   "cell_type": "markdown",
   "metadata": {
    "extensions": {
     "jupyter_dashboards": {
      "version": 1,
      "views": {
       "grid_default": {},
       "report_default": {
        "hidden": false
       }
      }
     }
    }
   },
   "source": [
    "#### % Uso"
   ]
  },
  {
   "cell_type": "markdown",
   "metadata": {
    "extensions": {
     "jupyter_dashboards": {
      "version": 1,
      "views": {
       "grid_default": {},
       "report_default": {
        "hidden": false
       }
      }
     }
    }
   },
   "source": [
    "Se calcula con la siguiente fórmula de excel"
   ]
  },
  {
   "attachments": {
    "image.png": {
     "image/png": "[encoded data removed]"
    }
   },
   "cell_type": "markdown",
   "metadata": {
    "extensions": {
     "jupyter_dashboards": {
      "version": 1,
      "views": {
       "grid_default": {},
       "report_default": {
        "hidden": false
       }
      }
     }
    }
   },
   "source": [
    "![image.png](attachment:image.png)"
   ]
  },
  {
   "cell_type": "markdown",
   "metadata": {
    "extensions": {
     "jupyter_dashboards": {
      "version": 1,
      "views": {
       "grid_default": {},
       "report_default": {
        "hidden": false
       }
      }
     }
    }
   },
   "source": [
    "Donde:\n",
    "\n",
    "__AQ__: AO Venta (Qué es?)\n",
    "\n",
    "__AS__: AO Alquiler temporal\n",
    "\n",
    "__AG__: SD (Cantdad de Super Destacados?)\n",
    "\n",
    "__AI__: S (Cantidad de Simples?)"
   ]
  },
  {
   "cell_type": "markdown",
   "metadata": {
    "extensions": {
     "jupyter_dashboards": {
      "version": 1,
      "views": {
       "grid_default": {},
       "report_default": {
        "hidden": false
       }
      }
     }
    }
   },
   "source": [
    "#### Qué es 'Equipo'?"
   ]
  },
  {
   "cell_type": "markdown",
   "metadata": {
    "extensions": {
     "jupyter_dashboards": {
      "version": 1,
      "views": {
       "grid_default": {},
       "report_default": {
        "hidden": false
       }
      }
     }
    }
   },
   "source": [
    "### Random Forest Classifier"
   ]
  },
  {
   "cell_type": "markdown",
   "metadata": {},
   "source": [
    "Las variables que usaremos para el modelo base son:"
   ]
  },
  {
   "cell_type": "code",
   "execution_count": 41,
   "metadata": {},
   "outputs": [
    {
     "data": {
      "text/html": [
       "<div>\n",
       "<style scoped>\n",
       "    .dataframe tbody tr th:only-of-type {\n",
       "        vertical-align: middle;\n",
       "    }\n",
       "\n",
       "    .dataframe tbody tr th {\n",
       "        vertical-align: top;\n",
       "    }\n",
       "\n",
       "    .dataframe thead th {\n",
       "        text-align: right;\n",
       "    }\n",
       "</style>\n",
       "<table border=\"1\" class=\"dataframe\">\n",
       "  <thead>\n",
       "    <tr style=\"text-align: right;\">\n",
       "      <th></th>\n",
       "      <th>Provincia</th>\n",
       "    </tr>\n",
       "  </thead>\n",
       "  <tbody>\n",
       "    <tr>\n",
       "      <th>0</th>\n",
       "      <td>#ERROR!</td>\n",
       "    </tr>\n",
       "    <tr>\n",
       "      <th>1</th>\n",
       "      <td>Distrito Federal</td>\n",
       "    </tr>\n",
       "    <tr>\n",
       "      <th>2</th>\n",
       "      <td>Distrito Federal</td>\n",
       "    </tr>\n",
       "    <tr>\n",
       "      <th>3</th>\n",
       "      <td>Distrito Federal</td>\n",
       "    </tr>\n",
       "    <tr>\n",
       "      <th>4</th>\n",
       "      <td>Distrito Federal</td>\n",
       "    </tr>\n",
       "  </tbody>\n",
       "</table>\n",
       "</div>"
      ],
      "text/plain": [
       "          Provincia\n",
       "0           #ERROR!\n",
       "1  Distrito Federal\n",
       "2  Distrito Federal\n",
       "3  Distrito Federal\n",
       "4  Distrito Federal"
      ]
     },
     "execution_count": 41,
     "metadata": {},
     "output_type": "execute_result"
    }
   ],
   "source": [
    "data.filter(['Provincia']).head()"
   ]
  },
  {
   "cell_type": "code",
   "execution_count": 42,
   "metadata": {
    "scrolled": true
   },
   "outputs": [
    {
     "data": {
      "text/plain": [
       "['CLIENTE GRUPO',\n",
       " 'Monto_total 2018',\n",
       " 'Lead Venta Formulario',\n",
       " 'Lead Venta Ver Dato',\n",
       " 'Lead Alquiler Formulario',\n",
       " 'Lead Alquiler Ver Dato',\n",
       " 'Lead Alquiler temporal Formulario',\n",
       " 'Lead Alquiler temporal Ver Dato',\n",
       " 'contratado Super Destacado',\n",
       " 'contratado Destacado',\n",
       " 'contratado Simple',\n",
       " 'contratado Desarrollo Super Destacado',\n",
       " 'contratado Desarrollo Destacado',\n",
       " 'contratado Desarrollo Simple',\n",
       " 'contratado freemium',\n",
       " 'Cliente Limitado',\n",
       " 'Integrador',\n",
       " 'Provincia']"
      ]
     },
     "execution_count": 42,
     "metadata": {},
     "output_type": "execute_result"
    }
   ],
   "source": [
    "variables"
   ]
  },
  {
   "cell_type": "markdown",
   "metadata": {
    "extensions": {
     "jupyter_dashboards": {
      "version": 1,
      "views": {
       "grid_default": {},
       "report_default": {
        "hidden": false
       }
      }
     }
    }
   },
   "source": [
    "#### Modelo Base"
   ]
  },
  {
   "cell_type": "markdown",
   "metadata": {
    "extensions": {
     "jupyter_dashboards": {
      "version": 1,
      "views": {
       "grid_default": {},
       "report_default": {
        "hidden": false
       }
      }
     }
    }
   },
   "source": [
    "get_dummies transforma variables categóricas en one-hot encodings"
   ]
  },
  {
   "cell_type": "code",
   "execution_count": 43,
   "metadata": {
    "extensions": {
     "jupyter_dashboards": {
      "version": 1,
      "views": {
       "grid_default": {},
       "report_default": {
        "hidden": false
       }
      }
     }
    }
   },
   "outputs": [
    {
     "data": {
      "text/plain": [
       "Index(['Provincia_#ERROR!', 'Provincia_Alagoas', 'Provincia_Amazonas',\n",
       "       'Provincia_Bahia', 'Provincia_Ceará', 'Provincia_Distrito Federal',\n",
       "       'Provincia_Espírito Santo', 'Provincia_Goiás', 'Provincia_Maranhão',\n",
       "       'Provincia_Mato Grosso', 'Provincia_Mato Grosso Do Sul',\n",
       "       'Provincia_Minas Gerais', 'Provincia_Paraná', 'Provincia_Paraíba',\n",
       "       'Provincia_Pará', 'Provincia_Pernambuco', 'Provincia_Piauí',\n",
       "       'Provincia_Rio De Janeiro', 'Provincia_Rio Grande Do Norte',\n",
       "       'Provincia_Rio Grande Do Sul', 'Provincia_Rondônia',\n",
       "       'Provincia_Roraima', 'Provincia_Santa Catarina', 'Provincia_Sergipe',\n",
       "       'Provincia_São Paulo', 'Provincia_Tocantins'],\n",
       "      dtype='object')"
      ]
     },
     "execution_count": 43,
     "metadata": {},
     "output_type": "execute_result"
    }
   ],
   "source": [
    "dummies = pd.get_dummies(data.filter(['Provincia']))\n",
    "dummies.columns"
   ]
  },
  {
   "cell_type": "code",
   "execution_count": 44,
   "metadata": {
    "extensions": {
     "jupyter_dashboards": {
      "version": 1,
      "views": {
       "grid_default": {},
       "report_default": {
        "hidden": true
       }
      }
     }
    }
   },
   "outputs": [],
   "source": [
    "dummies.drop('Provincia_#ERROR!', axis=1, inplace=True)"
   ]
  },
  {
   "cell_type": "code",
   "execution_count": 45,
   "metadata": {
    "extensions": {
     "jupyter_dashboards": {
      "version": 1,
      "views": {
       "grid_default": {},
       "report_default": {
        "hidden": false
       }
      }
     }
    }
   },
   "outputs": [
    {
     "data": {
      "text/html": [
       "<div>\n",
       "<style scoped>\n",
       "    .dataframe tbody tr th:only-of-type {\n",
       "        vertical-align: middle;\n",
       "    }\n",
       "\n",
       "    .dataframe tbody tr th {\n",
       "        vertical-align: top;\n",
       "    }\n",
       "\n",
       "    .dataframe thead th {\n",
       "        text-align: right;\n",
       "    }\n",
       "</style>\n",
       "<table border=\"1\" class=\"dataframe\">\n",
       "  <thead>\n",
       "    <tr style=\"text-align: right;\">\n",
       "      <th></th>\n",
       "      <th>Provincia_Alagoas</th>\n",
       "      <th>Provincia_Amazonas</th>\n",
       "      <th>Provincia_Bahia</th>\n",
       "      <th>Provincia_Ceará</th>\n",
       "      <th>Provincia_Distrito Federal</th>\n",
       "      <th>Provincia_Espírito Santo</th>\n",
       "      <th>Provincia_Goiás</th>\n",
       "      <th>Provincia_Maranhão</th>\n",
       "      <th>Provincia_Mato Grosso</th>\n",
       "      <th>Provincia_Mato Grosso Do Sul</th>\n",
       "      <th>...</th>\n",
       "      <th>Provincia_Piauí</th>\n",
       "      <th>Provincia_Rio De Janeiro</th>\n",
       "      <th>Provincia_Rio Grande Do Norte</th>\n",
       "      <th>Provincia_Rio Grande Do Sul</th>\n",
       "      <th>Provincia_Rondônia</th>\n",
       "      <th>Provincia_Roraima</th>\n",
       "      <th>Provincia_Santa Catarina</th>\n",
       "      <th>Provincia_Sergipe</th>\n",
       "      <th>Provincia_São Paulo</th>\n",
       "      <th>Provincia_Tocantins</th>\n",
       "    </tr>\n",
       "  </thead>\n",
       "  <tbody>\n",
       "    <tr>\n",
       "      <th>0</th>\n",
       "      <td>0</td>\n",
       "      <td>0</td>\n",
       "      <td>0</td>\n",
       "      <td>0</td>\n",
       "      <td>0</td>\n",
       "      <td>0</td>\n",
       "      <td>0</td>\n",
       "      <td>0</td>\n",
       "      <td>0</td>\n",
       "      <td>0</td>\n",
       "      <td>...</td>\n",
       "      <td>0</td>\n",
       "      <td>0</td>\n",
       "      <td>0</td>\n",
       "      <td>0</td>\n",
       "      <td>0</td>\n",
       "      <td>0</td>\n",
       "      <td>0</td>\n",
       "      <td>0</td>\n",
       "      <td>0</td>\n",
       "      <td>0</td>\n",
       "    </tr>\n",
       "  </tbody>\n",
       "</table>\n",
       "<p>1 rows × 25 columns</p>\n",
       "</div>"
      ],
      "text/plain": [
       "   Provincia_Alagoas  Provincia_Amazonas  Provincia_Bahia  Provincia_Ceará  \\\n",
       "0                  0                   0                0                0   \n",
       "\n",
       "   Provincia_Distrito Federal  Provincia_Espírito Santo  Provincia_Goiás  \\\n",
       "0                           0                         0                0   \n",
       "\n",
       "   Provincia_Maranhão  Provincia_Mato Grosso  Provincia_Mato Grosso Do Sul  \\\n",
       "0                   0                      0                             0   \n",
       "\n",
       "   ...  Provincia_Piauí  Provincia_Rio De Janeiro  \\\n",
       "0  ...                0                         0   \n",
       "\n",
       "   Provincia_Rio Grande Do Norte  Provincia_Rio Grande Do Sul  \\\n",
       "0                              0                            0   \n",
       "\n",
       "   Provincia_Rondônia  Provincia_Roraima  Provincia_Santa Catarina  \\\n",
       "0                   0                  0                         0   \n",
       "\n",
       "   Provincia_Sergipe  Provincia_São Paulo  Provincia_Tocantins  \n",
       "0                  0                    0                    0  \n",
       "\n",
       "[1 rows x 25 columns]"
      ]
     },
     "execution_count": 45,
     "metadata": {},
     "output_type": "execute_result"
    }
   ],
   "source": [
    "dummies.head(1)"
   ]
  },
  {
   "cell_type": "code",
   "execution_count": 46,
   "metadata": {
    "extensions": {
     "jupyter_dashboards": {
      "version": 1,
      "views": {
       "grid_default": {},
       "report_default": {
        "hidden": true
       }
      }
     }
    }
   },
   "outputs": [],
   "source": [
    "data_dummies = data.join(dummies)"
   ]
  },
  {
   "cell_type": "markdown",
   "metadata": {
    "extensions": {
     "jupyter_dashboards": {
      "version": 1,
      "views": {
       "grid_default": {},
       "report_default": {
        "hidden": false
       }
      }
     }
    }
   },
   "source": [
    "Cambiamos la variable 'Provincia' por one hot encodings de esa misma información"
   ]
  },
  {
   "cell_type": "code",
   "execution_count": 47,
   "metadata": {
    "extensions": {
     "jupyter_dashboards": {
      "version": 1,
      "views": {
       "grid_default": {},
       "report_default": {
        "hidden": true
       }
      }
     }
    }
   },
   "outputs": [],
   "source": [
    "variables = variables + list(dummies.columns)\n",
    "variables.remove('Provincia')"
   ]
  },
  {
   "cell_type": "markdown",
   "metadata": {},
   "source": [
    "Dropeo la primer fila que tiene errores"
   ]
  },
  {
   "cell_type": "code",
   "execution_count": 48,
   "metadata": {
    "extensions": {
     "jupyter_dashboards": {
      "version": 1,
      "views": {
       "grid_default": {},
       "report_default": {
        "hidden": true
       }
      }
     }
    }
   },
   "outputs": [],
   "source": [
    "data_dummies.drop(0, inplace = True)"
   ]
  },
  {
   "cell_type": "code",
   "execution_count": 49,
   "metadata": {
    "extensions": {
     "jupyter_dashboards": {
      "version": 1,
      "views": {
       "grid_default": {},
       "report_default": {
        "hidden": true
       }
      }
     }
    }
   },
   "outputs": [],
   "source": [
    "data_dummies = data_dummies.filter(variables + ['Status Cliente'])"
   ]
  },
  {
   "cell_type": "code",
   "execution_count": 50,
   "metadata": {
    "extensions": {
     "jupyter_dashboards": {
      "version": 1,
      "views": {
       "grid_default": {},
       "report_default": {
        "hidden": true
       }
      }
     }
    }
   },
   "outputs": [],
   "source": [
    "X = data_dummies.filter(variables).values\n",
    "y = data_dummies.filter(['Status Cliente']).values"
   ]
  },
  {
   "cell_type": "code",
   "execution_count": 51,
   "metadata": {
    "extensions": {
     "jupyter_dashboards": {
      "version": 1,
      "views": {
       "grid_default": {},
       "report_default": {
        "hidden": true
       }
      }
     }
    }
   },
   "outputs": [],
   "source": [
    "from sklearn.model_selection import train_test_split\n",
    "X_train, X_test, y_train, y_test = train_test_split(X, y, test_size=0.15)"
   ]
  },
  {
   "cell_type": "code",
   "execution_count": 52,
   "metadata": {
    "extensions": {
     "jupyter_dashboards": {
      "version": 1,
      "views": {
       "grid_default": {},
       "report_default": {
        "hidden": true
       }
      }
     }
    }
   },
   "outputs": [],
   "source": [
    "#from sklearn.ensemble import RandomForestRegressor\n",
    "from sklearn.ensemble import RandomForestClassifier\n",
    "\n",
    "rfc = RandomForestClassifier(n_estimators=1000, criterion = 'gini')\n",
    "rfc.fit(X_train, y_train.ravel()) #si le saco el ravel() me tira un warning\n",
    "y_pred = rfc.predict(X_test)"
   ]
  },
  {
   "cell_type": "code",
   "execution_count": 53,
   "metadata": {},
   "outputs": [],
   "source": [
    "y_pred_proba = rfc.predict_proba(X_test)"
   ]
  },
  {
   "cell_type": "markdown",
   "metadata": {},
   "source": [
    "### Métricas"
   ]
  },
  {
   "cell_type": "markdown",
   "metadata": {
    "extensions": {
     "jupyter_dashboards": {
      "version": 1,
      "views": {
       "grid_default": {},
       "report_default": {
        "hidden": false
       }
      }
     }
    }
   },
   "source": [
    "list(y_test.reshape(1, -1)[0]). Toda esta parafernalia es para poder cambiarle la forma a y_test y podes compararlo contra y_pred"
   ]
  },
  {
   "cell_type": "code",
   "execution_count": 54,
   "metadata": {
    "extensions": {
     "jupyter_dashboards": {
      "version": 1,
      "views": {
       "grid_default": {},
       "report_default": {
        "hidden": false
       }
      }
     }
    }
   },
   "outputs": [
    {
     "name": "stdout",
     "output_type": "stream",
     "text": [
      "Accuracy:  75.62707051585424\n"
     ]
    }
   ],
   "source": [
    "res = (y_pred == list(y_test.reshape(1, -1)[0]))\n",
    "print('Accuracy: ', res.sum()*100/len(y_test))"
   ]
  },
  {
   "cell_type": "code",
   "execution_count": 55,
   "metadata": {
    "extensions": {
     "jupyter_dashboards": {
      "version": 1,
      "views": {
       "grid_default": {},
       "report_default": {
        "hidden": true
       }
      }
     }
    }
   },
   "outputs": [],
   "source": [
    "perc_c = np.array([x == 'Cancelado' for x in list(y_test.reshape(1, -1)[0])]).sum()*100/len(y_test)"
   ]
  },
  {
   "cell_type": "code",
   "execution_count": 56,
   "metadata": {
    "extensions": {
     "jupyter_dashboards": {
      "version": 1,
      "views": {
       "grid_default": {},
       "report_default": {
        "hidden": true
       }
      }
     }
    }
   },
   "outputs": [
    {
     "name": "stdout",
     "output_type": "stream",
     "text": [
      "Porcentaje de Cancelados en test set:  41.410317084713675\n"
     ]
    }
   ],
   "source": [
    "print('Porcentaje de Cancelados en test set: ', perc_c)"
   ]
  },
  {
   "cell_type": "code",
   "execution_count": 57,
   "metadata": {
    "extensions": {
     "jupyter_dashboards": {
      "version": 1,
      "views": {
       "grid_default": {},
       "report_default": {
        "hidden": true
       }
      }
     }
    }
   },
   "outputs": [],
   "source": [
    "from sklearn.metrics import confusion_matrix\n",
    "confusion = confusion_matrix(y_pred, y_test)"
   ]
  },
  {
   "cell_type": "code",
   "execution_count": 58,
   "metadata": {
    "extensions": {
     "jupyter_dashboards": {
      "version": 1,
      "views": {
       "grid_default": {},
       "report_default": {
        "hidden": true
       }
      }
     }
    }
   },
   "outputs": [
    {
     "data": {
      "image/png": "[encoded data removed]",
      "text/plain": [
       "<Figure size 288x216 with 2 Axes>"
      ]
     },
     "metadata": {
      "needs_background": "light"
     },
     "output_type": "display_data"
    }
   ],
   "source": [
    "plt.figure(figsize = (4,3))\n",
    "classes = ['Cancelado', 'Vigente']\n",
    "tick_marks = np.arange(len(classes))\n",
    "plt.xticks(tick_marks, classes, rotation=45)\n",
    "plt.yticks(tick_marks, classes)\n",
    "ax = sns.heatmap(confusion, annot=True, annot_kws={\"size\": 15},fmt=\"d\")\n",
    "plt.xlabel(\"True Values\")\n",
    "plt.ylabel(\"Predicted Values\")\n",
    "ax.set_yticklabels(classes, rotation=0)\n",
    "ax.set_xticklabels(classes, rotation=0)\n",
    "plt.title('Confusion Matrix for Random Forest Classifier', fontweight=\"bold\");"
   ]
  },
  {
   "cell_type": "code",
   "execution_count": 59,
   "metadata": {
    "extensions": {
     "jupyter_dashboards": {
      "version": 1,
      "views": {
       "grid_default": {},
       "report_default": {
        "hidden": true
       }
      }
     }
    }
   },
   "outputs": [],
   "source": [
    "def print_metrics(confusion):\n",
    "        \n",
    "    n = confusion.sum()\n",
    "    p = (confusion[0][0]+confusion[1][1])/n\n",
    "    p_c = confusion[0][0]/(confusion[0][0]+confusion[1][0])\n",
    "    p_v = confusion[1][1]/(confusion[0][1]+confusion[1][1])\n",
    "    recall = confusion[0][0]/(confusion[0][0]+confusion[0][1])\n",
    "    \n",
    "    print('Number of test values: ', n)\n",
    "    print('Overall Accuracy: ', p*100)\n",
    "    print('Accuracy on Cancelado: ', p_c*100)\n",
    "    print('Accuracy on Vigente: ', p_v*100)\n",
    "    print('Recall: ', recall)"
   ]
  },
  {
   "cell_type": "code",
   "execution_count": 60,
   "metadata": {},
   "outputs": [
    {
     "name": "stdout",
     "output_type": "stream",
     "text": [
      "Number of test values:  2113\n",
      "Overall Accuracy:  75.62707051585423\n",
      "Accuracy on Cancelado:  65.60000000000001\n",
      "Accuracy on Vigente:  82.7140549273021\n",
      "Recall:  0.7284263959390863\n"
     ]
    }
   ],
   "source": [
    "print_metrics(confusion)"
   ]
  },
  {
   "cell_type": "code",
   "execution_count": 61,
   "metadata": {},
   "outputs": [],
   "source": [
    "probas = [x.max() for x in y_pred_proba]"
   ]
  },
  {
   "cell_type": "code",
   "execution_count": 62,
   "metadata": {},
   "outputs": [],
   "source": [
    "preds_df = pd.DataFrame()"
   ]
  },
  {
   "cell_type": "code",
   "execution_count": 63,
   "metadata": {},
   "outputs": [
    {
     "data": {
      "text/plain": [
       "(2113, 1)"
      ]
     },
     "execution_count": 63,
     "metadata": {},
     "output_type": "execute_result"
    }
   ],
   "source": [
    "y_test.shape"
   ]
  },
  {
   "cell_type": "code",
   "execution_count": 64,
   "metadata": {},
   "outputs": [
    {
     "data": {
      "text/html": [
       "<div>\n",
       "<style scoped>\n",
       "    .dataframe tbody tr th:only-of-type {\n",
       "        vertical-align: middle;\n",
       "    }\n",
       "\n",
       "    .dataframe tbody tr th {\n",
       "        vertical-align: top;\n",
       "    }\n",
       "\n",
       "    .dataframe thead th {\n",
       "        text-align: right;\n",
       "    }\n",
       "</style>\n",
       "<table border=\"1\" class=\"dataframe\">\n",
       "  <thead>\n",
       "    <tr style=\"text-align: right;\">\n",
       "      <th></th>\n",
       "      <th>y_test</th>\n",
       "      <th>y_pred</th>\n",
       "      <th>probas</th>\n",
       "      <th>Correct</th>\n",
       "    </tr>\n",
       "  </thead>\n",
       "  <tbody>\n",
       "    <tr>\n",
       "      <th>0</th>\n",
       "      <td>Vigente</td>\n",
       "      <td>Cancelado</td>\n",
       "      <td>1.000000</td>\n",
       "      <td>False</td>\n",
       "    </tr>\n",
       "    <tr>\n",
       "      <th>1</th>\n",
       "      <td>Cancelado</td>\n",
       "      <td>Cancelado</td>\n",
       "      <td>1.000000</td>\n",
       "      <td>True</td>\n",
       "    </tr>\n",
       "    <tr>\n",
       "      <th>2</th>\n",
       "      <td>Vigente</td>\n",
       "      <td>Cancelado</td>\n",
       "      <td>1.000000</td>\n",
       "      <td>False</td>\n",
       "    </tr>\n",
       "    <tr>\n",
       "      <th>3</th>\n",
       "      <td>Cancelado</td>\n",
       "      <td>Cancelado</td>\n",
       "      <td>1.000000</td>\n",
       "      <td>True</td>\n",
       "    </tr>\n",
       "    <tr>\n",
       "      <th>4</th>\n",
       "      <td>Cancelado</td>\n",
       "      <td>Cancelado</td>\n",
       "      <td>1.000000</td>\n",
       "      <td>True</td>\n",
       "    </tr>\n",
       "    <tr>\n",
       "      <th>5</th>\n",
       "      <td>Cancelado</td>\n",
       "      <td>Cancelado</td>\n",
       "      <td>1.000000</td>\n",
       "      <td>True</td>\n",
       "    </tr>\n",
       "    <tr>\n",
       "      <th>6</th>\n",
       "      <td>Cancelado</td>\n",
       "      <td>Cancelado</td>\n",
       "      <td>1.000000</td>\n",
       "      <td>True</td>\n",
       "    </tr>\n",
       "    <tr>\n",
       "      <th>7</th>\n",
       "      <td>Cancelado</td>\n",
       "      <td>Cancelado</td>\n",
       "      <td>0.999150</td>\n",
       "      <td>True</td>\n",
       "    </tr>\n",
       "    <tr>\n",
       "      <th>8</th>\n",
       "      <td>Vigente</td>\n",
       "      <td>Cancelado</td>\n",
       "      <td>0.999000</td>\n",
       "      <td>False</td>\n",
       "    </tr>\n",
       "    <tr>\n",
       "      <th>9</th>\n",
       "      <td>Cancelado</td>\n",
       "      <td>Cancelado</td>\n",
       "      <td>0.998767</td>\n",
       "      <td>True</td>\n",
       "    </tr>\n",
       "    <tr>\n",
       "      <th>10</th>\n",
       "      <td>Cancelado</td>\n",
       "      <td>Cancelado</td>\n",
       "      <td>0.998005</td>\n",
       "      <td>True</td>\n",
       "    </tr>\n",
       "    <tr>\n",
       "      <th>11</th>\n",
       "      <td>Cancelado</td>\n",
       "      <td>Cancelado</td>\n",
       "      <td>0.997000</td>\n",
       "      <td>True</td>\n",
       "    </tr>\n",
       "    <tr>\n",
       "      <th>12</th>\n",
       "      <td>Cancelado</td>\n",
       "      <td>Cancelado</td>\n",
       "      <td>0.997000</td>\n",
       "      <td>True</td>\n",
       "    </tr>\n",
       "    <tr>\n",
       "      <th>13</th>\n",
       "      <td>Cancelado</td>\n",
       "      <td>Cancelado</td>\n",
       "      <td>0.996562</td>\n",
       "      <td>True</td>\n",
       "    </tr>\n",
       "    <tr>\n",
       "      <th>14</th>\n",
       "      <td>Vigente</td>\n",
       "      <td>Vigente</td>\n",
       "      <td>0.996000</td>\n",
       "      <td>True</td>\n",
       "    </tr>\n",
       "    <tr>\n",
       "      <th>15</th>\n",
       "      <td>Cancelado</td>\n",
       "      <td>Cancelado</td>\n",
       "      <td>0.996000</td>\n",
       "      <td>True</td>\n",
       "    </tr>\n",
       "    <tr>\n",
       "      <th>16</th>\n",
       "      <td>Cancelado</td>\n",
       "      <td>Cancelado</td>\n",
       "      <td>0.995000</td>\n",
       "      <td>True</td>\n",
       "    </tr>\n",
       "    <tr>\n",
       "      <th>17</th>\n",
       "      <td>Vigente</td>\n",
       "      <td>Vigente</td>\n",
       "      <td>0.995000</td>\n",
       "      <td>True</td>\n",
       "    </tr>\n",
       "    <tr>\n",
       "      <th>18</th>\n",
       "      <td>Vigente</td>\n",
       "      <td>Vigente</td>\n",
       "      <td>0.995000</td>\n",
       "      <td>True</td>\n",
       "    </tr>\n",
       "    <tr>\n",
       "      <th>19</th>\n",
       "      <td>Vigente</td>\n",
       "      <td>Cancelado</td>\n",
       "      <td>0.995000</td>\n",
       "      <td>False</td>\n",
       "    </tr>\n",
       "  </tbody>\n",
       "</table>\n",
       "</div>"
      ],
      "text/plain": [
       "       y_test     y_pred    probas  Correct\n",
       "0     Vigente  Cancelado  1.000000    False\n",
       "1   Cancelado  Cancelado  1.000000     True\n",
       "2     Vigente  Cancelado  1.000000    False\n",
       "3   Cancelado  Cancelado  1.000000     True\n",
       "4   Cancelado  Cancelado  1.000000     True\n",
       "5   Cancelado  Cancelado  1.000000     True\n",
       "6   Cancelado  Cancelado  1.000000     True\n",
       "7   Cancelado  Cancelado  0.999150     True\n",
       "8     Vigente  Cancelado  0.999000    False\n",
       "9   Cancelado  Cancelado  0.998767     True\n",
       "10  Cancelado  Cancelado  0.998005     True\n",
       "11  Cancelado  Cancelado  0.997000     True\n",
       "12  Cancelado  Cancelado  0.997000     True\n",
       "13  Cancelado  Cancelado  0.996562     True\n",
       "14    Vigente    Vigente  0.996000     True\n",
       "15  Cancelado  Cancelado  0.996000     True\n",
       "16  Cancelado  Cancelado  0.995000     True\n",
       "17    Vigente    Vigente  0.995000     True\n",
       "18    Vigente    Vigente  0.995000     True\n",
       "19    Vigente  Cancelado  0.995000    False"
      ]
     },
     "execution_count": 64,
     "metadata": {},
     "output_type": "execute_result"
    }
   ],
   "source": [
    "preds_df['y_test'] = list(y_test.reshape(1, -1)[0])\n",
    "preds_df['y_pred'] = y_pred\n",
    "preds_df['probas'] = probas\n",
    "preds_df['Correct'] = np.where(preds_df['y_test'] == preds_df['y_pred'], True, False)\n",
    "preds_df.sort_values(by = 'probas', ascending = False).reset_index(drop = True).head(20)"
   ]
  },
  {
   "cell_type": "code",
   "execution_count": 65,
   "metadata": {},
   "outputs": [],
   "source": [
    "top_preds = preds_df[preds_df['probas']>0.9]"
   ]
  },
  {
   "cell_type": "code",
   "execution_count": 66,
   "metadata": {},
   "outputs": [],
   "source": [
    "confusion = confusion_matrix(top_preds['y_pred'], top_preds['y_test'])"
   ]
  },
  {
   "cell_type": "code",
   "execution_count": 67,
   "metadata": {},
   "outputs": [
    {
     "data": {
      "image/png": "[encoded data removed]",
      "text/plain": [
       "<Figure size 288x216 with 2 Axes>"
      ]
     },
     "metadata": {
      "needs_background": "light"
     },
     "output_type": "display_data"
    }
   ],
   "source": [
    "plt.figure(figsize = (4,3))\n",
    "classes = ['Cancelado', 'Vigente']\n",
    "ax = sns.heatmap(confusion, annot=True, annot_kws={\"size\": 15},fmt=\"d\")\n",
    "plt.xlabel(\"True Values\")\n",
    "plt.ylabel(\"Predicted Values\")\n",
    "ax.set_yticklabels(classes, rotation=0)\n",
    "ax.set_xticklabels(classes, rotation=0)\n",
    "plt.title('Confusion Matrix for Random Forest Classifier', fontweight=\"bold\");"
   ]
  },
  {
   "cell_type": "code",
   "execution_count": 68,
   "metadata": {},
   "outputs": [
    {
     "name": "stdout",
     "output_type": "stream",
     "text": [
      "Number of test values:  453\n",
      "Overall Accuracy:  92.71523178807946\n",
      "Accuracy on Cancelado:  91.94630872483222\n",
      "Accuracy on Vigente:  93.0921052631579\n",
      "Recall:  0.8670886075949367\n"
     ]
    }
   ],
   "source": [
    "print_metrics(confusion)"
   ]
  },
  {
   "cell_type": "markdown",
   "metadata": {},
   "source": [
    "#### Importancia de variables"
   ]
  },
  {
   "cell_type": "markdown",
   "metadata": {},
   "source": [
    "Creamos el DataFrame que tiene cada variable acompañada con el 'peso' o importancia que tiene dentro del modelo."
   ]
  },
  {
   "cell_type": "code",
   "execution_count": 69,
   "metadata": {},
   "outputs": [],
   "source": [
    "features = pd.DataFrame()\n",
    "features['feature'] = variables\n",
    "features['importance'] = rfc.feature_importances_\n",
    "features = features.sort_values(by = 'importance', ascending = False).reset_index(drop = True)"
   ]
  },
  {
   "cell_type": "code",
   "execution_count": 70,
   "metadata": {},
   "outputs": [
    {
     "data": {
      "text/html": [
       "<div>\n",
       "<style scoped>\n",
       "    .dataframe tbody tr th:only-of-type {\n",
       "        vertical-align: middle;\n",
       "    }\n",
       "\n",
       "    .dataframe tbody tr th {\n",
       "        vertical-align: top;\n",
       "    }\n",
       "\n",
       "    .dataframe thead th {\n",
       "        text-align: right;\n",
       "    }\n",
       "</style>\n",
       "<table border=\"1\" class=\"dataframe\">\n",
       "  <thead>\n",
       "    <tr style=\"text-align: right;\">\n",
       "      <th></th>\n",
       "      <th>feature</th>\n",
       "      <th>importance</th>\n",
       "    </tr>\n",
       "  </thead>\n",
       "  <tbody>\n",
       "    <tr>\n",
       "      <th>0</th>\n",
       "      <td>Monto_total 2018</td>\n",
       "      <td>0.256813</td>\n",
       "    </tr>\n",
       "    <tr>\n",
       "      <th>1</th>\n",
       "      <td>Lead Venta Formulario</td>\n",
       "      <td>0.124461</td>\n",
       "    </tr>\n",
       "    <tr>\n",
       "      <th>2</th>\n",
       "      <td>Lead Venta Ver Dato</td>\n",
       "      <td>0.105269</td>\n",
       "    </tr>\n",
       "    <tr>\n",
       "      <th>3</th>\n",
       "      <td>Lead Alquiler Formulario</td>\n",
       "      <td>0.089789</td>\n",
       "    </tr>\n",
       "    <tr>\n",
       "      <th>4</th>\n",
       "      <td>contratado Destacado</td>\n",
       "      <td>0.081159</td>\n",
       "    </tr>\n",
       "    <tr>\n",
       "      <th>5</th>\n",
       "      <td>Lead Alquiler Ver Dato</td>\n",
       "      <td>0.074188</td>\n",
       "    </tr>\n",
       "    <tr>\n",
       "      <th>6</th>\n",
       "      <td>contratado Simple</td>\n",
       "      <td>0.071163</td>\n",
       "    </tr>\n",
       "    <tr>\n",
       "      <th>7</th>\n",
       "      <td>contratado Super Destacado</td>\n",
       "      <td>0.057483</td>\n",
       "    </tr>\n",
       "    <tr>\n",
       "      <th>8</th>\n",
       "      <td>Integrador</td>\n",
       "      <td>0.021593</td>\n",
       "    </tr>\n",
       "    <tr>\n",
       "      <th>9</th>\n",
       "      <td>Provincia_São Paulo</td>\n",
       "      <td>0.015331</td>\n",
       "    </tr>\n",
       "    <tr>\n",
       "      <th>10</th>\n",
       "      <td>Lead Alquiler temporal Formulario</td>\n",
       "      <td>0.012349</td>\n",
       "    </tr>\n",
       "    <tr>\n",
       "      <th>11</th>\n",
       "      <td>Cliente Limitado</td>\n",
       "      <td>0.012041</td>\n",
       "    </tr>\n",
       "    <tr>\n",
       "      <th>12</th>\n",
       "      <td>Provincia_Rio De Janeiro</td>\n",
       "      <td>0.009055</td>\n",
       "    </tr>\n",
       "    <tr>\n",
       "      <th>13</th>\n",
       "      <td>contratado Desarrollo Destacado</td>\n",
       "      <td>0.008999</td>\n",
       "    </tr>\n",
       "    <tr>\n",
       "      <th>14</th>\n",
       "      <td>Provincia_Distrito Federal</td>\n",
       "      <td>0.008944</td>\n",
       "    </tr>\n",
       "    <tr>\n",
       "      <th>15</th>\n",
       "      <td>Lead Alquiler temporal Ver Dato</td>\n",
       "      <td>0.008847</td>\n",
       "    </tr>\n",
       "    <tr>\n",
       "      <th>16</th>\n",
       "      <td>Provincia_Paraná</td>\n",
       "      <td>0.008197</td>\n",
       "    </tr>\n",
       "    <tr>\n",
       "      <th>17</th>\n",
       "      <td>CLIENTE GRUPO</td>\n",
       "      <td>0.007015</td>\n",
       "    </tr>\n",
       "    <tr>\n",
       "      <th>18</th>\n",
       "      <td>Provincia_Santa Catarina</td>\n",
       "      <td>0.006052</td>\n",
       "    </tr>\n",
       "    <tr>\n",
       "      <th>19</th>\n",
       "      <td>Provincia_Bahia</td>\n",
       "      <td>0.005337</td>\n",
       "    </tr>\n",
       "    <tr>\n",
       "      <th>20</th>\n",
       "      <td>Provincia_Minas Gerais</td>\n",
       "      <td>0.004148</td>\n",
       "    </tr>\n",
       "    <tr>\n",
       "      <th>21</th>\n",
       "      <td>Provincia_Ceará</td>\n",
       "      <td>0.002305</td>\n",
       "    </tr>\n",
       "    <tr>\n",
       "      <th>22</th>\n",
       "      <td>Provincia_Rio Grande Do Sul</td>\n",
       "      <td>0.001924</td>\n",
       "    </tr>\n",
       "    <tr>\n",
       "      <th>23</th>\n",
       "      <td>Provincia_Goiás</td>\n",
       "      <td>0.001464</td>\n",
       "    </tr>\n",
       "    <tr>\n",
       "      <th>24</th>\n",
       "      <td>Provincia_Pernambuco</td>\n",
       "      <td>0.001331</td>\n",
       "    </tr>\n",
       "    <tr>\n",
       "      <th>25</th>\n",
       "      <td>Provincia_Espírito Santo</td>\n",
       "      <td>0.001013</td>\n",
       "    </tr>\n",
       "    <tr>\n",
       "      <th>26</th>\n",
       "      <td>Provincia_Rio Grande Do Norte</td>\n",
       "      <td>0.000996</td>\n",
       "    </tr>\n",
       "    <tr>\n",
       "      <th>27</th>\n",
       "      <td>Provincia_Paraíba</td>\n",
       "      <td>0.000829</td>\n",
       "    </tr>\n",
       "    <tr>\n",
       "      <th>28</th>\n",
       "      <td>Provincia_Amazonas</td>\n",
       "      <td>0.000430</td>\n",
       "    </tr>\n",
       "    <tr>\n",
       "      <th>29</th>\n",
       "      <td>Provincia_Piauí</td>\n",
       "      <td>0.000310</td>\n",
       "    </tr>\n",
       "    <tr>\n",
       "      <th>30</th>\n",
       "      <td>Provincia_Alagoas</td>\n",
       "      <td>0.000255</td>\n",
       "    </tr>\n",
       "    <tr>\n",
       "      <th>31</th>\n",
       "      <td>Provincia_Mato Grosso</td>\n",
       "      <td>0.000232</td>\n",
       "    </tr>\n",
       "    <tr>\n",
       "      <th>32</th>\n",
       "      <td>Provincia_Sergipe</td>\n",
       "      <td>0.000171</td>\n",
       "    </tr>\n",
       "    <tr>\n",
       "      <th>33</th>\n",
       "      <td>contratado Desarrollo Super Destacado</td>\n",
       "      <td>0.000149</td>\n",
       "    </tr>\n",
       "    <tr>\n",
       "      <th>34</th>\n",
       "      <td>Provincia_Pará</td>\n",
       "      <td>0.000109</td>\n",
       "    </tr>\n",
       "    <tr>\n",
       "      <th>35</th>\n",
       "      <td>Provincia_Tocantins</td>\n",
       "      <td>0.000108</td>\n",
       "    </tr>\n",
       "    <tr>\n",
       "      <th>36</th>\n",
       "      <td>Provincia_Mato Grosso Do Sul</td>\n",
       "      <td>0.000063</td>\n",
       "    </tr>\n",
       "    <tr>\n",
       "      <th>37</th>\n",
       "      <td>Provincia_Maranhão</td>\n",
       "      <td>0.000058</td>\n",
       "    </tr>\n",
       "    <tr>\n",
       "      <th>38</th>\n",
       "      <td>Provincia_Rondônia</td>\n",
       "      <td>0.000015</td>\n",
       "    </tr>\n",
       "    <tr>\n",
       "      <th>39</th>\n",
       "      <td>Provincia_Roraima</td>\n",
       "      <td>0.000006</td>\n",
       "    </tr>\n",
       "    <tr>\n",
       "      <th>40</th>\n",
       "      <td>contratado Desarrollo Simple</td>\n",
       "      <td>0.000000</td>\n",
       "    </tr>\n",
       "    <tr>\n",
       "      <th>41</th>\n",
       "      <td>contratado freemium</td>\n",
       "      <td>0.000000</td>\n",
       "    </tr>\n",
       "  </tbody>\n",
       "</table>\n",
       "</div>"
      ],
      "text/plain": [
       "                                  feature  importance\n",
       "0                        Monto_total 2018    0.256813\n",
       "1                   Lead Venta Formulario    0.124461\n",
       "2                     Lead Venta Ver Dato    0.105269\n",
       "3                Lead Alquiler Formulario    0.089789\n",
       "4                    contratado Destacado    0.081159\n",
       "5                  Lead Alquiler Ver Dato    0.074188\n",
       "6                       contratado Simple    0.071163\n",
       "7              contratado Super Destacado    0.057483\n",
       "8                              Integrador    0.021593\n",
       "9                     Provincia_São Paulo    0.015331\n",
       "10      Lead Alquiler temporal Formulario    0.012349\n",
       "11                       Cliente Limitado    0.012041\n",
       "12               Provincia_Rio De Janeiro    0.009055\n",
       "13        contratado Desarrollo Destacado    0.008999\n",
       "14             Provincia_Distrito Federal    0.008944\n",
       "15        Lead Alquiler temporal Ver Dato    0.008847\n",
       "16                       Provincia_Paraná    0.008197\n",
       "17                          CLIENTE GRUPO    0.007015\n",
       "18               Provincia_Santa Catarina    0.006052\n",
       "19                        Provincia_Bahia    0.005337\n",
       "20                 Provincia_Minas Gerais    0.004148\n",
       "21                        Provincia_Ceará    0.002305\n",
       "22            Provincia_Rio Grande Do Sul    0.001924\n",
       "23                        Provincia_Goiás    0.001464\n",
       "24                   Provincia_Pernambuco    0.001331\n",
       "25               Provincia_Espírito Santo    0.001013\n",
       "26          Provincia_Rio Grande Do Norte    0.000996\n",
       "27                      Provincia_Paraíba    0.000829\n",
       "28                     Provincia_Amazonas    0.000430\n",
       "29                        Provincia_Piauí    0.000310\n",
       "30                      Provincia_Alagoas    0.000255\n",
       "31                  Provincia_Mato Grosso    0.000232\n",
       "32                      Provincia_Sergipe    0.000171\n",
       "33  contratado Desarrollo Super Destacado    0.000149\n",
       "34                         Provincia_Pará    0.000109\n",
       "35                    Provincia_Tocantins    0.000108\n",
       "36           Provincia_Mato Grosso Do Sul    0.000063\n",
       "37                     Provincia_Maranhão    0.000058\n",
       "38                     Provincia_Rondônia    0.000015\n",
       "39                      Provincia_Roraima    0.000006\n",
       "40           contratado Desarrollo Simple    0.000000\n",
       "41                    contratado freemium    0.000000"
      ]
     },
     "execution_count": 70,
     "metadata": {},
     "output_type": "execute_result"
    }
   ],
   "source": [
    "features"
   ]
  },
  {
   "cell_type": "markdown",
   "metadata": {},
   "source": [
    "#### Cross Validation"
   ]
  },
  {
   "cell_type": "code",
   "execution_count": 71,
   "metadata": {},
   "outputs": [],
   "source": [
    "from sklearn.model_selection import cross_val_score"
   ]
  },
  {
   "cell_type": "code",
   "execution_count": 72,
   "metadata": {},
   "outputs": [],
   "source": [
    "cross = cross_val_score(rfc, X, y.ravel(), cv = 5)"
   ]
  },
  {
   "cell_type": "code",
   "execution_count": 73,
   "metadata": {},
   "outputs": [
    {
     "data": {
      "text/plain": [
       "0.7463351906053424"
      ]
     },
     "execution_count": 73,
     "metadata": {},
     "output_type": "execute_result"
    }
   ],
   "source": [
    "cross.mean()"
   ]
  }
 ],
 "metadata": {
  "extensions": {
   "jupyter_dashboards": {
    "activeView": "report_default",
    "version": 1,
    "views": {
     "grid_default": {
      "name": "grid",
      "type": "grid"
     },
     "report_default": {
      "name": "report",
      "type": "report"
     }
    }
   }
  },
  "kernelspec": {
   "display_name": "Python 3",
   "language": "python",
   "name": "python3"
  },
  "language_info": {
   "codemirror_mode": {
    "name": "ipython",
    "version": 3
   },
   "file_extension": ".py",
   "mimetype": "text/x-python",
   "name": "python",
   "nbconvert_exporter": "python",
   "pygments_lexer": "ipython3",
   "version": "3.7.3"
  }
 },
 "nbformat": 4,
 "nbformat_minor": 2
}
