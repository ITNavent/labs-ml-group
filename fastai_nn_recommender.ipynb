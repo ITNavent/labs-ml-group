{
 "cells": [
  {
   "cell_type": "code",
   "execution_count": 1,
   "metadata": {},
   "outputs": [],
   "source": [
    "%reload_ext autoreload\n",
    "%autoreload 2\n",
    "%matplotlib inline"
   ]
  },
  {
   "cell_type": "code",
   "execution_count": 2,
   "metadata": {},
   "outputs": [],
   "source": [
    "from fastai import *\n",
    "from fastai.collab import *\n",
    "from fastai.tabular import *\n",
    "\n",
    "from fastai.vision import *\n",
    "import pandas as pd\n",
    "import numpy as np\n",
    "\n",
    "import pdb"
   ]
  },
  {
   "cell_type": "markdown",
   "metadata": {},
   "source": [
    "### Data set"
   ]
  },
  {
   "cell_type": "code",
   "execution_count": 3,
   "metadata": {},
   "outputs": [
    {
     "data": {
      "text/plain": [
       "[PosixPath('/home/fvadell/trabajo/recs/ml-latest-small/links.csv'),\n",
       " PosixPath('/home/fvadell/trabajo/recs/ml-latest-small/README.txt'),\n",
       " PosixPath('/home/fvadell/trabajo/recs/ml-latest-small/ratings.csv'),\n",
       " PosixPath('/home/fvadell/trabajo/recs/ml-latest-small/movies.csv'),\n",
       " PosixPath('/home/fvadell/trabajo/recs/ml-latest-small/tags.csv')]"
      ]
     },
     "execution_count": 3,
     "metadata": {},
     "output_type": "execute_result"
    }
   ],
   "source": [
    "path = Path('/home/fvadell/trabajo/recs/ml-latest-small')\n",
    "path.ls()"
   ]
  },
  {
   "cell_type": "code",
   "execution_count": 4,
   "metadata": {},
   "outputs": [
    {
     "data": {
      "text/html": [
       "<div>\n",
       "<style scoped>\n",
       "    .dataframe tbody tr th:only-of-type {\n",
       "        vertical-align: middle;\n",
       "    }\n",
       "\n",
       "    .dataframe tbody tr th {\n",
       "        vertical-align: top;\n",
       "    }\n",
       "\n",
       "    .dataframe thead th {\n",
       "        text-align: right;\n",
       "    }\n",
       "</style>\n",
       "<table border=\"1\" class=\"dataframe\">\n",
       "  <thead>\n",
       "    <tr style=\"text-align: right;\">\n",
       "      <th></th>\n",
       "      <th>userId</th>\n",
       "      <th>movieId</th>\n",
       "      <th>rating</th>\n",
       "      <th>timestamp</th>\n",
       "      <th>y</th>\n",
       "      <th>user</th>\n",
       "      <th>item</th>\n",
       "    </tr>\n",
       "  </thead>\n",
       "  <tbody>\n",
       "    <tr>\n",
       "      <th>0</th>\n",
       "      <td>1</td>\n",
       "      <td>1</td>\n",
       "      <td>4.0</td>\n",
       "      <td>964982703</td>\n",
       "      <td>4.0</td>\n",
       "      <td>1</td>\n",
       "      <td>1</td>\n",
       "    </tr>\n",
       "    <tr>\n",
       "      <th>1</th>\n",
       "      <td>1</td>\n",
       "      <td>3</td>\n",
       "      <td>4.0</td>\n",
       "      <td>964981247</td>\n",
       "      <td>4.0</td>\n",
       "      <td>1</td>\n",
       "      <td>3</td>\n",
       "    </tr>\n",
       "    <tr>\n",
       "      <th>2</th>\n",
       "      <td>1</td>\n",
       "      <td>6</td>\n",
       "      <td>4.0</td>\n",
       "      <td>964982224</td>\n",
       "      <td>4.0</td>\n",
       "      <td>1</td>\n",
       "      <td>6</td>\n",
       "    </tr>\n",
       "    <tr>\n",
       "      <th>3</th>\n",
       "      <td>1</td>\n",
       "      <td>47</td>\n",
       "      <td>5.0</td>\n",
       "      <td>964983815</td>\n",
       "      <td>5.0</td>\n",
       "      <td>1</td>\n",
       "      <td>47</td>\n",
       "    </tr>\n",
       "    <tr>\n",
       "      <th>4</th>\n",
       "      <td>1</td>\n",
       "      <td>50</td>\n",
       "      <td>5.0</td>\n",
       "      <td>964982931</td>\n",
       "      <td>5.0</td>\n",
       "      <td>1</td>\n",
       "      <td>50</td>\n",
       "    </tr>\n",
       "  </tbody>\n",
       "</table>\n",
       "</div>"
      ],
      "text/plain": [
       "   userId  movieId  rating  timestamp    y user item\n",
       "0       1        1     4.0  964982703  4.0    1    1\n",
       "1       1        3     4.0  964981247  4.0    1    3\n",
       "2       1        6     4.0  964982224  4.0    1    6\n",
       "3       1       47     5.0  964983815  5.0    1   47\n",
       "4       1       50     5.0  964982931  5.0    1   50"
      ]
     },
     "execution_count": 4,
     "metadata": {},
     "output_type": "execute_result"
    }
   ],
   "source": [
    "ratings = pd.read_csv(path/'ratings.csv')\n",
    "ratings['y'] = ratings.rating.apply(str)\n",
    "ratings['user'] = ratings['userId'].apply(lambda x:str(int(x))).astype('category')\n",
    "ratings['item'] = ratings['movieId'].apply(lambda x:str(int(x))).astype('category')\n",
    "ratings.head()"
   ]
  },
  {
   "cell_type": "markdown",
   "metadata": {},
   "source": [
    "### Mini EDA"
   ]
  },
  {
   "cell_type": "code",
   "execution_count": 7,
   "metadata": {},
   "outputs": [
    {
     "data": {
      "text/plain": [
       "(610, 9724)"
      ]
     },
     "execution_count": 7,
     "metadata": {},
     "output_type": "execute_result"
    }
   ],
   "source": [
    "# (Cantidad de users, Cantidad de películas)\n",
    "ratings.userId.unique().shape[0],ratings.movieId.unique().shape[0]"
   ]
  },
  {
   "cell_type": "code",
   "execution_count": 8,
   "metadata": {},
   "outputs": [
    {
     "data": {
      "text/plain": [
       "4.0    26818\n",
       "3.0    20047\n",
       "5.0    13211\n",
       "3.5    13136\n",
       "4.5     8551\n",
       "2.0     7551\n",
       "2.5     5550\n",
       "1.0     2811\n",
       "1.5     1791\n",
       "0.5     1370\n",
       "Name: rating, dtype: int64"
      ]
     },
     "execution_count": 8,
     "metadata": {},
     "output_type": "execute_result"
    }
   ],
   "source": [
    "ratings.rating.value_counts()"
   ]
  },
  {
   "cell_type": "code",
   "execution_count": 9,
   "metadata": {},
   "outputs": [
    {
     "name": "stdout",
     "output_type": "stream",
     "text": [
      "Cantidad de ratings:  100836\n"
     ]
    }
   ],
   "source": [
    "print(\"Cantidad de ratings: \", ratings.rating.shape[0])"
   ]
  },
  {
   "cell_type": "code",
   "execution_count": 10,
   "metadata": {},
   "outputs": [
    {
     "name": "stdout",
     "output_type": "stream",
     "text": [
      "Accuracy base:  0.2659566028005871\n"
     ]
    }
   ],
   "source": [
    "print(\"Accuracy base: \", 26818 / 100836)"
   ]
  },
  {
   "cell_type": "markdown",
   "metadata": {},
   "source": [
    "### Definición y entrenamiento del modelo"
   ]
  },
  {
   "cell_type": "code",
   "execution_count": 11,
   "metadata": {},
   "outputs": [],
   "source": [
    "# Por default toma user, item y rating en la primer, segunda y tercer columna respectivamente\n",
    "data = CollabDataBunch.from_df(ratings[['userId','movieId','rating']], valid_pct = 0.1)"
   ]
  },
  {
   "cell_type": "code",
   "execution_count": 12,
   "metadata": {},
   "outputs": [
    {
     "data": {
      "text/html": [
       "<table border=\"1\" class=\"dataframe\">\n",
       "  <thead>\n",
       "    <tr style=\"text-align: right;\">\n",
       "      <th>userId</th>\n",
       "      <th>movieId</th>\n",
       "      <th>target</th>\n",
       "    </tr>\n",
       "  </thead>\n",
       "  <tbody>\n",
       "    <tr>\n",
       "      <td>608</td>\n",
       "      <td>1274</td>\n",
       "      <td>4.0</td>\n",
       "    </tr>\n",
       "    <tr>\n",
       "      <td>440</td>\n",
       "      <td>1093</td>\n",
       "      <td>3.0</td>\n",
       "    </tr>\n",
       "    <tr>\n",
       "      <td>448</td>\n",
       "      <td>127319</td>\n",
       "      <td>1.5</td>\n",
       "    </tr>\n",
       "    <tr>\n",
       "      <td>64</td>\n",
       "      <td>355</td>\n",
       "      <td>2.5</td>\n",
       "    </tr>\n",
       "    <tr>\n",
       "      <td>64</td>\n",
       "      <td>3175</td>\n",
       "      <td>3.5</td>\n",
       "    </tr>\n",
       "  </tbody>\n",
       "</table>"
      ],
      "text/plain": [
       "<IPython.core.display.HTML object>"
      ]
     },
     "metadata": {},
     "output_type": "display_data"
    }
   ],
   "source": [
    "# cuando se crea el DataBunch pierdo la columna de timestamp\n",
    "data.show_batch()"
   ]
  },
  {
   "cell_type": "code",
   "execution_count": 13,
   "metadata": {},
   "outputs": [],
   "source": [
    "emb_szs = {\n",
    "  \"userId\": 50,\n",
    "  \"movieId\": 100,\n",
    "}"
   ]
  },
  {
   "cell_type": "code",
   "execution_count": 14,
   "metadata": {},
   "outputs": [],
   "source": [
    "#data = CollabDataBunch.from_df(ratings[['user','movieId','rating']], valid_pct = 0.1)\n",
    "y_range = [0, 5.5]\n",
    "learn_small = collab_learner(data, emb_szs=emb_szs, \n",
    "                             use_nn = True, emb_drop= .3, \n",
    "                             layers = [50, 10, 10], \n",
    "                             y_range=y_range)"
   ]
  },
  {
   "cell_type": "code",
   "execution_count": 15,
   "metadata": {},
   "outputs": [],
   "source": [
    "learn_small.metrics=[r2_score]"
   ]
  },
  {
   "cell_type": "raw",
   "metadata": {},
   "source": [
    "learn_small"
   ]
  },
  {
   "cell_type": "code",
   "execution_count": null,
   "metadata": {},
   "outputs": [],
   "source": []
  },
  {
   "cell_type": "markdown",
   "metadata": {},
   "source": [
    "### Callbacks"
   ]
  },
  {
   "cell_type": "markdown",
   "metadata": {},
   "source": [
    "##### Vemos la estructura de un Callback"
   ]
  },
  {
   "cell_type": "code",
   "execution_count": 20,
   "metadata": {},
   "outputs": [],
   "source": [
    "Callback??"
   ]
  },
  {
   "cell_type": "markdown",
   "metadata": {},
   "source": [
    "##### Vemos el fit"
   ]
  },
  {
   "cell_type": "code",
   "execution_count": 21,
   "metadata": {},
   "outputs": [],
   "source": [
    "fit??"
   ]
  },
  {
   "cell_type": "code",
   "execution_count": 19,
   "metadata": {},
   "outputs": [],
   "source": [
    "loss_batch??"
   ]
  },
  {
   "cell_type": "code",
   "execution_count": 19,
   "metadata": {},
   "outputs": [],
   "source": [
    "callbacks.EarlyStoppingCallback??"
   ]
  },
  {
   "cell_type": "markdown",
   "metadata": {},
   "source": [
    "##### Modificación del Early Stopping"
   ]
  },
  {
   "cell_type": "code",
   "execution_count": 13,
   "metadata": {},
   "outputs": [],
   "source": [
    "class EarlyStoppingFede(callbacks.TrackerCallback):\n",
    "    valid_track = []\n",
    "    \"A `TrackerCallback` that terminates training when monitored quantity stops improving.\"\n",
    "    def __init__(self, learn:Learner, monitor:str='valid_loss', mode:str='auto', min_delta:int=0, patience:int=0):\n",
    "        super().__init__(learn, monitor=monitor, mode=mode)\n",
    "        self.min_delta,self.patience = min_delta,patience\n",
    "        if self.operator == np.less:  self.min_delta *= -1\n",
    "\n",
    "    def on_train_begin(self, **kwargs:Any)->None:\n",
    "        \"Initialize inner arguments.\"\n",
    "        self.wait = 0\n",
    "        self.valid_track = []\n",
    "        super().on_train_begin(**kwargs)\n",
    "\n",
    "    def on_epoch_end(self, epoch, **kwargs:Any)->None:\n",
    "        \"Compare the value monitored to its best score and maybe stop training.\"\n",
    "        current = self.get_monitor_value()\n",
    "        if current is None: return\n",
    "        self.valid_track.append(current)\n",
    "        print(\"\")\n",
    "        print(\"current: \", current)\n",
    "        print(\"current - delta: \", current - self.min_delta)\n",
    "        print(\"best: \", self.best)\n",
    "        if self.operator(current - self.min_delta, self.best):\n",
    "            self.best,self.wait = current,0\n",
    "            print(\"Esto viene bien...\")\n",
    "        else:\n",
    "            self.wait += 1\n",
    "            print(\"Hmmmm... sigamos un poco...\")\n",
    "            if self.wait > self.patience:\n",
    "                print(f'Epoch {epoch}: early stopping')\n",
    "                print(\"Bueno, ya!\")\n",
    "                return {\"stop_training\":True}\n",
    "            \n",
    "    def on_train_end(self, **kwargs:Any)->None:\n",
    "        \"Useful for cleaning up things and saving files/models.\"\n",
    "        print(\" \")\n",
    "        plt.plot(self.valid_track)\n",
    "        plt.grid()\n",
    "        plt.xlabel(\"Epoch\")\n",
    "        plt.ylabel(\"Validation loss\")"
   ]
  },
  {
   "cell_type": "markdown",
   "metadata": {},
   "source": [
    "##### Custom Callback"
   ]
  },
  {
   "cell_type": "code",
   "execution_count": 20,
   "metadata": {},
   "outputs": [],
   "source": [
    "class TestCallback(Callback):\n",
    "    def __init__(self, learn: Learner):\n",
    "        super().__init__()\n",
    "        self.learn = learn\n",
    "    \n",
    "    def on_train_begin(self, **kwargs:Any)->None:\n",
    "        super().on_train_begin(**kwargs)\n",
    "        self.n_iters = 0\n",
    "        #pdb.set_trace()\n",
    "        \n",
    "    def on_epoch_end(self, epoch, **kwargs:Any)->None:\n",
    "        self.n_iters += 1\n",
    "        print(\"testCb: Fin de la epoch \" ,self.n_iters)\n",
    "        if self.n_iters>=10: self.learn.stop = True\n",
    "            \n",
    "    def on_train_end(self, **kwargs:Any)->None:\n",
    "        print(\" \")\n",
    "        print(\"TestCallBack: ¡Gracias por todo! Cantidad de epochs corridas: \", self.n_iters)"
   ]
  },
  {
   "cell_type": "code",
   "execution_count": 21,
   "metadata": {},
   "outputs": [],
   "source": [
    "testCb = TestCallback(learn = learn_small)\n",
    "earlyFede = EarlyStoppingFede(learn_small, min_delta = 0.005, patience = 3)"
   ]
  },
  {
   "cell_type": "markdown",
   "metadata": {},
   "source": [
    "## Modelo de Red Neuronal Collaborative Filtering"
   ]
  },
  {
   "cell_type": "markdown",
   "metadata": {},
   "source": [
    "##### Entrenamos el modelo"
   ]
  },
  {
   "cell_type": "code",
   "execution_count": 22,
   "metadata": {},
   "outputs": [
    {
     "data": {
      "text/html": [],
      "text/plain": [
       "<IPython.core.display.HTML object>"
      ]
     },
     "metadata": {},
     "output_type": "display_data"
    },
    {
     "name": "stdout",
     "output_type": "stream",
     "text": [
      "LR Finder is complete, type {learner_name}.recorder.plot() to see the graph.\n",
      "Min numerical gradient: 6.31E-07\n",
      "Min loss divided by 10: 6.31E-02\n"
     ]
    },
    {
     "data": {
      "image/png": "[encoded data removed]",
      "text/plain": [
       "<Figure size 432x288 with 1 Axes>"
      ]
     },
     "metadata": {
      "needs_background": "light"
     },
     "output_type": "display_data"
    }
   ],
   "source": [
    "learn_small.lr_find()\n",
    "learn_small.recorder.plot(suggestion=True)"
   ]
  },
  {
   "cell_type": "code",
   "execution_count": 23,
   "metadata": {
    "scrolled": false
   },
   "outputs": [
    {
     "data": {
      "text/html": [
       "\n",
       "    <div>\n",
       "        <style>\n",
       "            /* Turns off some styling */\n",
       "            progress {\n",
       "                /* gets rid of default border in Firefox and Opera. */\n",
       "                border: none;\n",
       "                /* Needs to be in here for Safari polyfill so background images work as expected. */\n",
       "                background-size: auto;\n",
       "            }\n",
       "            .progress-bar-interrupted, .progress-bar-interrupted::-webkit-progress-bar {\n",
       "                background: #F44336;\n",
       "            }\n",
       "        </style>\n",
       "      <progress value='7' class='' max='20', style='width:300px; height:20px; vertical-align: middle;'></progress>\n",
       "      35.00% [7/20 03:53<07:13]\n",
       "    </div>\n",
       "    \n",
       "<table border=\"1\" class=\"dataframe\">\n",
       "  <thead>\n",
       "    <tr style=\"text-align: left;\">\n",
       "      <th>epoch</th>\n",
       "      <th>train_loss</th>\n",
       "      <th>valid_loss</th>\n",
       "      <th>r2_score</th>\n",
       "      <th>time</th>\n",
       "    </tr>\n",
       "  </thead>\n",
       "  <tbody>\n",
       "    <tr>\n",
       "      <td>0</td>\n",
       "      <td>0.851832</td>\n",
       "      <td>0.800809</td>\n",
       "      <td>0.240727</td>\n",
       "      <td>00:19</td>\n",
       "    </tr>\n",
       "    <tr>\n",
       "      <td>1</td>\n",
       "      <td>0.816522</td>\n",
       "      <td>0.772397</td>\n",
       "      <td>0.266489</td>\n",
       "      <td>00:27</td>\n",
       "    </tr>\n",
       "    <tr>\n",
       "      <td>2</td>\n",
       "      <td>0.786619</td>\n",
       "      <td>0.772206</td>\n",
       "      <td>0.269429</td>\n",
       "      <td>00:33</td>\n",
       "    </tr>\n",
       "    <tr>\n",
       "      <td>3</td>\n",
       "      <td>0.738060</td>\n",
       "      <td>0.764302</td>\n",
       "      <td>0.274771</td>\n",
       "      <td>00:35</td>\n",
       "    </tr>\n",
       "    <tr>\n",
       "      <td>4</td>\n",
       "      <td>0.753731</td>\n",
       "      <td>0.806135</td>\n",
       "      <td>0.231747</td>\n",
       "      <td>00:37</td>\n",
       "    </tr>\n",
       "    <tr>\n",
       "      <td>5</td>\n",
       "      <td>0.779841</td>\n",
       "      <td>0.788304</td>\n",
       "      <td>0.253358</td>\n",
       "      <td>00:38</td>\n",
       "    </tr>\n",
       "    <tr>\n",
       "      <td>6</td>\n",
       "      <td>0.804320</td>\n",
       "      <td>0.764049</td>\n",
       "      <td>0.273678</td>\n",
       "      <td>00:41</td>\n",
       "    </tr>\n",
       "  </tbody>\n",
       "</table><p>\n",
       "\n",
       "    <div>\n",
       "        <style>\n",
       "            /* Turns off some styling */\n",
       "            progress {\n",
       "                /* gets rid of default border in Firefox and Opera. */\n",
       "                border: none;\n",
       "                /* Needs to be in here for Safari polyfill so background images work as expected. */\n",
       "                background-size: auto;\n",
       "            }\n",
       "            .progress-bar-interrupted, .progress-bar-interrupted::-webkit-progress-bar {\n",
       "                background: #F44336;\n",
       "            }\n",
       "        </style>\n",
       "      <progress value='158' class='' max='158', style='width:300px; height:20px; vertical-align: middle;'></progress>\n",
       "      100.00% [158/158 00:00<00:00]\n",
       "    </div>\n",
       "    "
      ],
      "text/plain": [
       "<IPython.core.display.HTML object>"
      ]
     },
     "metadata": {},
     "output_type": "display_data"
    },
    {
     "name": "stdout",
     "output_type": "stream",
     "text": [
      "\n",
      "current:  0.8008087\n",
      "current - delta:  0.8058087277412415\n",
      "best:  inf\n",
      "Esto viene bien...\n",
      "testCb: Fin de la epoch  1\n",
      "\n",
      "current:  0.77239716\n",
      "current - delta:  0.7773971605300903\n",
      "best:  0.8008087\n",
      "Esto viene bien...\n",
      "testCb: Fin de la epoch  2\n",
      "\n",
      "current:  0.772206\n",
      "current - delta:  0.7772060084342957\n",
      "best:  0.77239716\n",
      "Hmmmm... sigamos un poco...\n",
      "testCb: Fin de la epoch  3\n",
      "\n",
      "current:  0.76430184\n",
      "current - delta:  0.7693018364906311\n",
      "best:  0.77239716\n",
      "Esto viene bien...\n",
      "testCb: Fin de la epoch  4\n",
      "\n",
      "current:  0.8061351\n",
      "current - delta:  0.8111351180076599\n",
      "best:  0.76430184\n",
      "Hmmmm... sigamos un poco...\n",
      "testCb: Fin de la epoch  5\n",
      "\n",
      "current:  0.78830373\n",
      "current - delta:  0.7933037328720093\n",
      "best:  0.76430184\n",
      "Hmmmm... sigamos un poco...\n",
      "testCb: Fin de la epoch  6\n",
      "\n",
      "current:  0.76404935\n",
      "current - delta:  0.7690493512153626\n",
      "best:  0.76430184\n",
      "Hmmmm... sigamos un poco...\n",
      "testCb: Fin de la epoch  7\n",
      "\n",
      "current:  0.7708403\n",
      "current - delta:  0.7758402872085571\n",
      "best:  0.76430184\n",
      "Hmmmm... sigamos un poco...\n",
      "Epoch 7: early stopping\n",
      "Bueno, ya!\n",
      "testCb: Fin de la epoch  8\n",
      " \n",
      " \n",
      "TestCallBack: ¡Gracias por todo! Cantidad de epochs corridas:  8\n"
     ]
    },
    {
     "data": {
      "image/png": "[encoded data removed]",
      "text/plain": [
       "<Figure size 432x288 with 1 Axes>"
      ]
     },
     "metadata": {
      "needs_background": "light"
     },
     "output_type": "display_data"
    }
   ],
   "source": [
    "learn_small.fit_one_cycle(20, 6.31E-02, callbacks = [earlyFede, testCb])"
   ]
  },
  {
   "cell_type": "markdown",
   "metadata": {},
   "source": [
    "##### Predicciones"
   ]
  },
  {
   "cell_type": "code",
   "execution_count": 24,
   "metadata": {},
   "outputs": [],
   "source": [
    "predicciones_small = learn_small.get_preds(ds_type=DatasetType.Valid)"
   ]
  },
  {
   "cell_type": "code",
   "execution_count": 25,
   "metadata": {},
   "outputs": [],
   "source": [
    "def create_pred_df(valid_ds, predicciones):\n",
    "    aux = []\n",
    "    count = 0\n",
    "    for user_movie,valor,predic in zip(data.valid_ds.x,\n",
    "                                       data.valid_ds.y,\n",
    "                                       predicciones[0].tolist()):\n",
    "        userId = str(user_movie).split(\";\")[0][7:]\n",
    "        movieId = str(user_movie).split(\";\")[1][9:]\n",
    "        aux.append([userId, movieId, float(str(valor)), predic[0]])\n",
    "        count = count +1\n",
    "    df = pd.DataFrame(aux)\n",
    "    df.columns = [\"userId\", \"movieId\", \"rating\", \"pred\"]\n",
    "    return df"
   ]
  },
  {
   "cell_type": "code",
   "execution_count": 26,
   "metadata": {},
   "outputs": [
    {
     "data": {
      "text/html": [
       "<div>\n",
       "<style scoped>\n",
       "    .dataframe tbody tr th:only-of-type {\n",
       "        vertical-align: middle;\n",
       "    }\n",
       "\n",
       "    .dataframe tbody tr th {\n",
       "        vertical-align: top;\n",
       "    }\n",
       "\n",
       "    .dataframe thead th {\n",
       "        text-align: right;\n",
       "    }\n",
       "</style>\n",
       "<table border=\"1\" class=\"dataframe\">\n",
       "  <thead>\n",
       "    <tr style=\"text-align: right;\">\n",
       "      <th></th>\n",
       "      <th>userId</th>\n",
       "      <th>movieId</th>\n",
       "      <th>rating</th>\n",
       "      <th>pred</th>\n",
       "      <th>error</th>\n",
       "    </tr>\n",
       "  </thead>\n",
       "  <tbody>\n",
       "    <tr>\n",
       "      <th>0</th>\n",
       "      <td>610</td>\n",
       "      <td>5377</td>\n",
       "      <td>3.5</td>\n",
       "      <td>4.011244</td>\n",
       "      <td>0.511244</td>\n",
       "    </tr>\n",
       "    <tr>\n",
       "      <th>1</th>\n",
       "      <td>474</td>\n",
       "      <td>4002</td>\n",
       "      <td>3.0</td>\n",
       "      <td>3.479929</td>\n",
       "      <td>0.479929</td>\n",
       "    </tr>\n",
       "    <tr>\n",
       "      <th>2</th>\n",
       "      <td>140</td>\n",
       "      <td>47099</td>\n",
       "      <td>3.5</td>\n",
       "      <td>4.060600</td>\n",
       "      <td>0.560600</td>\n",
       "    </tr>\n",
       "    <tr>\n",
       "      <th>3</th>\n",
       "      <td>489</td>\n",
       "      <td>3408</td>\n",
       "      <td>3.0</td>\n",
       "      <td>3.113737</td>\n",
       "      <td>0.113737</td>\n",
       "    </tr>\n",
       "    <tr>\n",
       "      <th>4</th>\n",
       "      <td>599</td>\n",
       "      <td>3250</td>\n",
       "      <td>2.0</td>\n",
       "      <td>2.709454</td>\n",
       "      <td>0.709454</td>\n",
       "    </tr>\n",
       "  </tbody>\n",
       "</table>\n",
       "</div>"
      ],
      "text/plain": [
       "  userId movieId  rating      pred     error\n",
       "0    610    5377     3.5  4.011244  0.511244\n",
       "1    474    4002     3.0  3.479929  0.479929\n",
       "2    140   47099     3.5  4.060600  0.560600\n",
       "3    489    3408     3.0  3.113737  0.113737\n",
       "4    599    3250     2.0  2.709454  0.709454"
      ]
     },
     "execution_count": 26,
     "metadata": {},
     "output_type": "execute_result"
    }
   ],
   "source": [
    "preds_df_small = create_pred_df(data.valid_ds, predicciones_small)\n",
    "#df['c'] = df.apply(lambda row: row.a + row.b, axis=1)\n",
    "preds_df_small['error'] = preds_df_small.apply(lambda row: row.pred - row.rating, axis=1)\n",
    "preds_df_small.head()"
   ]
  },
  {
   "cell_type": "code",
   "execution_count": 27,
   "metadata": {},
   "outputs": [],
   "source": [
    "def errors_acum(df, th, inverse = False):\n",
    "    if (inverse):\n",
    "        return len(df[df['error']>th])+len(df[df['error']<-th])\n",
    "    return len(df[(df['error']<=th)&(df['error']>=-th)])"
   ]
  },
  {
   "cell_type": "code",
   "execution_count": 28,
   "metadata": {},
   "outputs": [],
   "source": [
    "def errors(acums, l):\n",
    "    stats = {\n",
    "        '<0.25': acums['<0.25']*100//l,\n",
    "        '<0.5': (acums['<0.5']-acums['<0.25'])*100//l,\n",
    "        '<1': (acums['<1']-acums['<0.5'])*100//l,\n",
    "        '<1.5': (acums['<1.5']-acums['<1'])*100//l,\n",
    "        '<2': (acums['<2']-acums['<1.5'])*100//l,\n",
    "        '>2': acums['>2']*100//l\n",
    "    }\n",
    "    return stats"
   ]
  },
  {
   "cell_type": "code",
   "execution_count": 29,
   "metadata": {},
   "outputs": [],
   "source": [
    "acums = {\n",
    "    '<0.25': errors_acum(preds_df_small, 0.25),\n",
    "    '<0.5': errors_acum(preds_df_small, 0.5),\n",
    "    '<1': errors_acum(preds_df_small, 1),\n",
    "    '<1.5': errors_acum(preds_df_small, 1.5),\n",
    "    '<2': errors_acum(preds_df_small, 2),\n",
    "    '>2': errors_acum(preds_df_small,2,inverse=True)\n",
    "}\n",
    "stats = errors(acums, len(preds_df_small))"
   ]
  },
  {
   "cell_type": "code",
   "execution_count": 62,
   "metadata": {},
   "outputs": [
    {
     "name": "stdout",
     "output_type": "stream",
     "text": [
      "{'<0.25': 22, '<0.5': 21, '<1': 30, '<1.5': 16, '<2': 6, '>2': 3}\n"
     ]
    },
    {
     "data": {
      "image/png": "[encoded data removed]",
      "text/plain": [
       "<Figure size 432x288 with 1 Axes>"
      ]
     },
     "metadata": {
      "needs_background": "light"
     },
     "output_type": "display_data"
    }
   ],
   "source": [
    "import matplotlib.pyplot as plt\n",
    "\n",
    "plt.bar(range(len(stats)), list(stats.values()), align='center')\n",
    "plt.xticks(range(len(stats)), list(stats.keys()))\n",
    "plt.xlabel('Error')\n",
    "plt.grid()\n",
    "plt.ylabel('%')\n",
    "print(stats)"
   ]
  },
  {
   "cell_type": "code",
   "execution_count": null,
   "metadata": {},
   "outputs": [],
   "source": []
  },
  {
   "cell_type": "markdown",
   "metadata": {},
   "source": [
    "## Modelo de Red Neuronal Collaborative Filtering"
   ]
  },
  {
   "cell_type": "code",
   "execution_count": 76,
   "metadata": {},
   "outputs": [],
   "source": [
    "#me armo un validation set. Llamo \"lista\" a los índices del validation set\n",
    "\n",
    "#ratings.shape[0] es la cantidad de datos\n",
    "\n",
    "lista = list(ratings.sample(int(ratings.shape[0]*.10)).reset_index()['index'])"
   ]
  },
  {
   "cell_type": "code",
   "execution_count": 77,
   "metadata": {},
   "outputs": [],
   "source": [
    "data_tab = TabularDataBunch.from_df('.',ratings[['user','item','y']],\n",
    "                 cat_names=['user','item'],\n",
    "                 dep_var='y', valid_idx = lista)"
   ]
  },
  {
   "cell_type": "code",
   "execution_count": 78,
   "metadata": {},
   "outputs": [
    {
     "data": {
      "text/html": [
       "<table border=\"1\" class=\"dataframe\">\n",
       "  <thead>\n",
       "    <tr style=\"text-align: right;\">\n",
       "      <th>user</th>\n",
       "      <th>item</th>\n",
       "      <th>target</th>\n",
       "    </tr>\n",
       "  </thead>\n",
       "  <tbody>\n",
       "    <tr>\n",
       "      <td>516</td>\n",
       "      <td>4291</td>\n",
       "      <td>3.0</td>\n",
       "    </tr>\n",
       "    <tr>\n",
       "      <td>125</td>\n",
       "      <td>223</td>\n",
       "      <td>5.0</td>\n",
       "    </tr>\n",
       "    <tr>\n",
       "      <td>357</td>\n",
       "      <td>3549</td>\n",
       "      <td>4.5</td>\n",
       "    </tr>\n",
       "    <tr>\n",
       "      <td>522</td>\n",
       "      <td>1371</td>\n",
       "      <td>4.0</td>\n",
       "    </tr>\n",
       "    <tr>\n",
       "      <td>332</td>\n",
       "      <td>92938</td>\n",
       "      <td>2.0</td>\n",
       "    </tr>\n",
       "  </tbody>\n",
       "</table>"
      ],
      "text/plain": [
       "<IPython.core.display.HTML object>"
      ]
     },
     "metadata": {},
     "output_type": "display_data"
    }
   ],
   "source": [
    "data_tab.show_batch()"
   ]
  },
  {
   "cell_type": "markdown",
   "metadata": {},
   "source": [
    "##### Definimos una red neuronal con la misma cantidad de capas y tamaño de embeddings pero tabular"
   ]
  },
  {
   "cell_type": "code",
   "execution_count": 79,
   "metadata": {},
   "outputs": [],
   "source": [
    "emb_szs_str = {\n",
    "  \"user\": 50,\n",
    "  \"item\": 100,\n",
    "}"
   ]
  },
  {
   "cell_type": "code",
   "execution_count": 80,
   "metadata": {},
   "outputs": [],
   "source": [
    "learn_tab = tabular_learner(data_tab, layers=[50, 10, 10], emb_szs=emb_szs_str, metrics=accuracy)"
   ]
  },
  {
   "cell_type": "code",
   "execution_count": 81,
   "metadata": {},
   "outputs": [
    {
     "data": {
      "text/plain": [
       "TabularModel(\n",
       "  (embeds): ModuleList(\n",
       "    (0): Embedding(611, 50)\n",
       "    (1): Embedding(9725, 100)\n",
       "  )\n",
       "  (emb_drop): Dropout(p=0.0, inplace=False)\n",
       "  (bn_cont): BatchNorm1d(0, eps=1e-05, momentum=0.1, affine=True, track_running_stats=True)\n",
       "  (layers): Sequential(\n",
       "    (0): Linear(in_features=150, out_features=50, bias=True)\n",
       "    (1): ReLU(inplace=True)\n",
       "    (2): BatchNorm1d(50, eps=1e-05, momentum=0.1, affine=True, track_running_stats=True)\n",
       "    (3): Linear(in_features=50, out_features=10, bias=True)\n",
       "    (4): ReLU(inplace=True)\n",
       "    (5): BatchNorm1d(10, eps=1e-05, momentum=0.1, affine=True, track_running_stats=True)\n",
       "    (6): Linear(in_features=10, out_features=10, bias=True)\n",
       "    (7): ReLU(inplace=True)\n",
       "    (8): BatchNorm1d(10, eps=1e-05, momentum=0.1, affine=True, track_running_stats=True)\n",
       "    (9): Linear(in_features=10, out_features=10, bias=True)\n",
       "  )\n",
       ")"
      ]
     },
     "execution_count": 81,
     "metadata": {},
     "output_type": "execute_result"
    }
   ],
   "source": [
    "learn_tab.model"
   ]
  },
  {
   "cell_type": "code",
   "execution_count": 82,
   "metadata": {},
   "outputs": [
    {
     "data": {
      "text/html": [],
      "text/plain": [
       "<IPython.core.display.HTML object>"
      ]
     },
     "metadata": {},
     "output_type": "display_data"
    },
    {
     "name": "stdout",
     "output_type": "stream",
     "text": [
      "LR Finder is complete, type {learner_name}.recorder.plot() to see the graph.\n",
      "Min numerical gradient: 3.02E-01\n",
      "Min loss divided by 10: 1.32E-01\n"
     ]
    },
    {
     "data": {
      "image/png": "[encoded data removed]",
      "text/plain": [
       "<Figure size 432x288 with 1 Axes>"
      ]
     },
     "metadata": {
      "needs_background": "light"
     },
     "output_type": "display_data"
    }
   ],
   "source": [
    "learn_tab.lr_find()\n",
    "learn_tab.recorder.plot(suggestion=True)"
   ]
  },
  {
   "cell_type": "markdown",
   "metadata": {},
   "source": [
    "##### Instanciamos otro early stopping pero esta vez para que monitoree el accuracy. Si no aclaramos nada va a monitorear el valid loss, que en este caso es Cross Entropy"
   ]
  },
  {
   "cell_type": "code",
   "execution_count": 83,
   "metadata": {},
   "outputs": [],
   "source": [
    "earlyFede_tab = EarlyStoppingFede(learn_tab, min_delta = 0.0005, patience = 3, monitor = \"accuracy\")"
   ]
  },
  {
   "cell_type": "code",
   "execution_count": 85,
   "metadata": {
    "scrolled": false
   },
   "outputs": [
    {
     "data": {
      "text/html": [
       "\n",
       "    <div>\n",
       "        <style>\n",
       "            /* Turns off some styling */\n",
       "            progress {\n",
       "                /* gets rid of default border in Firefox and Opera. */\n",
       "                border: none;\n",
       "                /* Needs to be in here for Safari polyfill so background images work as expected. */\n",
       "                background-size: auto;\n",
       "            }\n",
       "            .progress-bar-interrupted, .progress-bar-interrupted::-webkit-progress-bar {\n",
       "                background: #F44336;\n",
       "            }\n",
       "        </style>\n",
       "      <progress value='7' class='' max='20', style='width:300px; height:20px; vertical-align: middle;'></progress>\n",
       "      35.00% [7/20 04:06<07:37]\n",
       "    </div>\n",
       "    \n",
       "<table border=\"1\" class=\"dataframe\">\n",
       "  <thead>\n",
       "    <tr style=\"text-align: left;\">\n",
       "      <th>epoch</th>\n",
       "      <th>train_loss</th>\n",
       "      <th>valid_loss</th>\n",
       "      <th>accuracy</th>\n",
       "      <th>time</th>\n",
       "    </tr>\n",
       "  </thead>\n",
       "  <tbody>\n",
       "    <tr>\n",
       "      <td>0</td>\n",
       "      <td>1.583642</td>\n",
       "      <td>1.661954</td>\n",
       "      <td>0.337697</td>\n",
       "      <td>00:30</td>\n",
       "    </tr>\n",
       "    <tr>\n",
       "      <td>1</td>\n",
       "      <td>1.583573</td>\n",
       "      <td>1.646310</td>\n",
       "      <td>0.343152</td>\n",
       "      <td>00:31</td>\n",
       "    </tr>\n",
       "    <tr>\n",
       "      <td>2</td>\n",
       "      <td>1.528782</td>\n",
       "      <td>1.639199</td>\n",
       "      <td>0.338590</td>\n",
       "      <td>00:31</td>\n",
       "    </tr>\n",
       "    <tr>\n",
       "      <td>3</td>\n",
       "      <td>1.527014</td>\n",
       "      <td>1.631655</td>\n",
       "      <td>0.352375</td>\n",
       "      <td>00:40</td>\n",
       "    </tr>\n",
       "    <tr>\n",
       "      <td>4</td>\n",
       "      <td>1.526486</td>\n",
       "      <td>1.630582</td>\n",
       "      <td>0.345730</td>\n",
       "      <td>00:34</td>\n",
       "    </tr>\n",
       "    <tr>\n",
       "      <td>5</td>\n",
       "      <td>1.492037</td>\n",
       "      <td>1.662907</td>\n",
       "      <td>0.343945</td>\n",
       "      <td>00:40</td>\n",
       "    </tr>\n",
       "    <tr>\n",
       "      <td>6</td>\n",
       "      <td>1.479680</td>\n",
       "      <td>1.668861</td>\n",
       "      <td>0.345532</td>\n",
       "      <td>00:37</td>\n",
       "    </tr>\n",
       "  </tbody>\n",
       "</table><p>\n",
       "\n",
       "    <div>\n",
       "        <style>\n",
       "            /* Turns off some styling */\n",
       "            progress {\n",
       "                /* gets rid of default border in Firefox and Opera. */\n",
       "                border: none;\n",
       "                /* Needs to be in here for Safari polyfill so background images work as expected. */\n",
       "                background-size: auto;\n",
       "            }\n",
       "            .progress-bar-interrupted, .progress-bar-interrupted::-webkit-progress-bar {\n",
       "                background: #F44336;\n",
       "            }\n",
       "        </style>\n",
       "      <progress value='158' class='' max='158', style='width:300px; height:20px; vertical-align: middle;'></progress>\n",
       "      100.00% [158/158 00:00<00:00]\n",
       "    </div>\n",
       "    "
      ],
      "text/plain": [
       "<IPython.core.display.HTML object>"
      ]
     },
     "metadata": {},
     "output_type": "display_data"
    },
    {
     "name": "stdout",
     "output_type": "stream",
     "text": [
      "\n",
      "current:  tensor(0.3377)\n",
      "current - delta:  tensor(0.3372)\n",
      "best:  -inf\n",
      "Esto viene bien...\n",
      "testCb: Fin de la epoch  1\n",
      "\n",
      "current:  tensor(0.3432)\n",
      "current - delta:  tensor(0.3427)\n",
      "best:  tensor(0.3377)\n",
      "Esto viene bien...\n",
      "testCb: Fin de la epoch  2\n",
      "\n",
      "current:  tensor(0.3386)\n",
      "current - delta:  tensor(0.3381)\n",
      "best:  tensor(0.3432)\n",
      "Hmmmm... sigamos un poco...\n",
      "testCb: Fin de la epoch  3\n",
      "\n",
      "current:  tensor(0.3524)\n",
      "current - delta:  tensor(0.3519)\n",
      "best:  tensor(0.3432)\n",
      "Esto viene bien...\n",
      "testCb: Fin de la epoch  4\n",
      "\n",
      "current:  tensor(0.3457)\n",
      "current - delta:  tensor(0.3452)\n",
      "best:  tensor(0.3524)\n",
      "Hmmmm... sigamos un poco...\n",
      "testCb: Fin de la epoch  5\n",
      "\n",
      "current:  tensor(0.3439)\n",
      "current - delta:  tensor(0.3434)\n",
      "best:  tensor(0.3524)\n",
      "Hmmmm... sigamos un poco...\n",
      "testCb: Fin de la epoch  6\n",
      "\n",
      "current:  tensor(0.3455)\n",
      "current - delta:  tensor(0.3450)\n",
      "best:  tensor(0.3524)\n",
      "Hmmmm... sigamos un poco...\n",
      "testCb: Fin de la epoch  7\n",
      "\n",
      "current:  tensor(0.3461)\n",
      "current - delta:  tensor(0.3456)\n",
      "best:  tensor(0.3524)\n",
      "Hmmmm... sigamos un poco...\n",
      "Epoch 7: early stopping\n",
      "Bueno, ya!\n",
      "testCb: Fin de la epoch  8\n",
      " \n",
      " \n",
      "TestCallBack: ¡Gracias por todo! Cantidad de epochs corridas:  8\n"
     ]
    },
    {
     "data": {
      "image/png": "[encoded data removed]",
      "text/plain": [
       "<Figure size 432x288 with 1 Axes>"
      ]
     },
     "metadata": {
      "needs_background": "light"
     },
     "output_type": "display_data"
    }
   ],
   "source": [
    "learn_tab.fit_one_cycle(20, 1.32E-02, callbacks = [earlyFede_tab, testCb])"
   ]
  },
  {
   "cell_type": "code",
   "execution_count": 151,
   "metadata": {},
   "outputs": [],
   "source": [
    "learn_tab.save('Learn_tabWeights')"
   ]
  },
  {
   "cell_type": "code",
   "execution_count": 145,
   "metadata": {},
   "outputs": [
    {
     "name": "stdout",
     "output_type": "stream",
     "text": [
      "0\n"
     ]
    }
   ],
   "source": [
    "n=0\n",
    "q=0\n",
    "x,y = learn_tab.get_preds(ds_type=DatasetType.Valid)\n",
    "preds_df_tab = pd.DataFrame(columns=['rating', 'pred', 'error'])\n",
    "\n",
    "for k,u in enumerate(x.argmax(dim=1)):\n",
    "    predigo,era = learn_tab.data.classes[u],learn_tab.data.classes[y[k].item()]\n",
    "    #print(predigo,era)\n",
    "    error=abs(float(predigo)-float(era))\n",
    "    aux = [era, predigo, error]\n",
    "    #print(aux)\n",
    "    preds_df_tab.loc[k]=aux\n",
    "    #q+=(float(predigo)-float(era))*(float(predigo)-float(era))\n",
    "#n=n/y.shape[0]\n",
    "#q=q/y.shape[0]\n",
    "print(n)\n",
    "#print(q)"
   ]
  },
  {
   "cell_type": "code",
   "execution_count": 161,
   "metadata": {},
   "outputs": [
    {
     "data": {
      "text/html": [
       "<div>\n",
       "<style scoped>\n",
       "    .dataframe tbody tr th:only-of-type {\n",
       "        vertical-align: middle;\n",
       "    }\n",
       "\n",
       "    .dataframe tbody tr th {\n",
       "        vertical-align: top;\n",
       "    }\n",
       "\n",
       "    .dataframe thead th {\n",
       "        text-align: right;\n",
       "    }\n",
       "</style>\n",
       "<table border=\"1\" class=\"dataframe\">\n",
       "  <thead>\n",
       "    <tr style=\"text-align: right;\">\n",
       "      <th></th>\n",
       "      <th>rating</th>\n",
       "      <th>pred</th>\n",
       "      <th>error</th>\n",
       "    </tr>\n",
       "  </thead>\n",
       "  <tbody>\n",
       "    <tr>\n",
       "      <th>0</th>\n",
       "      <td>2.0</td>\n",
       "      <td>2.0</td>\n",
       "      <td>0.0</td>\n",
       "    </tr>\n",
       "    <tr>\n",
       "      <th>1</th>\n",
       "      <td>4.0</td>\n",
       "      <td>5.0</td>\n",
       "      <td>1.0</td>\n",
       "    </tr>\n",
       "    <tr>\n",
       "      <th>2</th>\n",
       "      <td>5.0</td>\n",
       "      <td>5.0</td>\n",
       "      <td>0.0</td>\n",
       "    </tr>\n",
       "    <tr>\n",
       "      <th>3</th>\n",
       "      <td>3.5</td>\n",
       "      <td>2.0</td>\n",
       "      <td>1.5</td>\n",
       "    </tr>\n",
       "    <tr>\n",
       "      <th>4</th>\n",
       "      <td>4.5</td>\n",
       "      <td>4.0</td>\n",
       "      <td>0.5</td>\n",
       "    </tr>\n",
       "  </tbody>\n",
       "</table>\n",
       "</div>"
      ],
      "text/plain": [
       "  rating pred  error\n",
       "0    2.0  2.0    0.0\n",
       "1    4.0  5.0    1.0\n",
       "2    5.0  5.0    0.0\n",
       "3    3.5  2.0    1.5\n",
       "4    4.5  4.0    0.5"
      ]
     },
     "execution_count": 161,
     "metadata": {},
     "output_type": "execute_result"
    }
   ],
   "source": [
    "preds_df_tab.head()"
   ]
  },
  {
   "cell_type": "code",
   "execution_count": 162,
   "metadata": {},
   "outputs": [],
   "source": [
    "acums_tab = {\n",
    "    '<0.25': errors_acum(preds_df_tab, 0.26),\n",
    "    '<0.5': errors_acum(preds_df_tab, 0.51),\n",
    "    '<1': errors_acum(preds_df_tab, 1.1),\n",
    "    '<1.5': errors_acum(preds_df_tab, 1.51),\n",
    "    '<2': errors_acum(preds_df_tab, 2.1),\n",
    "    '>2': errors_acum(preds_df_tab,2,inverse=True)\n",
    "}\n",
    "stats_tab = errors(acums_tab, len(preds_df_tab))"
   ]
  },
  {
   "cell_type": "code",
   "execution_count": 163,
   "metadata": {},
   "outputs": [
    {
     "data": {
      "text/plain": [
       "{'<0.25': 34, '<0.5': 25, '<1': 26, '<1.5': 4, '<2': 5, '>2': 3}"
      ]
     },
     "execution_count": 163,
     "metadata": {},
     "output_type": "execute_result"
    }
   ],
   "source": [
    "stats_tab"
   ]
  },
  {
   "cell_type": "code",
   "execution_count": 164,
   "metadata": {},
   "outputs": [
    {
     "name": "stdout",
     "output_type": "stream",
     "text": [
      "{'<0.25': 34, '<0.5': 25, '<1': 26, '<1.5': 4, '<2': 5, '>2': 3}\n"
     ]
    },
    {
     "data": {
      "image/png": "[encoded data removed]",
      "text/plain": [
       "<Figure size 432x288 with 1 Axes>"
      ]
     },
     "metadata": {
      "needs_background": "light"
     },
     "output_type": "display_data"
    }
   ],
   "source": [
    "import matplotlib.pyplot as plt\n",
    "\n",
    "plt.bar(range(len(stats_tab)), list(stats_tab.values()), align='center')\n",
    "plt.xticks(range(len(stats_tab)), list(stats_tab.keys()))\n",
    "plt.xlabel('Error')\n",
    "plt.grid()\n",
    "plt.ylabel('%')\n",
    "print(stats_tab)"
   ]
  }
 ],
 "metadata": {
  "kernelspec": {
   "display_name": "Python 3",
   "language": "python",
   "name": "python3"
  },
  "language_info": {
   "codemirror_mode": {
    "name": "ipython",
    "version": 3
   },
   "file_extension": ".py",
   "mimetype": "text/x-python",
   "name": "python",
   "nbconvert_exporter": "python",
   "pygments_lexer": "ipython3",
   "version": "3.7.3"
  }
 },
 "nbformat": 4,
 "nbformat_minor": 2
}
