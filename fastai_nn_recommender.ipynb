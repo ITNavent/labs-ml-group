{
 "cells": [
  {
   "cell_type": "code",
   "execution_count": 1,
   "metadata": {},
   "outputs": [],
   "source": [
    "%reload_ext autoreload\n",
    "%autoreload 2\n",
    "%matplotlib inline"
   ]
  },
  {
   "cell_type": "code",
   "execution_count": 2,
   "metadata": {},
   "outputs": [],
   "source": [
    "from fastai import *\n",
    "from fastai.collab import *\n",
    "from fastai.tabular import *\n",
    "\n",
    "from fastai.vision import *\n",
    "import pandas as pd\n",
    "import numpy as np\n",
    "\n",
    "import pdb\n",
    "import torch"
   ]
  },
  {
   "cell_type": "markdown",
   "metadata": {},
   "source": [
    "### Data set"
   ]
  },
  {
   "cell_type": "code",
   "execution_count": 3,
   "metadata": {},
   "outputs": [
    {
     "data": {
      "text/plain": [
       "[PosixPath('/home/fvadell/trabajo/recs/ml-latest-small/links.csv'),\n",
       " PosixPath('/home/fvadell/trabajo/recs/ml-latest-small/README.txt'),\n",
       " PosixPath('/home/fvadell/trabajo/recs/ml-latest-small/ratings.csv'),\n",
       " PosixPath('/home/fvadell/trabajo/recs/ml-latest-small/movies.csv'),\n",
       " PosixPath('/home/fvadell/trabajo/recs/ml-latest-small/tags.csv')]"
      ]
     },
     "execution_count": 3,
     "metadata": {},
     "output_type": "execute_result"
    }
   ],
   "source": [
    "path = Path('/home/fvadell/trabajo/recs/ml-latest-small')\n",
    "path.ls()"
   ]
  },
  {
   "cell_type": "code",
   "execution_count": 4,
   "metadata": {},
   "outputs": [
    {
     "data": {
      "text/html": [
       "<div>\n",
       "<style scoped>\n",
       "    .dataframe tbody tr th:only-of-type {\n",
       "        vertical-align: middle;\n",
       "    }\n",
       "\n",
       "    .dataframe tbody tr th {\n",
       "        vertical-align: top;\n",
       "    }\n",
       "\n",
       "    .dataframe thead th {\n",
       "        text-align: right;\n",
       "    }\n",
       "</style>\n",
       "<table border=\"1\" class=\"dataframe\">\n",
       "  <thead>\n",
       "    <tr style=\"text-align: right;\">\n",
       "      <th></th>\n",
       "      <th>userId</th>\n",
       "      <th>movieId</th>\n",
       "      <th>rating</th>\n",
       "      <th>timestamp</th>\n",
       "      <th>y</th>\n",
       "      <th>user</th>\n",
       "      <th>item</th>\n",
       "    </tr>\n",
       "  </thead>\n",
       "  <tbody>\n",
       "    <tr>\n",
       "      <th>0</th>\n",
       "      <td>1</td>\n",
       "      <td>1</td>\n",
       "      <td>4.0</td>\n",
       "      <td>964982703</td>\n",
       "      <td>4.0</td>\n",
       "      <td>1</td>\n",
       "      <td>1</td>\n",
       "    </tr>\n",
       "    <tr>\n",
       "      <th>1</th>\n",
       "      <td>1</td>\n",
       "      <td>3</td>\n",
       "      <td>4.0</td>\n",
       "      <td>964981247</td>\n",
       "      <td>4.0</td>\n",
       "      <td>1</td>\n",
       "      <td>3</td>\n",
       "    </tr>\n",
       "    <tr>\n",
       "      <th>2</th>\n",
       "      <td>1</td>\n",
       "      <td>6</td>\n",
       "      <td>4.0</td>\n",
       "      <td>964982224</td>\n",
       "      <td>4.0</td>\n",
       "      <td>1</td>\n",
       "      <td>6</td>\n",
       "    </tr>\n",
       "    <tr>\n",
       "      <th>3</th>\n",
       "      <td>1</td>\n",
       "      <td>47</td>\n",
       "      <td>5.0</td>\n",
       "      <td>964983815</td>\n",
       "      <td>5.0</td>\n",
       "      <td>1</td>\n",
       "      <td>47</td>\n",
       "    </tr>\n",
       "    <tr>\n",
       "      <th>4</th>\n",
       "      <td>1</td>\n",
       "      <td>50</td>\n",
       "      <td>5.0</td>\n",
       "      <td>964982931</td>\n",
       "      <td>5.0</td>\n",
       "      <td>1</td>\n",
       "      <td>50</td>\n",
       "    </tr>\n",
       "  </tbody>\n",
       "</table>\n",
       "</div>"
      ],
      "text/plain": [
       "   userId  movieId  rating  timestamp    y user item\n",
       "0       1        1     4.0  964982703  4.0    1    1\n",
       "1       1        3     4.0  964981247  4.0    1    3\n",
       "2       1        6     4.0  964982224  4.0    1    6\n",
       "3       1       47     5.0  964983815  5.0    1   47\n",
       "4       1       50     5.0  964982931  5.0    1   50"
      ]
     },
     "execution_count": 4,
     "metadata": {},
     "output_type": "execute_result"
    }
   ],
   "source": [
    "ratings = pd.read_csv(path/'ratings.csv')\n",
    "ratings['y'] = ratings.rating.apply(str)\n",
    "ratings['user'] = ratings['userId'].apply(lambda x:str(int(x))).astype('category')\n",
    "ratings['item'] = ratings['movieId'].apply(lambda x:str(int(x))).astype('category')\n",
    "ratings.head()"
   ]
  },
  {
   "cell_type": "markdown",
   "metadata": {},
   "source": [
    "### Mini EDA"
   ]
  },
  {
   "cell_type": "code",
   "execution_count": 5,
   "metadata": {},
   "outputs": [
    {
     "data": {
      "text/plain": [
       "(610, 9724)"
      ]
     },
     "execution_count": 5,
     "metadata": {},
     "output_type": "execute_result"
    }
   ],
   "source": [
    "# (Cantidad de users, Cantidad de películas)\n",
    "ratings.userId.unique().shape[0],ratings.movieId.unique().shape[0]"
   ]
  },
  {
   "cell_type": "code",
   "execution_count": 6,
   "metadata": {},
   "outputs": [
    {
     "data": {
      "text/plain": [
       "4.0    26818\n",
       "3.0    20047\n",
       "5.0    13211\n",
       "3.5    13136\n",
       "4.5     8551\n",
       "2.0     7551\n",
       "2.5     5550\n",
       "1.0     2811\n",
       "1.5     1791\n",
       "0.5     1370\n",
       "Name: rating, dtype: int64"
      ]
     },
     "execution_count": 6,
     "metadata": {},
     "output_type": "execute_result"
    }
   ],
   "source": [
    "ratings.rating.value_counts()"
   ]
  },
  {
   "cell_type": "code",
   "execution_count": 7,
   "metadata": {},
   "outputs": [
    {
     "name": "stdout",
     "output_type": "stream",
     "text": [
      "Cantidad de ratings:  100836\n"
     ]
    }
   ],
   "source": [
    "print(\"Cantidad de ratings: \", ratings.rating.shape[0])"
   ]
  },
  {
   "cell_type": "code",
   "execution_count": 8,
   "metadata": {},
   "outputs": [
    {
     "name": "stdout",
     "output_type": "stream",
     "text": [
      "Accuracy base:  0.2659566028005871\n"
     ]
    }
   ],
   "source": [
    "print(\"Accuracy base: \", 26818 / 100836)"
   ]
  },
  {
   "cell_type": "markdown",
   "metadata": {},
   "source": [
    "### Definición y entrenamiento del modelo"
   ]
  },
  {
   "cell_type": "code",
   "execution_count": 9,
   "metadata": {},
   "outputs": [],
   "source": [
    "CollabDataBunch??"
   ]
  },
  {
   "cell_type": "code",
   "execution_count": 9,
   "metadata": {},
   "outputs": [],
   "source": [
    "# Por default toma user, item y rating en la primer, segunda y tercer columna respectivamente\n",
    "data = CollabDataBunch.from_df(ratings[['userId','movieId','rating']], valid_pct = 0.1)"
   ]
  },
  {
   "cell_type": "code",
   "execution_count": 10,
   "metadata": {},
   "outputs": [
    {
     "data": {
      "text/html": [
       "<table border=\"1\" class=\"dataframe\">\n",
       "  <thead>\n",
       "    <tr style=\"text-align: right;\">\n",
       "      <th>userId</th>\n",
       "      <th>movieId</th>\n",
       "      <th>target</th>\n",
       "    </tr>\n",
       "  </thead>\n",
       "  <tbody>\n",
       "    <tr>\n",
       "      <td>608</td>\n",
       "      <td>8376</td>\n",
       "      <td>3.0</td>\n",
       "    </tr>\n",
       "    <tr>\n",
       "      <td>599</td>\n",
       "      <td>6890</td>\n",
       "      <td>3.0</td>\n",
       "    </tr>\n",
       "    <tr>\n",
       "      <td>50</td>\n",
       "      <td>142074</td>\n",
       "      <td>1.5</td>\n",
       "    </tr>\n",
       "    <tr>\n",
       "      <td>202</td>\n",
       "      <td>1131</td>\n",
       "      <td>4.0</td>\n",
       "    </tr>\n",
       "    <tr>\n",
       "      <td>599</td>\n",
       "      <td>2383</td>\n",
       "      <td>0.5</td>\n",
       "    </tr>\n",
       "  </tbody>\n",
       "</table>"
      ],
      "text/plain": [
       "<IPython.core.display.HTML object>"
      ]
     },
     "metadata": {},
     "output_type": "display_data"
    }
   ],
   "source": [
    "# cuando se crea el DataBunch pierdo la columna de timestamp\n",
    "data.show_batch()"
   ]
  },
  {
   "cell_type": "code",
   "execution_count": 11,
   "metadata": {},
   "outputs": [],
   "source": [
    "emb_szs = {\n",
    "  \"userId\": 50,\n",
    "  \"movieId\": 100,\n",
    "}"
   ]
  },
  {
   "cell_type": "code",
   "execution_count": 12,
   "metadata": {},
   "outputs": [],
   "source": [
    "#data = CollabDataBunch.from_df(ratings[['user','movieId','rating']], valid_pct = 0.1)\n",
    "y_range = [0, 5.5]\n",
    "learn_small = collab_learner(data, emb_szs=emb_szs, \n",
    "                             use_nn = True, emb_drop= .3, \n",
    "                             layers = [50, 10, 10], \n",
    "                             y_range=y_range)"
   ]
  },
  {
   "cell_type": "code",
   "execution_count": 13,
   "metadata": {},
   "outputs": [],
   "source": [
    "learn_small.metrics=[r2_score]"
   ]
  },
  {
   "cell_type": "markdown",
   "metadata": {},
   "source": [
    "### Callbacks"
   ]
  },
  {
   "cell_type": "markdown",
   "metadata": {},
   "source": [
    "##### Vemos la estructura de un Callback"
   ]
  },
  {
   "cell_type": "code",
   "execution_count": 14,
   "metadata": {},
   "outputs": [],
   "source": [
    "Callback??"
   ]
  },
  {
   "cell_type": "markdown",
   "metadata": {},
   "source": [
    "##### Vemos el fit"
   ]
  },
  {
   "cell_type": "code",
   "execution_count": 15,
   "metadata": {},
   "outputs": [],
   "source": [
    "fit??"
   ]
  },
  {
   "cell_type": "code",
   "execution_count": 16,
   "metadata": {},
   "outputs": [],
   "source": [
    "loss_batch??"
   ]
  },
  {
   "cell_type": "code",
   "execution_count": 17,
   "metadata": {},
   "outputs": [],
   "source": [
    "callbacks.EarlyStoppingCallback??"
   ]
  },
  {
   "cell_type": "markdown",
   "metadata": {},
   "source": [
    "##### Modificación del Early Stopping"
   ]
  },
  {
   "cell_type": "code",
   "execution_count": 100,
   "metadata": {},
   "outputs": [],
   "source": [
    "class EarlyStoppingFede(callbacks.TrackerCallback):\n",
    "    valid_track = []\n",
    "    \"A `TrackerCallback` that terminates training when monitored quantity stops improving.\"\n",
    "    def __init__(self, learn:Learner, monitor:str='valid_loss', mode:str='auto', min_delta:int=0, patience:int=0):\n",
    "        super().__init__(learn, monitor=monitor, mode=mode)\n",
    "        self.min_delta,self.patience = min_delta,patience\n",
    "        if self.operator == np.less:  self.min_delta *= -1\n",
    "\n",
    "    def on_train_begin(self, **kwargs:Any)->None:\n",
    "        \"Initialize inner arguments.\"\n",
    "        self.wait = 0\n",
    "        self.valid_track = []\n",
    "        super().on_train_begin(**kwargs)\n",
    "\n",
    "    def on_epoch_end(self, epoch, **kwargs:Any)->None:\n",
    "        \"Compare the value monitored to its best score and maybe stop training.\"\n",
    "        current = self.get_monitor_value()\n",
    "        if current is None: return\n",
    "        self.valid_track.append(current)\n",
    "        print(\"\")\n",
    "        print(\"current: \", current)\n",
    "        print(\"current - delta: \", current - self.min_delta)\n",
    "        print(\"best: \", self.best)\n",
    "        if self.operator(current - self.min_delta, self.best):\n",
    "            self.best,self.wait = current,0\n",
    "            print(\"Esto viene bien...\")\n",
    "        else:\n",
    "            self.wait += 1\n",
    "            print(\"Hmmmm... sigamos un poco...\")\n",
    "            if self.wait > self.patience:\n",
    "                print(f'Epoch {epoch}: early stopping')\n",
    "                print(\"Bueno, ya!\")\n",
    "                return {\"stop_training\":True}\n",
    "            \n",
    "    def on_train_end(self, **kwargs:Any)->None:\n",
    "        \"Useful for cleaning up things and saving files/models.\"\n",
    "        print(\" \")\n",
    "        plt.plot(self.valid_track)\n",
    "        plt.grid()\n",
    "        plt.xlabel(\"Epoch\")\n",
    "        plt.ylabel(\"Validation loss\")"
   ]
  },
  {
   "cell_type": "markdown",
   "metadata": {},
   "source": [
    "##### Custom Callback"
   ]
  },
  {
   "cell_type": "code",
   "execution_count": 101,
   "metadata": {},
   "outputs": [],
   "source": [
    "class TestCallback(Callback):\n",
    "    def __init__(self, learn: Learner):\n",
    "        super().__init__()\n",
    "        self.learn = learn\n",
    "    \n",
    "    def on_train_begin(self, **kwargs:Any)->None:\n",
    "        super().on_train_begin(**kwargs)\n",
    "        self.n_iters = 0\n",
    "        #pdb.set_trace()\n",
    "        \n",
    "    def on_epoch_end(self, epoch, **kwargs:Any)->None:\n",
    "        self.n_iters += 1\n",
    "        print(\"testCb: Fin de la epoch \" ,self.n_iters)\n",
    "        if self.n_iters>=10: self.learn.stop = True\n",
    "            \n",
    "    def on_train_end(self, **kwargs:Any)->None:\n",
    "        print(\" \")\n",
    "        print(\"TestCallBack: ¡Gracias por todo! Cantidad de epochs corridas: \", self.n_iters)"
   ]
  },
  {
   "cell_type": "code",
   "execution_count": 102,
   "metadata": {},
   "outputs": [],
   "source": [
    "testCb = TestCallback(learn = learn_small)\n",
    "earlyFede = EarlyStoppingFede(learn_small, min_delta = 0.005, patience = 3)"
   ]
  },
  {
   "cell_type": "markdown",
   "metadata": {},
   "source": [
    "## Modelo de Red Neuronal Collaborative Filtering"
   ]
  },
  {
   "cell_type": "markdown",
   "metadata": {},
   "source": [
    "##### Entrenamos el modelo"
   ]
  },
  {
   "cell_type": "code",
   "execution_count": 103,
   "metadata": {},
   "outputs": [
    {
     "data": {
      "text/html": [],
      "text/plain": [
       "<IPython.core.display.HTML object>"
      ]
     },
     "metadata": {},
     "output_type": "display_data"
    },
    {
     "name": "stdout",
     "output_type": "stream",
     "text": [
      "LR Finder is complete, type {learner_name}.recorder.plot() to see the graph.\n",
      "Min numerical gradient: 6.92E-02\n",
      "Min loss divided by 10: 7.59E-02\n"
     ]
    },
    {
     "data": {
      "image/png": "[encoded data removed]",
      "text/plain": [
       "<Figure size 432x288 with 1 Axes>"
      ]
     },
     "metadata": {
      "needs_background": "light"
     },
     "output_type": "display_data"
    }
   ],
   "source": [
    "learn_small.lr_find()\n",
    "learn_small.recorder.plot(suggestion=True)"
   ]
  },
  {
   "cell_type": "code",
   "execution_count": 104,
   "metadata": {
    "scrolled": false
   },
   "outputs": [
    {
     "data": {
      "text/html": [
       "<table border=\"1\" class=\"dataframe\">\n",
       "  <thead>\n",
       "    <tr style=\"text-align: left;\">\n",
       "      <th>epoch</th>\n",
       "      <th>train_loss</th>\n",
       "      <th>valid_loss</th>\n",
       "      <th>r2_score</th>\n",
       "      <th>time</th>\n",
       "    </tr>\n",
       "  </thead>\n",
       "  <tbody>\n",
       "    <tr>\n",
       "      <td>0</td>\n",
       "      <td>0.819553</td>\n",
       "      <td>0.822713</td>\n",
       "      <td>0.225981</td>\n",
       "      <td>00:25</td>\n",
       "    </tr>\n",
       "    <tr>\n",
       "      <td>1</td>\n",
       "      <td>0.740443</td>\n",
       "      <td>0.772455</td>\n",
       "      <td>0.276265</td>\n",
       "      <td>00:37</td>\n",
       "    </tr>\n",
       "    <tr>\n",
       "      <td>2</td>\n",
       "      <td>0.704044</td>\n",
       "      <td>0.733313</td>\n",
       "      <td>0.309500</td>\n",
       "      <td>00:32</td>\n",
       "    </tr>\n",
       "  </tbody>\n",
       "</table>"
      ],
      "text/plain": [
       "<IPython.core.display.HTML object>"
      ]
     },
     "metadata": {},
     "output_type": "display_data"
    },
    {
     "name": "stdout",
     "output_type": "stream",
     "text": [
      "\n",
      "current:  0.8227134\n",
      "current - delta:  0.8277133750915527\n",
      "best:  inf\n",
      "Esto viene bien...\n",
      "testCb: Fin de la epoch  1\n",
      "\n",
      "current:  0.77245474\n",
      "current - delta:  0.7774547386169434\n",
      "best:  0.8227134\n",
      "Esto viene bien...\n",
      "testCb: Fin de la epoch  2\n",
      "\n",
      "current:  0.73331296\n",
      "current - delta:  0.7383129644393921\n",
      "best:  0.77245474\n",
      "Esto viene bien...\n",
      "testCb: Fin de la epoch  3\n",
      " \n",
      " \n",
      "TestCallBack: ¡Gracias por todo! Cantidad de epochs corridas:  3\n"
     ]
    },
    {
     "data": {
      "image/png": "[encoded data removed]",
      "text/plain": [
       "<Figure size 432x288 with 1 Axes>"
      ]
     },
     "metadata": {
      "needs_background": "light"
     },
     "output_type": "display_data"
    }
   ],
   "source": [
    "learn_small.fit_one_cycle(3, 6.31E-02, callbacks = [earlyFede, testCb])"
   ]
  },
  {
   "cell_type": "markdown",
   "metadata": {},
   "source": [
    "##### Predicciones"
   ]
  },
  {
   "cell_type": "code",
   "execution_count": 20,
   "metadata": {},
   "outputs": [],
   "source": [
    "predicciones_small = learn_small.get_preds(ds_type=DatasetType.Valid)"
   ]
  },
  {
   "cell_type": "code",
   "execution_count": 18,
   "metadata": {},
   "outputs": [],
   "source": [
    "def create_pred_df(valid_ds, predicciones):\n",
    "    aux = []\n",
    "    count = 0\n",
    "    for user_movie,valor,predic in zip(data.valid_ds.x,\n",
    "                                       data.valid_ds.y,\n",
    "                                       predicciones[0].tolist()):\n",
    "        userId = str(user_movie).split(\";\")[0][7:]\n",
    "        movieId = str(user_movie).split(\";\")[1][9:]\n",
    "        aux.append([userId, movieId, float(str(valor)), predic[0]])\n",
    "        count = count +1\n",
    "    df = pd.DataFrame(aux)\n",
    "    df.columns = [\"userId\", \"movieId\", \"rating\", \"pred\"]\n",
    "    return df"
   ]
  },
  {
   "cell_type": "code",
   "execution_count": 21,
   "metadata": {},
   "outputs": [
    {
     "ename": "NameError",
     "evalue": "name 'predicciones_small' is not defined",
     "output_type": "error",
     "traceback": [
      "\u001b[0;31m---------------------------------------------------------------------------\u001b[0m",
      "\u001b[0;31mNameError\u001b[0m                                 Traceback (most recent call last)",
      "\u001b[0;32m<ipython-input-21-458de0946d6e>\u001b[0m in \u001b[0;36m<module>\u001b[0;34m\u001b[0m\n\u001b[0;32m----> 1\u001b[0;31m \u001b[0mpreds_df_small\u001b[0m \u001b[0;34m=\u001b[0m \u001b[0mcreate_pred_df\u001b[0m\u001b[0;34m(\u001b[0m\u001b[0mdata\u001b[0m\u001b[0;34m.\u001b[0m\u001b[0mvalid_ds\u001b[0m\u001b[0;34m,\u001b[0m \u001b[0mpredicciones_small\u001b[0m\u001b[0;34m)\u001b[0m\u001b[0;34m\u001b[0m\u001b[0;34m\u001b[0m\u001b[0m\n\u001b[0m\u001b[1;32m      2\u001b[0m \u001b[0;31m#df['c'] = df.apply(lambda row: row.a + row.b, axis=1)\u001b[0m\u001b[0;34m\u001b[0m\u001b[0;34m\u001b[0m\u001b[0;34m\u001b[0m\u001b[0m\n\u001b[1;32m      3\u001b[0m \u001b[0mpreds_df_small\u001b[0m\u001b[0;34m[\u001b[0m\u001b[0;34m'error'\u001b[0m\u001b[0;34m]\u001b[0m \u001b[0;34m=\u001b[0m \u001b[0mpreds_df_small\u001b[0m\u001b[0;34m.\u001b[0m\u001b[0mapply\u001b[0m\u001b[0;34m(\u001b[0m\u001b[0;32mlambda\u001b[0m \u001b[0mrow\u001b[0m\u001b[0;34m:\u001b[0m \u001b[0mrow\u001b[0m\u001b[0;34m.\u001b[0m\u001b[0mpred\u001b[0m \u001b[0;34m-\u001b[0m \u001b[0mrow\u001b[0m\u001b[0;34m.\u001b[0m\u001b[0mrating\u001b[0m\u001b[0;34m,\u001b[0m \u001b[0maxis\u001b[0m\u001b[0;34m=\u001b[0m\u001b[0;36m1\u001b[0m\u001b[0;34m)\u001b[0m\u001b[0;34m\u001b[0m\u001b[0;34m\u001b[0m\u001b[0m\n\u001b[1;32m      4\u001b[0m \u001b[0mpreds_df_small\u001b[0m\u001b[0;34m.\u001b[0m\u001b[0mhead\u001b[0m\u001b[0;34m(\u001b[0m\u001b[0;34m)\u001b[0m\u001b[0;34m\u001b[0m\u001b[0;34m\u001b[0m\u001b[0m\n",
      "\u001b[0;31mNameError\u001b[0m: name 'predicciones_small' is not defined"
     ]
    }
   ],
   "source": [
    "preds_df_small = create_pred_df(data.valid_ds, predicciones_small)\n",
    "#df['c'] = df.apply(lambda row: row.a + row.b, axis=1)\n",
    "preds_df_small['error'] = preds_df_small.apply(lambda row: row.pred - row.rating, axis=1)\n",
    "preds_df_small.head()"
   ]
  },
  {
   "cell_type": "code",
   "execution_count": 19,
   "metadata": {},
   "outputs": [],
   "source": [
    "def errors_acum(df, th, inverse = False):\n",
    "    if (inverse):\n",
    "        return len(df[df['error']>th])+len(df[df['error']<-th])\n",
    "    return len(df[(df['error']<=th)&(df['error']>=-th)])"
   ]
  },
  {
   "cell_type": "code",
   "execution_count": 20,
   "metadata": {},
   "outputs": [],
   "source": [
    "def errors(acums, l):\n",
    "    stats = {\n",
    "        '<0.25': acums['<0.25']*100//l,\n",
    "        '<0.5': (acums['<0.5']-acums['<0.25'])*100//l,\n",
    "        '<1': (acums['<1']-acums['<0.5'])*100//l,\n",
    "        '<1.5': (acums['<1.5']-acums['<1'])*100//l,\n",
    "        '<2': (acums['<2']-acums['<1.5'])*100//l,\n",
    "        '>2': acums['>2']*100//l\n",
    "    }\n",
    "    return stats"
   ]
  },
  {
   "cell_type": "code",
   "execution_count": 24,
   "metadata": {},
   "outputs": [
    {
     "ename": "NameError",
     "evalue": "name 'preds_df_small' is not defined",
     "output_type": "error",
     "traceback": [
      "\u001b[0;31m---------------------------------------------------------------------------\u001b[0m",
      "\u001b[0;31mNameError\u001b[0m                                 Traceback (most recent call last)",
      "\u001b[0;32m<ipython-input-24-f3e27bcc4d91>\u001b[0m in \u001b[0;36m<module>\u001b[0;34m\u001b[0m\n\u001b[1;32m      1\u001b[0m acums = {\n\u001b[0;32m----> 2\u001b[0;31m     \u001b[0;34m'<0.25'\u001b[0m\u001b[0;34m:\u001b[0m \u001b[0merrors_acum\u001b[0m\u001b[0;34m(\u001b[0m\u001b[0mpreds_df_small\u001b[0m\u001b[0;34m,\u001b[0m \u001b[0;36m0.25\u001b[0m\u001b[0;34m)\u001b[0m\u001b[0;34m,\u001b[0m\u001b[0;34m\u001b[0m\u001b[0;34m\u001b[0m\u001b[0m\n\u001b[0m\u001b[1;32m      3\u001b[0m     \u001b[0;34m'<0.5'\u001b[0m\u001b[0;34m:\u001b[0m \u001b[0merrors_acum\u001b[0m\u001b[0;34m(\u001b[0m\u001b[0mpreds_df_small\u001b[0m\u001b[0;34m,\u001b[0m \u001b[0;36m0.5\u001b[0m\u001b[0;34m)\u001b[0m\u001b[0;34m,\u001b[0m\u001b[0;34m\u001b[0m\u001b[0;34m\u001b[0m\u001b[0m\n\u001b[1;32m      4\u001b[0m     \u001b[0;34m'<1'\u001b[0m\u001b[0;34m:\u001b[0m \u001b[0merrors_acum\u001b[0m\u001b[0;34m(\u001b[0m\u001b[0mpreds_df_small\u001b[0m\u001b[0;34m,\u001b[0m \u001b[0;36m1\u001b[0m\u001b[0;34m)\u001b[0m\u001b[0;34m,\u001b[0m\u001b[0;34m\u001b[0m\u001b[0;34m\u001b[0m\u001b[0m\n\u001b[1;32m      5\u001b[0m     \u001b[0;34m'<1.5'\u001b[0m\u001b[0;34m:\u001b[0m \u001b[0merrors_acum\u001b[0m\u001b[0;34m(\u001b[0m\u001b[0mpreds_df_small\u001b[0m\u001b[0;34m,\u001b[0m \u001b[0;36m1.5\u001b[0m\u001b[0;34m)\u001b[0m\u001b[0;34m,\u001b[0m\u001b[0;34m\u001b[0m\u001b[0;34m\u001b[0m\u001b[0m\n",
      "\u001b[0;31mNameError\u001b[0m: name 'preds_df_small' is not defined"
     ]
    }
   ],
   "source": [
    "acums = {\n",
    "    '<0.25': errors_acum(preds_df_small, 0.25),\n",
    "    '<0.5': errors_acum(preds_df_small, 0.5),\n",
    "    '<1': errors_acum(preds_df_small, 1),\n",
    "    '<1.5': errors_acum(preds_df_small, 1.5),\n",
    "    '<2': errors_acum(preds_df_small, 2),\n",
    "    '>2': errors_acum(preds_df_small,2,inverse=True)\n",
    "}\n",
    "stats = errors(acums, len(preds_df_small))"
   ]
  },
  {
   "cell_type": "code",
   "execution_count": 26,
   "metadata": {},
   "outputs": [
    {
     "name": "stdout",
     "output_type": "stream",
     "text": [
      "{'<0.25': 25, '<0.5': 22, '<1': 30, '<1.5': 13, '<2': 4, '>2': 2}\n"
     ]
    },
    {
     "data": {
      "image/png": "[encoded data removed]",
      "text/plain": [
       "<Figure size 432x288 with 1 Axes>"
      ]
     },
     "metadata": {
      "needs_background": "light"
     },
     "output_type": "display_data"
    }
   ],
   "source": [
    "import matplotlib.pyplot as plt\n",
    "\n",
    "plt.bar(range(len(stats)), list(stats.values()), align='center')\n",
    "plt.xticks(range(len(stats)), list(stats.keys()))\n",
    "plt.xlabel('Error')\n",
    "plt.grid()\n",
    "plt.ylabel('%')\n",
    "print(stats)"
   ]
  },
  {
   "cell_type": "code",
   "execution_count": null,
   "metadata": {},
   "outputs": [],
   "source": []
  },
  {
   "cell_type": "markdown",
   "metadata": {},
   "source": [
    "## Modelo de Red Neuronal Tabular"
   ]
  },
  {
   "cell_type": "code",
   "execution_count": 105,
   "metadata": {},
   "outputs": [],
   "source": [
    "#me armo un validation set. Llamo \"lista\" a los índices del validation set\n",
    "\n",
    "#ratings.shape[0] es la cantidad de datos\n",
    "\n",
    "lista = list(ratings.sample(int(ratings.shape[0]*.10)).reset_index()['index'])"
   ]
  },
  {
   "cell_type": "code",
   "execution_count": 106,
   "metadata": {},
   "outputs": [],
   "source": [
    "data_tab = TabularDataBunch.from_df('.',ratings[['user','item','y']],\n",
    "                 cat_names=['user','item'],\n",
    "                 dep_var='y', valid_idx = lista, bs = 500)"
   ]
  },
  {
   "cell_type": "code",
   "execution_count": 107,
   "metadata": {},
   "outputs": [
    {
     "data": {
      "text/html": [
       "<table border=\"1\" class=\"dataframe\">\n",
       "  <thead>\n",
       "    <tr style=\"text-align: right;\">\n",
       "      <th>user</th>\n",
       "      <th>item</th>\n",
       "      <th>target</th>\n",
       "    </tr>\n",
       "  </thead>\n",
       "  <tbody>\n",
       "    <tr>\n",
       "      <td>382</td>\n",
       "      <td>1702</td>\n",
       "      <td>3.5</td>\n",
       "    </tr>\n",
       "    <tr>\n",
       "      <td>307</td>\n",
       "      <td>2797</td>\n",
       "      <td>3.0</td>\n",
       "    </tr>\n",
       "    <tr>\n",
       "      <td>89</td>\n",
       "      <td>60737</td>\n",
       "      <td>5.0</td>\n",
       "    </tr>\n",
       "    <tr>\n",
       "      <td>328</td>\n",
       "      <td>39</td>\n",
       "      <td>2.0</td>\n",
       "    </tr>\n",
       "    <tr>\n",
       "      <td>226</td>\n",
       "      <td>1644</td>\n",
       "      <td>2.0</td>\n",
       "    </tr>\n",
       "  </tbody>\n",
       "</table>"
      ],
      "text/plain": [
       "<IPython.core.display.HTML object>"
      ]
     },
     "metadata": {},
     "output_type": "display_data"
    }
   ],
   "source": [
    "data_tab.show_batch()"
   ]
  },
  {
   "cell_type": "markdown",
   "metadata": {},
   "source": [
    "##### Definimos una red neuronal con la misma cantidad de capas y tamaño de embeddings pero tabular"
   ]
  },
  {
   "cell_type": "code",
   "execution_count": 108,
   "metadata": {},
   "outputs": [],
   "source": [
    "emb_szs_str = {\n",
    "  \"user\": 50,\n",
    "  \"item\": 100,\n",
    "}"
   ]
  },
  {
   "cell_type": "code",
   "execution_count": 109,
   "metadata": {},
   "outputs": [],
   "source": [
    "learn_tab = tabular_learner(data_tab, \n",
    "                            layers=[5, 2, 10], \n",
    "                            emb_szs=emb_szs_str, \n",
    "                            metrics=accuracy)"
   ]
  },
  {
   "cell_type": "code",
   "execution_count": 110,
   "metadata": {},
   "outputs": [
    {
     "data": {
      "text/plain": [
       "TabularModel(\n",
       "  (embeds): ModuleList(\n",
       "    (0): Embedding(611, 50)\n",
       "    (1): Embedding(9725, 100)\n",
       "  )\n",
       "  (emb_drop): Dropout(p=0.0, inplace=False)\n",
       "  (bn_cont): BatchNorm1d(0, eps=1e-05, momentum=0.1, affine=True, track_running_stats=True)\n",
       "  (layers): Sequential(\n",
       "    (0): Linear(in_features=150, out_features=5, bias=True)\n",
       "    (1): ReLU(inplace=True)\n",
       "    (2): BatchNorm1d(5, eps=1e-05, momentum=0.1, affine=True, track_running_stats=True)\n",
       "    (3): Linear(in_features=5, out_features=2, bias=True)\n",
       "    (4): ReLU(inplace=True)\n",
       "    (5): BatchNorm1d(2, eps=1e-05, momentum=0.1, affine=True, track_running_stats=True)\n",
       "    (6): Linear(in_features=2, out_features=10, bias=True)\n",
       "    (7): ReLU(inplace=True)\n",
       "    (8): BatchNorm1d(10, eps=1e-05, momentum=0.1, affine=True, track_running_stats=True)\n",
       "    (9): Linear(in_features=10, out_features=10, bias=True)\n",
       "  )\n",
       ")"
      ]
     },
     "execution_count": 110,
     "metadata": {},
     "output_type": "execute_result"
    }
   ],
   "source": [
    "learn_tab.model"
   ]
  },
  {
   "cell_type": "code",
   "execution_count": 111,
   "metadata": {},
   "outputs": [
    {
     "data": {
      "text/html": [],
      "text/plain": [
       "<IPython.core.display.HTML object>"
      ]
     },
     "metadata": {},
     "output_type": "display_data"
    },
    {
     "name": "stdout",
     "output_type": "stream",
     "text": [
      "LR Finder is complete, type {learner_name}.recorder.plot() to see the graph.\n",
      "Min numerical gradient: 1.20E-01\n",
      "Min loss divided by 10: 1.10E-01\n"
     ]
    },
    {
     "data": {
      "image/png": "[encoded data removed]",
      "text/plain": [
       "<Figure size 432x288 with 1 Axes>"
      ]
     },
     "metadata": {
      "needs_background": "light"
     },
     "output_type": "display_data"
    }
   ],
   "source": [
    "learn_tab.lr_find()\n",
    "learn_tab.recorder.plot(suggestion=True)"
   ]
  },
  {
   "cell_type": "markdown",
   "metadata": {},
   "source": [
    "##### Instanciamos otro early stopping pero esta vez para que monitoree el accuracy. Si no aclaramos nada va a monitorear el valid loss, que en este caso es Cross Entropy"
   ]
  },
  {
   "cell_type": "code",
   "execution_count": 112,
   "metadata": {},
   "outputs": [],
   "source": [
    "earlyFede_tab = EarlyStoppingFede(learn_tab, min_delta = 0.0005, patience = 3, monitor = \"accuracy\")"
   ]
  },
  {
   "cell_type": "code",
   "execution_count": 113,
   "metadata": {
    "scrolled": false
   },
   "outputs": [
    {
     "data": {
      "text/html": [
       "\n",
       "    <div>\n",
       "        <style>\n",
       "            /* Turns off some styling */\n",
       "            progress {\n",
       "                /* gets rid of default border in Firefox and Opera. */\n",
       "                border: none;\n",
       "                /* Needs to be in here for Safari polyfill so background images work as expected. */\n",
       "                background-size: auto;\n",
       "            }\n",
       "            .progress-bar-interrupted, .progress-bar-interrupted::-webkit-progress-bar {\n",
       "                background: #F44336;\n",
       "            }\n",
       "        </style>\n",
       "      <progress value='6' class='' max='15', style='width:300px; height:20px; vertical-align: middle;'></progress>\n",
       "      40.00% [6/15 00:30<00:45]\n",
       "    </div>\n",
       "    \n",
       "<table border=\"1\" class=\"dataframe\">\n",
       "  <thead>\n",
       "    <tr style=\"text-align: left;\">\n",
       "      <th>epoch</th>\n",
       "      <th>train_loss</th>\n",
       "      <th>valid_loss</th>\n",
       "      <th>accuracy</th>\n",
       "      <th>time</th>\n",
       "    </tr>\n",
       "  </thead>\n",
       "  <tbody>\n",
       "    <tr>\n",
       "      <td>0</td>\n",
       "      <td>1.814752</td>\n",
       "      <td>1.745736</td>\n",
       "      <td>0.309333</td>\n",
       "      <td>00:05</td>\n",
       "    </tr>\n",
       "    <tr>\n",
       "      <td>1</td>\n",
       "      <td>1.686682</td>\n",
       "      <td>1.725495</td>\n",
       "      <td>0.322622</td>\n",
       "      <td>00:04</td>\n",
       "    </tr>\n",
       "    <tr>\n",
       "      <td>2</td>\n",
       "      <td>1.660050</td>\n",
       "      <td>1.670936</td>\n",
       "      <td>0.336606</td>\n",
       "      <td>00:05</td>\n",
       "    </tr>\n",
       "    <tr>\n",
       "      <td>3</td>\n",
       "      <td>1.640525</td>\n",
       "      <td>1.677874</td>\n",
       "      <td>0.335714</td>\n",
       "      <td>00:05</td>\n",
       "    </tr>\n",
       "    <tr>\n",
       "      <td>4</td>\n",
       "      <td>1.614867</td>\n",
       "      <td>1.688375</td>\n",
       "      <td>0.331449</td>\n",
       "      <td>00:05</td>\n",
       "    </tr>\n",
       "    <tr>\n",
       "      <td>5</td>\n",
       "      <td>1.598009</td>\n",
       "      <td>1.680220</td>\n",
       "      <td>0.327978</td>\n",
       "      <td>00:04</td>\n",
       "    </tr>\n",
       "  </tbody>\n",
       "</table><p>\n",
       "\n",
       "    <div>\n",
       "        <style>\n",
       "            /* Turns off some styling */\n",
       "            progress {\n",
       "                /* gets rid of default border in Firefox and Opera. */\n",
       "                border: none;\n",
       "                /* Needs to be in here for Safari polyfill so background images work as expected. */\n",
       "                background-size: auto;\n",
       "            }\n",
       "            .progress-bar-interrupted, .progress-bar-interrupted::-webkit-progress-bar {\n",
       "                background: #F44336;\n",
       "            }\n",
       "        </style>\n",
       "      <progress value='21' class='' max='21', style='width:300px; height:20px; vertical-align: middle;'></progress>\n",
       "      100.00% [21/21 00:00<00:00]\n",
       "    </div>\n",
       "    "
      ],
      "text/plain": [
       "<IPython.core.display.HTML object>"
      ]
     },
     "metadata": {},
     "output_type": "display_data"
    },
    {
     "name": "stdout",
     "output_type": "stream",
     "text": [
      "\n",
      "current:  tensor(0.3093)\n",
      "current - delta:  tensor(0.3088)\n",
      "best:  -inf\n",
      "Esto viene bien...\n",
      "testCb: Fin de la epoch  1\n",
      "\n",
      "current:  tensor(0.3226)\n",
      "current - delta:  tensor(0.3221)\n",
      "best:  tensor(0.3093)\n",
      "Esto viene bien...\n",
      "testCb: Fin de la epoch  2\n",
      "\n",
      "current:  tensor(0.3366)\n",
      "current - delta:  tensor(0.3361)\n",
      "best:  tensor(0.3226)\n",
      "Esto viene bien...\n",
      "testCb: Fin de la epoch  3\n",
      "\n",
      "current:  tensor(0.3357)\n",
      "current - delta:  tensor(0.3352)\n",
      "best:  tensor(0.3366)\n",
      "Hmmmm... sigamos un poco...\n",
      "testCb: Fin de la epoch  4\n",
      "\n",
      "current:  tensor(0.3314)\n",
      "current - delta:  tensor(0.3309)\n",
      "best:  tensor(0.3366)\n",
      "Hmmmm... sigamos un poco...\n",
      "testCb: Fin de la epoch  5\n",
      "\n",
      "current:  tensor(0.3280)\n",
      "current - delta:  tensor(0.3275)\n",
      "best:  tensor(0.3366)\n",
      "Hmmmm... sigamos un poco...\n",
      "testCb: Fin de la epoch  6\n",
      "\n",
      "current:  tensor(0.3355)\n",
      "current - delta:  tensor(0.3350)\n",
      "best:  tensor(0.3366)\n",
      "Hmmmm... sigamos un poco...\n",
      "Epoch 6: early stopping\n",
      "Bueno, ya!\n",
      "testCb: Fin de la epoch  7\n",
      " \n",
      " \n",
      "TestCallBack: ¡Gracias por todo! Cantidad de epochs corridas:  7\n"
     ]
    },
    {
     "data": {
      "image/png": "[encoded data removed]",
      "text/plain": [
       "<Figure size 432x288 with 1 Axes>"
      ]
     },
     "metadata": {
      "needs_background": "light"
     },
     "output_type": "display_data"
    }
   ],
   "source": [
    "learn_tab.fit_one_cycle(15, 8.03E-02, callbacks = [earlyFede_tab, testCb])"
   ]
  },
  {
   "cell_type": "code",
   "execution_count": 42,
   "metadata": {},
   "outputs": [],
   "source": [
    "learn_tab.save('Learn_tabWeights')"
   ]
  },
  {
   "cell_type": "code",
   "execution_count": 43,
   "metadata": {},
   "outputs": [
    {
     "name": "stdout",
     "output_type": "stream",
     "text": [
      "0\n"
     ]
    }
   ],
   "source": [
    "n=0\n",
    "\n",
    "x,y = learn_tab.get_preds(ds_type=DatasetType.Valid)\n",
    "preds_df_tab = pd.DataFrame(columns=['rating', 'pred', 'error'])\n",
    "\n",
    "for k,u in enumerate(x.argmax(dim=1)):\n",
    "    predigo,era = learn_tab.data.classes[u],learn_tab.data.classes[y[k].item()]\n",
    "    #print(predigo,era)\n",
    "    error=abs(float(predigo)-float(era))\n",
    "    aux = [era, predigo, error]\n",
    "    #print(aux)\n",
    "    preds_df_tab.loc[k]=aux\n",
    "    #q+=(float(predigo)-float(era))*(float(predigo)-float(era))\n",
    "#n=n/y.shape[0]\n",
    "#q=q/y.shape[0]\n",
    "print(n)\n",
    "#print(q)"
   ]
  },
  {
   "cell_type": "code",
   "execution_count": 44,
   "metadata": {},
   "outputs": [
    {
     "data": {
      "text/html": [
       "<div>\n",
       "<style scoped>\n",
       "    .dataframe tbody tr th:only-of-type {\n",
       "        vertical-align: middle;\n",
       "    }\n",
       "\n",
       "    .dataframe tbody tr th {\n",
       "        vertical-align: top;\n",
       "    }\n",
       "\n",
       "    .dataframe thead th {\n",
       "        text-align: right;\n",
       "    }\n",
       "</style>\n",
       "<table border=\"1\" class=\"dataframe\">\n",
       "  <thead>\n",
       "    <tr style=\"text-align: right;\">\n",
       "      <th></th>\n",
       "      <th>rating</th>\n",
       "      <th>pred</th>\n",
       "      <th>error</th>\n",
       "    </tr>\n",
       "  </thead>\n",
       "  <tbody>\n",
       "    <tr>\n",
       "      <th>0</th>\n",
       "      <td>3.5</td>\n",
       "      <td>4.0</td>\n",
       "      <td>0.5</td>\n",
       "    </tr>\n",
       "    <tr>\n",
       "      <th>1</th>\n",
       "      <td>2.0</td>\n",
       "      <td>3.0</td>\n",
       "      <td>1.0</td>\n",
       "    </tr>\n",
       "    <tr>\n",
       "      <th>2</th>\n",
       "      <td>3.5</td>\n",
       "      <td>4.0</td>\n",
       "      <td>0.5</td>\n",
       "    </tr>\n",
       "    <tr>\n",
       "      <th>3</th>\n",
       "      <td>3.5</td>\n",
       "      <td>4.0</td>\n",
       "      <td>0.5</td>\n",
       "    </tr>\n",
       "    <tr>\n",
       "      <th>4</th>\n",
       "      <td>5.0</td>\n",
       "      <td>4.0</td>\n",
       "      <td>1.0</td>\n",
       "    </tr>\n",
       "  </tbody>\n",
       "</table>\n",
       "</div>"
      ],
      "text/plain": [
       "  rating pred  error\n",
       "0    3.5  4.0    0.5\n",
       "1    2.0  3.0    1.0\n",
       "2    3.5  4.0    0.5\n",
       "3    3.5  4.0    0.5\n",
       "4    5.0  4.0    1.0"
      ]
     },
     "execution_count": 44,
     "metadata": {},
     "output_type": "execute_result"
    }
   ],
   "source": [
    "preds_df_tab.head()"
   ]
  },
  {
   "cell_type": "code",
   "execution_count": 33,
   "metadata": {},
   "outputs": [
    {
     "ename": "NameError",
     "evalue": "name 'preds_df_tab' is not defined",
     "output_type": "error",
     "traceback": [
      "\u001b[0;31m---------------------------------------------------------------------------\u001b[0m",
      "\u001b[0;31mNameError\u001b[0m                                 Traceback (most recent call last)",
      "\u001b[0;32m<ipython-input-33-c896430a4658>\u001b[0m in \u001b[0;36m<module>\u001b[0;34m\u001b[0m\n\u001b[1;32m      1\u001b[0m acums_tab = {\n\u001b[0;32m----> 2\u001b[0;31m     \u001b[0;34m'<0.25'\u001b[0m\u001b[0;34m:\u001b[0m \u001b[0merrors_acum\u001b[0m\u001b[0;34m(\u001b[0m\u001b[0mpreds_df_tab\u001b[0m\u001b[0;34m,\u001b[0m \u001b[0;36m0.26\u001b[0m\u001b[0;34m)\u001b[0m\u001b[0;34m,\u001b[0m\u001b[0;34m\u001b[0m\u001b[0;34m\u001b[0m\u001b[0m\n\u001b[0m\u001b[1;32m      3\u001b[0m     \u001b[0;34m'<0.5'\u001b[0m\u001b[0;34m:\u001b[0m \u001b[0merrors_acum\u001b[0m\u001b[0;34m(\u001b[0m\u001b[0mpreds_df_tab\u001b[0m\u001b[0;34m,\u001b[0m \u001b[0;36m0.51\u001b[0m\u001b[0;34m)\u001b[0m\u001b[0;34m,\u001b[0m\u001b[0;34m\u001b[0m\u001b[0;34m\u001b[0m\u001b[0m\n\u001b[1;32m      4\u001b[0m     \u001b[0;34m'<1'\u001b[0m\u001b[0;34m:\u001b[0m \u001b[0merrors_acum\u001b[0m\u001b[0;34m(\u001b[0m\u001b[0mpreds_df_tab\u001b[0m\u001b[0;34m,\u001b[0m \u001b[0;36m1.1\u001b[0m\u001b[0;34m)\u001b[0m\u001b[0;34m,\u001b[0m\u001b[0;34m\u001b[0m\u001b[0;34m\u001b[0m\u001b[0m\n\u001b[1;32m      5\u001b[0m     \u001b[0;34m'<1.5'\u001b[0m\u001b[0;34m:\u001b[0m \u001b[0merrors_acum\u001b[0m\u001b[0;34m(\u001b[0m\u001b[0mpreds_df_tab\u001b[0m\u001b[0;34m,\u001b[0m \u001b[0;36m1.51\u001b[0m\u001b[0;34m)\u001b[0m\u001b[0;34m,\u001b[0m\u001b[0;34m\u001b[0m\u001b[0;34m\u001b[0m\u001b[0m\n",
      "\u001b[0;31mNameError\u001b[0m: name 'preds_df_tab' is not defined"
     ]
    }
   ],
   "source": [
    "acums_tab = {\n",
    "    '<0.25': errors_acum(preds_df_tab, 0.26),\n",
    "    '<0.5': errors_acum(preds_df_tab, 0.51),\n",
    "    '<1': errors_acum(preds_df_tab, 1.1),\n",
    "    '<1.5': errors_acum(preds_df_tab, 1.51),\n",
    "    '<2': errors_acum(preds_df_tab, 2.1),\n",
    "    '>2': errors_acum(preds_df_tab,2,inverse=True)\n",
    "}\n",
    "stats_tab = errors(acums_tab, len(preds_df_tab))"
   ]
  },
  {
   "cell_type": "code",
   "execution_count": 46,
   "metadata": {},
   "outputs": [
    {
     "data": {
      "text/plain": [
       "{'<0.25': 33, '<0.5': 24, '<1': 29, '<1.5': 4, '<2': 5, '>2': 2}"
      ]
     },
     "execution_count": 46,
     "metadata": {},
     "output_type": "execute_result"
    }
   ],
   "source": [
    "stats_tab"
   ]
  },
  {
   "cell_type": "code",
   "execution_count": 47,
   "metadata": {},
   "outputs": [
    {
     "name": "stdout",
     "output_type": "stream",
     "text": [
      "{'<0.25': 33, '<0.5': 24, '<1': 29, '<1.5': 4, '<2': 5, '>2': 2}\n"
     ]
    },
    {
     "data": {
      "image/png": "[encoded data removed]",
      "text/plain": [
       "<Figure size 432x288 with 1 Axes>"
      ]
     },
     "metadata": {
      "needs_background": "light"
     },
     "output_type": "display_data"
    }
   ],
   "source": [
    "import matplotlib.pyplot as plt\n",
    "\n",
    "plt.bar(range(len(stats_tab)), list(stats_tab.values()), align='center')\n",
    "plt.xticks(range(len(stats_tab)), list(stats_tab.keys()))\n",
    "plt.xlabel('Error')\n",
    "plt.grid()\n",
    "plt.ylabel('%')\n",
    "print(stats_tab)"
   ]
  },
  {
   "cell_type": "code",
   "execution_count": null,
   "metadata": {},
   "outputs": [],
   "source": []
  },
  {
   "cell_type": "markdown",
   "metadata": {},
   "source": [
    "## Hooks"
   ]
  },
  {
   "cell_type": "markdown",
   "metadata": {},
   "source": [
    "#### Probamos el ActivationStats hook, que calcula la media y desvio estandar de cada capa"
   ]
  },
  {
   "cell_type": "code",
   "execution_count": 215,
   "metadata": {},
   "outputs": [],
   "source": [
    "emb_szs_str = {\n",
    "  \"user\": 50,\n",
    "  \"item\": 100,\n",
    "}"
   ]
  },
  {
   "cell_type": "code",
   "execution_count": 216,
   "metadata": {},
   "outputs": [],
   "source": [
    "learn_tab = tabular_learner(data_tab, \n",
    "                            layers=[5, 2, 10], \n",
    "                            emb_szs=emb_szs_str, \n",
    "                            metrics=accuracy,\n",
    "                            use_bn = True)"
   ]
  },
  {
   "cell_type": "code",
   "execution_count": 202,
   "metadata": {},
   "outputs": [],
   "source": [
    "callbacks.ActivationStats??"
   ]
  },
  {
   "cell_type": "code",
   "execution_count": 203,
   "metadata": {},
   "outputs": [],
   "source": [
    "callbacks.HookCallback??"
   ]
  },
  {
   "cell_type": "code",
   "execution_count": 217,
   "metadata": {},
   "outputs": [],
   "source": [
    "earlyFede_tab = EarlyStoppingFede(learn_tab, min_delta = 0.0005, patience = 3, monitor = \"accuracy\")"
   ]
  },
  {
   "cell_type": "markdown",
   "metadata": {},
   "source": [
    "##### Vamos a monitorear las capas lineales que están en las posiciones 0, 3, 6 y 9 que son las capas "
   ]
  },
  {
   "cell_type": "code",
   "execution_count": 218,
   "metadata": {},
   "outputs": [
    {
     "data": {
      "text/plain": [
       "Sequential(\n",
       "  (0): Linear(in_features=150, out_features=5, bias=True)\n",
       "  (1): ReLU(inplace=True)\n",
       "  (2): BatchNorm1d(5, eps=1e-05, momentum=0.1, affine=True, track_running_stats=True)\n",
       "  (3): Linear(in_features=5, out_features=2, bias=True)\n",
       "  (4): ReLU(inplace=True)\n",
       "  (5): BatchNorm1d(2, eps=1e-05, momentum=0.1, affine=True, track_running_stats=True)\n",
       "  (6): Linear(in_features=2, out_features=10, bias=True)\n",
       "  (7): ReLU(inplace=True)\n",
       "  (8): BatchNorm1d(10, eps=1e-05, momentum=0.1, affine=True, track_running_stats=True)\n",
       "  (9): Linear(in_features=10, out_features=10, bias=True)\n",
       ")"
      ]
     },
     "execution_count": 218,
     "metadata": {},
     "output_type": "execute_result"
    }
   ],
   "source": [
    "learn_tab.model.layers"
   ]
  },
  {
   "cell_type": "markdown",
   "metadata": {},
   "source": [
    "#### Armo el hook ActivationStats y le pido que lo aplique sobre las capas lineales, la 0, 3, 6 y 9"
   ]
  },
  {
   "cell_type": "code",
   "execution_count": 219,
   "metadata": {},
   "outputs": [],
   "source": [
    "activation_stats_cb = callbacks.ActivationStats(learn_tab, [learn_tab.model.layers[1], learn_tab.model.layers[4], learn_tab.model.layers[7]])"
   ]
  },
  {
   "cell_type": "code",
   "execution_count": 220,
   "metadata": {},
   "outputs": [],
   "source": [
    "testCb = TestCallback(learn = learn_tab)"
   ]
  },
  {
   "cell_type": "code",
   "execution_count": 222,
   "metadata": {
    "scrolled": false
   },
   "outputs": [
    {
     "data": {
      "text/html": [
       "\n",
       "    <div>\n",
       "        <style>\n",
       "            /* Turns off some styling */\n",
       "            progress {\n",
       "                /* gets rid of default border in Firefox and Opera. */\n",
       "                border: none;\n",
       "                /* Needs to be in here for Safari polyfill so background images work as expected. */\n",
       "                background-size: auto;\n",
       "            }\n",
       "            .progress-bar-interrupted, .progress-bar-interrupted::-webkit-progress-bar {\n",
       "                background: #F44336;\n",
       "            }\n",
       "        </style>\n",
       "      <progress value='7' class='' max='15', style='width:300px; height:20px; vertical-align: middle;'></progress>\n",
       "      46.67% [7/15 00:35<00:40]\n",
       "    </div>\n",
       "    \n",
       "<table border=\"1\" class=\"dataframe\">\n",
       "  <thead>\n",
       "    <tr style=\"text-align: left;\">\n",
       "      <th>epoch</th>\n",
       "      <th>train_loss</th>\n",
       "      <th>valid_loss</th>\n",
       "      <th>accuracy</th>\n",
       "      <th>time</th>\n",
       "    </tr>\n",
       "  </thead>\n",
       "  <tbody>\n",
       "    <tr>\n",
       "      <td>0</td>\n",
       "      <td>1.396936</td>\n",
       "      <td>1.772620</td>\n",
       "      <td>0.332837</td>\n",
       "      <td>00:05</td>\n",
       "    </tr>\n",
       "    <tr>\n",
       "      <td>1</td>\n",
       "      <td>1.392577</td>\n",
       "      <td>1.773459</td>\n",
       "      <td>0.335614</td>\n",
       "      <td>00:05</td>\n",
       "    </tr>\n",
       "    <tr>\n",
       "      <td>2</td>\n",
       "      <td>1.395122</td>\n",
       "      <td>1.778907</td>\n",
       "      <td>0.335813</td>\n",
       "      <td>00:05</td>\n",
       "    </tr>\n",
       "    <tr>\n",
       "      <td>3</td>\n",
       "      <td>1.393595</td>\n",
       "      <td>1.785279</td>\n",
       "      <td>0.336209</td>\n",
       "      <td>00:04</td>\n",
       "    </tr>\n",
       "    <tr>\n",
       "      <td>4</td>\n",
       "      <td>1.391719</td>\n",
       "      <td>1.794247</td>\n",
       "      <td>0.336606</td>\n",
       "      <td>00:04</td>\n",
       "    </tr>\n",
       "    <tr>\n",
       "      <td>5</td>\n",
       "      <td>1.385845</td>\n",
       "      <td>1.792666</td>\n",
       "      <td>0.336110</td>\n",
       "      <td>00:05</td>\n",
       "    </tr>\n",
       "    <tr>\n",
       "      <td>6</td>\n",
       "      <td>1.381628</td>\n",
       "      <td>1.802029</td>\n",
       "      <td>0.334821</td>\n",
       "      <td>00:04</td>\n",
       "    </tr>\n",
       "  </tbody>\n",
       "</table><p>\n",
       "\n",
       "    <div>\n",
       "        <style>\n",
       "            /* Turns off some styling */\n",
       "            progress {\n",
       "                /* gets rid of default border in Firefox and Opera. */\n",
       "                border: none;\n",
       "                /* Needs to be in here for Safari polyfill so background images work as expected. */\n",
       "                background-size: auto;\n",
       "            }\n",
       "            .progress-bar-interrupted, .progress-bar-interrupted::-webkit-progress-bar {\n",
       "                background: #F44336;\n",
       "            }\n",
       "        </style>\n",
       "      <progress value='21' class='' max='21', style='width:300px; height:20px; vertical-align: middle;'></progress>\n",
       "      100.00% [21/21 00:00<00:00]\n",
       "    </div>\n",
       "    "
      ],
      "text/plain": [
       "<IPython.core.display.HTML object>"
      ]
     },
     "metadata": {},
     "output_type": "display_data"
    },
    {
     "name": "stdout",
     "output_type": "stream",
     "text": [
      "\n",
      "current:  tensor(0.3328)\n",
      "current - delta:  tensor(0.3323)\n",
      "best:  -inf\n",
      "Esto viene bien...\n",
      "testCb: Fin de la epoch  1\n",
      "\n",
      "current:  tensor(0.3356)\n",
      "current - delta:  tensor(0.3351)\n",
      "best:  tensor(0.3328)\n",
      "Esto viene bien...\n",
      "testCb: Fin de la epoch  2\n",
      "\n",
      "current:  tensor(0.3358)\n",
      "current - delta:  tensor(0.3353)\n",
      "best:  tensor(0.3356)\n",
      "Hmmmm... sigamos un poco...\n",
      "testCb: Fin de la epoch  3\n",
      "\n",
      "current:  tensor(0.3362)\n",
      "current - delta:  tensor(0.3357)\n",
      "best:  tensor(0.3356)\n",
      "Esto viene bien...\n",
      "testCb: Fin de la epoch  4\n",
      "\n",
      "current:  tensor(0.3366)\n",
      "current - delta:  tensor(0.3361)\n",
      "best:  tensor(0.3362)\n",
      "Hmmmm... sigamos un poco...\n",
      "testCb: Fin de la epoch  5\n",
      "\n",
      "current:  tensor(0.3361)\n",
      "current - delta:  tensor(0.3356)\n",
      "best:  tensor(0.3362)\n",
      "Hmmmm... sigamos un poco...\n",
      "testCb: Fin de la epoch  6\n",
      "\n",
      "current:  tensor(0.3348)\n",
      "current - delta:  tensor(0.3343)\n",
      "best:  tensor(0.3362)\n",
      "Hmmmm... sigamos un poco...\n",
      "testCb: Fin de la epoch  7\n",
      "\n",
      "current:  tensor(0.3362)\n",
      "current - delta:  tensor(0.3357)\n",
      "best:  tensor(0.3362)\n",
      "Hmmmm... sigamos un poco...\n",
      "Epoch 7: early stopping\n",
      "Bueno, ya!\n",
      "testCb: Fin de la epoch  8\n",
      " \n",
      " \n",
      "TestCallBack: ¡Gracias por todo! Cantidad de epochs corridas:  8\n"
     ]
    },
    {
     "data": {
      "image/png": "[encoded data removed]",
      "text/plain": [
       "<Figure size 432x288 with 1 Axes>"
      ]
     },
     "metadata": {
      "needs_background": "light"
     },
     "output_type": "display_data"
    }
   ],
   "source": [
    "learn_tab.fit_one_cycle(15, 3.63E-04, callbacks = [earlyFede_tab, testCb, activation_stats_cb])"
   ]
  },
  {
   "cell_type": "markdown",
   "metadata": {},
   "source": [
    "#### La variable stats es un tensor que tiene dos variables (mean, std), luego tiene la cantidad de layers, y por última la cantidad de batches"
   ]
  },
  {
   "cell_type": "code",
   "execution_count": 223,
   "metadata": {},
   "outputs": [
    {
     "data": {
      "text/plain": [
       "torch.Size([2, 3, 1448])"
      ]
     },
     "execution_count": 223,
     "metadata": {},
     "output_type": "execute_result"
    }
   ],
   "source": [
    "# La información sobre la media y el desvío estándar queda en\n",
    "# learner.<nombre del hook>.stats\n",
    "learn_tab.activation_stats.stats.shape"
   ]
  },
  {
   "cell_type": "code",
   "execution_count": 224,
   "metadata": {},
   "outputs": [
    {
     "data": {
      "text/plain": [
       "tensor([7.2423, 7.3923, 7.5331, 7.2826, 7.4993, 7.3627, 7.2499, 7.6936, 7.3373,\n",
       "        7.3670])"
      ]
     },
     "execution_count": 224,
     "metadata": {},
     "output_type": "execute_result"
    }
   ],
   "source": [
    "learn_tab.activation_stats.stats[0][0][:10]"
   ]
  },
  {
   "cell_type": "code",
   "execution_count": 225,
   "metadata": {},
   "outputs": [
    {
     "data": {
      "image/png": "[encoded data removed]",
      "text/plain": [
       "<Figure size 432x288 with 1 Axes>"
      ]
     },
     "metadata": {
      "needs_background": "light"
     },
     "output_type": "display_data"
    }
   ],
   "source": [
    "plt.plot(learn_tab.activation_stats.stats[0][0].numpy(), alpha = .8, label = '1')\n",
    "plt.plot(learn_tab.activation_stats.stats[0][1].numpy(), alpha = .8, label = '2')\n",
    "plt.plot(learn_tab.activation_stats.stats[0][2].numpy(), alpha = .8, label = '3')\n",
    "#plt.plot(learn_tab.activation_stats.stats[0][3].numpy(), alpha = .8, label = '4')\n",
    "plt.grid()\n",
    "plt.legend()\n",
    "plt.show()"
   ]
  },
  {
   "cell_type": "code",
   "execution_count": 226,
   "metadata": {},
   "outputs": [
    {
     "data": {
      "image/png": "[encoded data removed]",
      "text/plain": [
       "<Figure size 432x288 with 1 Axes>"
      ]
     },
     "metadata": {
      "needs_background": "light"
     },
     "output_type": "display_data"
    }
   ],
   "source": [
    "plt.plot(learn_tab.activation_stats.stats[1][0].numpy(), alpha = .8, label = '1')\n",
    "plt.plot(learn_tab.activation_stats.stats[1][1].numpy(), alpha = .8, label = '2')\n",
    "plt.plot(learn_tab.activation_stats.stats[1][2].numpy(), alpha = .8, label = '3')\n",
    "#plt.plot(learn_tab.activation_stats.stats[1][3].numpy(), alpha = .8, label = '4')\n",
    "plt.legend()\n",
    "plt.grid()\n",
    "plt.show()"
   ]
  }
 ],
 "metadata": {
  "kernelspec": {
   "display_name": "Python 3",
   "language": "python",
   "name": "python3"
  },
  "language_info": {
   "codemirror_mode": {
    "name": "ipython",
    "version": 3
   },
   "file_extension": ".py",
   "mimetype": "text/x-python",
   "name": "python",
   "nbconvert_exporter": "python",
   "pygments_lexer": "ipython3",
   "version": "3.7.3"
  }
 },
 "nbformat": 4,
 "nbformat_minor": 2
}
